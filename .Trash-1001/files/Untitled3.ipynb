{
 "cells": [
  {
   "cell_type": "code",
   "execution_count": 1,
   "id": "1278022c-9811-4382-b35e-c73fe16e0284",
   "metadata": {},
   "outputs": [],
   "source": [
    "import pandas as pd\n",
    "import matplotlib.pyplot as plt\n",
    "from sklearn.decomposition import PCA\n",
    "from sklearn.cluster import KMeans\n"
   ]
  },
  {
   "cell_type": "code",
   "execution_count": 2,
   "id": "842f6585-6f31-432f-829d-a15726efbe1a",
   "metadata": {},
   "outputs": [],
   "source": [
    "# Assuming X_Train_scaled is already defined and scaled\n",
    "# Initialize PCA with the number of components you want\n",
    "pca = PCA(n_components=2)\n"
   ]
  },
  {
   "cell_type": "code",
   "execution_count": 3,
   "id": "6a81188b-625f-42a2-a1e0-dec266286f71",
   "metadata": {},
   "outputs": [
    {
     "ename": "NameError",
     "evalue": "name 'X_Train_scaled' is not defined",
     "output_type": "error",
     "traceback": [
      "\u001b[0;31m---------------------------------------------------------------------------\u001b[0m",
      "\u001b[0;31mNameError\u001b[0m                                 Traceback (most recent call last)",
      "Cell \u001b[0;32mIn[3], line 2\u001b[0m\n\u001b[1;32m      1\u001b[0m \u001b[38;5;66;03m# Fit and transform the scaled training data\u001b[39;00m\n\u001b[0;32m----> 2\u001b[0m X_Train_pca \u001b[38;5;241m=\u001b[39m pca\u001b[38;5;241m.\u001b[39mfit_transform(\u001b[43mX_Train_scaled\u001b[49m)\n",
      "\u001b[0;31mNameError\u001b[0m: name 'X_Train_scaled' is not defined"
     ]
    }
   ],
   "source": [
    "# Fit and transform the scaled training data\n",
    "X_Train_pca = pca.fit_transform(X_Train_scaled)\n"
   ]
  },
  {
   "cell_type": "code",
   "execution_count": null,
   "id": "d2a82150-206f-4677-bf7e-288c59147356",
   "metadata": {},
   "outputs": [],
   "source": [
    "# Convert the PCA result to a DataFrame\n",
    "X_Train_pca_df = pd.DataFrame(X_Train_pca, columns=['PC1', 'PC2'])\n"
   ]
  },
  {
   "cell_type": "code",
   "execution_count": null,
   "id": "011b9b43-e208-4c4d-bccc-2d72041162e6",
   "metadata": {},
   "outputs": [],
   "source": [
    "# Perform K-means clustering\n",
    "kmeans = KMeans(n_clusters=4)  # Adjust the number of clusters as needed\n",
    "kmeans.fit(X_Train_pca_df)\n"
   ]
  },
  {
   "cell_type": "code",
   "execution_count": null,
   "id": "b90fec3e-6496-4b3e-98f6-32a18731dc3f",
   "metadata": {},
   "outputs": [],
   "source": [
    "# Add the cluster labels to the DataFrame\n",
    "X_Train_pca_df['Cluster'] = kmeans.labels_\n"
   ]
  },
  {
   "cell_type": "code",
   "execution_count": null,
   "id": "611557fb-32d9-4af1-b1e3-e6db7d5e5b6b",
   "metadata": {},
   "outputs": [],
   "source": [
    "# Plot the clusters\n",
    "plt.figure(figsize=(10, 7))\n",
    "plt.scatter(X_Train_pca_df['PC1'], X_Train_pca_df['PC2'], c=X_Train_pca_df['Cluster'], cmap='viridis')\n",
    "plt.xlabel('Principal Component 1')\n",
    "plt.ylabel('Principal Component 2')\n",
    "plt.title('PCA and K-means Clustering')\n",
    "plt.show()\n"
   ]
  }
 ],
 "metadata": {
  "kernelspec": {
   "display_name": "Python 3 (ipykernel)",
   "language": "python",
   "name": "python3"
  },
  "language_info": {
   "codemirror_mode": {
    "name": "ipython",
    "version": 3
   },
   "file_extension": ".py",
   "mimetype": "text/x-python",
   "name": "python",
   "nbconvert_exporter": "python",
   "pygments_lexer": "ipython3",
   "version": "3.9.19"
  }
 },
 "nbformat": 4,
 "nbformat_minor": 5
}
