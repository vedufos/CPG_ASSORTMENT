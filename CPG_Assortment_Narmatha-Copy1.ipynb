{
 "cells": [
  {
   "cell_type": "code",
   "execution_count": 1,
   "id": "f91caf87-34f4-451f-ab1c-8f4ae8302bb5",
   "metadata": {},
   "outputs": [],
   "source": [
    "import pandas as pd\n",
    "import numpy as np\n",
    "import matplotlib.pyplot as plt\n",
    "import seaborn as sns\n",
    "from scipy import stats\n",
    "from sklearn.linear_model import LinearRegression\n",
    "from sklearn.metrics import mean_squared_error\n",
    "from sklearn.model_selection import train_test_split"
   ]
  },
  {
   "cell_type": "code",
   "execution_count": 2,
   "id": "0f033df4-8ec3-43a9-991f-a6ca33aa7c43",
   "metadata": {},
   "outputs": [],
   "source": [
    "import seaborn as sns"
   ]
  },
  {
   "cell_type": "code",
   "execution_count": 3,
   "id": "37860a68-d993-474a-af6d-bbacb465b6b4",
   "metadata": {},
   "outputs": [
    {
     "ename": "NameError",
     "evalue": "name 'my_session' is not defined",
     "output_type": "error",
     "traceback": [
      "\u001b[0;31m---------------------------------------------------------------------------\u001b[0m",
      "\u001b[0;31mNameError\u001b[0m                                 Traceback (most recent call last)",
      "Cell \u001b[0;32mIn[3], line 1\u001b[0m\n\u001b[0;32m----> 1\u001b[0m \u001b[43mmy_session\u001b[49m\u001b[38;5;241m.\u001b[39mconnection\u001b[38;5;241m.\u001b[39mdatabase\n",
      "\u001b[0;31mNameError\u001b[0m: name 'my_session' is not defined"
     ]
    }
   ],
   "source": [
    "my_session.connection.database"
   ]
  },
  {
   "cell_type": "code",
   "execution_count": null,
   "id": "48d6933f-d1e6-4c53-9c4d-3d102c52067e",
   "metadata": {},
   "outputs": [],
   "source": [
    "my_session.connection.schema"
   ]
  },
  {
   "cell_type": "code",
   "execution_count": null,
   "id": "ea86ab1f-443f-471a-86b2-242b027fec56",
   "metadata": {},
   "outputs": [],
   "source": [
    "table_name = \"ASSORTMENT_PLANNING.CPG_BRONZE.SALES_CLEAN\""
   ]
  },
  {
   "cell_type": "code",
   "execution_count": null,
   "id": "d00e8dd3-288e-450c-a637-160d6de5880f",
   "metadata": {},
   "outputs": [],
   "source": [
    "sf_df = my_session.sql(\"select * from {}\".format(table_name))"
   ]
  },
  {
   "cell_type": "code",
   "execution_count": null,
   "id": "8ae9c67d-7f7f-4cb0-9f21-520587e5a012",
   "metadata": {},
   "outputs": [],
   "source": [
    "type(sf_df)"
   ]
  },
  {
   "cell_type": "code",
   "execution_count": null,
   "id": "0a61a1b3-24f4-4693-9c24-60ebca4767ad",
   "metadata": {},
   "outputs": [],
   "source": [
    "df=sf_df.to_pandas()"
   ]
  },
  {
   "cell_type": "code",
   "execution_count": null,
   "id": "a021158f-eab3-4da9-a381-bc53ce2e91d7",
   "metadata": {},
   "outputs": [],
   "source": [
    "df.head()"
   ]
  },
  {
   "cell_type": "code",
   "execution_count": null,
   "id": "941d648b-cd52-4ea8-bc44-75c5a79d756a",
   "metadata": {},
   "outputs": [],
   "source": [
    "df.shape"
   ]
  },
  {
   "cell_type": "code",
   "execution_count": null,
   "id": "3978a2ac-2835-4d5a-903c-9f48eb714d23",
   "metadata": {},
   "outputs": [],
   "source": [
    "df.isnull().sum()"
   ]
  },
  {
   "cell_type": "code",
   "execution_count": null,
   "id": "02c0ee45-8c5b-4361-a1de-c76f681fb134",
   "metadata": {},
   "outputs": [],
   "source": [
    "df.info()"
   ]
  },
  {
   "cell_type": "code",
   "execution_count": null,
   "id": "57ec08db-00ff-46a6-b811-fa2c503927fc",
   "metadata": {},
   "outputs": [],
   "source": [
    "from sklearn import preprocessing\n",
    "from sklearn.preprocessing import LabelEncoder\n",
    "from sklearn import utils\n",
    "labelencoder = LabelEncoder()"
   ]
  },
  {
   "cell_type": "code",
   "execution_count": null,
   "id": "35a5f3ae-b510-4423-aa21-c2105bdb16fc",
   "metadata": {},
   "outputs": [],
   "source": [
    "df.duplicated().sum()"
   ]
  },
  {
   "cell_type": "code",
   "execution_count": null,
   "id": "cdaa4ce1-6e56-4bc6-a0cf-79565b9f7166",
   "metadata": {},
   "outputs": [],
   "source": [
    "df.drop_duplicates(subset='OUTLET_CODE',keep='first')"
   ]
  },
  {
   "cell_type": "code",
   "execution_count": null,
   "id": "ea41afc0-156f-4514-a65f-d0e3feca2f6f",
   "metadata": {},
   "outputs": [],
   "source": [
    "df.shape"
   ]
  },
  {
   "cell_type": "code",
   "execution_count": null,
   "id": "bf72967e-3b64-4d4a-a0c9-91e2f6be04d5",
   "metadata": {},
   "outputs": [],
   "source": [
    "Top7products = df.groupby('CATEGORY', as_index=False)['SALES_UNITS'].sum().sort_values('SALES_UNITS', ascending=False).head(7)\n",
    "print(Top7products)  # Check the content of Top7products\n",
    "\n",
    "ax = Top7products.plot(x=\"CATEGORY\",\n",
    "                       y=\"SALES_UNITS\", \n",
    "                       legend=False,\n",
    "                       kind='bar',\n",
    "                       color=\"green\",\n",
    "                       figsize=(15, 6))\n",
    "\n",
    "plt.grid(False)\n",
    "\n",
    "plt.xlabel('CATEGORY', fontsize=18)\n",
    "plt.ylabel('SALES_UNITS', fontsize=18)\n",
    "plt.xticks(fontsize=18)\n",
    "plt.yticks(fontsize=18)\n",
    "plt.title('Top 7 best-selling Product', fontsize=18)\n",
    "\n",
    "plt.show()\n"
   ]
  },
  {
   "cell_type": "code",
   "execution_count": null,
   "id": "0342a506-efeb-419f-9819-05a235719731",
   "metadata": {},
   "outputs": [],
   "source": [
    "\n",
    "# Group by description and sum the sales\n",
    "productby_sales = df.groupby('CATEGORY')['SALES_VOLUME'].sum().sort_values(ascending=False).iloc[0:30]\n",
    "\n",
    "# Plotting\n",
    "plt.figure(figsize=(20, 5))\n",
    "sns.barplot(x=productby_sales.index, y=productby_sales.values, palette=\"Purples_r\")\n",
    "plt.ylabel(\"Total Sales\")\n",
    "plt.title(\"Which products has the most sales?\")\n",
    "plt.xticks(rotation=90)\n",
    "plt.show()\n"
   ]
  },
  {
   "cell_type": "code",
   "execution_count": null,
   "id": "87fc369a-3550-4c76-9cbb-b154038c908e",
   "metadata": {},
   "outputs": [],
   "source": [
    "import seaborn as sns\n",
    "import matplotlib.pyplot as plt\n",
    "\n",
    "Top5distributor = df['DISTRIBUTOR_CODE'].value_counts().sort_values(ascending=False).head(5)\n",
    "\n",
    "X = Top5distributor.index\n",
    "Y = Top5distributor.values\n",
    "\n",
    "sns.barplot(x=X, \n",
    "            y=Y, \n",
    "            order=Top5distributor.index)\n",
    "print(Top5distributor)\n",
    "\n",
    "plt.ylabel(\"Counts\", fontsize=18)\n",
    "plt.xlabel(\"DISTRIBUTOR_CODE\", fontsize=18)\n",
    "plt.xticks(fontsize=18)\n",
    "plt.yticks(fontsize=18)\n",
    "plt.title('Top 5 Distributors', fontsize=18)\n",
    "\n",
    "plt.show()\n"
   ]
  },
  {
   "cell_type": "code",
   "execution_count": null,
   "id": "230c10b4-27e9-4dc0-a3d5-db6967ebfcbc",
   "metadata": {},
   "outputs": [],
   "source": [
    "state_counts = df.STATE.value_counts().sort_values(ascending=False).iloc[0:20]\n",
    "plt.figure(figsize=(20,5))\n",
    "sns.barplot(x=state_counts.index, y=state_counts.values, palette=\"Blues_r\")\n",
    "plt.ylabel(\"Counts\")\n",
    "plt.title(\"Which State made the most transactions?\");\n",
    "plt.xticks(rotation=90);\n",
    "plt.yscale(\"log\")"
   ]
  },
  {
   "cell_type": "code",
   "execution_count": null,
   "id": "2687ee0e-58a1-4ad0-af44-0815d97b76d3",
   "metadata": {},
   "outputs": [],
   "source": []
  }
 ],
 "metadata": {
  "kernelspec": {
   "display_name": "Python 3 (ipykernel)",
   "language": "python",
   "name": "python3"
  },
  "language_info": {
   "codemirror_mode": {
    "name": "ipython",
    "version": 3
   },
   "file_extension": ".py",
   "mimetype": "text/x-python",
   "name": "python",
   "nbconvert_exporter": "python",
   "pygments_lexer": "ipython3",
   "version": "3.9.19"
  }
 },
 "nbformat": 4,
 "nbformat_minor": 5
}
