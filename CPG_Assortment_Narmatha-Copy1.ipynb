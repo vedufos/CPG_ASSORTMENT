{
 "cells": [
  {
   "cell_type": "code",
   "execution_count": 8,
   "id": "21a29801-fc98-4bb6-a475-cca6169cfe45",
   "metadata": {},
   "outputs": [
    {
     "data": {
      "text/plain": [
       "'CPG_BRONZE'"
      ]
     },
     "execution_count": 8,
     "metadata": {},
     "output_type": "execute_result"
    }
   ],
   "source": [
    "my_session.connection.schema"
   ]
  },
  {
   "cell_type": "code",
   "execution_count": 9,
   "id": "dc5df006-be98-40a6-8744-61fe8a6fb82b",
   "metadata": {},
   "outputs": [],
   "source": [
    "table_name = \"ASSORTMENT_PLANNING.CPG_BRONZE.SALES_CLEAN\""
   ]
  },
  {
   "cell_type": "code",
   "execution_count": 10,
   "id": "a85aa19e-34df-4e7c-8968-3450060e4514",
   "metadata": {},
   "outputs": [],
   "source": [
    "sf_df = my_session.sql(\"select * from {}\".format(table_name))"
   ]
  },
  {
   "cell_type": "code",
   "execution_count": 11,
   "id": "4b57a10f-f63b-46e4-8d64-1f87ae2beb0f",
   "metadata": {},
   "outputs": [
    {
     "data": {
      "text/plain": [
       "snowflake.snowpark.dataframe.DataFrame"
      ]
     },
     "execution_count": 11,
     "metadata": {},
     "output_type": "execute_result"
    }
   ],
   "source": [
    "type(sf_df)"
   ]
  },
  {
   "cell_type": "code",
   "execution_count": 12,
   "id": "771e6882-8c92-416c-82d1-ac1e5a0ac944",
   "metadata": {},
   "outputs": [],
   "source": [
    "df=sf_df.to_pandas()"
   ]
  },
  {
   "cell_type": "code",
   "execution_count": 13,
   "id": "b540d696-044d-47c5-9dca-6ab172978258",
   "metadata": {},
   "outputs": [
    {
     "data": {
      "text/plain": [
       "pandas.core.frame.DataFrame"
      ]
     },
     "execution_count": 13,
     "metadata": {},
     "output_type": "execute_result"
    }
   ],
   "source": [
    "type(df)"
   ]
  },
  {
   "cell_type": "code",
   "execution_count": 14,
   "id": "463e44ad-40cb-4173-abfd-949fdb5dd235",
   "metadata": {},
   "outputs": [
    {
     "data": {
      "text/html": [
       "<div>\n",
       "<style scoped>\n",
       "    .dataframe tbody tr th:only-of-type {\n",
       "        vertical-align: middle;\n",
       "    }\n",
       "\n",
       "    .dataframe tbody tr th {\n",
       "        vertical-align: top;\n",
       "    }\n",
       "\n",
       "    .dataframe thead th {\n",
       "        text-align: right;\n",
       "    }\n",
       "</style>\n",
       "<table border=\"1\" class=\"dataframe\">\n",
       "  <thead>\n",
       "    <tr style=\"text-align: right;\">\n",
       "      <th></th>\n",
       "      <th>MNTH_CODE</th>\n",
       "      <th>TRANS_DATE</th>\n",
       "      <th>START_DATE</th>\n",
       "      <th>SALES_VALUE</th>\n",
       "      <th>SALES_UNITS</th>\n",
       "      <th>SALES_VOLUME</th>\n",
       "      <th>SALES_PTR_VALUE</th>\n",
       "      <th>OC_CODE</th>\n",
       "      <th>DISTRIBUTOR_CODE</th>\n",
       "      <th>OUTLET_CODE</th>\n",
       "      <th>CITY</th>\n",
       "      <th>STATE</th>\n",
       "      <th>COUNTY</th>\n",
       "      <th>STREET</th>\n",
       "      <th>PRODUCT_CODE</th>\n",
       "      <th>CATEGORY</th>\n",
       "      <th>SUBCATEGORY</th>\n",
       "      <th>BRAND</th>\n",
       "    </tr>\n",
       "  </thead>\n",
       "  <tbody>\n",
       "    <tr>\n",
       "      <th>0</th>\n",
       "      <td>202312</td>\n",
       "      <td>2023-12-26</td>\n",
       "      <td>2023-11-27</td>\n",
       "      <td>372.73</td>\n",
       "      <td>2</td>\n",
       "      <td>0.000650</td>\n",
       "      <td>372.727273</td>\n",
       "      <td>202212</td>\n",
       "      <td>DB0110</td>\n",
       "      <td>OL112848</td>\n",
       "      <td>Carbondale</td>\n",
       "      <td>Illinois</td>\n",
       "      <td>City Center</td>\n",
       "      <td>Str2</td>\n",
       "      <td>PRD0118</td>\n",
       "      <td>Soap</td>\n",
       "      <td>Medicated Soap</td>\n",
       "      <td>Burgundy</td>\n",
       "    </tr>\n",
       "    <tr>\n",
       "      <th>1</th>\n",
       "      <td>202312</td>\n",
       "      <td>2023-12-26</td>\n",
       "      <td>2023-11-27</td>\n",
       "      <td>436.36</td>\n",
       "      <td>3</td>\n",
       "      <td>0.000900</td>\n",
       "      <td>436.363636</td>\n",
       "      <td>202212</td>\n",
       "      <td>DB0110</td>\n",
       "      <td>OL112848</td>\n",
       "      <td>Carbondale</td>\n",
       "      <td>Illinois</td>\n",
       "      <td>City Center</td>\n",
       "      <td>Str2</td>\n",
       "      <td>PRD0131</td>\n",
       "      <td>Soap</td>\n",
       "      <td>Toilet Soap</td>\n",
       "      <td>Grape vine</td>\n",
       "    </tr>\n",
       "    <tr>\n",
       "      <th>2</th>\n",
       "      <td>202312</td>\n",
       "      <td>2023-12-24</td>\n",
       "      <td>2023-11-27</td>\n",
       "      <td>202.82</td>\n",
       "      <td>2</td>\n",
       "      <td>0.000214</td>\n",
       "      <td>209.090909</td>\n",
       "      <td>202212</td>\n",
       "      <td>DB0209</td>\n",
       "      <td>OL112555</td>\n",
       "      <td>Shelbyville</td>\n",
       "      <td>Tennessee</td>\n",
       "      <td>City Center</td>\n",
       "      <td>Str5</td>\n",
       "      <td>PRD0065</td>\n",
       "      <td>Hair Care</td>\n",
       "      <td>Hair Oil</td>\n",
       "      <td>Crimson</td>\n",
       "    </tr>\n",
       "    <tr>\n",
       "      <th>3</th>\n",
       "      <td>202312</td>\n",
       "      <td>2023-12-29</td>\n",
       "      <td>2023-11-27</td>\n",
       "      <td>142.86</td>\n",
       "      <td>16</td>\n",
       "      <td>0.000384</td>\n",
       "      <td>142.857143</td>\n",
       "      <td>202212</td>\n",
       "      <td>DB0655</td>\n",
       "      <td>OL113173</td>\n",
       "      <td>Renton</td>\n",
       "      <td>Washington</td>\n",
       "      <td>Orange</td>\n",
       "      <td>Str2</td>\n",
       "      <td>PRD0106</td>\n",
       "      <td>Hair Care</td>\n",
       "      <td>Shampoo</td>\n",
       "      <td>Hair &amp; Shoulders</td>\n",
       "    </tr>\n",
       "    <tr>\n",
       "      <th>4</th>\n",
       "      <td>202312</td>\n",
       "      <td>2023-12-17</td>\n",
       "      <td>2023-11-27</td>\n",
       "      <td>145.45</td>\n",
       "      <td>1</td>\n",
       "      <td>0.000300</td>\n",
       "      <td>145.454545</td>\n",
       "      <td>202212</td>\n",
       "      <td>DB0652</td>\n",
       "      <td>OL112373</td>\n",
       "      <td>Wallingford</td>\n",
       "      <td>Connecticut</td>\n",
       "      <td>Dolphin</td>\n",
       "      <td>Str1</td>\n",
       "      <td>PRD0070</td>\n",
       "      <td>Perfume and Deodrants</td>\n",
       "      <td>Female Deodrant</td>\n",
       "      <td>Pista green</td>\n",
       "    </tr>\n",
       "  </tbody>\n",
       "</table>\n",
       "</div>"
      ],
      "text/plain": [
       "   MNTH_CODE  TRANS_DATE  START_DATE  SALES_VALUE  SALES_UNITS  SALES_VOLUME  \\\n",
       "0     202312  2023-12-26  2023-11-27       372.73            2      0.000650   \n",
       "1     202312  2023-12-26  2023-11-27       436.36            3      0.000900   \n",
       "2     202312  2023-12-24  2023-11-27       202.82            2      0.000214   \n",
       "3     202312  2023-12-29  2023-11-27       142.86           16      0.000384   \n",
       "4     202312  2023-12-17  2023-11-27       145.45            1      0.000300   \n",
       "\n",
       "   SALES_PTR_VALUE  OC_CODE DISTRIBUTOR_CODE OUTLET_CODE         CITY  \\\n",
       "0       372.727273   202212           DB0110    OL112848   Carbondale   \n",
       "1       436.363636   202212           DB0110    OL112848   Carbondale   \n",
       "2       209.090909   202212           DB0209    OL112555  Shelbyville   \n",
       "3       142.857143   202212           DB0655    OL113173       Renton   \n",
       "4       145.454545   202212           DB0652    OL112373  Wallingford   \n",
       "\n",
       "         STATE       COUNTY STREET PRODUCT_CODE               CATEGORY  \\\n",
       "0     Illinois  City Center   Str2      PRD0118                   Soap   \n",
       "1     Illinois  City Center   Str2      PRD0131                   Soap   \n",
       "2    Tennessee  City Center   Str5      PRD0065              Hair Care   \n",
       "3   Washington       Orange   Str2      PRD0106              Hair Care   \n",
       "4  Connecticut      Dolphin   Str1      PRD0070  Perfume and Deodrants   \n",
       "\n",
       "       SUBCATEGORY             BRAND  \n",
       "0   Medicated Soap          Burgundy  \n",
       "1      Toilet Soap        Grape vine  \n",
       "2         Hair Oil           Crimson  \n",
       "3          Shampoo  Hair & Shoulders  \n",
       "4  Female Deodrant       Pista green  "
      ]
     },
     "execution_count": 14,
     "metadata": {},
     "output_type": "execute_result"
    }
   ],
   "source": [
    "df.head(5)"
   ]
  },
  {
   "cell_type": "code",
   "execution_count": 15,
   "id": "ce7fee48-4fdb-4d93-a65d-c053c2e24590",
   "metadata": {},
   "outputs": [
    {
     "data": {
      "text/plain": [
       "(966400, 18)"
      ]
     },
     "execution_count": 15,
     "metadata": {},
     "output_type": "execute_result"
    }
   ],
   "source": [
    "df.shape"
   ]
  },
  {
   "cell_type": "code",
   "execution_count": 16,
   "id": "cc8f131d-10fa-4215-a6d1-5b52313b58ba",
   "metadata": {},
   "outputs": [
    {
     "name": "stdout",
     "output_type": "stream",
     "text": [
      "<class 'pandas.core.frame.DataFrame'>\n",
      "RangeIndex: 966400 entries, 0 to 966399\n",
      "Data columns (total 18 columns):\n",
      " #   Column            Non-Null Count   Dtype  \n",
      "---  ------            --------------   -----  \n",
      " 0   MNTH_CODE         966400 non-null  int32  \n",
      " 1   TRANS_DATE        966400 non-null  object \n",
      " 2   START_DATE        966400 non-null  object \n",
      " 3   SALES_VALUE       966400 non-null  float64\n",
      " 4   SALES_UNITS       966400 non-null  int16  \n",
      " 5   SALES_VOLUME      966400 non-null  float64\n",
      " 6   SALES_PTR_VALUE   966400 non-null  float64\n",
      " 7   OC_CODE           966400 non-null  int32  \n",
      " 8   DISTRIBUTOR_CODE  966400 non-null  object \n",
      " 9   OUTLET_CODE       966400 non-null  object \n",
      " 10  CITY              966400 non-null  object \n",
      " 11  STATE             966400 non-null  object \n",
      " 12  COUNTY            966400 non-null  object \n",
      " 13  STREET            966400 non-null  object \n",
      " 14  PRODUCT_CODE      966400 non-null  object \n",
      " 15  CATEGORY          966400 non-null  object \n",
      " 16  SUBCATEGORY       966400 non-null  object \n",
      " 17  BRAND             966400 non-null  object \n",
      "dtypes: float64(3), int16(1), int32(2), object(12)\n",
      "memory usage: 119.8+ MB\n"
     ]
    }
   ],
   "source": [
    "df.info()"
   ]
  },
  {
   "cell_type": "code",
   "execution_count": 17,
   "id": "e87487c4-635b-4bd7-ae5a-06b7807464c0",
   "metadata": {},
   "outputs": [],
   "source": [
    "df['TRANS_DATE'] = pd.to_datetime(df['TRANS_DATE'])\n",
    "df['START_DATE'] = pd.to_datetime(df['START_DATE'])"
   ]
  },
  {
   "cell_type": "code",
   "execution_count": 18,
   "id": "2b9912ad-c2b5-4359-9e95-f6c3c8ea808b",
   "metadata": {},
   "outputs": [
    {
     "data": {
      "text/html": [
       "<div>\n",
       "<style scoped>\n",
       "    .dataframe tbody tr th:only-of-type {\n",
       "        vertical-align: middle;\n",
       "    }\n",
       "\n",
       "    .dataframe tbody tr th {\n",
       "        vertical-align: top;\n",
       "    }\n",
       "\n",
       "    .dataframe thead th {\n",
       "        text-align: right;\n",
       "    }\n",
       "</style>\n",
       "<table border=\"1\" class=\"dataframe\">\n",
       "  <thead>\n",
       "    <tr style=\"text-align: right;\">\n",
       "      <th></th>\n",
       "      <th>MNTH_CODE</th>\n",
       "      <th>TRANS_DATE</th>\n",
       "      <th>START_DATE</th>\n",
       "      <th>SALES_VALUE</th>\n",
       "      <th>SALES_UNITS</th>\n",
       "      <th>SALES_VOLUME</th>\n",
       "      <th>SALES_PTR_VALUE</th>\n",
       "      <th>OC_CODE</th>\n",
       "    </tr>\n",
       "  </thead>\n",
       "  <tbody>\n",
       "    <tr>\n",
       "      <th>count</th>\n",
       "      <td>966400.000000</td>\n",
       "      <td>966400</td>\n",
       "      <td>966400</td>\n",
       "      <td>966400.000000</td>\n",
       "      <td>966400.000000</td>\n",
       "      <td>966400.000000</td>\n",
       "      <td>966400.000000</td>\n",
       "      <td>966400.000000</td>\n",
       "    </tr>\n",
       "    <tr>\n",
       "      <th>mean</th>\n",
       "      <td>202372.876450</td>\n",
       "      <td>2024-03-01 03:47:10.976821504</td>\n",
       "      <td>2024-02-14 23:17:36.278145536</td>\n",
       "      <td>446.417454</td>\n",
       "      <td>12.696476</td>\n",
       "      <td>0.000931</td>\n",
       "      <td>457.814679</td>\n",
       "      <td>202206.573263</td>\n",
       "    </tr>\n",
       "    <tr>\n",
       "      <th>min</th>\n",
       "      <td>202309.000000</td>\n",
       "      <td>2023-08-29 00:00:00</td>\n",
       "      <td>2023-08-28 00:00:00</td>\n",
       "      <td>2.860000</td>\n",
       "      <td>1.000000</td>\n",
       "      <td>0.000011</td>\n",
       "      <td>1.785714</td>\n",
       "      <td>202201.000000</td>\n",
       "    </tr>\n",
       "    <tr>\n",
       "      <th>25%</th>\n",
       "      <td>202312.000000</td>\n",
       "      <td>2023-11-30 00:00:00</td>\n",
       "      <td>2023-11-27 00:00:00</td>\n",
       "      <td>140.000000</td>\n",
       "      <td>2.000000</td>\n",
       "      <td>0.000368</td>\n",
       "      <td>142.857143</td>\n",
       "      <td>202204.000000</td>\n",
       "    </tr>\n",
       "    <tr>\n",
       "      <th>50%</th>\n",
       "      <td>202403.000000</td>\n",
       "      <td>2024-03-03 00:00:00</td>\n",
       "      <td>2024-02-27 00:00:00</td>\n",
       "      <td>192.240000</td>\n",
       "      <td>6.000000</td>\n",
       "      <td>0.000448</td>\n",
       "      <td>198.181818</td>\n",
       "      <td>202207.000000</td>\n",
       "    </tr>\n",
       "    <tr>\n",
       "      <th>75%</th>\n",
       "      <td>202406.000000</td>\n",
       "      <td>2024-06-04 00:00:00</td>\n",
       "      <td>2024-05-29 00:00:00</td>\n",
       "      <td>450.000000</td>\n",
       "      <td>16.000000</td>\n",
       "      <td>0.000900</td>\n",
       "      <td>450.000000</td>\n",
       "      <td>202209.000000</td>\n",
       "    </tr>\n",
       "    <tr>\n",
       "      <th>max</th>\n",
       "      <td>202408.000000</td>\n",
       "      <td>2024-08-27 00:00:00</td>\n",
       "      <td>2024-07-31 00:00:00</td>\n",
       "      <td>145728.120000</td>\n",
       "      <td>10240.000000</td>\n",
       "      <td>0.275500</td>\n",
       "      <td>151800.000000</td>\n",
       "      <td>202212.000000</td>\n",
       "    </tr>\n",
       "    <tr>\n",
       "      <th>std</th>\n",
       "      <td>44.525843</td>\n",
       "      <td>NaN</td>\n",
       "      <td>NaN</td>\n",
       "      <td>1053.355633</td>\n",
       "      <td>40.761336</td>\n",
       "      <td>0.002063</td>\n",
       "      <td>1101.769102</td>\n",
       "      <td>3.404526</td>\n",
       "    </tr>\n",
       "  </tbody>\n",
       "</table>\n",
       "</div>"
      ],
      "text/plain": [
       "           MNTH_CODE                     TRANS_DATE  \\\n",
       "count  966400.000000                         966400   \n",
       "mean   202372.876450  2024-03-01 03:47:10.976821504   \n",
       "min    202309.000000            2023-08-29 00:00:00   \n",
       "25%    202312.000000            2023-11-30 00:00:00   \n",
       "50%    202403.000000            2024-03-03 00:00:00   \n",
       "75%    202406.000000            2024-06-04 00:00:00   \n",
       "max    202408.000000            2024-08-27 00:00:00   \n",
       "std        44.525843                            NaN   \n",
       "\n",
       "                          START_DATE    SALES_VALUE    SALES_UNITS  \\\n",
       "count                         966400  966400.000000  966400.000000   \n",
       "mean   2024-02-14 23:17:36.278145536     446.417454      12.696476   \n",
       "min              2023-08-28 00:00:00       2.860000       1.000000   \n",
       "25%              2023-11-27 00:00:00     140.000000       2.000000   \n",
       "50%              2024-02-27 00:00:00     192.240000       6.000000   \n",
       "75%              2024-05-29 00:00:00     450.000000      16.000000   \n",
       "max              2024-07-31 00:00:00  145728.120000   10240.000000   \n",
       "std                              NaN    1053.355633      40.761336   \n",
       "\n",
       "        SALES_VOLUME  SALES_PTR_VALUE        OC_CODE  \n",
       "count  966400.000000    966400.000000  966400.000000  \n",
       "mean        0.000931       457.814679  202206.573263  \n",
       "min         0.000011         1.785714  202201.000000  \n",
       "25%         0.000368       142.857143  202204.000000  \n",
       "50%         0.000448       198.181818  202207.000000  \n",
       "75%         0.000900       450.000000  202209.000000  \n",
       "max         0.275500    151800.000000  202212.000000  \n",
       "std         0.002063      1101.769102       3.404526  "
      ]
     },
     "execution_count": 18,
     "metadata": {},
     "output_type": "execute_result"
    }
   ],
   "source": [
    "df.describe()"
   ]
  },
  {
   "cell_type": "code",
   "execution_count": 19,
   "id": "23b3a5ca-642f-47f2-b196-c822f343687a",
   "metadata": {},
   "outputs": [
    {
     "data": {
      "text/plain": [
       "Index(['MNTH_CODE', 'TRANS_DATE', 'START_DATE', 'SALES_VALUE', 'SALES_UNITS',\n",
       "       'SALES_VOLUME', 'SALES_PTR_VALUE', 'OC_CODE', 'DISTRIBUTOR_CODE',\n",
       "       'OUTLET_CODE', 'CITY', 'STATE', 'COUNTY', 'STREET', 'PRODUCT_CODE',\n",
       "       'CATEGORY', 'SUBCATEGORY', 'BRAND'],\n",
       "      dtype='object')"
      ]
     },
     "execution_count": 19,
     "metadata": {},
     "output_type": "execute_result"
    }
   ],
   "source": [
    "df.columns"
   ]
  },
  {
   "cell_type": "code",
   "execution_count": 20,
   "id": "881d5d09-8684-4dc6-a69e-444edf71c766",
   "metadata": {},
   "outputs": [
    {
     "data": {
      "text/plain": [
       "MNTH_CODE           0\n",
       "TRANS_DATE          0\n",
       "START_DATE          0\n",
       "SALES_VALUE         0\n",
       "SALES_UNITS         0\n",
       "SALES_VOLUME        0\n",
       "SALES_PTR_VALUE     0\n",
       "OC_CODE             0\n",
       "DISTRIBUTOR_CODE    0\n",
       "OUTLET_CODE         0\n",
       "CITY                0\n",
       "STATE               0\n",
       "COUNTY              0\n",
       "STREET              0\n",
       "PRODUCT_CODE        0\n",
       "CATEGORY            0\n",
       "SUBCATEGORY         0\n",
       "BRAND               0\n",
       "dtype: int64"
      ]
     },
     "execution_count": 20,
     "metadata": {},
     "output_type": "execute_result"
    }
   ],
   "source": [
    "df.isnull().sum()"
   ]
  },
  {
   "cell_type": "code",
   "execution_count": 21,
   "id": "34225015-add9-49a2-9268-359c8fa69da2",
   "metadata": {},
   "outputs": [
    {
     "data": {
      "text/plain": [
       "3158"
      ]
     },
     "execution_count": 21,
     "metadata": {},
     "output_type": "execute_result"
    }
   ],
   "source": [
    "df.duplicated().sum()"
   ]
  },
  {
   "cell_type": "code",
   "execution_count": 22,
   "id": "3f9b60bd-90f7-4156-9ed7-3cc82cd45a15",
   "metadata": {},
   "outputs": [
    {
     "data": {
      "text/html": [
       "<div>\n",
       "<style scoped>\n",
       "    .dataframe tbody tr th:only-of-type {\n",
       "        vertical-align: middle;\n",
       "    }\n",
       "\n",
       "    .dataframe tbody tr th {\n",
       "        vertical-align: top;\n",
       "    }\n",
       "\n",
       "    .dataframe thead th {\n",
       "        text-align: right;\n",
       "    }\n",
       "</style>\n",
       "<table border=\"1\" class=\"dataframe\">\n",
       "  <thead>\n",
       "    <tr style=\"text-align: right;\">\n",
       "      <th></th>\n",
       "      <th>MNTH_CODE</th>\n",
       "      <th>SALES_VALUE</th>\n",
       "      <th>SALES_UNITS</th>\n",
       "      <th>SALES_VOLUME</th>\n",
       "      <th>SALES_PTR_VALUE</th>\n",
       "      <th>OC_CODE</th>\n",
       "    </tr>\n",
       "  </thead>\n",
       "  <tbody>\n",
       "    <tr>\n",
       "      <th>MNTH_CODE</th>\n",
       "      <td>1.000000</td>\n",
       "      <td>-0.007954</td>\n",
       "      <td>-0.011117</td>\n",
       "      <td>-0.005767</td>\n",
       "      <td>-0.007843</td>\n",
       "      <td>-0.791833</td>\n",
       "    </tr>\n",
       "    <tr>\n",
       "      <th>SALES_VALUE</th>\n",
       "      <td>-0.007954</td>\n",
       "      <td>1.000000</td>\n",
       "      <td>0.331870</td>\n",
       "      <td>0.925910</td>\n",
       "      <td>0.996460</td>\n",
       "      <td>0.005674</td>\n",
       "    </tr>\n",
       "    <tr>\n",
       "      <th>SALES_UNITS</th>\n",
       "      <td>-0.011117</td>\n",
       "      <td>0.331870</td>\n",
       "      <td>1.000000</td>\n",
       "      <td>0.427627</td>\n",
       "      <td>0.334911</td>\n",
       "      <td>0.013232</td>\n",
       "    </tr>\n",
       "    <tr>\n",
       "      <th>SALES_VOLUME</th>\n",
       "      <td>-0.005767</td>\n",
       "      <td>0.925910</td>\n",
       "      <td>0.427627</td>\n",
       "      <td>1.000000</td>\n",
       "      <td>0.927547</td>\n",
       "      <td>0.004323</td>\n",
       "    </tr>\n",
       "    <tr>\n",
       "      <th>SALES_PTR_VALUE</th>\n",
       "      <td>-0.007843</td>\n",
       "      <td>0.996460</td>\n",
       "      <td>0.334911</td>\n",
       "      <td>0.927547</td>\n",
       "      <td>1.000000</td>\n",
       "      <td>0.006129</td>\n",
       "    </tr>\n",
       "    <tr>\n",
       "      <th>OC_CODE</th>\n",
       "      <td>-0.791833</td>\n",
       "      <td>0.005674</td>\n",
       "      <td>0.013232</td>\n",
       "      <td>0.004323</td>\n",
       "      <td>0.006129</td>\n",
       "      <td>1.000000</td>\n",
       "    </tr>\n",
       "  </tbody>\n",
       "</table>\n",
       "</div>"
      ],
      "text/plain": [
       "                 MNTH_CODE  SALES_VALUE  SALES_UNITS  SALES_VOLUME  \\\n",
       "MNTH_CODE         1.000000    -0.007954    -0.011117     -0.005767   \n",
       "SALES_VALUE      -0.007954     1.000000     0.331870      0.925910   \n",
       "SALES_UNITS      -0.011117     0.331870     1.000000      0.427627   \n",
       "SALES_VOLUME     -0.005767     0.925910     0.427627      1.000000   \n",
       "SALES_PTR_VALUE  -0.007843     0.996460     0.334911      0.927547   \n",
       "OC_CODE          -0.791833     0.005674     0.013232      0.004323   \n",
       "\n",
       "                 SALES_PTR_VALUE   OC_CODE  \n",
       "MNTH_CODE              -0.007843 -0.791833  \n",
       "SALES_VALUE             0.996460  0.005674  \n",
       "SALES_UNITS             0.334911  0.013232  \n",
       "SALES_VOLUME            0.927547  0.004323  \n",
       "SALES_PTR_VALUE         1.000000  0.006129  \n",
       "OC_CODE                 0.006129  1.000000  "
      ]
     },
     "execution_count": 22,
     "metadata": {},
     "output_type": "execute_result"
    }
   ],
   "source": [
    "df.corr(numeric_only=True)"
   ]
  },
  {
   "cell_type": "code",
   "execution_count": 23,
   "id": "1c6ed5c0-5f1c-4df6-b735-d2f3213f86df",
   "metadata": {},
   "outputs": [
    {
     "data": {
      "application/vnd.jupyter.widget-view+json": {
       "model_id": "dbe547d02023417cbf077d24f8fe1800",
       "version_major": 2,
       "version_minor": 0
      },
      "text/plain": [
       "Summarize dataset:   0%|          | 0/5 [00:00<?, ?it/s]"
      ]
     },
     "metadata": {},
     "output_type": "display_data"
    },
    {
     "data": {
      "application/vnd.jupyter.widget-view+json": {
       "model_id": "20e6250ac9b445a69779e48ff2a19000",
       "version_major": 2,
       "version_minor": 0
      },
      "text/plain": [
       "Generate report structure:   0%|          | 0/1 [00:00<?, ?it/s]"
      ]
     },
     "metadata": {},
     "output_type": "display_data"
    },
    {
     "data": {
      "application/vnd.jupyter.widget-view+json": {
       "model_id": "1430c4cd730d4796a14ed1e32348983e",
       "version_major": 2,
       "version_minor": 0
      },
      "text/plain": [
       "Render HTML:   0%|          | 0/1 [00:00<?, ?it/s]"
      ]
     },
     "metadata": {},
     "output_type": "display_data"
    },
    {
     "data": {
      "application/vnd.jupyter.widget-view+json": {
       "model_id": "b27e5e52f9f147819717ebf4fe7e5018",
       "version_major": 2,
       "version_minor": 0
      },
      "text/plain": [
       "Export report to file:   0%|          | 0/1 [00:00<?, ?it/s]"
      ]
     },
     "metadata": {},
     "output_type": "display_data"
    }
   ],
   "source": [
    "from ydata_profiling import ProfileReport\n",
    "profile=ProfileReport(df,explorative=True)\n",
    "profile.to_file(\"autoeda.html\")"
   ]
  },
  {
   "cell_type": "code",
   "execution_count": 24,
   "id": "4de7db42-6dae-4e3e-ab00-0a70712200e0",
   "metadata": {},
   "outputs": [],
   "source": [
    "import matplotlib.pyplot as plt"
   ]
  },
  {
   "cell_type": "code",
   "execution_count": 25,
   "id": "1df6f15b-158d-4f70-8583-51e0a970ba54",
   "metadata": {},
   "outputs": [
    {
     "data": {
      "text/plain": [
       "MNTH_CODE           0.0\n",
       "TRANS_DATE          0.0\n",
       "START_DATE          0.0\n",
       "SALES_VALUE         0.0\n",
       "SALES_UNITS         0.0\n",
       "SALES_VOLUME        0.0\n",
       "SALES_PTR_VALUE     0.0\n",
       "OC_CODE             0.0\n",
       "DISTRIBUTOR_CODE    0.0\n",
       "OUTLET_CODE         0.0\n",
       "CITY                0.0\n",
       "STATE               0.0\n",
       "COUNTY              0.0\n",
       "STREET              0.0\n",
       "PRODUCT_CODE        0.0\n",
       "CATEGORY            0.0\n",
       "SUBCATEGORY         0.0\n",
       "BRAND               0.0\n",
       "dtype: float64"
      ]
     },
     "execution_count": 25,
     "metadata": {},
     "output_type": "execute_result"
    }
   ],
   "source": [
    "#How many % of missing values do we have for each feature?\n",
    "missing_percentage = df.isnull().sum() / df.shape[0] * 100 \n",
    "missing_percentage"
   ]
  },
  {
   "cell_type": "code",
   "execution_count": null,
   "id": "f91caf87-34f4-451f-ab1c-8f4ae8302bb5",
   "metadata": {},
   "outputs": [],
   "source": []
  }
 ],
 "metadata": {
  "kernelspec": {
   "display_name": "Python 3 (ipykernel)",
   "language": "python",
   "name": "python3"
  },
  "language_info": {
   "codemirror_mode": {
    "name": "ipython",
    "version": 3
   },
   "file_extension": ".py",
   "mimetype": "text/x-python",
   "name": "python",
   "nbconvert_exporter": "python",
   "pygments_lexer": "ipython3",
   "version": "3.9.19"
  }
 },
 "nbformat": 4,
 "nbformat_minor": 5
}
