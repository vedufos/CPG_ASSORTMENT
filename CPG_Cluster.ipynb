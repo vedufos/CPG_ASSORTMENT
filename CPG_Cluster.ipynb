{
 "cells": [
  {
   "cell_type": "code",
   "execution_count": 9,
   "id": "786029f7-c132-4cc8-a5e2-15db27fe299b",
   "metadata": {},
   "outputs": [
    {
     "ename": "ModuleNotFoundError",
     "evalue": "No module named 'fosforml'",
     "output_type": "error",
     "traceback": [
      "\u001b[0;31m---------------------------------------------------------------------------\u001b[0m",
      "\u001b[0;31mModuleNotFoundError\u001b[0m                       Traceback (most recent call last)",
      "Cell \u001b[0;32mIn[9], line 3\u001b[0m\n\u001b[1;32m      1\u001b[0m \u001b[38;5;66;03m#code to read data from snowflake using FosforML\u001b[39;00m\n\u001b[0;32m----> 3\u001b[0m \u001b[38;5;28;01mfrom\u001b[39;00m \u001b[38;5;21;01mfosforml\u001b[39;00m\u001b[38;5;21;01m.\u001b[39;00m\u001b[38;5;21;01mmodel_manager\u001b[39;00m\u001b[38;5;21;01m.\u001b[39;00m\u001b[38;5;21;01msnowflakesession\u001b[39;00m \u001b[38;5;28;01mimport\u001b[39;00m get_session\n\u001b[1;32m      5\u001b[0m my_session \u001b[38;5;241m=\u001b[39m get_session()\n\u001b[1;32m      7\u001b[0m table_name \u001b[38;5;241m=\u001b[39m \u001b[38;5;124m'\u001b[39m\u001b[38;5;124mSALES_CLEAN\u001b[39m\u001b[38;5;124m'\u001b[39m\n",
      "\u001b[0;31mModuleNotFoundError\u001b[0m: No module named 'fosforml'"
     ]
    }
   ],
   "source": [
    "#code to read data from snowflake using FosforML\n",
    " \n",
    "from fosforml.model_manager.snowflakesession import get_session\n",
    "\n",
    "my_session = get_session()\n",
    " \n",
    "table_name = 'SALES_CLEAN'\n",
    " \n",
    "sf_df = my_session.sql(\"select * from {}\".format(table_name)) \n",
    "\n",
    "df = sf_df.to_pandas() \n",
    " \n",
    "print(df.shape) \n",
    "\n",
    "df.head(100) "
   ]
  },
  {
   "cell_type": "code",
   "execution_count": null,
   "id": "7affae21-df42-4156-98c7-3cecadcd9fbc",
   "metadata": {},
   "outputs": [],
   "source": [
    "type(sf_df)"
   ]
  },
  {
   "cell_type": "code",
   "execution_count": null,
   "id": "d995b099-db09-49e8-90f2-a893afce7786",
   "metadata": {},
   "outputs": [],
   "source": [
    "type(df)"
   ]
  },
  {
   "cell_type": "code",
   "execution_count": null,
   "id": "2475fb07-78e8-4cec-9d0d-211d08373cc9",
   "metadata": {},
   "outputs": [],
   "source": [
    "df.describe()"
   ]
  },
  {
   "cell_type": "code",
   "execution_count": null,
   "id": "54617ac4-dccb-4b01-ad0d-8a947d46a583",
   "metadata": {},
   "outputs": [],
   "source": [
    "df.corr(numeric_only=True)"
   ]
  },
  {
   "cell_type": "code",
   "execution_count": 7,
   "id": "073560da-be70-4550-a900-a6bc32e100b6",
   "metadata": {},
   "outputs": [
    {
     "ename": "NameError",
     "evalue": "name 'df' is not defined",
     "output_type": "error",
     "traceback": [
      "\u001b[0;31m---------------------------------------------------------------------------\u001b[0m",
      "\u001b[0;31mNameError\u001b[0m                                 Traceback (most recent call last)",
      "Cell \u001b[0;32mIn[7], line 1\u001b[0m\n\u001b[0;32m----> 1\u001b[0m \u001b[43mdf\u001b[49m\u001b[38;5;241m.\u001b[39minfo()\n",
      "\u001b[0;31mNameError\u001b[0m: name 'df' is not defined"
     ]
    }
   ],
   "source": [
    "df.info()"
   ]
  },
  {
   "cell_type": "code",
   "execution_count": null,
   "id": "cead8e20-7319-4396-9c7b-2bb03d977803",
   "metadata": {},
   "outputs": [],
   "source": [
    "df.columns"
   ]
  },
  {
   "cell_type": "code",
   "execution_count": null,
   "id": "1c851f4f-958c-48d5-bf49-3477c7ab729d",
   "metadata": {},
   "outputs": [],
   "source": [
    "df.isnull().sum()"
   ]
  },
  {
   "cell_type": "code",
   "execution_count": null,
   "id": "cfa3e878-9bed-46c7-9a13-e8d143c44841",
   "metadata": {},
   "outputs": [],
   "source": [
    "df.duplicated().sum()"
   ]
  },
  {
   "cell_type": "code",
   "execution_count": null,
   "id": "58022ef2-ea96-480b-864d-61d5c05f488a",
   "metadata": {},
   "outputs": [],
   "source": [
    "from sklearn.preprocessing import OneHotEncoder"
   ]
  },
  {
   "cell_type": "code",
   "execution_count": null,
   "id": "ce60921f-7aab-45bc-a7a8-585adbf707f5",
   "metadata": {},
   "outputs": [],
   "source": [
    "data=df.copy()"
   ]
  },
  {
   "cell_type": "code",
   "execution_count": null,
   "id": "c923197d-df90-4cce-8fea-465e3a0e608a",
   "metadata": {},
   "outputs": [],
   "source": [
    "data[['MNTH_CODE', 'TRANS_DATE', 'START_DATE', 'SALES_VALUE', 'SALES_UNITS',\n",
    "       'SALES_VOLUME', 'SALES_PTR_VALUE', 'OC_CODE', 'DISTRIBUTOR_CODE',\n",
    "       'OUTLET_CODE', 'CITY', 'STATE', 'COUNTY', 'STREET', 'PRODUCT_CODE',\n",
    "       'CATEGORY', 'SUBCATEGORY', 'BRAND']].head()"
   ]
  },
  {
   "cell_type": "code",
   "execution_count": null,
   "id": "171f954a-6be9-492b-b03c-f080c12abfea",
   "metadata": {},
   "outputs": [],
   "source": [
    "import pandas as pd"
   ]
  },
  {
   "cell_type": "code",
   "execution_count": null,
   "id": "e7c485be-1b56-48f1-a5df-2c204fb8d8e0",
   "metadata": {},
   "outputs": [],
   "source": [
    "data.head()"
   ]
  },
  {
   "cell_type": "code",
   "execution_count": null,
   "id": "93d9856e-b253-4754-b31e-d350b472abfb",
   "metadata": {},
   "outputs": [],
   "source": [
    "data.drop(['TRANS_DATE', 'START_DATE', 'DISTRIBUTOR_CODE',\n",
    "       'OUTLET_CODE', 'CITY', 'STATE', 'COUNTY', 'STREET', 'PRODUCT_CODE',\n",
    "       'CATEGORY', 'SUBCATEGORY', 'BRAND'],axis=1,inplace=True)"
   ]
  },
  {
   "cell_type": "code",
   "execution_count": null,
   "id": "012882ce-1de0-468a-a276-1ec9bf9fc322",
   "metadata": {},
   "outputs": [],
   "source": [
    "data.head()"
   ]
  },
  {
   "cell_type": "code",
   "execution_count": null,
   "id": "fc251df7-1ae8-4823-9f3d-78943a383420",
   "metadata": {},
   "outputs": [],
   "source": [
    "from sklearn.preprocessing import MinMaxScaler"
   ]
  },
  {
   "cell_type": "code",
   "execution_count": null,
   "id": "1bc1e587-92d3-4df8-94a1-a284cea5ca1a",
   "metadata": {},
   "outputs": [],
   "source": [
    "Scaler=MinMaxScaler()"
   ]
  },
  {
   "cell_type": "code",
   "execution_count": 8,
   "id": "6a569ee0-3c93-4a61-8237-b88c17eca246",
   "metadata": {},
   "outputs": [
    {
     "ename": "NameError",
     "evalue": "name 'Scaler' is not defined",
     "output_type": "error",
     "traceback": [
      "\u001b[0;31m---------------------------------------------------------------------------\u001b[0m",
      "\u001b[0;31mNameError\u001b[0m                                 Traceback (most recent call last)",
      "Cell \u001b[0;32mIn[8], line 1\u001b[0m\n\u001b[0;32m----> 1\u001b[0m \u001b[43mScaler\u001b[49m\u001b[38;5;241m.\u001b[39mfit(data)\n\u001b[1;32m      2\u001b[0m X_Train_scaled\u001b[38;5;241m=\u001b[39mScaler\u001b[38;5;241m.\u001b[39mtransform(data)\n",
      "\u001b[0;31mNameError\u001b[0m: name 'Scaler' is not defined"
     ]
    }
   ],
   "source": [
    "Scaler.fit(data)\n",
    "X_Train_scaled=Scaler.transform(data)"
   ]
  },
  {
   "cell_type": "code",
   "execution_count": null,
   "id": "31e60ae3-9676-40c3-975e-837a8dcb7dad",
   "metadata": {},
   "outputs": [],
   "source": [
    "X_Train_scaled"
   ]
  },
  {
   "cell_type": "code",
   "execution_count": null,
   "id": "d1cdf44c-b10a-47a2-a1c7-2ee5a6ab702f",
   "metadata": {},
   "outputs": [],
   "source": [
    "import pandas as pd\n",
    "import matplotlib.pyplot as plt\n",
    "from sklearn.decomposition import PCA\n",
    "from sklearn.cluster import KMeans\n",
    "\n",
    "# Assuming X_Train_scaled is already defined and scaled\n",
    "\n",
    "# Initialize PCA with the number of components you want\n",
    "pca = PCA(n_components=2)\n",
    "\n",
    "# Fit and transform the scaled training data\n",
    "X_Train_pca = pca.fit_transform(X_Train_scaled)\n",
    "\n",
    "# Convert the PCA result to a DataFrame\n",
    "X_Train_pca_df = pd.DataFrame(X_Train_pca, columns=['PC1', 'PC2'])\n",
    "\n",
    "# Perform K-means clustering\n",
    "kmeans = KMeans(n_clusters=4)  # Adjust the number of clusters as needed\n",
    "kmeans.fit(X_Train_pca_df)\n",
    "\n",
    "# Add the cluster labels to the DataFrame\n",
    "X_Train_pca_df['Cluster'] = kmeans.labels_\n",
    "\n",
    "# Plot the clusters\n",
    "plt.figure(figsize=(10, 7))\n",
    "plt.scatter(X_Train_pca_df['PC1'], X_Train_pca_df['PC2'], c=X_Train_pca_df['Cluster'], cmap='viridis')\n",
    "plt.xlabel('Principal Component 1')\n",
    "plt.ylabel('Principal Component 2')\n",
    "plt.title('PCA and K-means Clustering')\n",
    "plt.show()"
   ]
  },
  {
   "cell_type": "code",
   "execution_count": null,
   "id": "b15a0142-30d6-4eea-b9a0-1f7f00332739",
   "metadata": {},
   "outputs": [],
   "source": [
    "from sklearn.cluster import KMeans  \n",
    " \n",
    "wcss_list= []  #Initializing the list for the values of WCSS  \n",
    " \n",
    "#Using for loop for iterations from 1 to 10.  \n",
    " \n",
    "for i in range(1, 11):  \n",
    " \n",
    "    kmeans = KMeans(n_clusters=i, init='k-means++', random_state= 42)  \n",
    " \n",
    "    kmeans.fit(X_Train_pca_df)  \n",
    " \n",
    "    wcss_list.append(kmeans.inertia_)  \n",
    " \n",
    "plt.plot(range(1, 11), wcss_list)  \n",
    " \n",
    "plt.title('The Elbow Method Graph')  \n",
    " \n",
    "plt.xlabel('Number of clusters(k)')  \n",
    " \n",
    "plt.ylabel('wcss_list')  \n",
    " \n",
    "plt.show()"
   ]
  },
  {
   "cell_type": "code",
   "execution_count": null,
   "id": "9cb655dc-5e20-482d-890f-dda51c339f1d",
   "metadata": {
    "scrolled": true
   },
   "outputs": [],
   "source": [
    "import pandas as pd\n",
    "import matplotlib.pyplot as plt\n",
    "from sklearn.decomposition import PCA\n",
    "from sklearn.cluster import KMeans\n",
    "\n",
    "# Assuming X_Train_scaled is already defined and scaled\n",
    "\n",
    "# Initialize PCA with the number of components you want\n",
    "pca = PCA(n_components=2)\n",
    "\n",
    "# Fit and transform the scaled training data\n",
    "X_Train_pca = pca.fit_transform(X_Train_scaled)\n",
    "\n",
    "# Convert the PCA result to a DataFrame\n",
    "X_Train_pca_df = pd.DataFrame(X_Train_pca, columns=['PC1', 'PC2'])\n",
    "\n",
    "# Perform K-means clustering\n",
    "kmeans = KMeans(n_clusters=4)  # Adjust the number of clusters as needed\n",
    "kmeans.fit(X_Train_pca_df)\n",
    "\n",
    "# Add the cluster labels to the DataFrame\n",
    "X_Train_pca_df['Cluster'] = kmeans.labels_\n",
    "\n",
    "# Plot the clusters\n",
    "plt.figure(figsize=(10, 7))\n",
    "plt.scatter(X_Train_pca_df['PC1'], X_Train_pca_df['PC2'], c=X_Train_pca_df['Cluster'], cmap='viridis')\n",
    "plt.xlabel('Principal Component 1')\n",
    "plt.ylabel('Principal Component 2')\n",
    "plt.title('PCA and K-means Clustering')\n",
    "plt.show()"
   ]
  },
  {
   "cell_type": "code",
   "execution_count": null,
   "id": "8b7d7745-a3d5-4edb-a62c-9f41259a23e4",
   "metadata": {},
   "outputs": [],
   "source": [
    "combined_df = pd.concat([df, X_Train_pca_df], axis=1)"
   ]
  },
  {
   "cell_type": "code",
   "execution_count": null,
   "id": "bc0a9716-24c9-4c65-b765-54771e757b7b",
   "metadata": {},
   "outputs": [],
   "source": [
    "combined_df.head()"
   ]
  },
  {
   "cell_type": "code",
   "execution_count": null,
   "id": "bb2272af-41a3-4766-863f-a287460707e4",
   "metadata": {},
   "outputs": [],
   "source": [
    "combined_df['Cluster'].value_counts()"
   ]
  },
  {
   "cell_type": "code",
   "execution_count": null,
   "id": "685b899c-8696-4f1e-b2b6-7ebc8240e9ab",
   "metadata": {},
   "outputs": [],
   "source": [
    "pip install snowflake-connector-python"
   ]
  },
  {
   "cell_type": "code",
   "execution_count": null,
   "id": "c112fa15-403e-47b2-9895-8e813431f3b9",
   "metadata": {},
   "outputs": [],
   "source": [
    "import pandas as pd\n",
    "import snowflake.connector\n",
    "from snowflake.connector.pandas_tools import write_pandas"
   ]
  },
  {
   "cell_type": "code",
   "execution_count": null,
   "id": "50bbfa2d-401d-4af5-904a-3672be3674cf",
   "metadata": {},
   "outputs": [],
   "source": [
    "combined_df['Cluster'].value_counts()\n"
   ]
  },
  {
   "cell_type": "code",
   "execution_count": null,
   "id": "f2e5f0c4-1c7d-4884-bbfe-c63657b3ee46",
   "metadata": {},
   "outputs": [],
   "source": [
    "combined_df['ClusterID'] = combined_df['Cluster']\n",
    " \n",
    "di = {0: \"CLUSTER_0\", 1: \"CLUSTER_1\",2: \"CLUSTER_2\", 3: \"CLUSTER_3\"}\n",
    "combined_df.replace({\"ClusterID\": di})"
   ]
  },
  {
   "cell_type": "code",
   "execution_count": null,
   "id": "9490c6dd-b4b8-4df5-972b-97f6d3fedabe",
   "metadata": {},
   "outputs": [],
   "source": [
    "#Code to write back dataframe to Snowflake\n",
    " \n",
    "ins_train_sf=my_session.createDataFrame(\n",
    "        combined_df.values.tolist(),\n",
    "        schema=combined_df.columns.tolist())\n",
    "ins_train_sf.write.mode(\"overwrite\").save_as_table(\"ASSORTMENT_PLANNING.CPG_BRONZE.CLUSTERED_DATA\")"
   ]
  },
  {
   "cell_type": "code",
   "execution_count": null,
   "id": "d2babfd7-4dc3-4164-afd3-309b79e0554a",
   "metadata": {},
   "outputs": [],
   "source": []
  }
 ],
 "metadata": {
  "kernelspec": {
   "display_name": "Python 3 (ipykernel)",
   "language": "python",
   "name": "python3"
  },
  "language_info": {
   "codemirror_mode": {
    "name": "ipython",
    "version": 3
   },
   "file_extension": ".py",
   "mimetype": "text/x-python",
   "name": "python",
   "nbconvert_exporter": "python",
   "pygments_lexer": "ipython3",
   "version": "3.9.19"
  }
 },
 "nbformat": 4,
 "nbformat_minor": 5
}
