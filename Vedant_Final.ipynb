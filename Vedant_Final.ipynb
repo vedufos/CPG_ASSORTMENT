{
 "cells": [
  {
   "cell_type": "code",
   "execution_count": 1,
   "id": "ab0853be-dbf3-47be-813b-6135afb2242d",
   "metadata": {},
   "outputs": [],
   "source": [
    "import fosforml\n",
    "from fosforml.model_manager.snowflakesession import get_session\n",
    "my_session = get_session()"
   ]
  },
  {
   "cell_type": "code",
   "execution_count": 2,
   "id": "bd3a63fc-a09e-4077-bbfa-e29c8c8d3c2b",
   "metadata": {},
   "outputs": [
    {
     "data": {
      "text/plain": [
       "'ASSORTMENT_PLANNING'"
      ]
     },
     "execution_count": 2,
     "metadata": {},
     "output_type": "execute_result"
    }
   ],
   "source": [
    "my_session.connection.database"
   ]
  },
  {
   "cell_type": "code",
   "execution_count": 3,
   "id": "516f24b8-afc5-462f-b968-f7b0f5c87662",
   "metadata": {},
   "outputs": [
    {
     "data": {
      "text/plain": [
       "'CPG_BRONZE'"
      ]
     },
     "execution_count": 3,
     "metadata": {},
     "output_type": "execute_result"
    }
   ],
   "source": [
    "my_session.connection.schema"
   ]
  },
  {
   "cell_type": "code",
   "execution_count": 4,
   "id": "e9588a76-31eb-4957-8906-f1c1e0fb32c0",
   "metadata": {},
   "outputs": [],
   "source": [
    "table_name = \"ASSORTMENT_PLANNING.CPG_BRONZE.SALES_CLEAN\""
   ]
  },
  {
   "cell_type": "code",
   "execution_count": 5,
   "id": "2559db41-e91e-487e-a8d2-4b98d75f515a",
   "metadata": {},
   "outputs": [
    {
     "data": {
      "text/plain": [
       "pandas.core.frame.DataFrame"
      ]
     },
     "execution_count": 5,
     "metadata": {},
     "output_type": "execute_result"
    }
   ],
   "source": [
    "sf_df = my_session.sql(\"select * from {}\".format(table_name))\n",
    "type(sf_df)\n",
    "df=sf_df.to_pandas()\n",
    "type(df)"
   ]
  },
  {
   "cell_type": "code",
   "execution_count": 6,
   "id": "acdea69c-6151-41e3-a6ce-bd945c1845eb",
   "metadata": {},
   "outputs": [
    {
     "data": {
      "text/html": [
       "<div>\n",
       "<style scoped>\n",
       "    .dataframe tbody tr th:only-of-type {\n",
       "        vertical-align: middle;\n",
       "    }\n",
       "\n",
       "    .dataframe tbody tr th {\n",
       "        vertical-align: top;\n",
       "    }\n",
       "\n",
       "    .dataframe thead th {\n",
       "        text-align: right;\n",
       "    }\n",
       "</style>\n",
       "<table border=\"1\" class=\"dataframe\">\n",
       "  <thead>\n",
       "    <tr style=\"text-align: right;\">\n",
       "      <th></th>\n",
       "      <th>MNTH_CODE</th>\n",
       "      <th>TRANS_DATE</th>\n",
       "      <th>START_DATE</th>\n",
       "      <th>SALES_VALUE</th>\n",
       "      <th>SALES_UNITS</th>\n",
       "      <th>SALES_VOLUME</th>\n",
       "      <th>SALES_PTR_VALUE</th>\n",
       "      <th>OC_CODE</th>\n",
       "      <th>DISTRIBUTOR_CODE</th>\n",
       "      <th>OUTLET_CODE</th>\n",
       "      <th>CITY</th>\n",
       "      <th>STATE</th>\n",
       "      <th>COUNTY</th>\n",
       "      <th>STREET</th>\n",
       "      <th>PRODUCT_CODE</th>\n",
       "      <th>CATEGORY</th>\n",
       "      <th>SUBCATEGORY</th>\n",
       "      <th>BRAND</th>\n",
       "    </tr>\n",
       "  </thead>\n",
       "  <tbody>\n",
       "    <tr>\n",
       "      <th>0</th>\n",
       "      <td>202312</td>\n",
       "      <td>2023-12-26</td>\n",
       "      <td>2023-11-27</td>\n",
       "      <td>372.73</td>\n",
       "      <td>2</td>\n",
       "      <td>0.000650</td>\n",
       "      <td>372.727273</td>\n",
       "      <td>202212</td>\n",
       "      <td>DB0110</td>\n",
       "      <td>OL112848</td>\n",
       "      <td>Carbondale</td>\n",
       "      <td>Illinois</td>\n",
       "      <td>City Center</td>\n",
       "      <td>Str2</td>\n",
       "      <td>PRD0118</td>\n",
       "      <td>Soap</td>\n",
       "      <td>Medicated Soap</td>\n",
       "      <td>Burgundy</td>\n",
       "    </tr>\n",
       "    <tr>\n",
       "      <th>1</th>\n",
       "      <td>202312</td>\n",
       "      <td>2023-12-26</td>\n",
       "      <td>2023-11-27</td>\n",
       "      <td>436.36</td>\n",
       "      <td>3</td>\n",
       "      <td>0.000900</td>\n",
       "      <td>436.363636</td>\n",
       "      <td>202212</td>\n",
       "      <td>DB0110</td>\n",
       "      <td>OL112848</td>\n",
       "      <td>Carbondale</td>\n",
       "      <td>Illinois</td>\n",
       "      <td>City Center</td>\n",
       "      <td>Str2</td>\n",
       "      <td>PRD0131</td>\n",
       "      <td>Soap</td>\n",
       "      <td>Toilet Soap</td>\n",
       "      <td>Grape vine</td>\n",
       "    </tr>\n",
       "    <tr>\n",
       "      <th>2</th>\n",
       "      <td>202312</td>\n",
       "      <td>2023-12-24</td>\n",
       "      <td>2023-11-27</td>\n",
       "      <td>202.82</td>\n",
       "      <td>2</td>\n",
       "      <td>0.000214</td>\n",
       "      <td>209.090909</td>\n",
       "      <td>202212</td>\n",
       "      <td>DB0209</td>\n",
       "      <td>OL112555</td>\n",
       "      <td>Shelbyville</td>\n",
       "      <td>Tennessee</td>\n",
       "      <td>City Center</td>\n",
       "      <td>Str5</td>\n",
       "      <td>PRD0065</td>\n",
       "      <td>Hair Care</td>\n",
       "      <td>Hair Oil</td>\n",
       "      <td>Crimson</td>\n",
       "    </tr>\n",
       "    <tr>\n",
       "      <th>3</th>\n",
       "      <td>202312</td>\n",
       "      <td>2023-12-29</td>\n",
       "      <td>2023-11-27</td>\n",
       "      <td>142.86</td>\n",
       "      <td>16</td>\n",
       "      <td>0.000384</td>\n",
       "      <td>142.857143</td>\n",
       "      <td>202212</td>\n",
       "      <td>DB0655</td>\n",
       "      <td>OL113173</td>\n",
       "      <td>Renton</td>\n",
       "      <td>Washington</td>\n",
       "      <td>Orange</td>\n",
       "      <td>Str2</td>\n",
       "      <td>PRD0106</td>\n",
       "      <td>Hair Care</td>\n",
       "      <td>Shampoo</td>\n",
       "      <td>Hair &amp; Shoulders</td>\n",
       "    </tr>\n",
       "    <tr>\n",
       "      <th>4</th>\n",
       "      <td>202312</td>\n",
       "      <td>2023-12-17</td>\n",
       "      <td>2023-11-27</td>\n",
       "      <td>145.45</td>\n",
       "      <td>1</td>\n",
       "      <td>0.000300</td>\n",
       "      <td>145.454545</td>\n",
       "      <td>202212</td>\n",
       "      <td>DB0652</td>\n",
       "      <td>OL112373</td>\n",
       "      <td>Wallingford</td>\n",
       "      <td>Connecticut</td>\n",
       "      <td>Dolphin</td>\n",
       "      <td>Str1</td>\n",
       "      <td>PRD0070</td>\n",
       "      <td>Perfume and Deodrants</td>\n",
       "      <td>Female Deodrant</td>\n",
       "      <td>Pista green</td>\n",
       "    </tr>\n",
       "  </tbody>\n",
       "</table>\n",
       "</div>"
      ],
      "text/plain": [
       "   MNTH_CODE  TRANS_DATE  START_DATE  SALES_VALUE  SALES_UNITS  SALES_VOLUME  \\\n",
       "0     202312  2023-12-26  2023-11-27       372.73            2      0.000650   \n",
       "1     202312  2023-12-26  2023-11-27       436.36            3      0.000900   \n",
       "2     202312  2023-12-24  2023-11-27       202.82            2      0.000214   \n",
       "3     202312  2023-12-29  2023-11-27       142.86           16      0.000384   \n",
       "4     202312  2023-12-17  2023-11-27       145.45            1      0.000300   \n",
       "\n",
       "   SALES_PTR_VALUE  OC_CODE DISTRIBUTOR_CODE OUTLET_CODE         CITY  \\\n",
       "0       372.727273   202212           DB0110    OL112848   Carbondale   \n",
       "1       436.363636   202212           DB0110    OL112848   Carbondale   \n",
       "2       209.090909   202212           DB0209    OL112555  Shelbyville   \n",
       "3       142.857143   202212           DB0655    OL113173       Renton   \n",
       "4       145.454545   202212           DB0652    OL112373  Wallingford   \n",
       "\n",
       "         STATE       COUNTY STREET PRODUCT_CODE               CATEGORY  \\\n",
       "0     Illinois  City Center   Str2      PRD0118                   Soap   \n",
       "1     Illinois  City Center   Str2      PRD0131                   Soap   \n",
       "2    Tennessee  City Center   Str5      PRD0065              Hair Care   \n",
       "3   Washington       Orange   Str2      PRD0106              Hair Care   \n",
       "4  Connecticut      Dolphin   Str1      PRD0070  Perfume and Deodrants   \n",
       "\n",
       "       SUBCATEGORY             BRAND  \n",
       "0   Medicated Soap          Burgundy  \n",
       "1      Toilet Soap        Grape vine  \n",
       "2         Hair Oil           Crimson  \n",
       "3          Shampoo  Hair & Shoulders  \n",
       "4  Female Deodrant       Pista green  "
      ]
     },
     "execution_count": 6,
     "metadata": {},
     "output_type": "execute_result"
    }
   ],
   "source": [
    "df.head(5)"
   ]
  },
  {
   "cell_type": "code",
   "execution_count": null,
   "id": "4b9be009-97f3-4201-8eba-6fd90343674c",
   "metadata": {},
   "outputs": [],
   "source": []
  }
 ],
 "metadata": {
  "kernelspec": {
   "display_name": "Python 3 (ipykernel)",
   "language": "python",
   "name": "python3"
  },
  "language_info": {
   "codemirror_mode": {
    "name": "ipython",
    "version": 3
   },
   "file_extension": ".py",
   "mimetype": "text/x-python",
   "name": "python",
   "nbconvert_exporter": "python",
   "pygments_lexer": "ipython3",
   "version": "3.9.19"
  }
 },
 "nbformat": 4,
 "nbformat_minor": 5
}
