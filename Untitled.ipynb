{
 "cells": [
  {
   "cell_type": "code",
   "execution_count": null,
   "id": "b6eb914d-a8aa-4f2d-b069-2a4f3bbcd59d",
   "metadata": {},
   "outputs": [],
   "source": [
    "pip install --upgrade fosforml"
   ]
  },
  {
   "cell_type": "code",
   "execution_count": null,
   "id": "cafcbfa6-27a6-4c05-92b5-856a2edca5e6",
   "metadata": {},
   "outputs": [],
   "source": [
    "import pandas as pd\n",
    "import numpy as np\n",
    "import fosforml\n",
    "from fosforml.model_manager.snowflakesession import get_session\n",
    "my_session = get_session()"
   ]
  },
  {
   "cell_type": "code",
   "execution_count": null,
   "id": "638de2ae-ba62-41e0-abe2-902f42bae45e",
   "metadata": {},
   "outputs": [],
   "source": [
    "my_session.connection.database"
   ]
  },
  {
   "cell_type": "code",
   "execution_count": null,
   "id": "f0b1001c-8d73-4c17-ab7a-193e9bfa7fe1",
   "metadata": {},
   "outputs": [],
   "source": [
    "my_session.connection.schema"
   ]
  },
  {
   "cell_type": "code",
   "execution_count": null,
   "id": "dc9cd0f8-3fd1-4a53-b627-8edc3bd52f87",
   "metadata": {},
   "outputs": [],
   "source": [
    "data = \"ASSORTMENT_PLANNING.CPG_BRONZE.SALES_CLEAN_WITH_CLUSTER_SEP23TOJUL24\""
   ]
  },
  {
   "cell_type": "code",
   "execution_count": null,
   "id": "a8c09de5-3ce2-4df0-b331-163f618ae581",
   "metadata": {},
   "outputs": [],
   "source": [
    "sf_df = my_session.sql(\"select * from {}\".format(data))"
   ]
  },
  {
   "cell_type": "code",
   "execution_count": null,
   "id": "25e538d0-1457-4cad-a9f8-fab00c3277ce",
   "metadata": {},
   "outputs": [],
   "source": [
    "type(sf_df)"
   ]
  },
  {
   "cell_type": "code",
   "execution_count": null,
   "id": "e5f28bf1-967a-4e84-90ac-1651efe0f9af",
   "metadata": {},
   "outputs": [],
   "source": [
    "df=sf_df.to_pandas()"
   ]
  },
  {
   "cell_type": "code",
   "execution_count": null,
   "id": "abe47a50-74c1-4500-bb85-6e910e2ac75b",
   "metadata": {},
   "outputs": [],
   "source": [
    "type(df)"
   ]
  },
  {
   "cell_type": "code",
   "execution_count": null,
   "id": "d689d61c-9603-4c8f-8800-0d9fd32d1c97",
   "metadata": {},
   "outputs": [],
   "source": [
    "df.head()"
   ]
  },
  {
   "cell_type": "code",
   "execution_count": null,
   "id": "5d1e83c2-5b4f-43f5-b55c-fd3232b49a4a",
   "metadata": {},
   "outputs": [],
   "source": [
    "import pandas as pd\n",
    "\n",
    "# Identify non-selling products\n",
    "non_selling_products = df[df['SALES_UNITS'] == 0]\n",
    "\n",
    "# Calculate average sales for each category\n",
    "category_avg_sales = df[df['SALES_UNITS'] > 0].groupby('CATEGORY')['SALES_UNITS'].mean().reset_index()\n",
    "category_avg_sales.columns = ['CATEGORY', 'AVG_SALES_UNITS']\n",
    "\n",
    "# Merge non-selling products with average sales data\n",
    "non_selling_with_avg = pd.merge(non_selling_products, category_avg_sales, on='CATEGORY', how='left')\n",
    "\n",
    "# Suggest order quantity\n",
    "non_selling_with_avg['MUST_SELL_QTY'] = non_selling_with_avg['AVG_SALES_UNITS']\n",
    "\n",
    "# Select relevant columns\n",
    "result = non_selling_with_avg[['OUTLET_CODE', 'PRODUCT_CODE', 'CATEGORY', 'MUST_SELL_QTY']]\n",
    "\n",
    "# Save the result to a new CSV file\n",
    "#result.to_csv('suggested_order_quantities.csv', index=False)\n",
    "\n",
    "non_selling_with_avg.head()\n"
   ]
  },
  {
   "cell_type": "code",
   "execution_count": null,
   "id": "96d4511f-0c4d-4235-b577-748f55ffe737",
   "metadata": {},
   "outputs": [],
   "source": [
    "pip install statsmodels"
   ]
  },
  {
   "cell_type": "code",
   "execution_count": null,
   "id": "161e7d48-7f43-48a4-a6a7-f0ec67fd4b18",
   "metadata": {},
   "outputs": [],
   "source": [
    "import pandas as pd\n",
    "from statsmodels.tsa.arima.model import ARIMA\n",
    "\n",
    "# Identify non-selling products\n",
    "non_selling_products = df[df['SALES_UNITS'] == 0]\n",
    "\n",
    "# Calculate historical sales trends for each category\n",
    "category_sales = df[df['SALES_UNITS'] > 0].groupby(['CATEGORY', 'DATE'])['SALES_UNITS'].sum().reset_index()\n",
    "\n",
    "# Forecast future sales for each category\n",
    "forecast_results = []\n",
    "\n",
    "for category in category_sales['CATEGORY'].unique():\n",
    "    category_data = category_sales[category_sales['CATEGORY'] == category]\n",
    "    category_data.set_index('DATE', inplace=True)\n",
    "    category_data.index = pd.to_datetime(category_data.index)\n",
    "    \n",
    "    # Fit ARIMA model\n",
    "    model = ARIMA(category_data['SALES_UNITS'], order=(5, 1, 0))\n",
    "    model_fit = model.fit()\n",
    "    \n",
    "    # Forecast next period\n",
    "    forecast = model_fit.forecast(steps=1)\n",
    "    forecast_results.append({'CATEGORY': category, 'FORECAST_SALES_UNITS': forecast})\n",
    "\n",
    "# Convert forecast results to DataFrame\n",
    "forecast_df = pd.DataFrame(forecast_results)\n",
    "\n",
    "# Merge non-selling products with forecast data\n",
    "non_selling_with_forecast = pd.merge(non_selling_products, forecast_df, on='CATEGORY', how='left')\n",
    "\n",
    "# Suggest order quantity\n",
    "non_selling_with_forecast['MUST_SELL_QTY'] = non_selling_with_forecast['FORECAST_SALES_UNITS']\n",
    "\n",
    "# Select relevant columns\n",
    "result = non_selling_with_forecast[['OUTLET_CODE', 'PRODUCT_CODE', 'CATEGORY', 'MUST_SELL_QTY']]\n",
    "\n",
    "df.non_selling_with_forecast()\n"
   ]
  },
  {
   "cell_type": "code",
   "execution_count": null,
   "id": "7d17e60c-1227-4b17-a951-7e4788e0c8f4",
   "metadata": {},
   "outputs": [],
   "source": []
  }
 ],
 "metadata": {
  "kernelspec": {
   "display_name": "Python 3 (ipykernel)",
   "language": "python",
   "name": "python3"
  },
  "language_info": {
   "codemirror_mode": {
    "name": "ipython",
    "version": 3
   },
   "file_extension": ".py",
   "mimetype": "text/x-python",
   "name": "python",
   "nbconvert_exporter": "python",
   "pygments_lexer": "ipython3",
   "version": "3.9.19"
  }
 },
 "nbformat": 4,
 "nbformat_minor": 5
}
