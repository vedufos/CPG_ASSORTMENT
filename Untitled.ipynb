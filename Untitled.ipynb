{
 "cells": [
  {
   "cell_type": "code",
   "execution_count": null,
   "id": "a1ce14ac-d6fd-47a7-b867-839536122ac1",
   "metadata": {},
   "outputs": [],
   "source": [
    "import pandas as pd\n",
    "from sklearn.preprocessing import StandardScaler\n",
    "from sklearn.cluster import KMeans\n",
    "from sklearn.ensemble import RandomForestRegressor\n",
    "\n",
    "# Load data\n",
    "data = pd.read_csv('sales_data.csv')\n",
    "\n",
    "# Data preprocessing\n",
    "data.fillna(0, inplace=True)\n",
    "scaler = StandardScaler()\n",
    "scaled_data = scaler.fit_transform(data.drop(columns=['product_id', 'sales']))\n",
    "\n",
    "# Clustering\n",
    "kmeans = KMeans(n_clusters=5, random_state=42)\n",
    "data['cluster'] = kmeans.fit_predict(scaled_data)\n",
    "\n",
    "# Identify non-selling products\n",
    "non_selling = data[data['sales'] == 0]\n",
    "\n",
    "# Predictive modeling\n",
    "selling = data[data['sales'] > 0]\n",
    "X = selling.drop(columns=['product_id', 'sales'])\n",
    "y = selling['sales']\n",
    "\n",
    "model = RandomForestRegressor(n_estimators=100, random_state=42)\n",
    "model.fit(X, y)\n",
    "\n",
    "# Forecast sales for non-selling products\n",
    "X_non_selling = non_selling.drop(columns=['product_id', 'sales'])\n",
    "non_selling['predicted_sales'] = model.predict(X_non_selling)\n",
    "\n",
    "# Suggested order quantity\n",
    "non_selling['must_sell_qty'] = non_selling['predicted_sales'] * 1.2  # Example factor\n",
    "\n",
    "# Output results\n",
    "print(non_selling[['product_id', 'predicted_sales', 'must_sell_qty']])\n"
   ]
  }
 ],
 "metadata": {
  "kernelspec": {
   "display_name": "Python 3 (ipykernel)",
   "language": "python",
   "name": "python3"
  },
  "language_info": {
   "codemirror_mode": {
    "name": "ipython",
    "version": 3
   },
   "file_extension": ".py",
   "mimetype": "text/x-python",
   "name": "python",
   "nbconvert_exporter": "python",
   "pygments_lexer": "ipython3",
   "version": "3.9.19"
  }
 },
 "nbformat": 4,
 "nbformat_minor": 5
}
