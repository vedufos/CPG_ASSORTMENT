{
 "cells": [
  {
   "cell_type": "code",
   "execution_count": 1,
   "id": "04a2bb45-e268-411a-974b-6f058e9f3f01",
   "metadata": {},
   "outputs": [
    {
     "name": "stdout",
     "output_type": "stream",
     "text": [
      "Requirement already satisfied: darts in /opt/conda/lib/python3.9/site-packages (0.30.0)\n",
      "Requirement already satisfied: holidays>=0.11.1 in /opt/conda/lib/python3.9/site-packages (from darts) (0.57)\n",
      "Requirement already satisfied: joblib>=0.16.0 in /opt/conda/lib/python3.9/site-packages (from darts) (1.4.2)\n",
      "Requirement already satisfied: matplotlib>=3.3.0 in /opt/conda/lib/python3.9/site-packages (from darts) (3.9.2)\n",
      "Requirement already satisfied: nfoursid>=1.0.0 in /opt/conda/lib/python3.9/site-packages (from darts) (1.0.1)\n",
      "Requirement already satisfied: numpy<2.0.0,>=1.19.0 in /opt/conda/lib/python3.9/site-packages (from darts) (1.26.4)\n",
      "Requirement already satisfied: pmdarima>=1.8.0 in /opt/conda/lib/python3.9/site-packages (from darts) (2.0.4)\n",
      "Requirement already satisfied: pyod>=0.9.5 in /opt/conda/lib/python3.9/site-packages (from darts) (2.0.2)\n",
      "Requirement already satisfied: requests>=2.22.0 in /opt/conda/lib/python3.9/site-packages (from darts) (2.32.3)\n",
      "Requirement already satisfied: scikit-learn>=1.0.1 in /opt/conda/lib/python3.9/site-packages (from darts) (1.3.2)\n",
      "Requirement already satisfied: scipy>=1.3.2 in /opt/conda/lib/python3.9/site-packages (from darts) (1.13.1)\n",
      "Requirement already satisfied: shap>=0.40.0 in /opt/conda/lib/python3.9/site-packages (from darts) (0.46.0)\n",
      "Collecting statsforecast>=1.4 (from darts)\n",
      "  Using cached statsforecast-1.7.8-cp39-cp39-manylinux_2_17_x86_64.manylinux2014_x86_64.whl.metadata (28 kB)\n",
      "Requirement already satisfied: statsmodels>=0.14.0 in /opt/conda/lib/python3.9/site-packages (from darts) (0.14.3)\n",
      "Requirement already satisfied: tbats>=1.1.0 in /opt/conda/lib/python3.9/site-packages (from darts) (1.1.3)\n",
      "Requirement already satisfied: tqdm>=4.60.0 in /opt/conda/lib/python3.9/site-packages (from darts) (4.66.4)\n",
      "Requirement already satisfied: typing-extensions in /opt/conda/lib/python3.9/site-packages (from darts) (4.12.2)\n",
      "Requirement already satisfied: xarray>=0.17.0 in /opt/conda/lib/python3.9/site-packages (from darts) (2024.7.0)\n",
      "Requirement already satisfied: xgboost>=1.6.0 in /opt/conda/lib/python3.9/site-packages (from darts) (1.7.6)\n",
      "Requirement already satisfied: pytorch-lightning>=1.5.0 in /opt/conda/lib/python3.9/site-packages (from darts) (2.4.0)\n",
      "Requirement already satisfied: tensorboardX>=2.1 in /opt/conda/lib/python3.9/site-packages (from darts) (2.6.2.2)\n",
      "Requirement already satisfied: torch>=1.8.0 in /opt/conda/lib/python3.9/site-packages (from darts) (2.4.1)\n",
      "Requirement already satisfied: pandas>=1.0.5 in /opt/conda/lib/python3.9/site-packages (from darts) (2.2.2)\n",
      "Requirement already satisfied: python-dateutil in /opt/conda/lib/python3.9/site-packages (from holidays>=0.11.1->darts) (2.9.0.post0)\n",
      "Requirement already satisfied: contourpy>=1.0.1 in /opt/conda/lib/python3.9/site-packages (from matplotlib>=3.3.0->darts) (1.3.0)\n",
      "Requirement already satisfied: cycler>=0.10 in /opt/conda/lib/python3.9/site-packages (from matplotlib>=3.3.0->darts) (0.12.1)\n",
      "Requirement already satisfied: fonttools>=4.22.0 in /opt/conda/lib/python3.9/site-packages (from matplotlib>=3.3.0->darts) (4.54.1)\n",
      "Requirement already satisfied: kiwisolver>=1.3.1 in /opt/conda/lib/python3.9/site-packages (from matplotlib>=3.3.0->darts) (1.4.7)\n",
      "Requirement already satisfied: packaging>=20.0 in /opt/conda/lib/python3.9/site-packages (from matplotlib>=3.3.0->darts) (23.2)\n",
      "Requirement already satisfied: pillow>=8 in /opt/conda/lib/python3.9/site-packages (from matplotlib>=3.3.0->darts) (10.4.0)\n",
      "Requirement already satisfied: pyparsing>=2.3.1 in /opt/conda/lib/python3.9/site-packages (from matplotlib>=3.3.0->darts) (3.1.4)\n",
      "Requirement already satisfied: importlib-resources>=3.2.0 in /opt/conda/lib/python3.9/site-packages (from matplotlib>=3.3.0->darts) (6.4.5)\n",
      "Requirement already satisfied: pytz>=2020.1 in /opt/conda/lib/python3.9/site-packages (from pandas>=1.0.5->darts) (2024.1)\n",
      "Requirement already satisfied: tzdata>=2022.7 in /opt/conda/lib/python3.9/site-packages (from pandas>=1.0.5->darts) (2024.1)\n",
      "Requirement already satisfied: Cython!=0.29.18,!=0.29.31,>=0.29 in /opt/conda/lib/python3.9/site-packages (from pmdarima>=1.8.0->darts) (3.0.11)\n",
      "Requirement already satisfied: urllib3 in /opt/conda/lib/python3.9/site-packages (from pmdarima>=1.8.0->darts) (1.26.20)\n",
      "Requirement already satisfied: setuptools!=50.0.0,>=38.6.0 in /opt/conda/lib/python3.9/site-packages (from pmdarima>=1.8.0->darts) (65.6.3)\n",
      "Requirement already satisfied: numba>=0.51 in /opt/conda/lib/python3.9/site-packages (from pyod>=0.9.5->darts) (0.60.0)\n",
      "Requirement already satisfied: PyYAML>=5.4 in /opt/conda/lib/python3.9/site-packages (from pytorch-lightning>=1.5.0->darts) (6.0.1)\n",
      "Requirement already satisfied: fsspec>=2022.5.0 in /opt/conda/lib/python3.9/site-packages (from fsspec[http]>=2022.5.0->pytorch-lightning>=1.5.0->darts) (2023.12.2)\n",
      "Requirement already satisfied: torchmetrics>=0.7.0 in /opt/conda/lib/python3.9/site-packages (from pytorch-lightning>=1.5.0->darts) (1.4.2)\n",
      "Requirement already satisfied: lightning-utilities>=0.10.0 in /opt/conda/lib/python3.9/site-packages (from pytorch-lightning>=1.5.0->darts) (0.11.7)\n",
      "Requirement already satisfied: charset-normalizer<4,>=2 in /opt/conda/lib/python3.9/site-packages (from requests>=2.22.0->darts) (3.3.2)\n",
      "Requirement already satisfied: idna<4,>=2.5 in /opt/conda/lib/python3.9/site-packages (from requests>=2.22.0->darts) (3.7)\n",
      "Requirement already satisfied: certifi>=2017.4.17 in /opt/conda/lib/python3.9/site-packages (from requests>=2.22.0->darts) (2024.8.30)\n",
      "Requirement already satisfied: threadpoolctl>=2.0.0 in /opt/conda/lib/python3.9/site-packages (from scikit-learn>=1.0.1->darts) (3.5.0)\n",
      "Requirement already satisfied: slicer==0.0.8 in /opt/conda/lib/python3.9/site-packages (from shap>=0.40.0->darts) (0.0.8)\n",
      "Requirement already satisfied: cloudpickle in /opt/conda/lib/python3.9/site-packages (from shap>=0.40.0->darts) (2.2.1)\n",
      "Requirement already satisfied: coreforecast>=0.0.12 in /opt/conda/lib/python3.9/site-packages (from statsforecast>=1.4->darts) (0.0.12)\n",
      "Requirement already satisfied: fugue>=0.8.1 in /opt/conda/lib/python3.9/site-packages (from statsforecast>=1.4->darts) (0.9.1)\n",
      "Requirement already satisfied: utilsforecast>=0.1.4 in /opt/conda/lib/python3.9/site-packages (from statsforecast>=1.4->darts) (0.2.5)\n",
      "Requirement already satisfied: patsy>=0.5.6 in /opt/conda/lib/python3.9/site-packages (from statsmodels>=0.14.0->darts) (0.5.6)\n",
      "Requirement already satisfied: protobuf>=3.20 in /opt/conda/lib/python3.9/site-packages (from tensorboardX>=2.1->darts) (5.28.2)\n",
      "Requirement already satisfied: filelock in /opt/conda/lib/python3.9/site-packages (from torch>=1.8.0->darts) (3.16.1)\n",
      "Requirement already satisfied: sympy in /opt/conda/lib/python3.9/site-packages (from torch>=1.8.0->darts) (1.13.3)\n",
      "Requirement already satisfied: networkx in /opt/conda/lib/python3.9/site-packages (from torch>=1.8.0->darts) (3.2.1)\n",
      "Requirement already satisfied: jinja2 in /opt/conda/lib/python3.9/site-packages (from torch>=1.8.0->darts) (3.1.4)\n",
      "Requirement already satisfied: nvidia-cuda-nvrtc-cu12==12.1.105 in /opt/conda/lib/python3.9/site-packages (from torch>=1.8.0->darts) (12.1.105)\n",
      "Requirement already satisfied: nvidia-cuda-runtime-cu12==12.1.105 in /opt/conda/lib/python3.9/site-packages (from torch>=1.8.0->darts) (12.1.105)\n",
      "Requirement already satisfied: nvidia-cuda-cupti-cu12==12.1.105 in /opt/conda/lib/python3.9/site-packages (from torch>=1.8.0->darts) (12.1.105)\n",
      "Requirement already satisfied: nvidia-cudnn-cu12==9.1.0.70 in /opt/conda/lib/python3.9/site-packages (from torch>=1.8.0->darts) (9.1.0.70)\n",
      "Requirement already satisfied: nvidia-cublas-cu12==12.1.3.1 in /opt/conda/lib/python3.9/site-packages (from torch>=1.8.0->darts) (12.1.3.1)\n",
      "Requirement already satisfied: nvidia-cufft-cu12==11.0.2.54 in /opt/conda/lib/python3.9/site-packages (from torch>=1.8.0->darts) (11.0.2.54)\n",
      "Requirement already satisfied: nvidia-curand-cu12==10.3.2.106 in /opt/conda/lib/python3.9/site-packages (from torch>=1.8.0->darts) (10.3.2.106)\n",
      "Requirement already satisfied: nvidia-cusolver-cu12==11.4.5.107 in /opt/conda/lib/python3.9/site-packages (from torch>=1.8.0->darts) (11.4.5.107)\n",
      "Requirement already satisfied: nvidia-cusparse-cu12==12.1.0.106 in /opt/conda/lib/python3.9/site-packages (from torch>=1.8.0->darts) (12.1.0.106)\n",
      "Requirement already satisfied: nvidia-nccl-cu12==2.20.5 in /opt/conda/lib/python3.9/site-packages (from torch>=1.8.0->darts) (2.20.5)\n",
      "Requirement already satisfied: nvidia-nvtx-cu12==12.1.105 in /opt/conda/lib/python3.9/site-packages (from torch>=1.8.0->darts) (12.1.105)\n",
      "Requirement already satisfied: triton==3.0.0 in /opt/conda/lib/python3.9/site-packages (from torch>=1.8.0->darts) (3.0.0)\n",
      "Requirement already satisfied: nvidia-nvjitlink-cu12 in /opt/conda/lib/python3.9/site-packages (from nvidia-cusolver-cu12==11.4.5.107->torch>=1.8.0->darts) (12.6.77)\n",
      "Requirement already satisfied: aiohttp!=4.0.0a0,!=4.0.0a1 in /opt/conda/lib/python3.9/site-packages (from fsspec[http]>=2022.5.0->pytorch-lightning>=1.5.0->darts) (3.10.8)\n",
      "Requirement already satisfied: triad>=0.9.7 in /opt/conda/lib/python3.9/site-packages (from fugue>=0.8.1->statsforecast>=1.4->darts) (0.9.8)\n",
      "Requirement already satisfied: adagio>=0.2.4 in /opt/conda/lib/python3.9/site-packages (from fugue>=0.8.1->statsforecast>=1.4->darts) (0.2.6)\n",
      "Requirement already satisfied: zipp>=3.1.0 in /opt/conda/lib/python3.9/site-packages (from importlib-resources>=3.2.0->matplotlib>=3.3.0->darts) (3.19.2)\n",
      "Requirement already satisfied: llvmlite<0.44,>=0.43.0dev0 in /opt/conda/lib/python3.9/site-packages (from numba>=0.51->pyod>=0.9.5->darts) (0.43.0)\n",
      "Requirement already satisfied: six in /opt/conda/lib/python3.9/site-packages (from patsy>=0.5.6->statsmodels>=0.14.0->darts) (1.16.0)\n",
      "Requirement already satisfied: MarkupSafe>=2.0 in /opt/conda/lib/python3.9/site-packages (from jinja2->torch>=1.8.0->darts) (2.1.5)\n",
      "Requirement already satisfied: mpmath<1.4,>=1.1.0 in /opt/conda/lib/python3.9/site-packages (from sympy->torch>=1.8.0->darts) (1.3.0)\n",
      "Requirement already satisfied: aiohappyeyeballs>=2.3.0 in /opt/conda/lib/python3.9/site-packages (from aiohttp!=4.0.0a0,!=4.0.0a1->fsspec[http]>=2022.5.0->pytorch-lightning>=1.5.0->darts) (2.4.3)\n",
      "Requirement already satisfied: aiosignal>=1.1.2 in /opt/conda/lib/python3.9/site-packages (from aiohttp!=4.0.0a0,!=4.0.0a1->fsspec[http]>=2022.5.0->pytorch-lightning>=1.5.0->darts) (1.3.1)\n",
      "Requirement already satisfied: attrs>=17.3.0 in /opt/conda/lib/python3.9/site-packages (from aiohttp!=4.0.0a0,!=4.0.0a1->fsspec[http]>=2022.5.0->pytorch-lightning>=1.5.0->darts) (23.2.0)\n",
      "Requirement already satisfied: frozenlist>=1.1.1 in /opt/conda/lib/python3.9/site-packages (from aiohttp!=4.0.0a0,!=4.0.0a1->fsspec[http]>=2022.5.0->pytorch-lightning>=1.5.0->darts) (1.4.1)\n",
      "Requirement already satisfied: multidict<7.0,>=4.5 in /opt/conda/lib/python3.9/site-packages (from aiohttp!=4.0.0a0,!=4.0.0a1->fsspec[http]>=2022.5.0->pytorch-lightning>=1.5.0->darts) (6.1.0)\n",
      "Requirement already satisfied: yarl<2.0,>=1.12.0 in /opt/conda/lib/python3.9/site-packages (from aiohttp!=4.0.0a0,!=4.0.0a1->fsspec[http]>=2022.5.0->pytorch-lightning>=1.5.0->darts) (1.13.1)\n",
      "Requirement already satisfied: async-timeout<5.0,>=4.0 in /opt/conda/lib/python3.9/site-packages (from aiohttp!=4.0.0a0,!=4.0.0a1->fsspec[http]>=2022.5.0->pytorch-lightning>=1.5.0->darts) (4.0.3)\n",
      "Requirement already satisfied: pyarrow>=6.0.1 in /opt/conda/lib/python3.9/site-packages (from triad>=0.9.7->fugue>=0.8.1->statsforecast>=1.4->darts) (17.0.0)\n",
      "Requirement already satisfied: fs in /opt/conda/lib/python3.9/site-packages (from triad>=0.9.7->fugue>=0.8.1->statsforecast>=1.4->darts) (2.4.16)\n",
      "Requirement already satisfied: appdirs~=1.4.3 in /opt/conda/lib/python3.9/site-packages (from fs->triad>=0.9.7->fugue>=0.8.1->statsforecast>=1.4->darts) (1.4.4)\n",
      "Using cached statsforecast-1.7.8-cp39-cp39-manylinux_2_17_x86_64.manylinux2014_x86_64.whl (314 kB)\n",
      "Installing collected packages: statsforecast\n",
      "  Attempting uninstall: statsforecast\n",
      "    Found existing installation: statsforecast 0.6.0\n",
      "    Uninstalling statsforecast-0.6.0:\n",
      "      Successfully uninstalled statsforecast-0.6.0\n",
      "Successfully installed statsforecast-1.7.8\n",
      "Note: you may need to restart the kernel to use updated packages.\n"
     ]
    }
   ],
   "source": [
    "pip install darts"
   ]
  },
  {
   "cell_type": "code",
   "execution_count": null,
   "id": "f54851c4-4ff8-4fac-87a5-b49d75cf47bb",
   "metadata": {},
   "outputs": [],
   "source": [
    "pip install statsforecast==0.6.0\n"
   ]
  },
  {
   "cell_type": "code",
   "execution_count": null,
   "id": "33f1f70b-7b34-45c4-a515-f8210ea733a5",
   "metadata": {},
   "outputs": [],
   "source": [
    "pip install --upgrade pip"
   ]
  },
  {
   "cell_type": "code",
   "execution_count": null,
   "id": "973b5b0f-c619-4a11-9050-ddd6a900b9ce",
   "metadata": {},
   "outputs": [],
   "source": [
    "conda install -c conda-forge lightgbm"
   ]
  },
  {
   "cell_type": "code",
   "execution_count": null,
   "id": "ab0853be-dbf3-47be-813b-6135afb2242d",
   "metadata": {},
   "outputs": [],
   "source": [
    "import fosforml\n",
    "from fosforml.model_manager.snowflakesession import get_session\n",
    "my_session = get_session()"
   ]
  },
  {
   "cell_type": "code",
   "execution_count": null,
   "id": "bd3a63fc-a09e-4077-bbfa-e29c8c8d3c2b",
   "metadata": {},
   "outputs": [],
   "source": [
    "my_session.connection.database"
   ]
  },
  {
   "cell_type": "code",
   "execution_count": null,
   "id": "516f24b8-afc5-462f-b968-f7b0f5c87662",
   "metadata": {},
   "outputs": [],
   "source": [
    "my_session.connection.schema"
   ]
  },
  {
   "cell_type": "code",
   "execution_count": null,
   "id": "e9588a76-31eb-4957-8906-f1c1e0fb32c0",
   "metadata": {},
   "outputs": [],
   "source": [
    "table_name = \"ASSORTMENT_PLANNING.CPG_BRONZE.SALES_CLEAN\""
   ]
  },
  {
   "cell_type": "code",
   "execution_count": null,
   "id": "2559db41-e91e-487e-a8d2-4b98d75f515a",
   "metadata": {},
   "outputs": [],
   "source": [
    "sf_df = my_session.sql(\"select * from {}\".format(table_name))\n",
    "type(sf_df)\n",
    "df=sf_df.to_pandas()\n",
    "type(df)"
   ]
  },
  {
   "cell_type": "code",
   "execution_count": null,
   "id": "acdea69c-6151-41e3-a6ce-bd945c1845eb",
   "metadata": {},
   "outputs": [],
   "source": [
    "df.head(5)"
   ]
  },
  {
   "cell_type": "code",
   "execution_count": null,
   "id": "4b9be009-97f3-4201-8eba-6fd90343674c",
   "metadata": {},
   "outputs": [],
   "source": [
    "df.info()"
   ]
  },
  {
   "cell_type": "markdown",
   "id": "7dc7ab0e-cc1a-4df5-8280-d4379e539004",
   "metadata": {},
   "source": [
    "## Generate Additional Features"
   ]
  },
  {
   "cell_type": "code",
   "execution_count": null,
   "id": "cb8b3091-1ab8-4a09-b94e-10151d0fd4d0",
   "metadata": {},
   "outputs": [],
   "source": [
    "import pandas as pd\n",
    "\n",
    "def generate_features(df):\n",
    "    # Ensure the TRANS_DATE column is in datetime format\n",
    "    df['TRANS_DATE'] = pd.to_datetime(df['TRANS_DATE'])\n",
    "    \n",
    "    # Extract temporal features\n",
    "    df['year'] = df['TRANS_DATE'].dt.year\n",
    "    df['month'] = df['TRANS_DATE'].dt.month\n",
    "    df['day'] = df['TRANS_DATE'].dt.day\n",
    "    df['dayofweek'] = df['TRANS_DATE'].dt.dayofweek\n",
    "    df['quarter'] = df['TRANS_DATE'].dt.quarter\n",
    "    df['is_month_start'] = df['TRANS_DATE'].dt.is_month_start\n",
    "    df['is_month_end'] = df['TRANS_DATE'].dt.is_month_end\n",
    "    \n",
    "    # Create UNIT_PTR feature\n",
    "    df['UNIT_PTR'] = df['SALES_PTR_VALUE'] / df['SALES_UNITS']\n",
    "    \n",
    "    return df"
   ]
  },
  {
   "cell_type": "code",
   "execution_count": null,
   "id": "bbf4e968-e977-4f99-9c7d-b618e3c81e4e",
   "metadata": {},
   "outputs": [],
   "source": [
    "df = generate_features(df)"
   ]
  },
  {
   "cell_type": "code",
   "execution_count": null,
   "id": "74149cd1-4f7c-4712-97b7-0ffcec68e9eb",
   "metadata": {},
   "outputs": [],
   "source": [
    "df.head()"
   ]
  },
  {
   "cell_type": "code",
   "execution_count": null,
   "id": "bc091166-a0bf-4972-be8a-06acaa49b415",
   "metadata": {},
   "outputs": [],
   "source": [
    "df = df.sort_values(by='TRANS_DATE')"
   ]
  },
  {
   "cell_type": "code",
   "execution_count": null,
   "id": "4c79dba7-1dc1-476b-840e-b0d01f25e2f8",
   "metadata": {},
   "outputs": [],
   "source": [
    "# Convert all column names to uppercase\n",
    "df.columns = [col.upper() for col in df.columns]"
   ]
  },
  {
   "cell_type": "code",
   "execution_count": null,
   "id": "584f890e-1e2b-4956-bf8e-61154950da74",
   "metadata": {},
   "outputs": [],
   "source": [
    "df.info()"
   ]
  },
  {
   "cell_type": "code",
   "execution_count": null,
   "id": "80144ea0-2260-4a64-867e-3c1116118a64",
   "metadata": {},
   "outputs": [],
   "source": [
    "df_sorted = df.sort_values(by=['OUTLET_CODE', 'PRODUCT_CODE', 'TRANS_DATE'])"
   ]
  },
  {
   "cell_type": "code",
   "execution_count": null,
   "id": "7dc89dc5-2911-41bc-abc6-9bfb30815ff6",
   "metadata": {},
   "outputs": [],
   "source": [
    "pd.set_option('display.max_columns', None)"
   ]
  },
  {
   "cell_type": "code",
   "execution_count": null,
   "id": "e1785231-0520-43de-9362-20743b96d2b3",
   "metadata": {},
   "outputs": [],
   "source": [
    "# List of columns in the desired order\n",
    "columns_order = ['OUTLET_CODE', 'PRODUCT_CODE', 'TRANS_DATE', 'UNIT_PTR'] + [col for col in df_sorted.columns if col not in ['OUTLET_CODE', 'PRODUCT_CODE']]\n",
    "\n",
    "# Reorder the DataFrame columns\n",
    "df_sorted = df_sorted[columns_order]"
   ]
  },
  {
   "cell_type": "code",
   "execution_count": null,
   "id": "8bb8f698-9816-4284-b5e8-241f6dafa3c2",
   "metadata": {},
   "outputs": [],
   "source": [
    "df_sorted['FREQUENCY'] = df_sorted.groupby(['OUTLET_CODE', 'PRODUCT_CODE']).cumcount() + 1"
   ]
  },
  {
   "cell_type": "code",
   "execution_count": null,
   "id": "2a858e9d-db57-4ac7-a22c-76cefacafaef",
   "metadata": {},
   "outputs": [],
   "source": [
    "df_sorted.head()"
   ]
  },
  {
   "cell_type": "markdown",
   "id": "4e88a6e3-4333-485c-8cf8-2dec775ec590",
   "metadata": {},
   "source": [
    "Split the dataset into test and train"
   ]
  },
  {
   "cell_type": "markdown",
   "id": "e1d560d1-1eee-4527-b73a-95adbe1b1030",
   "metadata": {},
   "source": [
    "K means clustering of OUTLET_CODES"
   ]
  },
  {
   "cell_type": "code",
   "execution_count": null,
   "id": "bc13eeb9-868f-45ae-ba79-87308a36e394",
   "metadata": {},
   "outputs": [],
   "source": [
    "# #Label Encoding\n",
    "\n",
    "# import pandas as pd\n",
    "# from sklearn.preprocessing import LabelEncoder\n",
    "\n",
    "# # Initialize the label encoder\n",
    "# label_encoder = LabelEncoder()\n",
    "\n",
    "# # List of columns to encode\n",
    "# columns_to_encode = ['PRODUCT_CODE', 'CATEGORY', 'SUBCATEGORY', 'BRAND']\n",
    "\n",
    "# # Apply label encoding to each column\n",
    "# for column in columns_to_encode:\n",
    "#     train_data[column + '_encoded'] = label_encoder.fit_transform(train_data[column])\n",
    "\n",
    "# # Convert all column names to uppercase and replace spaces with underscores\n",
    "# train_data.columns = train_data.columns.str.upper().str.replace(' ', '_')"
   ]
  },
  {
   "cell_type": "code",
   "execution_count": null,
   "id": "c0a49ff5-424e-4d87-bff7-505540b2e7bd",
   "metadata": {},
   "outputs": [],
   "source": [
    "import pandas as pd\n",
    "from sklearn.preprocessing import LabelEncoder\n",
    "\n",
    "def label_encode_dataframe(df, columns_to_encode):\n",
    "    # Initialize the label encoder\n",
    "    label_encoder = LabelEncoder()\n",
    "    \n",
    "    # Apply label encoding to each column\n",
    "    for column in columns_to_encode:\n",
    "        df[column + '_encoded'] = label_encoder.fit_transform(df[column])\n",
    "    \n",
    "    # Convert all column names to uppercase and replace spaces with underscores\n",
    "    df.columns = df.columns.str.upper().str.replace(' ', '_')\n",
    "    \n",
    "    return df"
   ]
  },
  {
   "cell_type": "code",
   "execution_count": null,
   "id": "3dda46ec-0a49-4fae-a746-f59cfc759241",
   "metadata": {},
   "outputs": [],
   "source": [
    "columns_to_encode = ['PRODUCT_CODE', 'CATEGORY', 'SUBCATEGORY', 'BRAND']\n",
    "df_sorted = label_encode_dataframe(df_sorted, columns_to_encode)"
   ]
  },
  {
   "cell_type": "code",
   "execution_count": null,
   "id": "d76ca595-2f65-4b51-ade5-11a9120c6112",
   "metadata": {},
   "outputs": [],
   "source": [
    "df_sorted.info()"
   ]
  },
  {
   "cell_type": "code",
   "execution_count": null,
   "id": "e776c0fe-ec87-4c7e-8873-3564a4651910",
   "metadata": {},
   "outputs": [],
   "source": [
    "# Aggregation dictionary\n",
    "aggregation_dict = {\n",
    "    'SALES_UNITS': 'mean',\n",
    "    'UNIT_PTR': 'mean',\n",
    "    'FREQUENCY': 'count',\n",
    "    'PRODUCT_CODE_ENCODED': 'mean'\n",
    "}\n",
    "\n",
    "# Aggregate data by OUTLET_CODE\n",
    "aggregated_df = df_sorted.groupby('OUTLET_CODE').agg(aggregation_dict).reset_index()"
   ]
  },
  {
   "cell_type": "code",
   "execution_count": null,
   "id": "1b32de37-b545-4731-b1a4-fd93c26206cf",
   "metadata": {},
   "outputs": [],
   "source": [
    "# Select features for clustering\n",
    "features = ['SALES_UNITS', 'UNIT_PTR', 'FREQUENCY', 'PRODUCT_CODE_ENCODED']"
   ]
  },
  {
   "cell_type": "code",
   "execution_count": null,
   "id": "79aa312b-e2a2-47e1-ba29-8bb40f00a903",
   "metadata": {},
   "outputs": [],
   "source": [
    "from sklearn.preprocessing import StandardScaler\n",
    "from sklearn.compose import ColumnTransformer\n",
    "from sklearn.pipeline import Pipeline\n",
    "from sklearn.cluster import KMeans\n",
    "from sklearn.metrics import silhouette_score\n",
    "import matplotlib.pyplot as plt\n",
    "\n",
    "# Define preprocessing steps\n",
    "preprocessor = ColumnTransformer(\n",
    "    transformers=[\n",
    "        ('num', StandardScaler(), ['SALES_UNITS', 'UNIT_PTR', 'FREQUENCY', 'PRODUCT_CODE_ENCODED']),\n",
    "        # No need to preprocess category columns as they are already one-hot encoded\n",
    "    ],\n",
    "    remainder='passthrough'  # Keep the one-hot encoded columns as they are\n",
    ")"
   ]
  },
  {
   "cell_type": "code",
   "execution_count": null,
   "id": "cfe8e4c3-7f77-44b9-91fa-6380bc5bb461",
   "metadata": {},
   "outputs": [],
   "source": [
    "df_sorted = preprocessor.fit_transform(aggregated_df[features])"
   ]
  },
  {
   "cell_type": "code",
   "execution_count": null,
   "id": "fd26bd58-2c07-4993-9b96-0e9a68326f0a",
   "metadata": {},
   "outputs": [],
   "source": [
    "# Calculate silhouette scores for different numbers of clusters\n",
    "silhouette_scores = []\n",
    "k_range = range(2, 11)  # Silhouette score is not defined for k=1\n",
    "for k in k_range:\n",
    "    kmeans = KMeans(n_clusters=k, random_state=42)\n",
    "    cluster_labels = kmeans.fit_predict(df_sorted)\n",
    "    silhouette_avg = silhouette_score(df_sorted, cluster_labels)\n",
    "    silhouette_scores.append(silhouette_avg)\n",
    "\n",
    "# Plot the silhouette scores\n",
    "plt.figure(figsize=(10, 6))\n",
    "plt.plot(k_range, silhouette_scores, marker='o')\n",
    "plt.xlabel('Number of clusters')\n",
    "plt.ylabel('Silhouette Score')\n",
    "plt.title('Silhouette Score For Optimal k')\n",
    "plt.show()"
   ]
  },
  {
   "cell_type": "code",
   "execution_count": null,
   "id": "7ee29378-bc26-485f-beaa-8ac071228a64",
   "metadata": {},
   "outputs": [],
   "source": [
    "# Apply K-Means clustering with the chosen number of clusters \n",
    "optimal_k = k_range[silhouette_scores.index(max(silhouette_scores))]  # Choose the k with the highest silhouette score\n",
    "kmeans = KMeans(n_clusters=optimal_k, random_state=42)\n",
    "aggregated_df['CLUSTER'] = kmeans.fit_predict(train_data_preprocessed)\n",
    "\n",
    "# Display the first few rows to verify\n",
    "print(aggregated_df.head())"
   ]
  },
  {
   "cell_type": "code",
   "execution_count": null,
   "id": "f09811ca-f9b4-4a2d-b8ab-924dd44adedb",
   "metadata": {},
   "outputs": [],
   "source": [
    "aggregated_df.to_csv('outlet_to_cluster_mapping.csv', index=False)"
   ]
  },
  {
   "cell_type": "code",
   "execution_count": null,
   "id": "4388b1d6-b4ad-4a41-a904-770ffac1d707",
   "metadata": {},
   "outputs": [],
   "source": [
    "import matplotlib.pyplot as plt\n",
    "import seaborn as sns\n",
    "\n",
    "# Example visualization Clusters of SALES_UNITS VS SALES_VALUE\n",
    "sns.scatterplot(x='SALES_UNITS', y='FREQUENCY', hue='CLUSTER', data=aggregated_df)\n",
    "plt.title('Clusters of OUTLET_CODE')\n",
    "plt.show()"
   ]
  },
  {
   "cell_type": "code",
   "execution_count": null,
   "id": "cb0123a7-9b2d-4d99-81cb-8799ef67c454",
   "metadata": {},
   "outputs": [],
   "source": [
    "df_sorted=df_sorted.merge(aggregated_df[['OUTLET_CODE', 'CLUSTER']], on='OUTLET_CODE', how='left')"
   ]
  },
  {
   "cell_type": "code",
   "execution_count": null,
   "id": "f66d55d6-b624-4124-af27-3e4d4da20920",
   "metadata": {},
   "outputs": [],
   "source": [
    "import pandas as pd\n",
    "from sklearn.model_selection import train_test_split\n",
    "from lightgbm import LGBMRegressor\n",
    "from sklearn.metrics import mean_squared_error, r2_score\n",
    "from darts import TimeSeries\n",
    "from darts import RegressionModel\n",
    "from darts.models import ExponentialSmoothing\n",
    "from darts.utils.missing_values import fill_missing_values\n",
    "from sklearn.ensemble import RandomForestRegressor\n",
    "\n",
    "# Create lagged columns within each group of OUTLET_CODE and PRODUCT_CODE\n",
    "df_sorted['SALES_UNIT_LAG_1'] = df_sorted.groupby(['OUTLET_CODE', 'PRODUCT_CODE'])['SALES_UNITS'].shift(1)\n",
    "df_sorted['SALES_UNIT_LAG_2'] = df_sorted.groupby(['OUTLET_CODE', 'PRODUCT_CODE'])['SALES_UNITS'].shift(2)\n",
    "df_sorted['SALES_UNIT_LAG_3'] = df_sorted.groupby(['OUTLET_CODE', 'PRODUCT_CODE'])['SALES_UNITS'].shift(3)\n",
    "\n",
    "df_sorted = df_sorted.dropna()\n",
    "\n",
    "# Define features and target\n",
    "features = [\n",
    "    'YEAR', 'MONTH', 'DAY', 'DAYOFWEEK', 'QUARTER',\n",
    "    'PRODUCT_CODE_ENCODED', 'CATEGORY_ENCODED', 'SUBCATEGORY_ENCODED', 'BRAND_ENCODED',\n",
    "    'CLUSTER', 'UNIT_PTR', 'SALES_UNIT_LAG_1', 'SALES_UNIT_LAG_2', 'SALES_UNIT_LAG_3'\n",
    "]\n",
    "target = 'SALES_UNITS'\n",
    "\n",
    "# Convert pandas timeseries dataframe into darts timeseries object\n",
    "series = TimeSeries.from_group_dataframe(df_sorted, group_cols = ['OUTLET_CODE','PRODUCT_CODE'], time_col='TRANS_DATE', value_cols=target)\n",
    "\n",
    "feature_series = [TimeSeries.from_group_dataframe(df_sorted, group_cols = ['OUTLET_CODE','PRODUCT_CODE'], time_col='TRANS_DATE', value_cols=feature) for feature in features]\n",
    "\n",
    "# # Create Timeseries object for lag features\n",
    "# lag_1_series = Time.from_group_dataframe(df_sorted, group_cols = ['OUTLET_CODE','PRODUCT_CODE'], time_col='TRANS_DATE', value_cols='SALES_UNIT_LAG_1')\n",
    "# lag_2_series = Time.from_group_dataframe(df_sorted, group_cols = ['OUTLET_CODE','PRODUCT_CODE'], time_col='TRANS_DATE', value_cols='SALES_UNIT_LAG_2')\n",
    "# lag_3_series = Time.from_group_dataframe(df_sorted, group_cols = ['OUTLET_CODE','PRODUCT_CODE'], time_col='TRANS_DATE', value_cols='SALES_UNIT_LAG_3')\n",
    "\n",
    "# # Stack the original series with lagged features\n",
    "# multi_series = series.stack([lag_1_series, lag_2_series, lag_3_series])\n",
    "\n",
    "# Combine the target series with the feature series\n",
    "combined_series = series.stack(*feature_series)\n",
    "\n",
    "# Split the data\n",
    "train_data = df_sorted[df_sorted['MNTH_CODE'] != 202408]\n",
    "test_data = df_sorted[df_sorted['MNTH_CODE'] == 202408]\n",
    "\n",
    "model=ExponentialSmoothing()\n",
    "model.fit(train_data)\n",
    "\n",
    "forecast = model.predict(len(test_data))\n",
    "\n",
    "forecast.head(10)\n",
    "\n",
    "# Evaluate the model\n",
    "mse = mean_squared_error(y_test, y_pred)\n",
    "r2 = r2_score(y_test, y_pred)\n",
    "print(f\"Mean Squared Error: {mse}\")\n",
    "print(f\"R^2 Score: {r2}\")"
   ]
  },
  {
   "cell_type": "code",
   "execution_count": null,
   "id": "57d8dc88-904a-4649-8638-7bb3a9963ba8",
   "metadata": {},
   "outputs": [],
   "source": [
    "# train_data.info()"
   ]
  },
  {
   "cell_type": "code",
   "execution_count": null,
   "id": "6a3445a7-eef9-4047-b438-0a954275407e",
   "metadata": {},
   "outputs": [],
   "source": [
    "# import pandas as pd\n",
    "# from darts import TimeSeries\n",
    "# from darts.models import LightGBMModel\n",
    "# from darts.dataprocessing.transformers import Scaler\n",
    "# from darts.metrics import mape\n",
    "\n",
    "# # Define features and target\n",
    "# features = [\n",
    "#     'YEAR', 'MONTH', 'DAY', 'DAYOFWEEK', 'QUARTER',\n",
    "#     'PRODUCT_CODE_ENCODED', 'CLUSTER', 'UNIT_PTR'\n",
    "# ]\n",
    "# target = 'SALES_UNITS'\n",
    "\n",
    "# # Create a TimeSeries object for the target variable\n",
    "# series = TimeSeries.from_group_dataframe(train_data, group_cols = ['OUTLET_CODE','PRODUCT_CODE'], time_col='TRANS_DATE', value_cols=target)\n",
    "\n",
    "# # Create TimeSeries objects for the features\n",
    "# feature_series = [TimeSeries.from_group_dataframe(train_data, group_cols = ['OUTLET_CODE','PRODUCT_CODE'], time_col='TRANS_DATE', value_cols=feature) for feature in features]\n",
    "\n",
    "# # Combine the target series with the feature series\n",
    "# combined_series = series.stack(*feature_series)\n",
    "\n",
    "# # Do the above 3 steps for train dataset\n",
    "# series_test = TimeSeries.from_group_dataframe(test_data, group_cols = ['OUTLET_CODE','PRODUCT_CODE'], time_col='TRANS_DATE', value_cols=target)\n",
    "# feature_series_test = [TimeSeries.from_group_dataframe(test_data, group_cols = ['OUTLET_CODE','PRODUCT_CODE'], time_col='TRANS_DATE', value_cols=feature) for feature in features]\n",
    "# combined_series_test = series_test.stack(*feature_series_test)\n",
    "\n",
    "# # Scale the data\n",
    "# scaler = Scaler()\n",
    "# scaled_series = scaler.fit_transform(combined_series)\n",
    "# scaled_series_test = scaler.fit_transform(combined_series_test)\n",
    "\n",
    "# # Initialize and train the LightGBMModel\n",
    "# model = LightGBMModel(lags=3)\n",
    "# model.fit(scaled_series)\n",
    "\n",
    "# # Make predictions\n",
    "# pred = model.predict(len(scaled_series_test))\n",
    "\n",
    "# # Inverse transform the predictions\n",
    "# pred = scaler.inverse_transform(pred)\n",
    "\n",
    "# # Evaluate the model\n",
    "# print(f\"MAPE: {mape(scaled_series_test, pred)}\")\n",
    "\n",
    "# # Plot the results\n",
    "# series.plot(label='actual')\n",
    "# pred.plot(label='forecast')"
   ]
  },
  {
   "cell_type": "code",
   "execution_count": null,
   "id": "b47a0a09-ed51-4da9-947d-1a5d2df12071",
   "metadata": {},
   "outputs": [],
   "source": [
    "# import pandas as pd\n",
    "# from darts import TimeSeries\n",
    "# from darts.models import LightGBMModel\n",
    "# from darts.dataprocessing.transformers import Scaler\n",
    "# from darts.metrics import mape\n",
    "\n",
    "# # Define features and target\n",
    "# features = [\n",
    "#     'YEAR', 'MONTH', 'DAY', 'DAYOFWEEK', 'QUARTER',\n",
    "#     'PRODUCT_CODE_ENCODED', 'CLUSTER', 'UNIT_PTR'\n",
    "# ]\n",
    "# target = 'SALES_UNITS'\n",
    "\n",
    "# # Create a TimeSeries object for the target variable\n",
    "# series = TimeSeries.from_group_dataframe(train_data, group_cols = ['OUTLET_CODE','PRODUCT_CODE'], time_col='TRANS_DATE', value_cols=target)\n",
    "\n",
    "# # Create TimeSeries objects for the features\n",
    "# feature_series = [TimeSeries.from_group_dataframe(train_data, group_cols = ['OUTLET_CODE','PRODUCT_CODE'], time_col='TRANS_DATE', value_cols=feature) for feature in features]\n",
    "\n",
    "# # # Combine the target series with the feature series\n",
    "# # combined_series = series.stack(*feature_series)\n",
    "\n",
    "# # Do the above 3 steps for train dataset\n",
    "# series_test = TimeSeries.from_group_dataframe(test_data, group_cols = ['OUTLET_CODE','PRODUCT_CODE'], time_col='TRANS_DATE', value_cols=target)\n",
    "# feature_series_test = [TimeSeries.from_group_dataframe(test_data, group_cols = ['OUTLET_CODE','PRODUCT_CODE'], time_col='TRANS_DATE', value_cols=feature) for feature in features]\n",
    "\n",
    "# # combined_series_test = series_test.stack(*feature_series_test)\n",
    "\n",
    "# # # Scale the data\n",
    "# # scaler = Scaler()\n",
    "# # scaled_series = scaler.fit_transform(series)\n",
    "# # scaled_series_test = scaler.fit_transform(series_test)\n",
    "# # scaled_feature_series = scaler.fit_transform(feature_series)\n",
    "# # scaled_feature_series_test = scaler.fit_transform(feature_series_test)\n",
    "\n",
    "# model = RegressionModel(\n",
    "#                         lags[-1,-2,-3],\n",
    "#     lags_features=[0], model=NBEATSModel()\n",
    "# )\n",
    "\n",
    "# model.fit(series,feature_series)\n",
    "# y_pred = model.predict(series_test,feature_series_test)\n",
    "\n",
    "# # Initialize and train the LightGBMModel\n",
    "# model = LightGBMModel(lags=3)\n",
    "# model.fit(scaled_series)\n",
    "\n",
    "# # Make predictions\n",
    "# pred = model.predict(len(scaled_series_test))\n",
    "\n",
    "# # Inverse transform the predictions\n",
    "# pred = scaler.inverse_transform(pred)\n",
    "\n",
    "# # Evaluate the model\n",
    "# print(f\"MAPE: {mape(scaled_series_test, pred)}\")\n",
    "\n",
    "# # Plot the results\n",
    "# series.plot(label='actual')\n",
    "# pred.plot(label='forecast')"
   ]
  },
  {
   "cell_type": "code",
   "execution_count": null,
   "id": "8386423b-55e2-41e9-ae10-5b203db18108",
   "metadata": {},
   "outputs": [],
   "source": []
  }
 ],
 "metadata": {
  "kernelspec": {
   "display_name": "Python 3 (ipykernel)",
   "language": "python",
   "name": "python3"
  },
  "language_info": {
   "codemirror_mode": {
    "name": "ipython",
    "version": 3
   },
   "file_extension": ".py",
   "mimetype": "text/x-python",
   "name": "python",
   "nbconvert_exporter": "python",
   "pygments_lexer": "ipython3",
   "version": "3.9.19"
  }
 },
 "nbformat": 4,
 "nbformat_minor": 5
}
