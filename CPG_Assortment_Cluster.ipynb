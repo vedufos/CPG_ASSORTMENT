{
 "cells": [
  {
   "cell_type": "code",
   "execution_count": null,
   "id": "677b2337-903f-4f14-ab35-4af498b9a810",
   "metadata": {},
   "outputs": [],
   "source": [
    "import pandas as pd\n",
    "import numpy as np\n",
    "import fosforml\n",
    "from fosforml.model_manager.snowflakesession import get_session\n",
    "my_session = get_session()"
   ]
  },
  {
   "cell_type": "code",
   "execution_count": null,
   "id": "139a81c1-82a7-4d42-94a3-1f0c69682396",
   "metadata": {},
   "outputs": [],
   "source": [
    "import seaborn as sns\n",
    "import matplotlib.pyplot as plt \n",
    "plt.style.use('fivethirtyeight')"
   ]
  },
  {
   "cell_type": "code",
   "execution_count": null,
   "id": "009c979e-e3e0-4051-89e4-3f66e07e868b",
   "metadata": {},
   "outputs": [],
   "source": [
    "my_session.connection.database"
   ]
  },
  {
   "cell_type": "code",
   "execution_count": null,
   "id": "71b5909a-8fd5-471b-a17a-c7f68fecc26a",
   "metadata": {},
   "outputs": [],
   "source": [
    "'ASSORTMENT_PLANNING'"
   ]
  },
  {
   "cell_type": "code",
   "execution_count": null,
   "id": "87cdaaf0-f19d-4832-874f-453594d3d586",
   "metadata": {},
   "outputs": [],
   "source": [
    "my_session.connection.schema"
   ]
  },
  {
   "cell_type": "code",
   "execution_count": null,
   "id": "73b41b6d-131f-43b0-8ab6-51a0cf2ba0a2",
   "metadata": {},
   "outputs": [],
   "source": [
    "'CPG_BRONZE'"
   ]
  },
  {
   "cell_type": "code",
   "execution_count": null,
   "id": "cb53db62-31f0-479e-aad5-76a6dcd12cd1",
   "metadata": {},
   "outputs": [],
   "source": [
    "table_name = \"ASSORTMENT_PLANNING.CPG_BRONZE.SALES_CLEAN\""
   ]
  },
  {
   "cell_type": "code",
   "execution_count": null,
   "id": "8b2e023b-e645-4bc9-a081-ff371e0c34c4",
   "metadata": {},
   "outputs": [],
   "source": [
    "sf_df = my_session.sql(\"select * from {}\".format(table_name))"
   ]
  },
  {
   "cell_type": "code",
   "execution_count": null,
   "id": "4cb9a164-91e7-45bf-9883-fb6c9d066904",
   "metadata": {},
   "outputs": [],
   "source": [
    "type(sf_df)"
   ]
  },
  {
   "cell_type": "code",
   "execution_count": null,
   "id": "a30aed4a-4175-4182-8b31-ffe53aeb76fc",
   "metadata": {},
   "outputs": [],
   "source": [
    "snowflake.snowpark.dataframe.DataFrame"
   ]
  },
  {
   "cell_type": "code",
   "execution_count": 1,
   "id": "4dd9386d-198e-4ad4-a7a0-591a80e77cd6",
   "metadata": {},
   "outputs": [
    {
     "ename": "NameError",
     "evalue": "name 'sf_df' is not defined",
     "output_type": "error",
     "traceback": [
      "\u001b[0;31m---------------------------------------------------------------------------\u001b[0m",
      "\u001b[0;31mNameError\u001b[0m                                 Traceback (most recent call last)",
      "Cell \u001b[0;32mIn[1], line 1\u001b[0m\n\u001b[0;32m----> 1\u001b[0m df\u001b[38;5;241m=\u001b[39m\u001b[43msf_df\u001b[49m\u001b[38;5;241m.\u001b[39mto_pandas()\n",
      "\u001b[0;31mNameError\u001b[0m: name 'sf_df' is not defined"
     ]
    }
   ],
   "source": [
    "df=sf_df.to_pandas()"
   ]
  },
  {
   "cell_type": "code",
   "execution_count": null,
   "id": "df9b6b22-ff88-4f2c-bac5-e4fcb5f9e7d2",
   "metadata": {},
   "outputs": [],
   "source": []
  }
 ],
 "metadata": {
  "kernelspec": {
   "display_name": "Python 3 (ipykernel)",
   "language": "python",
   "name": "python3"
  },
  "language_info": {
   "codemirror_mode": {
    "name": "ipython",
    "version": 3
   },
   "file_extension": ".py",
   "mimetype": "text/x-python",
   "name": "python",
   "nbconvert_exporter": "python",
   "pygments_lexer": "ipython3",
   "version": "3.9.19"
  }
 },
 "nbformat": 4,
 "nbformat_minor": 5
}
