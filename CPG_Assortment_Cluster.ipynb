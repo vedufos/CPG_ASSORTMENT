{
 "cells": [
  {
   "cell_type": "code",
   "execution_count": null,
   "id": "677b2337-903f-4f14-ab35-4af498b9a810",
   "metadata": {},
   "outputs": [],
   "source": [
    "import pandas as pd\n",
    "import numpy as np\n",
    "import fosforml\n",
    "from fosforml.model_manager.snowflakesession import get_session\n",
    "my_session = get_session()"
   ]
  },
  {
   "cell_type": "code",
   "execution_count": null,
   "id": "139a81c1-82a7-4d42-94a3-1f0c69682396",
   "metadata": {},
   "outputs": [],
   "source": [
    "import seaborn as sns\n",
    "import matplotlib.pyplot as plt \n",
    "plt.style.use('fivethirtyeight')"
   ]
  },
  {
   "cell_type": "code",
   "execution_count": null,
   "id": "009c979e-e3e0-4051-89e4-3f66e07e868b",
   "metadata": {},
   "outputs": [],
   "source": [
    "my_session.connection.database"
   ]
  },
  {
   "cell_type": "code",
   "execution_count": null,
   "id": "71b5909a-8fd5-471b-a17a-c7f68fecc26a",
   "metadata": {},
   "outputs": [],
   "source": [
    "'ASSORTMENT_PLANNING'"
   ]
  },
  {
   "cell_type": "code",
   "execution_count": null,
   "id": "87cdaaf0-f19d-4832-874f-453594d3d586",
   "metadata": {},
   "outputs": [],
   "source": [
    "my_session.connection.schema"
   ]
  },
  {
   "cell_type": "code",
   "execution_count": null,
   "id": "73b41b6d-131f-43b0-8ab6-51a0cf2ba0a2",
   "metadata": {},
   "outputs": [],
   "source": [
    "'CPG_BRONZE'"
   ]
  },
  {
   "cell_type": "code",
   "execution_count": null,
   "id": "cb53db62-31f0-479e-aad5-76a6dcd12cd1",
   "metadata": {},
   "outputs": [],
   "source": [
    "table_name = \"ASSORTMENT_PLANNING.CPG_BRONZE.SALES_CLEAN\""
   ]
  }
 ],
 "metadata": {
  "kernelspec": {
   "display_name": "Python 3 (ipykernel)",
   "language": "python",
   "name": "python3"
  },
  "language_info": {
   "codemirror_mode": {
    "name": "ipython",
    "version": 3
   },
   "file_extension": ".py",
   "mimetype": "text/x-python",
   "name": "python",
   "nbconvert_exporter": "python",
   "pygments_lexer": "ipython3",
   "version": "3.9.19"
  }
 },
 "nbformat": 4,
 "nbformat_minor": 5
}
