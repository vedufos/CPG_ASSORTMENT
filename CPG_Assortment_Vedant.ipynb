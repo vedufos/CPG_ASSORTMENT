{
 "cells": [
  {
   "cell_type": "code",
   "execution_count": 1,
   "id": "c80a3988-8d3a-43a4-96b0-6aa5be71cb0e",
   "metadata": {
    "scrolled": true
   },
   "outputs": [
    {
     "name": "stdout",
     "output_type": "stream",
     "text": [
      "Requirement already up-to-date: fosforml in /opt/conda/lib/python3.9/site-packages (1.1.8)\n",
      "Requirement already satisfied, skipping upgrade: scikit-learn==1.3.2 in /opt/conda/lib/python3.9/site-packages (from fosforml) (1.3.2)\n",
      "Requirement already satisfied, skipping upgrade: snowflake-ml-python==1.5.0; python_version <= \"3.9\" in /opt/conda/lib/python3.9/site-packages (from fosforml) (1.5.0)\n",
      "Requirement already satisfied, skipping upgrade: cloudpickle==2.2.1 in /opt/conda/lib/python3.9/site-packages (from fosforml) (2.2.1)\n",
      "Requirement already satisfied, skipping upgrade: threadpoolctl>=2.0.0 in /opt/conda/lib/python3.9/site-packages (from scikit-learn==1.3.2->fosforml) (3.5.0)\n",
      "Requirement already satisfied, skipping upgrade: scipy>=1.5.0 in /opt/conda/lib/python3.9/site-packages (from scikit-learn==1.3.2->fosforml) (1.13.1)\n",
      "Requirement already satisfied, skipping upgrade: numpy<2.0,>=1.17.3 in /opt/conda/lib/python3.9/site-packages (from scikit-learn==1.3.2->fosforml) (1.26.4)\n",
      "Requirement already satisfied, skipping upgrade: joblib>=1.1.1 in /opt/conda/lib/python3.9/site-packages (from scikit-learn==1.3.2->fosforml) (1.4.2)\n",
      "Requirement already satisfied, skipping upgrade: absl-py<2,>=0.15 in /opt/conda/lib/python3.9/site-packages (from snowflake-ml-python==1.5.0; python_version <= \"3.9\"->fosforml) (1.4.0)\n",
      "Requirement already satisfied, skipping upgrade: pytimeparse<2,>=1.1.8 in /opt/conda/lib/python3.9/site-packages (from snowflake-ml-python==1.5.0; python_version <= \"3.9\"->fosforml) (1.1.8)\n",
      "Requirement already satisfied, skipping upgrade: cachetools<6,>=3.1.1 in /opt/conda/lib/python3.9/site-packages (from snowflake-ml-python==1.5.0; python_version <= \"3.9\"->fosforml) (5.5.0)\n",
      "Requirement already satisfied, skipping upgrade: snowflake-snowpark-python!=1.12.0,<2,>=1.11.1 in /opt/conda/lib/python3.9/site-packages (from snowflake-ml-python==1.5.0; python_version <= \"3.9\"->fosforml) (1.22.1)\n",
      "Requirement already satisfied, skipping upgrade: pyyaml<7,>=6.0 in /opt/conda/lib/python3.9/site-packages (from snowflake-ml-python==1.5.0; python_version <= \"3.9\"->fosforml) (6.0.1)\n",
      "Requirement already satisfied, skipping upgrade: typing-extensions<5,>=4.1.0 in /opt/conda/lib/python3.9/site-packages (from snowflake-ml-python==1.5.0; python_version <= \"3.9\"->fosforml) (4.12.2)\n",
      "Requirement already satisfied, skipping upgrade: xgboost<2,>=1.7.3 in /opt/conda/lib/python3.9/site-packages (from snowflake-ml-python==1.5.0; python_version <= \"3.9\"->fosforml) (1.7.6)\n",
      "Requirement already satisfied, skipping upgrade: catboost<1.3,>=1.2.0 in /opt/conda/lib/python3.9/site-packages (from snowflake-ml-python==1.5.0; python_version <= \"3.9\"->fosforml) (1.2.7)\n",
      "Requirement already satisfied, skipping upgrade: packaging<24,>=20.9 in /opt/conda/lib/python3.9/site-packages (from snowflake-ml-python==1.5.0; python_version <= \"3.9\"->fosforml) (23.2)\n",
      "Requirement already satisfied, skipping upgrade: sqlparse<1,>=0.4 in /opt/conda/lib/python3.9/site-packages (from snowflake-ml-python==1.5.0; python_version <= \"3.9\"->fosforml) (0.5.1)\n",
      "Requirement already satisfied, skipping upgrade: snowflake-connector-python[pandas]<4,>=3.5.0 in /opt/conda/lib/python3.9/site-packages (from snowflake-ml-python==1.5.0; python_version <= \"3.9\"->fosforml) (3.12.2)\n",
      "Requirement already satisfied, skipping upgrade: fsspec[http]<2024,>=2022.11 in /opt/conda/lib/python3.9/site-packages (from snowflake-ml-python==1.5.0; python_version <= \"3.9\"->fosforml) (2023.12.2)\n",
      "Requirement already satisfied, skipping upgrade: retrying<2,>=1.3.3 in /opt/conda/lib/python3.9/site-packages (from snowflake-ml-python==1.5.0; python_version <= \"3.9\"->fosforml) (1.3.4)\n",
      "Requirement already satisfied, skipping upgrade: anyio<4,>=3.5.0 in /opt/conda/lib/python3.9/site-packages (from snowflake-ml-python==1.5.0; python_version <= \"3.9\"->fosforml) (3.7.1)\n",
      "Requirement already satisfied, skipping upgrade: pyarrow in /opt/conda/lib/python3.9/site-packages (from snowflake-ml-python==1.5.0; python_version <= \"3.9\"->fosforml) (17.0.0)\n",
      "Requirement already satisfied, skipping upgrade: pandas<3,>=1.0.0 in /opt/conda/lib/python3.9/site-packages (from snowflake-ml-python==1.5.0; python_version <= \"3.9\"->fosforml) (2.2.3)\n",
      "Requirement already satisfied, skipping upgrade: s3fs<2024,>=2022.11 in /opt/conda/lib/python3.9/site-packages (from snowflake-ml-python==1.5.0; python_version <= \"3.9\"->fosforml) (2023.12.2)\n",
      "Requirement already satisfied, skipping upgrade: importlib-resources<7,>=6.1.1 in /opt/conda/lib/python3.9/site-packages (from snowflake-ml-python==1.5.0; python_version <= \"3.9\"->fosforml) (6.4.5)\n",
      "Requirement already satisfied, skipping upgrade: setuptools>=40.6.0 in /opt/conda/lib/python3.9/site-packages (from snowflake-snowpark-python!=1.12.0,<2,>=1.11.1->snowflake-ml-python==1.5.0; python_version <= \"3.9\"->fosforml) (65.6.3)\n",
      "Requirement already satisfied, skipping upgrade: wheel in /opt/conda/lib/python3.9/site-packages (from snowflake-snowpark-python!=1.12.0,<2,>=1.11.1->snowflake-ml-python==1.5.0; python_version <= \"3.9\"->fosforml) (0.37.1)\n",
      "Requirement already satisfied, skipping upgrade: graphviz in /opt/conda/lib/python3.9/site-packages (from catboost<1.3,>=1.2.0->snowflake-ml-python==1.5.0; python_version <= \"3.9\"->fosforml) (0.20.3)\n",
      "Requirement already satisfied, skipping upgrade: matplotlib in /opt/conda/lib/python3.9/site-packages (from catboost<1.3,>=1.2.0->snowflake-ml-python==1.5.0; python_version <= \"3.9\"->fosforml) (3.9.2)\n",
      "Requirement already satisfied, skipping upgrade: plotly in /opt/conda/lib/python3.9/site-packages (from catboost<1.3,>=1.2.0->snowflake-ml-python==1.5.0; python_version <= \"3.9\"->fosforml) (5.24.1)\n",
      "Requirement already satisfied, skipping upgrade: six in /opt/conda/lib/python3.9/site-packages (from catboost<1.3,>=1.2.0->snowflake-ml-python==1.5.0; python_version <= \"3.9\"->fosforml) (1.16.0)\n",
      "Requirement already satisfied, skipping upgrade: sortedcontainers>=2.4.0 in /opt/conda/lib/python3.9/site-packages (from snowflake-connector-python[pandas]<4,>=3.5.0->snowflake-ml-python==1.5.0; python_version <= \"3.9\"->fosforml) (2.4.0)\n",
      "Requirement already satisfied, skipping upgrade: platformdirs<5.0.0,>=2.6.0 in /opt/conda/lib/python3.9/site-packages (from snowflake-connector-python[pandas]<4,>=3.5.0->snowflake-ml-python==1.5.0; python_version <= \"3.9\"->fosforml) (4.2.2)\n",
      "Requirement already satisfied, skipping upgrade: pytz in /opt/conda/lib/python3.9/site-packages (from snowflake-connector-python[pandas]<4,>=3.5.0->snowflake-ml-python==1.5.0; python_version <= \"3.9\"->fosforml) (2024.1)\n",
      "Requirement already satisfied, skipping upgrade: idna<4,>=2.5 in /opt/conda/lib/python3.9/site-packages (from snowflake-connector-python[pandas]<4,>=3.5.0->snowflake-ml-python==1.5.0; python_version <= \"3.9\"->fosforml) (3.7)\n",
      "Requirement already satisfied, skipping upgrade: tomlkit in /opt/conda/lib/python3.9/site-packages (from snowflake-connector-python[pandas]<4,>=3.5.0->snowflake-ml-python==1.5.0; python_version <= \"3.9\"->fosforml) (0.13.2)\n",
      "Requirement already satisfied, skipping upgrade: certifi>=2017.4.17 in /opt/conda/lib/python3.9/site-packages (from snowflake-connector-python[pandas]<4,>=3.5.0->snowflake-ml-python==1.5.0; python_version <= \"3.9\"->fosforml) (2024.7.4)\n",
      "Requirement already satisfied, skipping upgrade: requests<3.0.0 in /opt/conda/lib/python3.9/site-packages (from snowflake-connector-python[pandas]<4,>=3.5.0->snowflake-ml-python==1.5.0; python_version <= \"3.9\"->fosforml) (2.32.3)\n",
      "Requirement already satisfied, skipping upgrade: cryptography>=3.1.0 in /opt/conda/lib/python3.9/site-packages (from snowflake-connector-python[pandas]<4,>=3.5.0->snowflake-ml-python==1.5.0; python_version <= \"3.9\"->fosforml) (42.0.5)\n",
      "Requirement already satisfied, skipping upgrade: charset-normalizer<4,>=2 in /opt/conda/lib/python3.9/site-packages (from snowflake-connector-python[pandas]<4,>=3.5.0->snowflake-ml-python==1.5.0; python_version <= \"3.9\"->fosforml) (3.3.2)\n",
      "Requirement already satisfied, skipping upgrade: cffi<2.0.0,>=1.9 in /opt/conda/lib/python3.9/site-packages (from snowflake-connector-python[pandas]<4,>=3.5.0->snowflake-ml-python==1.5.0; python_version <= \"3.9\"->fosforml) (1.16.0)\n",
      "Requirement already satisfied, skipping upgrade: asn1crypto<2.0.0,>0.24.0 in /opt/conda/lib/python3.9/site-packages (from snowflake-connector-python[pandas]<4,>=3.5.0->snowflake-ml-python==1.5.0; python_version <= \"3.9\"->fosforml) (1.5.1)\n",
      "Requirement already satisfied, skipping upgrade: pyjwt<3.0.0 in /opt/conda/lib/python3.9/site-packages (from snowflake-connector-python[pandas]<4,>=3.5.0->snowflake-ml-python==1.5.0; python_version <= \"3.9\"->fosforml) (2.9.0)\n",
      "Requirement already satisfied, skipping upgrade: urllib3<2.0.0,>=1.21.1; python_version < \"3.10\" in /opt/conda/lib/python3.9/site-packages (from snowflake-connector-python[pandas]<4,>=3.5.0->snowflake-ml-python==1.5.0; python_version <= \"3.9\"->fosforml) (1.26.20)\n",
      "Requirement already satisfied, skipping upgrade: pyOpenSSL<25.0.0,>=16.2.0 in /opt/conda/lib/python3.9/site-packages (from snowflake-connector-python[pandas]<4,>=3.5.0->snowflake-ml-python==1.5.0; python_version <= \"3.9\"->fosforml) (24.0.0)\n",
      "Requirement already satisfied, skipping upgrade: filelock<4,>=3.5 in /opt/conda/lib/python3.9/site-packages (from snowflake-connector-python[pandas]<4,>=3.5.0->snowflake-ml-python==1.5.0; python_version <= \"3.9\"->fosforml) (3.16.1)\n",
      "Requirement already satisfied, skipping upgrade: aiohttp!=4.0.0a0,!=4.0.0a1; extra == \"http\" in /opt/conda/lib/python3.9/site-packages (from fsspec[http]<2024,>=2022.11->snowflake-ml-python==1.5.0; python_version <= \"3.9\"->fosforml) (3.10.6)\n",
      "Requirement already satisfied, skipping upgrade: sniffio>=1.1 in /opt/conda/lib/python3.9/site-packages (from anyio<4,>=3.5.0->snowflake-ml-python==1.5.0; python_version <= \"3.9\"->fosforml) (1.3.1)\n",
      "Requirement already satisfied, skipping upgrade: exceptiongroup; python_version < \"3.11\" in /opt/conda/lib/python3.9/site-packages (from anyio<4,>=3.5.0->snowflake-ml-python==1.5.0; python_version <= \"3.9\"->fosforml) (1.2.2)\n",
      "Requirement already satisfied, skipping upgrade: python-dateutil>=2.8.2 in /opt/conda/lib/python3.9/site-packages (from pandas<3,>=1.0.0->snowflake-ml-python==1.5.0; python_version <= \"3.9\"->fosforml) (2.9.0.post0)\n",
      "Requirement already satisfied, skipping upgrade: tzdata>=2022.7 in /opt/conda/lib/python3.9/site-packages (from pandas<3,>=1.0.0->snowflake-ml-python==1.5.0; python_version <= \"3.9\"->fosforml) (2024.1)\n",
      "Requirement already satisfied, skipping upgrade: aiobotocore<3.0.0,>=2.5.4 in /opt/conda/lib/python3.9/site-packages (from s3fs<2024,>=2022.11->snowflake-ml-python==1.5.0; python_version <= \"3.9\"->fosforml) (2.15.1)\n",
      "Requirement already satisfied, skipping upgrade: zipp>=3.1.0; python_version < \"3.10\" in /opt/conda/lib/python3.9/site-packages (from importlib-resources<7,>=6.1.1->snowflake-ml-python==1.5.0; python_version <= \"3.9\"->fosforml) (3.19.2)\n",
      "Requirement already satisfied, skipping upgrade: pyparsing>=2.3.1 in /opt/conda/lib/python3.9/site-packages (from matplotlib->catboost<1.3,>=1.2.0->snowflake-ml-python==1.5.0; python_version <= \"3.9\"->fosforml) (3.1.4)\n",
      "Requirement already satisfied, skipping upgrade: cycler>=0.10 in /opt/conda/lib/python3.9/site-packages (from matplotlib->catboost<1.3,>=1.2.0->snowflake-ml-python==1.5.0; python_version <= \"3.9\"->fosforml) (0.12.1)\n",
      "Requirement already satisfied, skipping upgrade: kiwisolver>=1.3.1 in /opt/conda/lib/python3.9/site-packages (from matplotlib->catboost<1.3,>=1.2.0->snowflake-ml-python==1.5.0; python_version <= \"3.9\"->fosforml) (1.4.7)\n",
      "Requirement already satisfied, skipping upgrade: pillow>=8 in /opt/conda/lib/python3.9/site-packages (from matplotlib->catboost<1.3,>=1.2.0->snowflake-ml-python==1.5.0; python_version <= \"3.9\"->fosforml) (10.4.0)\n",
      "Requirement already satisfied, skipping upgrade: fonttools>=4.22.0 in /opt/conda/lib/python3.9/site-packages (from matplotlib->catboost<1.3,>=1.2.0->snowflake-ml-python==1.5.0; python_version <= \"3.9\"->fosforml) (4.54.1)\n",
      "Requirement already satisfied, skipping upgrade: contourpy>=1.0.1 in /opt/conda/lib/python3.9/site-packages (from matplotlib->catboost<1.3,>=1.2.0->snowflake-ml-python==1.5.0; python_version <= \"3.9\"->fosforml) (1.3.0)\n",
      "Requirement already satisfied, skipping upgrade: tenacity>=6.2.0 in /opt/conda/lib/python3.9/site-packages (from plotly->catboost<1.3,>=1.2.0->snowflake-ml-python==1.5.0; python_version <= \"3.9\"->fosforml) (9.0.0)\n",
      "Requirement already satisfied, skipping upgrade: pycparser in /opt/conda/lib/python3.9/site-packages (from cffi<2.0.0,>=1.9->snowflake-connector-python[pandas]<4,>=3.5.0->snowflake-ml-python==1.5.0; python_version <= \"3.9\"->fosforml) (2.21)\n",
      "Requirement already satisfied, skipping upgrade: yarl<2.0,>=1.12.0 in /opt/conda/lib/python3.9/site-packages (from aiohttp!=4.0.0a0,!=4.0.0a1; extra == \"http\"->fsspec[http]<2024,>=2022.11->snowflake-ml-python==1.5.0; python_version <= \"3.9\"->fosforml) (1.12.1)\n",
      "Requirement already satisfied, skipping upgrade: frozenlist>=1.1.1 in /opt/conda/lib/python3.9/site-packages (from aiohttp!=4.0.0a0,!=4.0.0a1; extra == \"http\"->fsspec[http]<2024,>=2022.11->snowflake-ml-python==1.5.0; python_version <= \"3.9\"->fosforml) (1.4.1)\n",
      "Requirement already satisfied, skipping upgrade: async-timeout<5.0,>=4.0; python_version < \"3.11\" in /opt/conda/lib/python3.9/site-packages (from aiohttp!=4.0.0a0,!=4.0.0a1; extra == \"http\"->fsspec[http]<2024,>=2022.11->snowflake-ml-python==1.5.0; python_version <= \"3.9\"->fosforml) (4.0.3)\n",
      "Requirement already satisfied, skipping upgrade: multidict<7.0,>=4.5 in /opt/conda/lib/python3.9/site-packages (from aiohttp!=4.0.0a0,!=4.0.0a1; extra == \"http\"->fsspec[http]<2024,>=2022.11->snowflake-ml-python==1.5.0; python_version <= \"3.9\"->fosforml) (6.1.0)\n",
      "Requirement already satisfied, skipping upgrade: attrs>=17.3.0 in /opt/conda/lib/python3.9/site-packages (from aiohttp!=4.0.0a0,!=4.0.0a1; extra == \"http\"->fsspec[http]<2024,>=2022.11->snowflake-ml-python==1.5.0; python_version <= \"3.9\"->fosforml) (23.2.0)\n",
      "Requirement already satisfied, skipping upgrade: aiosignal>=1.1.2 in /opt/conda/lib/python3.9/site-packages (from aiohttp!=4.0.0a0,!=4.0.0a1; extra == \"http\"->fsspec[http]<2024,>=2022.11->snowflake-ml-python==1.5.0; python_version <= \"3.9\"->fosforml) (1.3.1)\n",
      "Requirement already satisfied, skipping upgrade: aiohappyeyeballs>=2.3.0 in /opt/conda/lib/python3.9/site-packages (from aiohttp!=4.0.0a0,!=4.0.0a1; extra == \"http\"->fsspec[http]<2024,>=2022.11->snowflake-ml-python==1.5.0; python_version <= \"3.9\"->fosforml) (2.4.0)\n",
      "Requirement already satisfied, skipping upgrade: wrapt<2.0.0,>=1.10.10 in /opt/conda/lib/python3.9/site-packages (from aiobotocore<3.0.0,>=2.5.4->s3fs<2024,>=2022.11->snowflake-ml-python==1.5.0; python_version <= \"3.9\"->fosforml) (1.16.0)\n",
      "Requirement already satisfied, skipping upgrade: botocore<1.35.24,>=1.35.16 in /opt/conda/lib/python3.9/site-packages (from aiobotocore<3.0.0,>=2.5.4->s3fs<2024,>=2022.11->snowflake-ml-python==1.5.0; python_version <= \"3.9\"->fosforml) (1.35.23)\n",
      "Requirement already satisfied, skipping upgrade: aioitertools<1.0.0,>=0.5.1 in /opt/conda/lib/python3.9/site-packages (from aiobotocore<3.0.0,>=2.5.4->s3fs<2024,>=2022.11->snowflake-ml-python==1.5.0; python_version <= \"3.9\"->fosforml) (0.12.0)\n",
      "Requirement already satisfied, skipping upgrade: jmespath<2.0.0,>=0.7.1 in /opt/conda/lib/python3.9/site-packages (from botocore<1.35.24,>=1.35.16->aiobotocore<3.0.0,>=2.5.4->s3fs<2024,>=2022.11->snowflake-ml-python==1.5.0; python_version <= \"3.9\"->fosforml) (1.0.1)\n",
      "\u001b[33mWARNING: You are using pip version 19.3.1; however, version 24.2 is available.\n",
      "You should consider upgrading via the 'pip install --upgrade pip' command.\u001b[0m\n",
      "Note: you may need to restart the kernel to use updated packages.\n"
     ]
    }
   ],
   "source": [
    "pip install --upgrade fosforml"
   ]
  },
  {
   "cell_type": "code",
   "execution_count": 2,
   "id": "3057690e-6bfe-4893-b838-043f96a50860",
   "metadata": {},
   "outputs": [
    {
     "name": "stdout",
     "output_type": "stream",
     "text": [
      "Collecting numpy\n",
      "  Using cached https://files.pythonhosted.org/packages/b9/14/78635daab4b07c0930c919d451b8bf8c164774e6a3413aed04a6d95758ce/numpy-2.0.2-cp39-cp39-manylinux_2_17_x86_64.manylinux2014_x86_64.whl\n",
      "\u001b[31mERROR: snowflake-ml-python 1.5.0 has requirement numpy<2,>=1.23, but you'll have numpy 2.0.2 which is incompatible.\u001b[0m\n",
      "\u001b[31mERROR: scikit-learn 1.3.2 has requirement numpy<2.0,>=1.17.3, but you'll have numpy 2.0.2 which is incompatible.\u001b[0m\n",
      "\u001b[31mERROR: catboost 1.2.7 has requirement numpy<2.0,>=1.16.0, but you'll have numpy 2.0.2 which is incompatible.\u001b[0m\n",
      "Installing collected packages: numpy\n",
      "  Found existing installation: numpy 1.26.4\n",
      "    Uninstalling numpy-1.26.4:\n",
      "      Successfully uninstalled numpy-1.26.4\n",
      "Successfully installed numpy-2.0.2\n",
      "\u001b[33mWARNING: You are using pip version 19.3.1; however, version 24.2 is available.\n",
      "You should consider upgrading via the 'pip install --upgrade pip' command.\u001b[0m\n",
      "Note: you may need to restart the kernel to use updated packages.\n"
     ]
    }
   ],
   "source": [
    "pip install --upgrade numpy"
   ]
  },
  {
   "cell_type": "code",
   "execution_count": 3,
   "id": "36ba8016-4659-4c2a-92fb-95b55a6ffe5d",
   "metadata": {
    "scrolled": true
   },
   "outputs": [
    {
     "name": "stdout",
     "output_type": "stream",
     "text": [
      "Requirement already up-to-date: seaborn in /opt/conda/lib/python3.9/site-packages (0.13.2)\n",
      "Requirement already satisfied, skipping upgrade: numpy!=1.24.0,>=1.20 in /opt/conda/lib/python3.9/site-packages (from seaborn) (2.0.2)\n",
      "Requirement already satisfied, skipping upgrade: pandas>=1.2 in /opt/conda/lib/python3.9/site-packages (from seaborn) (2.2.3)\n",
      "Requirement already satisfied, skipping upgrade: matplotlib!=3.6.1,>=3.4 in /opt/conda/lib/python3.9/site-packages (from seaborn) (3.9.2)\n",
      "Requirement already satisfied, skipping upgrade: pytz>=2020.1 in /opt/conda/lib/python3.9/site-packages (from pandas>=1.2->seaborn) (2024.1)\n",
      "Requirement already satisfied, skipping upgrade: tzdata>=2022.7 in /opt/conda/lib/python3.9/site-packages (from pandas>=1.2->seaborn) (2024.1)\n",
      "Requirement already satisfied, skipping upgrade: python-dateutil>=2.8.2 in /opt/conda/lib/python3.9/site-packages (from pandas>=1.2->seaborn) (2.9.0.post0)\n",
      "Requirement already satisfied, skipping upgrade: fonttools>=4.22.0 in /opt/conda/lib/python3.9/site-packages (from matplotlib!=3.6.1,>=3.4->seaborn) (4.54.1)\n",
      "Requirement already satisfied, skipping upgrade: contourpy>=1.0.1 in /opt/conda/lib/python3.9/site-packages (from matplotlib!=3.6.1,>=3.4->seaborn) (1.3.0)\n",
      "Requirement already satisfied, skipping upgrade: kiwisolver>=1.3.1 in /opt/conda/lib/python3.9/site-packages (from matplotlib!=3.6.1,>=3.4->seaborn) (1.4.7)\n",
      "Requirement already satisfied, skipping upgrade: pillow>=8 in /opt/conda/lib/python3.9/site-packages (from matplotlib!=3.6.1,>=3.4->seaborn) (10.4.0)\n",
      "Requirement already satisfied, skipping upgrade: cycler>=0.10 in /opt/conda/lib/python3.9/site-packages (from matplotlib!=3.6.1,>=3.4->seaborn) (0.12.1)\n",
      "Requirement already satisfied, skipping upgrade: importlib-resources>=3.2.0; python_version < \"3.10\" in /opt/conda/lib/python3.9/site-packages (from matplotlib!=3.6.1,>=3.4->seaborn) (6.4.5)\n",
      "Requirement already satisfied, skipping upgrade: packaging>=20.0 in /opt/conda/lib/python3.9/site-packages (from matplotlib!=3.6.1,>=3.4->seaborn) (23.2)\n",
      "Requirement already satisfied, skipping upgrade: pyparsing>=2.3.1 in /opt/conda/lib/python3.9/site-packages (from matplotlib!=3.6.1,>=3.4->seaborn) (3.1.4)\n",
      "Requirement already satisfied, skipping upgrade: six>=1.5 in /opt/conda/lib/python3.9/site-packages (from python-dateutil>=2.8.2->pandas>=1.2->seaborn) (1.16.0)\n",
      "Requirement already satisfied, skipping upgrade: zipp>=3.1.0; python_version < \"3.10\" in /opt/conda/lib/python3.9/site-packages (from importlib-resources>=3.2.0; python_version < \"3.10\"->matplotlib!=3.6.1,>=3.4->seaborn) (3.19.2)\n",
      "\u001b[33mWARNING: You are using pip version 19.3.1; however, version 24.2 is available.\n",
      "You should consider upgrading via the 'pip install --upgrade pip' command.\u001b[0m\n",
      "Note: you may need to restart the kernel to use updated packages.\n"
     ]
    }
   ],
   "source": [
    "pip install --upgrade seaborn"
   ]
  },
  {
   "cell_type": "code",
   "execution_count": 4,
   "id": "46685f5f-3937-4cd9-8c70-2152cd57b532",
   "metadata": {},
   "outputs": [
    {
     "name": "stdout",
     "output_type": "stream",
     "text": [
      "Requirement already satisfied: pandas in /opt/conda/lib/python3.9/site-packages (2.2.3)\n",
      "Requirement already satisfied: tzdata>=2022.7 in /opt/conda/lib/python3.9/site-packages (from pandas) (2024.1)\n",
      "Requirement already satisfied: pytz>=2020.1 in /opt/conda/lib/python3.9/site-packages (from pandas) (2024.1)\n",
      "Requirement already satisfied: numpy>=1.22.4; python_version < \"3.11\" in /opt/conda/lib/python3.9/site-packages (from pandas) (2.0.2)\n",
      "Requirement already satisfied: python-dateutil>=2.8.2 in /opt/conda/lib/python3.9/site-packages (from pandas) (2.9.0.post0)\n",
      "Requirement already satisfied: six>=1.5 in /opt/conda/lib/python3.9/site-packages (from python-dateutil>=2.8.2->pandas) (1.16.0)\n",
      "\u001b[33mWARNING: You are using pip version 19.3.1; however, version 24.2 is available.\n",
      "You should consider upgrading via the 'pip install --upgrade pip' command.\u001b[0m\n",
      "Requirement already satisfied: snowflake-ml-python in /opt/conda/lib/python3.9/site-packages (1.5.0)\n",
      "Requirement already satisfied: sqlparse<1,>=0.4 in /opt/conda/lib/python3.9/site-packages (from snowflake-ml-python) (0.5.1)\n",
      "Requirement already satisfied: cachetools<6,>=3.1.1 in /opt/conda/lib/python3.9/site-packages (from snowflake-ml-python) (5.5.0)\n",
      "Requirement already satisfied: pyyaml<7,>=6.0 in /opt/conda/lib/python3.9/site-packages (from snowflake-ml-python) (6.0.1)\n",
      "Requirement already satisfied: cloudpickle>=2.0.0 in /opt/conda/lib/python3.9/site-packages (from snowflake-ml-python) (2.2.1)\n",
      "Requirement already satisfied: pyarrow in /opt/conda/lib/python3.9/site-packages (from snowflake-ml-python) (17.0.0)\n",
      "Requirement already satisfied: pytimeparse<2,>=1.1.8 in /opt/conda/lib/python3.9/site-packages (from snowflake-ml-python) (1.1.8)\n",
      "Requirement already satisfied: snowflake-snowpark-python!=1.12.0,<2,>=1.11.1 in /opt/conda/lib/python3.9/site-packages (from snowflake-ml-python) (1.22.1)\n",
      "Requirement already satisfied: snowflake-connector-python[pandas]<4,>=3.5.0 in /opt/conda/lib/python3.9/site-packages (from snowflake-ml-python) (3.12.2)\n",
      "Requirement already satisfied: s3fs<2024,>=2022.11 in /opt/conda/lib/python3.9/site-packages (from snowflake-ml-python) (2023.12.2)\n",
      "Requirement already satisfied: typing-extensions<5,>=4.1.0 in /opt/conda/lib/python3.9/site-packages (from snowflake-ml-python) (4.12.2)\n",
      "Requirement already satisfied: importlib-resources<7,>=6.1.1 in /opt/conda/lib/python3.9/site-packages (from snowflake-ml-python) (6.4.5)\n",
      "Requirement already satisfied: catboost<1.3,>=1.2.0 in /opt/conda/lib/python3.9/site-packages (from snowflake-ml-python) (1.2.7)\n",
      "Requirement already satisfied: anyio<4,>=3.5.0 in /opt/conda/lib/python3.9/site-packages (from snowflake-ml-python) (3.7.1)\n",
      "Requirement already satisfied: scipy<2,>=1.9 in /opt/conda/lib/python3.9/site-packages (from snowflake-ml-python) (1.13.1)\n",
      "Requirement already satisfied: fsspec[http]<2024,>=2022.11 in /opt/conda/lib/python3.9/site-packages (from snowflake-ml-python) (2023.12.2)\n",
      "Requirement already satisfied: retrying<2,>=1.3.3 in /opt/conda/lib/python3.9/site-packages (from snowflake-ml-python) (1.3.4)\n",
      "Requirement already satisfied: absl-py<2,>=0.15 in /opt/conda/lib/python3.9/site-packages (from snowflake-ml-python) (1.4.0)\n",
      "Requirement already satisfied: pandas<3,>=1.0.0 in /opt/conda/lib/python3.9/site-packages (from snowflake-ml-python) (2.2.3)\n",
      "Requirement already satisfied: scikit-learn<1.4,>=1.2.1 in /opt/conda/lib/python3.9/site-packages (from snowflake-ml-python) (1.3.2)\n",
      "Requirement already satisfied: xgboost<2,>=1.7.3 in /opt/conda/lib/python3.9/site-packages (from snowflake-ml-python) (1.7.6)\n",
      "Requirement already satisfied: packaging<24,>=20.9 in /opt/conda/lib/python3.9/site-packages (from snowflake-ml-python) (23.2)\n",
      "Collecting numpy<2,>=1.23\n",
      "  Using cached https://files.pythonhosted.org/packages/54/30/c2a907b9443cf42b90c17ad10c1e8fa801975f01cb9764f3f8eb8aea638b/numpy-1.26.4-cp39-cp39-manylinux_2_17_x86_64.manylinux2014_x86_64.whl\n",
      "Requirement already satisfied: setuptools>=40.6.0 in /opt/conda/lib/python3.9/site-packages (from snowflake-snowpark-python!=1.12.0,<2,>=1.11.1->snowflake-ml-python) (65.6.3)\n",
      "Requirement already satisfied: wheel in /opt/conda/lib/python3.9/site-packages (from snowflake-snowpark-python!=1.12.0,<2,>=1.11.1->snowflake-ml-python) (0.37.1)\n",
      "Requirement already satisfied: pytz in /opt/conda/lib/python3.9/site-packages (from snowflake-connector-python[pandas]<4,>=3.5.0->snowflake-ml-python) (2024.1)\n",
      "Requirement already satisfied: sortedcontainers>=2.4.0 in /opt/conda/lib/python3.9/site-packages (from snowflake-connector-python[pandas]<4,>=3.5.0->snowflake-ml-python) (2.4.0)\n",
      "Requirement already satisfied: idna<4,>=2.5 in /opt/conda/lib/python3.9/site-packages (from snowflake-connector-python[pandas]<4,>=3.5.0->snowflake-ml-python) (3.7)\n",
      "Requirement already satisfied: cffi<2.0.0,>=1.9 in /opt/conda/lib/python3.9/site-packages (from snowflake-connector-python[pandas]<4,>=3.5.0->snowflake-ml-python) (1.16.0)\n",
      "Requirement already satisfied: cryptography>=3.1.0 in /opt/conda/lib/python3.9/site-packages (from snowflake-connector-python[pandas]<4,>=3.5.0->snowflake-ml-python) (42.0.5)\n",
      "Requirement already satisfied: filelock<4,>=3.5 in /opt/conda/lib/python3.9/site-packages (from snowflake-connector-python[pandas]<4,>=3.5.0->snowflake-ml-python) (3.16.1)\n",
      "Requirement already satisfied: platformdirs<5.0.0,>=2.6.0 in /opt/conda/lib/python3.9/site-packages (from snowflake-connector-python[pandas]<4,>=3.5.0->snowflake-ml-python) (4.2.2)\n",
      "Requirement already satisfied: pyOpenSSL<25.0.0,>=16.2.0 in /opt/conda/lib/python3.9/site-packages (from snowflake-connector-python[pandas]<4,>=3.5.0->snowflake-ml-python) (24.0.0)\n",
      "Requirement already satisfied: pyjwt<3.0.0 in /opt/conda/lib/python3.9/site-packages (from snowflake-connector-python[pandas]<4,>=3.5.0->snowflake-ml-python) (2.9.0)\n",
      "Requirement already satisfied: requests<3.0.0 in /opt/conda/lib/python3.9/site-packages (from snowflake-connector-python[pandas]<4,>=3.5.0->snowflake-ml-python) (2.32.3)\n",
      "Requirement already satisfied: charset-normalizer<4,>=2 in /opt/conda/lib/python3.9/site-packages (from snowflake-connector-python[pandas]<4,>=3.5.0->snowflake-ml-python) (3.3.2)\n",
      "Requirement already satisfied: certifi>=2017.4.17 in /opt/conda/lib/python3.9/site-packages (from snowflake-connector-python[pandas]<4,>=3.5.0->snowflake-ml-python) (2024.7.4)\n",
      "Requirement already satisfied: tomlkit in /opt/conda/lib/python3.9/site-packages (from snowflake-connector-python[pandas]<4,>=3.5.0->snowflake-ml-python) (0.13.2)\n",
      "Requirement already satisfied: urllib3<2.0.0,>=1.21.1; python_version < \"3.10\" in /opt/conda/lib/python3.9/site-packages (from snowflake-connector-python[pandas]<4,>=3.5.0->snowflake-ml-python) (1.26.20)\n",
      "Requirement already satisfied: asn1crypto<2.0.0,>0.24.0 in /opt/conda/lib/python3.9/site-packages (from snowflake-connector-python[pandas]<4,>=3.5.0->snowflake-ml-python) (1.5.1)\n",
      "Requirement already satisfied: aiobotocore<3.0.0,>=2.5.4 in /opt/conda/lib/python3.9/site-packages (from s3fs<2024,>=2022.11->snowflake-ml-python) (2.15.1)\n",
      "Requirement already satisfied: aiohttp!=4.0.0a0,!=4.0.0a1 in /opt/conda/lib/python3.9/site-packages (from s3fs<2024,>=2022.11->snowflake-ml-python) (3.10.6)\n",
      "Requirement already satisfied: zipp>=3.1.0; python_version < \"3.10\" in /opt/conda/lib/python3.9/site-packages (from importlib-resources<7,>=6.1.1->snowflake-ml-python) (3.19.2)\n",
      "Requirement already satisfied: plotly in /opt/conda/lib/python3.9/site-packages (from catboost<1.3,>=1.2.0->snowflake-ml-python) (5.24.1)\n",
      "Requirement already satisfied: matplotlib in /opt/conda/lib/python3.9/site-packages (from catboost<1.3,>=1.2.0->snowflake-ml-python) (3.9.2)\n",
      "Requirement already satisfied: six in /opt/conda/lib/python3.9/site-packages (from catboost<1.3,>=1.2.0->snowflake-ml-python) (1.16.0)\n",
      "Requirement already satisfied: graphviz in /opt/conda/lib/python3.9/site-packages (from catboost<1.3,>=1.2.0->snowflake-ml-python) (0.20.3)\n",
      "Requirement already satisfied: sniffio>=1.1 in /opt/conda/lib/python3.9/site-packages (from anyio<4,>=3.5.0->snowflake-ml-python) (1.3.1)\n",
      "Requirement already satisfied: exceptiongroup; python_version < \"3.11\" in /opt/conda/lib/python3.9/site-packages (from anyio<4,>=3.5.0->snowflake-ml-python) (1.2.2)\n",
      "Requirement already satisfied: tzdata>=2022.7 in /opt/conda/lib/python3.9/site-packages (from pandas<3,>=1.0.0->snowflake-ml-python) (2024.1)\n",
      "Requirement already satisfied: python-dateutil>=2.8.2 in /opt/conda/lib/python3.9/site-packages (from pandas<3,>=1.0.0->snowflake-ml-python) (2.9.0.post0)\n",
      "Requirement already satisfied: joblib>=1.1.1 in /opt/conda/lib/python3.9/site-packages (from scikit-learn<1.4,>=1.2.1->snowflake-ml-python) (1.4.2)\n",
      "Requirement already satisfied: threadpoolctl>=2.0.0 in /opt/conda/lib/python3.9/site-packages (from scikit-learn<1.4,>=1.2.1->snowflake-ml-python) (3.5.0)\n",
      "Requirement already satisfied: pycparser in /opt/conda/lib/python3.9/site-packages (from cffi<2.0.0,>=1.9->snowflake-connector-python[pandas]<4,>=3.5.0->snowflake-ml-python) (2.21)\n",
      "Requirement already satisfied: wrapt<2.0.0,>=1.10.10 in /opt/conda/lib/python3.9/site-packages (from aiobotocore<3.0.0,>=2.5.4->s3fs<2024,>=2022.11->snowflake-ml-python) (1.16.0)\n",
      "Requirement already satisfied: botocore<1.35.24,>=1.35.16 in /opt/conda/lib/python3.9/site-packages (from aiobotocore<3.0.0,>=2.5.4->s3fs<2024,>=2022.11->snowflake-ml-python) (1.35.23)\n",
      "Requirement already satisfied: aioitertools<1.0.0,>=0.5.1 in /opt/conda/lib/python3.9/site-packages (from aiobotocore<3.0.0,>=2.5.4->s3fs<2024,>=2022.11->snowflake-ml-python) (0.12.0)\n",
      "Requirement already satisfied: aiohappyeyeballs>=2.3.0 in /opt/conda/lib/python3.9/site-packages (from aiohttp!=4.0.0a0,!=4.0.0a1->s3fs<2024,>=2022.11->snowflake-ml-python) (2.4.0)\n",
      "Requirement already satisfied: aiosignal>=1.1.2 in /opt/conda/lib/python3.9/site-packages (from aiohttp!=4.0.0a0,!=4.0.0a1->s3fs<2024,>=2022.11->snowflake-ml-python) (1.3.1)\n",
      "Requirement already satisfied: async-timeout<5.0,>=4.0; python_version < \"3.11\" in /opt/conda/lib/python3.9/site-packages (from aiohttp!=4.0.0a0,!=4.0.0a1->s3fs<2024,>=2022.11->snowflake-ml-python) (4.0.3)\n",
      "Requirement already satisfied: attrs>=17.3.0 in /opt/conda/lib/python3.9/site-packages (from aiohttp!=4.0.0a0,!=4.0.0a1->s3fs<2024,>=2022.11->snowflake-ml-python) (23.2.0)\n",
      "Requirement already satisfied: frozenlist>=1.1.1 in /opt/conda/lib/python3.9/site-packages (from aiohttp!=4.0.0a0,!=4.0.0a1->s3fs<2024,>=2022.11->snowflake-ml-python) (1.4.1)\n",
      "Requirement already satisfied: multidict<7.0,>=4.5 in /opt/conda/lib/python3.9/site-packages (from aiohttp!=4.0.0a0,!=4.0.0a1->s3fs<2024,>=2022.11->snowflake-ml-python) (6.1.0)\n",
      "Requirement already satisfied: yarl<2.0,>=1.12.0 in /opt/conda/lib/python3.9/site-packages (from aiohttp!=4.0.0a0,!=4.0.0a1->s3fs<2024,>=2022.11->snowflake-ml-python) (1.12.1)\n",
      "Requirement already satisfied: tenacity>=6.2.0 in /opt/conda/lib/python3.9/site-packages (from plotly->catboost<1.3,>=1.2.0->snowflake-ml-python) (9.0.0)\n",
      "Requirement already satisfied: fonttools>=4.22.0 in /opt/conda/lib/python3.9/site-packages (from matplotlib->catboost<1.3,>=1.2.0->snowflake-ml-python) (4.54.1)\n",
      "Requirement already satisfied: cycler>=0.10 in /opt/conda/lib/python3.9/site-packages (from matplotlib->catboost<1.3,>=1.2.0->snowflake-ml-python) (0.12.1)\n",
      "Requirement already satisfied: pillow>=8 in /opt/conda/lib/python3.9/site-packages (from matplotlib->catboost<1.3,>=1.2.0->snowflake-ml-python) (10.4.0)\n",
      "Requirement already satisfied: contourpy>=1.0.1 in /opt/conda/lib/python3.9/site-packages (from matplotlib->catboost<1.3,>=1.2.0->snowflake-ml-python) (1.3.0)\n",
      "Requirement already satisfied: pyparsing>=2.3.1 in /opt/conda/lib/python3.9/site-packages (from matplotlib->catboost<1.3,>=1.2.0->snowflake-ml-python) (3.1.4)\n",
      "Requirement already satisfied: kiwisolver>=1.3.1 in /opt/conda/lib/python3.9/site-packages (from matplotlib->catboost<1.3,>=1.2.0->snowflake-ml-python) (1.4.7)\n",
      "Requirement already satisfied: jmespath<2.0.0,>=0.7.1 in /opt/conda/lib/python3.9/site-packages (from botocore<1.35.24,>=1.35.16->aiobotocore<3.0.0,>=2.5.4->s3fs<2024,>=2022.11->snowflake-ml-python) (1.0.1)\n",
      "Installing collected packages: numpy\n",
      "  Found existing installation: numpy 2.0.2\n",
      "    Uninstalling numpy-2.0.2:\n",
      "      Successfully uninstalled numpy-2.0.2\n",
      "Successfully installed numpy-1.26.4\n",
      "\u001b[33mWARNING: You are using pip version 19.3.1; however, version 24.2 is available.\n",
      "You should consider upgrading via the 'pip install --upgrade pip' command.\u001b[0m\n",
      "Requirement already satisfied: requests in /opt/conda/lib/python3.9/site-packages (2.32.3)\n",
      "Requirement already satisfied: charset-normalizer<4,>=2 in /opt/conda/lib/python3.9/site-packages (from requests) (3.3.2)\n",
      "Requirement already satisfied: certifi>=2017.4.17 in /opt/conda/lib/python3.9/site-packages (from requests) (2024.7.4)\n",
      "Requirement already satisfied: idna<4,>=2.5 in /opt/conda/lib/python3.9/site-packages (from requests) (3.7)\n",
      "Requirement already satisfied: urllib3<3,>=1.21.1 in /opt/conda/lib/python3.9/site-packages (from requests) (1.26.20)\n",
      "\u001b[33mWARNING: You are using pip version 19.3.1; however, version 24.2 is available.\n",
      "You should consider upgrading via the 'pip install --upgrade pip' command.\u001b[0m\n"
     ]
    }
   ],
   "source": [
    "!pip install pandas\n",
    "!pip install snowflake-ml-python\n",
    "!pip install requests"
   ]
  },
  {
   "cell_type": "code",
   "execution_count": 5,
   "id": "5093cadf-ea3b-45c3-ba9a-7d542f411f39",
   "metadata": {
    "scrolled": true
   },
   "outputs": [
    {
     "name": "stdout",
     "output_type": "stream",
     "text": [
      "Requirement already up-to-date: ydata-profiling in /opt/conda/lib/python3.9/site-packages (4.10.0)\n",
      "Requirement already satisfied, skipping upgrade: seaborn<0.14,>=0.10.1 in /opt/conda/lib/python3.9/site-packages (from ydata-profiling) (0.13.2)\n",
      "Requirement already satisfied, skipping upgrade: PyYAML<6.1,>=5.0.0 in /opt/conda/lib/python3.9/site-packages (from ydata-profiling) (6.0.1)\n",
      "Requirement already satisfied, skipping upgrade: typeguard<5,>=3 in /opt/conda/lib/python3.9/site-packages (from ydata-profiling) (4.3.0)\n",
      "Requirement already satisfied, skipping upgrade: requests<3,>=2.24.0 in /opt/conda/lib/python3.9/site-packages (from ydata-profiling) (2.32.3)\n",
      "Requirement already satisfied, skipping upgrade: imagehash==4.3.1 in /opt/conda/lib/python3.9/site-packages (from ydata-profiling) (4.3.1)\n",
      "Requirement already satisfied, skipping upgrade: scipy<1.14,>=1.4.1 in /opt/conda/lib/python3.9/site-packages (from ydata-profiling) (1.13.1)\n",
      "Requirement already satisfied, skipping upgrade: wordcloud>=1.9.3 in /opt/conda/lib/python3.9/site-packages (from ydata-profiling) (1.9.3)\n",
      "Requirement already satisfied, skipping upgrade: htmlmin==0.1.12 in /opt/conda/lib/python3.9/site-packages (from ydata-profiling) (0.1.12)\n",
      "Requirement already satisfied, skipping upgrade: pandas!=1.4.0,<3,>1.1 in /opt/conda/lib/python3.9/site-packages (from ydata-profiling) (2.2.3)\n",
      "Requirement already satisfied, skipping upgrade: statsmodels<1,>=0.13.2 in /opt/conda/lib/python3.9/site-packages (from ydata-profiling) (0.14.3)\n",
      "Requirement already satisfied, skipping upgrade: numpy<2.2,>=1.16.0 in /opt/conda/lib/python3.9/site-packages (from ydata-profiling) (1.26.4)\n",
      "Requirement already satisfied, skipping upgrade: visions[type_image_path]<0.7.7,>=0.7.5 in /opt/conda/lib/python3.9/site-packages (from ydata-profiling) (0.7.6)\n",
      "Requirement already satisfied, skipping upgrade: multimethod<2,>=1.4 in /opt/conda/lib/python3.9/site-packages (from ydata-profiling) (1.12)\n",
      "Requirement already satisfied, skipping upgrade: matplotlib<3.10,>=3.5 in /opt/conda/lib/python3.9/site-packages (from ydata-profiling) (3.9.2)\n",
      "Requirement already satisfied, skipping upgrade: pydantic>=2 in /opt/conda/lib/python3.9/site-packages (from ydata-profiling) (2.9.2)\n",
      "Requirement already satisfied, skipping upgrade: phik<0.13,>=0.11.1 in /opt/conda/lib/python3.9/site-packages (from ydata-profiling) (0.12.4)\n",
      "Requirement already satisfied, skipping upgrade: jinja2<3.2,>=2.11.1 in /opt/conda/lib/python3.9/site-packages (from ydata-profiling) (3.1.4)\n",
      "Requirement already satisfied, skipping upgrade: tqdm<5,>=4.48.2 in /opt/conda/lib/python3.9/site-packages (from ydata-profiling) (4.66.4)\n",
      "Requirement already satisfied, skipping upgrade: dacite>=1.8 in /opt/conda/lib/python3.9/site-packages (from ydata-profiling) (1.8.1)\n",
      "Requirement already satisfied, skipping upgrade: numba<1,>=0.56.0 in /opt/conda/lib/python3.9/site-packages (from ydata-profiling) (0.60.0)\n",
      "Requirement already satisfied, skipping upgrade: importlib-metadata>=3.6; python_version < \"3.10\" in /opt/conda/lib/python3.9/site-packages (from typeguard<5,>=3->ydata-profiling) (8.2.0)\n",
      "Requirement already satisfied, skipping upgrade: typing-extensions>=4.10.0 in /opt/conda/lib/python3.9/site-packages (from typeguard<5,>=3->ydata-profiling) (4.12.2)\n",
      "Requirement already satisfied, skipping upgrade: urllib3<3,>=1.21.1 in /opt/conda/lib/python3.9/site-packages (from requests<3,>=2.24.0->ydata-profiling) (1.26.20)\n",
      "Requirement already satisfied, skipping upgrade: charset-normalizer<4,>=2 in /opt/conda/lib/python3.9/site-packages (from requests<3,>=2.24.0->ydata-profiling) (3.3.2)\n",
      "Requirement already satisfied, skipping upgrade: idna<4,>=2.5 in /opt/conda/lib/python3.9/site-packages (from requests<3,>=2.24.0->ydata-profiling) (3.7)\n",
      "Requirement already satisfied, skipping upgrade: certifi>=2017.4.17 in /opt/conda/lib/python3.9/site-packages (from requests<3,>=2.24.0->ydata-profiling) (2024.7.4)\n",
      "Requirement already satisfied, skipping upgrade: pillow in /opt/conda/lib/python3.9/site-packages (from imagehash==4.3.1->ydata-profiling) (10.4.0)\n",
      "Requirement already satisfied, skipping upgrade: PyWavelets in /opt/conda/lib/python3.9/site-packages (from imagehash==4.3.1->ydata-profiling) (1.6.0)\n",
      "Requirement already satisfied, skipping upgrade: tzdata>=2022.7 in /opt/conda/lib/python3.9/site-packages (from pandas!=1.4.0,<3,>1.1->ydata-profiling) (2024.1)\n",
      "Requirement already satisfied, skipping upgrade: pytz>=2020.1 in /opt/conda/lib/python3.9/site-packages (from pandas!=1.4.0,<3,>1.1->ydata-profiling) (2024.1)\n",
      "Requirement already satisfied, skipping upgrade: python-dateutil>=2.8.2 in /opt/conda/lib/python3.9/site-packages (from pandas!=1.4.0,<3,>1.1->ydata-profiling) (2.9.0.post0)\n",
      "Requirement already satisfied, skipping upgrade: packaging>=21.3 in /opt/conda/lib/python3.9/site-packages (from statsmodels<1,>=0.13.2->ydata-profiling) (23.2)\n",
      "Requirement already satisfied, skipping upgrade: patsy>=0.5.6 in /opt/conda/lib/python3.9/site-packages (from statsmodels<1,>=0.13.2->ydata-profiling) (0.5.6)\n",
      "Requirement already satisfied, skipping upgrade: networkx>=2.4 in /opt/conda/lib/python3.9/site-packages (from visions[type_image_path]<0.7.7,>=0.7.5->ydata-profiling) (3.2.1)\n",
      "Requirement already satisfied, skipping upgrade: attrs>=19.3.0 in /opt/conda/lib/python3.9/site-packages (from visions[type_image_path]<0.7.7,>=0.7.5->ydata-profiling) (23.2.0)\n",
      "Requirement already satisfied, skipping upgrade: contourpy>=1.0.1 in /opt/conda/lib/python3.9/site-packages (from matplotlib<3.10,>=3.5->ydata-profiling) (1.3.0)\n",
      "Requirement already satisfied, skipping upgrade: cycler>=0.10 in /opt/conda/lib/python3.9/site-packages (from matplotlib<3.10,>=3.5->ydata-profiling) (0.12.1)\n",
      "Requirement already satisfied, skipping upgrade: importlib-resources>=3.2.0; python_version < \"3.10\" in /opt/conda/lib/python3.9/site-packages (from matplotlib<3.10,>=3.5->ydata-profiling) (6.4.5)\n",
      "Requirement already satisfied, skipping upgrade: pyparsing>=2.3.1 in /opt/conda/lib/python3.9/site-packages (from matplotlib<3.10,>=3.5->ydata-profiling) (3.1.4)\n",
      "Requirement already satisfied, skipping upgrade: kiwisolver>=1.3.1 in /opt/conda/lib/python3.9/site-packages (from matplotlib<3.10,>=3.5->ydata-profiling) (1.4.7)\n",
      "Requirement already satisfied, skipping upgrade: fonttools>=4.22.0 in /opt/conda/lib/python3.9/site-packages (from matplotlib<3.10,>=3.5->ydata-profiling) (4.54.1)\n",
      "Requirement already satisfied, skipping upgrade: pydantic-core==2.23.4 in /opt/conda/lib/python3.9/site-packages (from pydantic>=2->ydata-profiling) (2.23.4)\n",
      "Requirement already satisfied, skipping upgrade: annotated-types>=0.6.0 in /opt/conda/lib/python3.9/site-packages (from pydantic>=2->ydata-profiling) (0.7.0)\n",
      "Requirement already satisfied, skipping upgrade: joblib>=0.14.1 in /opt/conda/lib/python3.9/site-packages (from phik<0.13,>=0.11.1->ydata-profiling) (1.4.2)\n",
      "Requirement already satisfied, skipping upgrade: MarkupSafe>=2.0 in /opt/conda/lib/python3.9/site-packages (from jinja2<3.2,>=2.11.1->ydata-profiling) (2.1.5)\n",
      "Requirement already satisfied, skipping upgrade: llvmlite<0.44,>=0.43.0dev0 in /opt/conda/lib/python3.9/site-packages (from numba<1,>=0.56.0->ydata-profiling) (0.43.0)\n",
      "Requirement already satisfied, skipping upgrade: zipp>=0.5 in /opt/conda/lib/python3.9/site-packages (from importlib-metadata>=3.6; python_version < \"3.10\"->typeguard<5,>=3->ydata-profiling) (3.19.2)\n",
      "Requirement already satisfied, skipping upgrade: six>=1.5 in /opt/conda/lib/python3.9/site-packages (from python-dateutil>=2.8.2->pandas!=1.4.0,<3,>1.1->ydata-profiling) (1.16.0)\n",
      "\u001b[33mWARNING: You are using pip version 19.3.1; however, version 24.2 is available.\n",
      "You should consider upgrading via the 'pip install --upgrade pip' command.\u001b[0m\n",
      "Note: you may need to restart the kernel to use updated packages.\n"
     ]
    }
   ],
   "source": [
    "pip install ydata-profiling --upgrade"
   ]
  },
  {
   "cell_type": "code",
   "execution_count": 6,
   "id": "856ae4ee-faec-48e6-a9ca-8f20c897407e",
   "metadata": {},
   "outputs": [],
   "source": [
    "import pandas as pd\n",
    "import numpy as np\n",
    "import fosforml\n",
    "from fosforml.model_manager.snowflakesession import get_session\n",
    "my_session = get_session()"
   ]
  },
  {
   "cell_type": "code",
   "execution_count": 7,
   "id": "dfe7ba14-43e5-4a4d-a662-f1a26b39a7eb",
   "metadata": {},
   "outputs": [],
   "source": [
    "import seaborn as sns\n",
    "import matplotlib.pyplot as plt \n",
    "plt.style.use('fivethirtyeight')"
   ]
  },
  {
   "cell_type": "code",
   "execution_count": 8,
   "id": "d985bf93-a607-4ac6-bc27-bc3d6da5d1d8",
   "metadata": {},
   "outputs": [
    {
     "data": {
      "text/plain": [
       "'ASSORTMENT_PLANNING'"
      ]
     },
     "execution_count": 8,
     "metadata": {},
     "output_type": "execute_result"
    }
   ],
   "source": [
    "my_session.connection.database"
   ]
  },
  {
   "cell_type": "code",
   "execution_count": 9,
   "id": "21a29801-fc98-4bb6-a475-cca6169cfe45",
   "metadata": {},
   "outputs": [
    {
     "data": {
      "text/plain": [
       "'CPG_BRONZE'"
      ]
     },
     "execution_count": 9,
     "metadata": {},
     "output_type": "execute_result"
    }
   ],
   "source": [
    "my_session.connection.schema"
   ]
  },
  {
   "cell_type": "code",
   "execution_count": 10,
   "id": "dc5df006-be98-40a6-8744-61fe8a6fb82b",
   "metadata": {},
   "outputs": [],
   "source": [
    "table_name = \"ASSORTMENT_PLANNING.CPG_BRONZE.SALES_CLEAN\""
   ]
  },
  {
   "cell_type": "code",
   "execution_count": 11,
   "id": "a85aa19e-34df-4e7c-8968-3450060e4514",
   "metadata": {},
   "outputs": [],
   "source": [
    "sf_df = my_session.sql(\"select * from {}\".format(table_name))"
   ]
  },
  {
   "cell_type": "code",
   "execution_count": 12,
   "id": "4b57a10f-f63b-46e4-8d64-1f87ae2beb0f",
   "metadata": {},
   "outputs": [
    {
     "data": {
      "text/plain": [
       "snowflake.snowpark.dataframe.DataFrame"
      ]
     },
     "execution_count": 12,
     "metadata": {},
     "output_type": "execute_result"
    }
   ],
   "source": [
    "type(sf_df)"
   ]
  },
  {
   "cell_type": "code",
   "execution_count": 13,
   "id": "771e6882-8c92-416c-82d1-ac1e5a0ac944",
   "metadata": {},
   "outputs": [],
   "source": [
    "df=sf_df.to_pandas()"
   ]
  },
  {
   "cell_type": "code",
   "execution_count": 14,
   "id": "b540d696-044d-47c5-9dca-6ab172978258",
   "metadata": {},
   "outputs": [
    {
     "data": {
      "text/plain": [
       "pandas.core.frame.DataFrame"
      ]
     },
     "execution_count": 14,
     "metadata": {},
     "output_type": "execute_result"
    }
   ],
   "source": [
    "type(df)"
   ]
  },
  {
   "cell_type": "code",
   "execution_count": 15,
   "id": "463e44ad-40cb-4173-abfd-949fdb5dd235",
   "metadata": {},
   "outputs": [
    {
     "data": {
      "text/html": [
       "<div>\n",
       "<style scoped>\n",
       "    .dataframe tbody tr th:only-of-type {\n",
       "        vertical-align: middle;\n",
       "    }\n",
       "\n",
       "    .dataframe tbody tr th {\n",
       "        vertical-align: top;\n",
       "    }\n",
       "\n",
       "    .dataframe thead th {\n",
       "        text-align: right;\n",
       "    }\n",
       "</style>\n",
       "<table border=\"1\" class=\"dataframe\">\n",
       "  <thead>\n",
       "    <tr style=\"text-align: right;\">\n",
       "      <th></th>\n",
       "      <th>MNTH_CODE</th>\n",
       "      <th>TRANS_DATE</th>\n",
       "      <th>START_DATE</th>\n",
       "      <th>SALES_VALUE</th>\n",
       "      <th>SALES_UNITS</th>\n",
       "      <th>SALES_VOLUME</th>\n",
       "      <th>SALES_PTR_VALUE</th>\n",
       "      <th>OC_CODE</th>\n",
       "      <th>DISTRIBUTOR_CODE</th>\n",
       "      <th>OUTLET_CODE</th>\n",
       "      <th>CITY</th>\n",
       "      <th>STATE</th>\n",
       "      <th>COUNTY</th>\n",
       "      <th>STREET</th>\n",
       "      <th>PRODUCT_CODE</th>\n",
       "      <th>CATEGORY</th>\n",
       "      <th>SUBCATEGORY</th>\n",
       "      <th>BRAND</th>\n",
       "    </tr>\n",
       "  </thead>\n",
       "  <tbody>\n",
       "    <tr>\n",
       "      <th>0</th>\n",
       "      <td>202401</td>\n",
       "      <td>2024-01-18</td>\n",
       "      <td>2024-01-02</td>\n",
       "      <td>1537.89</td>\n",
       "      <td>16</td>\n",
       "      <td>0.001712</td>\n",
       "      <td>1585.454545</td>\n",
       "      <td>202201</td>\n",
       "      <td>DB0706</td>\n",
       "      <td>OL144111</td>\n",
       "      <td>Sedalia</td>\n",
       "      <td>Missouri</td>\n",
       "      <td>City Center</td>\n",
       "      <td>Str4</td>\n",
       "      <td>PRD0064</td>\n",
       "      <td>Hair Care</td>\n",
       "      <td>Conditioner</td>\n",
       "      <td>Bamboo</td>\n",
       "    </tr>\n",
       "    <tr>\n",
       "      <th>1</th>\n",
       "      <td>202401</td>\n",
       "      <td>2024-01-28</td>\n",
       "      <td>2024-01-02</td>\n",
       "      <td>518.18</td>\n",
       "      <td>3</td>\n",
       "      <td>0.001125</td>\n",
       "      <td>518.181818</td>\n",
       "      <td>202201</td>\n",
       "      <td>DB0706</td>\n",
       "      <td>OL238706</td>\n",
       "      <td>Williston</td>\n",
       "      <td>North Dakota</td>\n",
       "      <td>City Center</td>\n",
       "      <td>Str1</td>\n",
       "      <td>PRD0113</td>\n",
       "      <td>Perfume and Deodrants</td>\n",
       "      <td>Unisex Deodrant</td>\n",
       "      <td>Navy Blue</td>\n",
       "    </tr>\n",
       "    <tr>\n",
       "      <th>2</th>\n",
       "      <td>202401</td>\n",
       "      <td>2024-01-13</td>\n",
       "      <td>2024-01-02</td>\n",
       "      <td>113.64</td>\n",
       "      <td>1</td>\n",
       "      <td>0.000250</td>\n",
       "      <td>113.636364</td>\n",
       "      <td>202201</td>\n",
       "      <td>DB0706</td>\n",
       "      <td>OL223076</td>\n",
       "      <td>Silver City</td>\n",
       "      <td>New Mexico</td>\n",
       "      <td>Santa Cruz</td>\n",
       "      <td>Str1</td>\n",
       "      <td>PRD0107</td>\n",
       "      <td>Lotion</td>\n",
       "      <td>Body Lotion</td>\n",
       "      <td>Coral</td>\n",
       "    </tr>\n",
       "    <tr>\n",
       "      <th>3</th>\n",
       "      <td>202401</td>\n",
       "      <td>2024-01-06</td>\n",
       "      <td>2024-01-02</td>\n",
       "      <td>285.71</td>\n",
       "      <td>32</td>\n",
       "      <td>0.000832</td>\n",
       "      <td>285.714286</td>\n",
       "      <td>202201</td>\n",
       "      <td>DB0652</td>\n",
       "      <td>OL175529</td>\n",
       "      <td>Dunkirk</td>\n",
       "      <td>New York</td>\n",
       "      <td>Dolphin</td>\n",
       "      <td>Str3</td>\n",
       "      <td>PRD0147</td>\n",
       "      <td>Kids Care</td>\n",
       "      <td>Baby Cream</td>\n",
       "      <td>Mint</td>\n",
       "    </tr>\n",
       "    <tr>\n",
       "      <th>4</th>\n",
       "      <td>202401</td>\n",
       "      <td>2024-01-18</td>\n",
       "      <td>2024-01-02</td>\n",
       "      <td>290.91</td>\n",
       "      <td>1</td>\n",
       "      <td>0.000500</td>\n",
       "      <td>290.909091</td>\n",
       "      <td>202201</td>\n",
       "      <td>DB0652</td>\n",
       "      <td>OL48851</td>\n",
       "      <td>Stroudsburg</td>\n",
       "      <td>Pennsylvania</td>\n",
       "      <td>City Center</td>\n",
       "      <td>Str2</td>\n",
       "      <td>PRD0004</td>\n",
       "      <td>Lotion</td>\n",
       "      <td>Body Lotion</td>\n",
       "      <td>Tan</td>\n",
       "    </tr>\n",
       "  </tbody>\n",
       "</table>\n",
       "</div>"
      ],
      "text/plain": [
       "   MNTH_CODE  TRANS_DATE  START_DATE  SALES_VALUE  SALES_UNITS  SALES_VOLUME  \\\n",
       "0     202401  2024-01-18  2024-01-02      1537.89           16      0.001712   \n",
       "1     202401  2024-01-28  2024-01-02       518.18            3      0.001125   \n",
       "2     202401  2024-01-13  2024-01-02       113.64            1      0.000250   \n",
       "3     202401  2024-01-06  2024-01-02       285.71           32      0.000832   \n",
       "4     202401  2024-01-18  2024-01-02       290.91            1      0.000500   \n",
       "\n",
       "   SALES_PTR_VALUE  OC_CODE DISTRIBUTOR_CODE OUTLET_CODE         CITY  \\\n",
       "0      1585.454545   202201           DB0706    OL144111      Sedalia   \n",
       "1       518.181818   202201           DB0706    OL238706    Williston   \n",
       "2       113.636364   202201           DB0706    OL223076  Silver City   \n",
       "3       285.714286   202201           DB0652    OL175529      Dunkirk   \n",
       "4       290.909091   202201           DB0652     OL48851  Stroudsburg   \n",
       "\n",
       "          STATE       COUNTY STREET PRODUCT_CODE               CATEGORY  \\\n",
       "0      Missouri  City Center   Str4      PRD0064              Hair Care   \n",
       "1  North Dakota  City Center   Str1      PRD0113  Perfume and Deodrants   \n",
       "2    New Mexico   Santa Cruz   Str1      PRD0107                 Lotion   \n",
       "3      New York      Dolphin   Str3      PRD0147              Kids Care   \n",
       "4  Pennsylvania  City Center   Str2      PRD0004                 Lotion   \n",
       "\n",
       "       SUBCATEGORY      BRAND  \n",
       "0      Conditioner     Bamboo  \n",
       "1  Unisex Deodrant  Navy Blue  \n",
       "2      Body Lotion      Coral  \n",
       "3       Baby Cream       Mint  \n",
       "4      Body Lotion        Tan  "
      ]
     },
     "execution_count": 15,
     "metadata": {},
     "output_type": "execute_result"
    }
   ],
   "source": [
    "df.head(5)"
   ]
  },
  {
   "cell_type": "code",
   "execution_count": 16,
   "id": "ce7fee48-4fdb-4d93-a65d-c053c2e24590",
   "metadata": {},
   "outputs": [
    {
     "data": {
      "text/plain": [
       "(966400, 18)"
      ]
     },
     "execution_count": 16,
     "metadata": {},
     "output_type": "execute_result"
    }
   ],
   "source": [
    "df.shape"
   ]
  },
  {
   "cell_type": "code",
   "execution_count": 17,
   "id": "cc8f131d-10fa-4215-a6d1-5b52313b58ba",
   "metadata": {},
   "outputs": [
    {
     "name": "stdout",
     "output_type": "stream",
     "text": [
      "<class 'pandas.core.frame.DataFrame'>\n",
      "RangeIndex: 966400 entries, 0 to 966399\n",
      "Data columns (total 18 columns):\n",
      " #   Column            Non-Null Count   Dtype  \n",
      "---  ------            --------------   -----  \n",
      " 0   MNTH_CODE         966400 non-null  int32  \n",
      " 1   TRANS_DATE        966400 non-null  object \n",
      " 2   START_DATE        966400 non-null  object \n",
      " 3   SALES_VALUE       966400 non-null  float64\n",
      " 4   SALES_UNITS       966400 non-null  int16  \n",
      " 5   SALES_VOLUME      966400 non-null  float64\n",
      " 6   SALES_PTR_VALUE   966400 non-null  float64\n",
      " 7   OC_CODE           966400 non-null  int32  \n",
      " 8   DISTRIBUTOR_CODE  966400 non-null  object \n",
      " 9   OUTLET_CODE       966400 non-null  object \n",
      " 10  CITY              966400 non-null  object \n",
      " 11  STATE             966400 non-null  object \n",
      " 12  COUNTY            966400 non-null  object \n",
      " 13  STREET            966400 non-null  object \n",
      " 14  PRODUCT_CODE      966400 non-null  object \n",
      " 15  CATEGORY          966400 non-null  object \n",
      " 16  SUBCATEGORY       966400 non-null  object \n",
      " 17  BRAND             966400 non-null  object \n",
      "dtypes: float64(3), int16(1), int32(2), object(12)\n",
      "memory usage: 119.8+ MB\n"
     ]
    }
   ],
   "source": [
    "df.info()"
   ]
  },
  {
   "cell_type": "code",
   "execution_count": 18,
   "id": "e87487c4-635b-4bd7-ae5a-06b7807464c0",
   "metadata": {},
   "outputs": [],
   "source": [
    "df['TRANS_DATE'] = pd.to_datetime(df['TRANS_DATE'])\n",
    "df['START_DATE'] = pd.to_datetime(df['START_DATE'])"
   ]
  },
  {
   "cell_type": "code",
   "execution_count": 19,
   "id": "2b9912ad-c2b5-4359-9e95-f6c3c8ea808b",
   "metadata": {},
   "outputs": [
    {
     "data": {
      "text/html": [
       "<div>\n",
       "<style scoped>\n",
       "    .dataframe tbody tr th:only-of-type {\n",
       "        vertical-align: middle;\n",
       "    }\n",
       "\n",
       "    .dataframe tbody tr th {\n",
       "        vertical-align: top;\n",
       "    }\n",
       "\n",
       "    .dataframe thead th {\n",
       "        text-align: right;\n",
       "    }\n",
       "</style>\n",
       "<table border=\"1\" class=\"dataframe\">\n",
       "  <thead>\n",
       "    <tr style=\"text-align: right;\">\n",
       "      <th></th>\n",
       "      <th>MNTH_CODE</th>\n",
       "      <th>TRANS_DATE</th>\n",
       "      <th>START_DATE</th>\n",
       "      <th>SALES_VALUE</th>\n",
       "      <th>SALES_UNITS</th>\n",
       "      <th>SALES_VOLUME</th>\n",
       "      <th>SALES_PTR_VALUE</th>\n",
       "      <th>OC_CODE</th>\n",
       "    </tr>\n",
       "  </thead>\n",
       "  <tbody>\n",
       "    <tr>\n",
       "      <th>count</th>\n",
       "      <td>966400.000000</td>\n",
       "      <td>966400</td>\n",
       "      <td>966400</td>\n",
       "      <td>966400.000000</td>\n",
       "      <td>966400.000000</td>\n",
       "      <td>966400.000000</td>\n",
       "      <td>966400.000000</td>\n",
       "      <td>966400.000000</td>\n",
       "    </tr>\n",
       "    <tr>\n",
       "      <th>mean</th>\n",
       "      <td>202372.876450</td>\n",
       "      <td>2024-03-01 03:47:10.976822272</td>\n",
       "      <td>2024-02-14 23:17:36.278145792</td>\n",
       "      <td>446.417454</td>\n",
       "      <td>12.696476</td>\n",
       "      <td>0.000931</td>\n",
       "      <td>457.814679</td>\n",
       "      <td>202206.573263</td>\n",
       "    </tr>\n",
       "    <tr>\n",
       "      <th>min</th>\n",
       "      <td>202309.000000</td>\n",
       "      <td>2023-08-29 00:00:00</td>\n",
       "      <td>2023-08-28 00:00:00</td>\n",
       "      <td>2.860000</td>\n",
       "      <td>1.000000</td>\n",
       "      <td>0.000011</td>\n",
       "      <td>1.785714</td>\n",
       "      <td>202201.000000</td>\n",
       "    </tr>\n",
       "    <tr>\n",
       "      <th>25%</th>\n",
       "      <td>202312.000000</td>\n",
       "      <td>2023-11-30 00:00:00</td>\n",
       "      <td>2023-11-27 00:00:00</td>\n",
       "      <td>140.000000</td>\n",
       "      <td>2.000000</td>\n",
       "      <td>0.000368</td>\n",
       "      <td>142.857143</td>\n",
       "      <td>202204.000000</td>\n",
       "    </tr>\n",
       "    <tr>\n",
       "      <th>50%</th>\n",
       "      <td>202403.000000</td>\n",
       "      <td>2024-03-03 00:00:00</td>\n",
       "      <td>2024-02-27 00:00:00</td>\n",
       "      <td>192.240000</td>\n",
       "      <td>6.000000</td>\n",
       "      <td>0.000448</td>\n",
       "      <td>198.181818</td>\n",
       "      <td>202207.000000</td>\n",
       "    </tr>\n",
       "    <tr>\n",
       "      <th>75%</th>\n",
       "      <td>202406.000000</td>\n",
       "      <td>2024-06-04 00:00:00</td>\n",
       "      <td>2024-05-29 00:00:00</td>\n",
       "      <td>450.000000</td>\n",
       "      <td>16.000000</td>\n",
       "      <td>0.000900</td>\n",
       "      <td>450.000000</td>\n",
       "      <td>202209.000000</td>\n",
       "    </tr>\n",
       "    <tr>\n",
       "      <th>max</th>\n",
       "      <td>202408.000000</td>\n",
       "      <td>2024-08-27 00:00:00</td>\n",
       "      <td>2024-07-31 00:00:00</td>\n",
       "      <td>145728.120000</td>\n",
       "      <td>10240.000000</td>\n",
       "      <td>0.275500</td>\n",
       "      <td>151800.000000</td>\n",
       "      <td>202212.000000</td>\n",
       "    </tr>\n",
       "    <tr>\n",
       "      <th>std</th>\n",
       "      <td>44.525843</td>\n",
       "      <td>NaN</td>\n",
       "      <td>NaN</td>\n",
       "      <td>1053.355633</td>\n",
       "      <td>40.761336</td>\n",
       "      <td>0.002063</td>\n",
       "      <td>1101.769102</td>\n",
       "      <td>3.404526</td>\n",
       "    </tr>\n",
       "  </tbody>\n",
       "</table>\n",
       "</div>"
      ],
      "text/plain": [
       "           MNTH_CODE                     TRANS_DATE  \\\n",
       "count  966400.000000                         966400   \n",
       "mean   202372.876450  2024-03-01 03:47:10.976822272   \n",
       "min    202309.000000            2023-08-29 00:00:00   \n",
       "25%    202312.000000            2023-11-30 00:00:00   \n",
       "50%    202403.000000            2024-03-03 00:00:00   \n",
       "75%    202406.000000            2024-06-04 00:00:00   \n",
       "max    202408.000000            2024-08-27 00:00:00   \n",
       "std        44.525843                            NaN   \n",
       "\n",
       "                          START_DATE    SALES_VALUE    SALES_UNITS  \\\n",
       "count                         966400  966400.000000  966400.000000   \n",
       "mean   2024-02-14 23:17:36.278145792     446.417454      12.696476   \n",
       "min              2023-08-28 00:00:00       2.860000       1.000000   \n",
       "25%              2023-11-27 00:00:00     140.000000       2.000000   \n",
       "50%              2024-02-27 00:00:00     192.240000       6.000000   \n",
       "75%              2024-05-29 00:00:00     450.000000      16.000000   \n",
       "max              2024-07-31 00:00:00  145728.120000   10240.000000   \n",
       "std                              NaN    1053.355633      40.761336   \n",
       "\n",
       "        SALES_VOLUME  SALES_PTR_VALUE        OC_CODE  \n",
       "count  966400.000000    966400.000000  966400.000000  \n",
       "mean        0.000931       457.814679  202206.573263  \n",
       "min         0.000011         1.785714  202201.000000  \n",
       "25%         0.000368       142.857143  202204.000000  \n",
       "50%         0.000448       198.181818  202207.000000  \n",
       "75%         0.000900       450.000000  202209.000000  \n",
       "max         0.275500    151800.000000  202212.000000  \n",
       "std         0.002063      1101.769102       3.404526  "
      ]
     },
     "execution_count": 19,
     "metadata": {},
     "output_type": "execute_result"
    }
   ],
   "source": [
    "df.describe()"
   ]
  },
  {
   "cell_type": "code",
   "execution_count": 20,
   "id": "23b3a5ca-642f-47f2-b196-c822f343687a",
   "metadata": {},
   "outputs": [
    {
     "data": {
      "text/plain": [
       "Index(['MNTH_CODE', 'TRANS_DATE', 'START_DATE', 'SALES_VALUE', 'SALES_UNITS',\n",
       "       'SALES_VOLUME', 'SALES_PTR_VALUE', 'OC_CODE', 'DISTRIBUTOR_CODE',\n",
       "       'OUTLET_CODE', 'CITY', 'STATE', 'COUNTY', 'STREET', 'PRODUCT_CODE',\n",
       "       'CATEGORY', 'SUBCATEGORY', 'BRAND'],\n",
       "      dtype='object')"
      ]
     },
     "execution_count": 20,
     "metadata": {},
     "output_type": "execute_result"
    }
   ],
   "source": [
    "df.columns"
   ]
  },
  {
   "cell_type": "code",
   "execution_count": 21,
   "id": "881d5d09-8684-4dc6-a69e-444edf71c766",
   "metadata": {},
   "outputs": [
    {
     "data": {
      "text/plain": [
       "MNTH_CODE           0\n",
       "TRANS_DATE          0\n",
       "START_DATE          0\n",
       "SALES_VALUE         0\n",
       "SALES_UNITS         0\n",
       "SALES_VOLUME        0\n",
       "SALES_PTR_VALUE     0\n",
       "OC_CODE             0\n",
       "DISTRIBUTOR_CODE    0\n",
       "OUTLET_CODE         0\n",
       "CITY                0\n",
       "STATE               0\n",
       "COUNTY              0\n",
       "STREET              0\n",
       "PRODUCT_CODE        0\n",
       "CATEGORY            0\n",
       "SUBCATEGORY         0\n",
       "BRAND               0\n",
       "dtype: int64"
      ]
     },
     "execution_count": 21,
     "metadata": {},
     "output_type": "execute_result"
    }
   ],
   "source": [
    "df.isnull().sum()"
   ]
  },
  {
   "cell_type": "code",
   "execution_count": 22,
   "id": "34225015-add9-49a2-9268-359c8fa69da2",
   "metadata": {},
   "outputs": [
    {
     "data": {
      "text/plain": [
       "3158"
      ]
     },
     "execution_count": 22,
     "metadata": {},
     "output_type": "execute_result"
    }
   ],
   "source": [
    "df.duplicated().sum()"
   ]
  },
  {
   "cell_type": "code",
   "execution_count": 23,
   "id": "3f9b60bd-90f7-4156-9ed7-3cc82cd45a15",
   "metadata": {},
   "outputs": [
    {
     "data": {
      "text/html": [
       "<div>\n",
       "<style scoped>\n",
       "    .dataframe tbody tr th:only-of-type {\n",
       "        vertical-align: middle;\n",
       "    }\n",
       "\n",
       "    .dataframe tbody tr th {\n",
       "        vertical-align: top;\n",
       "    }\n",
       "\n",
       "    .dataframe thead th {\n",
       "        text-align: right;\n",
       "    }\n",
       "</style>\n",
       "<table border=\"1\" class=\"dataframe\">\n",
       "  <thead>\n",
       "    <tr style=\"text-align: right;\">\n",
       "      <th></th>\n",
       "      <th>MNTH_CODE</th>\n",
       "      <th>SALES_VALUE</th>\n",
       "      <th>SALES_UNITS</th>\n",
       "      <th>SALES_VOLUME</th>\n",
       "      <th>SALES_PTR_VALUE</th>\n",
       "      <th>OC_CODE</th>\n",
       "    </tr>\n",
       "  </thead>\n",
       "  <tbody>\n",
       "    <tr>\n",
       "      <th>MNTH_CODE</th>\n",
       "      <td>1.000000</td>\n",
       "      <td>-0.007954</td>\n",
       "      <td>-0.011117</td>\n",
       "      <td>-0.005767</td>\n",
       "      <td>-0.007843</td>\n",
       "      <td>-0.791833</td>\n",
       "    </tr>\n",
       "    <tr>\n",
       "      <th>SALES_VALUE</th>\n",
       "      <td>-0.007954</td>\n",
       "      <td>1.000000</td>\n",
       "      <td>0.331870</td>\n",
       "      <td>0.925910</td>\n",
       "      <td>0.996460</td>\n",
       "      <td>0.005674</td>\n",
       "    </tr>\n",
       "    <tr>\n",
       "      <th>SALES_UNITS</th>\n",
       "      <td>-0.011117</td>\n",
       "      <td>0.331870</td>\n",
       "      <td>1.000000</td>\n",
       "      <td>0.427627</td>\n",
       "      <td>0.334911</td>\n",
       "      <td>0.013232</td>\n",
       "    </tr>\n",
       "    <tr>\n",
       "      <th>SALES_VOLUME</th>\n",
       "      <td>-0.005767</td>\n",
       "      <td>0.925910</td>\n",
       "      <td>0.427627</td>\n",
       "      <td>1.000000</td>\n",
       "      <td>0.927547</td>\n",
       "      <td>0.004323</td>\n",
       "    </tr>\n",
       "    <tr>\n",
       "      <th>SALES_PTR_VALUE</th>\n",
       "      <td>-0.007843</td>\n",
       "      <td>0.996460</td>\n",
       "      <td>0.334911</td>\n",
       "      <td>0.927547</td>\n",
       "      <td>1.000000</td>\n",
       "      <td>0.006129</td>\n",
       "    </tr>\n",
       "    <tr>\n",
       "      <th>OC_CODE</th>\n",
       "      <td>-0.791833</td>\n",
       "      <td>0.005674</td>\n",
       "      <td>0.013232</td>\n",
       "      <td>0.004323</td>\n",
       "      <td>0.006129</td>\n",
       "      <td>1.000000</td>\n",
       "    </tr>\n",
       "  </tbody>\n",
       "</table>\n",
       "</div>"
      ],
      "text/plain": [
       "                 MNTH_CODE  SALES_VALUE  SALES_UNITS  SALES_VOLUME  \\\n",
       "MNTH_CODE         1.000000    -0.007954    -0.011117     -0.005767   \n",
       "SALES_VALUE      -0.007954     1.000000     0.331870      0.925910   \n",
       "SALES_UNITS      -0.011117     0.331870     1.000000      0.427627   \n",
       "SALES_VOLUME     -0.005767     0.925910     0.427627      1.000000   \n",
       "SALES_PTR_VALUE  -0.007843     0.996460     0.334911      0.927547   \n",
       "OC_CODE          -0.791833     0.005674     0.013232      0.004323   \n",
       "\n",
       "                 SALES_PTR_VALUE   OC_CODE  \n",
       "MNTH_CODE              -0.007843 -0.791833  \n",
       "SALES_VALUE             0.996460  0.005674  \n",
       "SALES_UNITS             0.334911  0.013232  \n",
       "SALES_VOLUME            0.927547  0.004323  \n",
       "SALES_PTR_VALUE         1.000000  0.006129  \n",
       "OC_CODE                 0.006129  1.000000  "
      ]
     },
     "execution_count": 23,
     "metadata": {},
     "output_type": "execute_result"
    }
   ],
   "source": [
    "df.corr(numeric_only=True)"
   ]
  },
  {
   "cell_type": "code",
   "execution_count": 24,
   "id": "9361a820-0f90-45d7-8b9a-1bc41748da8e",
   "metadata": {},
   "outputs": [
    {
     "data": {
      "text/plain": [
       "303"
      ]
     },
     "execution_count": 24,
     "metadata": {},
     "output_type": "execute_result"
    }
   ],
   "source": [
    "# Find unique dates\n",
    "df['TRANS_DATE'].nunique()"
   ]
  },
  {
   "cell_type": "code",
   "execution_count": 25,
   "id": "c02cc86c-2eeb-4b72-be06-3bf49a82d6f5",
   "metadata": {},
   "outputs": [],
   "source": [
    "# Create features from date column\n",
    "df['YEAR'] = df['TRANS_DATE'].dt.year\n",
    "df['MONTH'] = df['TRANS_DATE'].dt.month\n",
    "df['DAY'] = df['TRANS_DATE'].dt.day\n",
    "df['DAY_OF_WEEK'] = df['TRANS_DATE'].dt.day_of_week + 1 # Monday is 1 and sunday is 7\n",
    "df['QUARTER'] = df['TRANS_DATE'].dt.quarter\n",
    "df['DAY_OF_YEAR'] = df['TRANS_DATE'].dt.dayofyear"
   ]
  },
  {
   "cell_type": "code",
   "execution_count": 26,
   "id": "2381c813-c0ea-4d17-801c-25b524bb9edd",
   "metadata": {},
   "outputs": [],
   "source": [
    "# Set option to display all columns\n",
    "pd.set_option('display.max_columns', None)"
   ]
  },
  {
   "cell_type": "code",
   "execution_count": 27,
   "id": "3b0b62c6-f6ef-4ab3-8341-2d178e828185",
   "metadata": {},
   "outputs": [
    {
     "data": {
      "text/html": [
       "<div>\n",
       "<style scoped>\n",
       "    .dataframe tbody tr th:only-of-type {\n",
       "        vertical-align: middle;\n",
       "    }\n",
       "\n",
       "    .dataframe tbody tr th {\n",
       "        vertical-align: top;\n",
       "    }\n",
       "\n",
       "    .dataframe thead th {\n",
       "        text-align: right;\n",
       "    }\n",
       "</style>\n",
       "<table border=\"1\" class=\"dataframe\">\n",
       "  <thead>\n",
       "    <tr style=\"text-align: right;\">\n",
       "      <th></th>\n",
       "      <th>MNTH_CODE</th>\n",
       "      <th>TRANS_DATE</th>\n",
       "      <th>START_DATE</th>\n",
       "      <th>SALES_VALUE</th>\n",
       "      <th>SALES_UNITS</th>\n",
       "      <th>SALES_VOLUME</th>\n",
       "      <th>SALES_PTR_VALUE</th>\n",
       "      <th>OC_CODE</th>\n",
       "      <th>DISTRIBUTOR_CODE</th>\n",
       "      <th>OUTLET_CODE</th>\n",
       "      <th>CITY</th>\n",
       "      <th>STATE</th>\n",
       "      <th>COUNTY</th>\n",
       "      <th>STREET</th>\n",
       "      <th>PRODUCT_CODE</th>\n",
       "      <th>CATEGORY</th>\n",
       "      <th>SUBCATEGORY</th>\n",
       "      <th>BRAND</th>\n",
       "      <th>YEAR</th>\n",
       "      <th>MONTH</th>\n",
       "      <th>DAY</th>\n",
       "      <th>DAY_OF_WEEK</th>\n",
       "      <th>QUARTER</th>\n",
       "      <th>DAY_OF_YEAR</th>\n",
       "    </tr>\n",
       "  </thead>\n",
       "  <tbody>\n",
       "    <tr>\n",
       "      <th>0</th>\n",
       "      <td>202401</td>\n",
       "      <td>2024-01-18</td>\n",
       "      <td>2024-01-02</td>\n",
       "      <td>1537.89</td>\n",
       "      <td>16</td>\n",
       "      <td>0.001712</td>\n",
       "      <td>1585.454545</td>\n",
       "      <td>202201</td>\n",
       "      <td>DB0706</td>\n",
       "      <td>OL144111</td>\n",
       "      <td>Sedalia</td>\n",
       "      <td>Missouri</td>\n",
       "      <td>City Center</td>\n",
       "      <td>Str4</td>\n",
       "      <td>PRD0064</td>\n",
       "      <td>Hair Care</td>\n",
       "      <td>Conditioner</td>\n",
       "      <td>Bamboo</td>\n",
       "      <td>2024</td>\n",
       "      <td>1</td>\n",
       "      <td>18</td>\n",
       "      <td>4</td>\n",
       "      <td>1</td>\n",
       "      <td>18</td>\n",
       "    </tr>\n",
       "    <tr>\n",
       "      <th>1</th>\n",
       "      <td>202401</td>\n",
       "      <td>2024-01-28</td>\n",
       "      <td>2024-01-02</td>\n",
       "      <td>518.18</td>\n",
       "      <td>3</td>\n",
       "      <td>0.001125</td>\n",
       "      <td>518.181818</td>\n",
       "      <td>202201</td>\n",
       "      <td>DB0706</td>\n",
       "      <td>OL238706</td>\n",
       "      <td>Williston</td>\n",
       "      <td>North Dakota</td>\n",
       "      <td>City Center</td>\n",
       "      <td>Str1</td>\n",
       "      <td>PRD0113</td>\n",
       "      <td>Perfume and Deodrants</td>\n",
       "      <td>Unisex Deodrant</td>\n",
       "      <td>Navy Blue</td>\n",
       "      <td>2024</td>\n",
       "      <td>1</td>\n",
       "      <td>28</td>\n",
       "      <td>7</td>\n",
       "      <td>1</td>\n",
       "      <td>28</td>\n",
       "    </tr>\n",
       "    <tr>\n",
       "      <th>2</th>\n",
       "      <td>202401</td>\n",
       "      <td>2024-01-13</td>\n",
       "      <td>2024-01-02</td>\n",
       "      <td>113.64</td>\n",
       "      <td>1</td>\n",
       "      <td>0.000250</td>\n",
       "      <td>113.636364</td>\n",
       "      <td>202201</td>\n",
       "      <td>DB0706</td>\n",
       "      <td>OL223076</td>\n",
       "      <td>Silver City</td>\n",
       "      <td>New Mexico</td>\n",
       "      <td>Santa Cruz</td>\n",
       "      <td>Str1</td>\n",
       "      <td>PRD0107</td>\n",
       "      <td>Lotion</td>\n",
       "      <td>Body Lotion</td>\n",
       "      <td>Coral</td>\n",
       "      <td>2024</td>\n",
       "      <td>1</td>\n",
       "      <td>13</td>\n",
       "      <td>6</td>\n",
       "      <td>1</td>\n",
       "      <td>13</td>\n",
       "    </tr>\n",
       "    <tr>\n",
       "      <th>3</th>\n",
       "      <td>202401</td>\n",
       "      <td>2024-01-06</td>\n",
       "      <td>2024-01-02</td>\n",
       "      <td>285.71</td>\n",
       "      <td>32</td>\n",
       "      <td>0.000832</td>\n",
       "      <td>285.714286</td>\n",
       "      <td>202201</td>\n",
       "      <td>DB0652</td>\n",
       "      <td>OL175529</td>\n",
       "      <td>Dunkirk</td>\n",
       "      <td>New York</td>\n",
       "      <td>Dolphin</td>\n",
       "      <td>Str3</td>\n",
       "      <td>PRD0147</td>\n",
       "      <td>Kids Care</td>\n",
       "      <td>Baby Cream</td>\n",
       "      <td>Mint</td>\n",
       "      <td>2024</td>\n",
       "      <td>1</td>\n",
       "      <td>6</td>\n",
       "      <td>6</td>\n",
       "      <td>1</td>\n",
       "      <td>6</td>\n",
       "    </tr>\n",
       "    <tr>\n",
       "      <th>4</th>\n",
       "      <td>202401</td>\n",
       "      <td>2024-01-18</td>\n",
       "      <td>2024-01-02</td>\n",
       "      <td>290.91</td>\n",
       "      <td>1</td>\n",
       "      <td>0.000500</td>\n",
       "      <td>290.909091</td>\n",
       "      <td>202201</td>\n",
       "      <td>DB0652</td>\n",
       "      <td>OL48851</td>\n",
       "      <td>Stroudsburg</td>\n",
       "      <td>Pennsylvania</td>\n",
       "      <td>City Center</td>\n",
       "      <td>Str2</td>\n",
       "      <td>PRD0004</td>\n",
       "      <td>Lotion</td>\n",
       "      <td>Body Lotion</td>\n",
       "      <td>Tan</td>\n",
       "      <td>2024</td>\n",
       "      <td>1</td>\n",
       "      <td>18</td>\n",
       "      <td>4</td>\n",
       "      <td>1</td>\n",
       "      <td>18</td>\n",
       "    </tr>\n",
       "  </tbody>\n",
       "</table>\n",
       "</div>"
      ],
      "text/plain": [
       "   MNTH_CODE TRANS_DATE START_DATE  SALES_VALUE  SALES_UNITS  SALES_VOLUME  \\\n",
       "0     202401 2024-01-18 2024-01-02      1537.89           16      0.001712   \n",
       "1     202401 2024-01-28 2024-01-02       518.18            3      0.001125   \n",
       "2     202401 2024-01-13 2024-01-02       113.64            1      0.000250   \n",
       "3     202401 2024-01-06 2024-01-02       285.71           32      0.000832   \n",
       "4     202401 2024-01-18 2024-01-02       290.91            1      0.000500   \n",
       "\n",
       "   SALES_PTR_VALUE  OC_CODE DISTRIBUTOR_CODE OUTLET_CODE         CITY  \\\n",
       "0      1585.454545   202201           DB0706    OL144111      Sedalia   \n",
       "1       518.181818   202201           DB0706    OL238706    Williston   \n",
       "2       113.636364   202201           DB0706    OL223076  Silver City   \n",
       "3       285.714286   202201           DB0652    OL175529      Dunkirk   \n",
       "4       290.909091   202201           DB0652     OL48851  Stroudsburg   \n",
       "\n",
       "          STATE       COUNTY STREET PRODUCT_CODE               CATEGORY  \\\n",
       "0      Missouri  City Center   Str4      PRD0064              Hair Care   \n",
       "1  North Dakota  City Center   Str1      PRD0113  Perfume and Deodrants   \n",
       "2    New Mexico   Santa Cruz   Str1      PRD0107                 Lotion   \n",
       "3      New York      Dolphin   Str3      PRD0147              Kids Care   \n",
       "4  Pennsylvania  City Center   Str2      PRD0004                 Lotion   \n",
       "\n",
       "       SUBCATEGORY      BRAND  YEAR  MONTH  DAY  DAY_OF_WEEK  QUARTER  \\\n",
       "0      Conditioner     Bamboo  2024      1   18            4        1   \n",
       "1  Unisex Deodrant  Navy Blue  2024      1   28            7        1   \n",
       "2      Body Lotion      Coral  2024      1   13            6        1   \n",
       "3       Baby Cream       Mint  2024      1    6            6        1   \n",
       "4      Body Lotion        Tan  2024      1   18            4        1   \n",
       "\n",
       "   DAY_OF_YEAR  \n",
       "0           18  \n",
       "1           28  \n",
       "2           13  \n",
       "3            6  \n",
       "4           18  "
      ]
     },
     "execution_count": 27,
     "metadata": {},
     "output_type": "execute_result"
    }
   ],
   "source": [
    "df.head(5)"
   ]
  },
  {
   "cell_type": "code",
   "execution_count": 34,
   "id": "3d4bdf11-78ee-4b8d-9de7-493ebc32ac70",
   "metadata": {},
   "outputs": [
    {
     "data": {
      "image/png": "[encoded data removed]",
      "text/plain": [
       "<Figure size 1000x500 with 1 Axes>"
      ]
     },
     "metadata": {},
     "output_type": "display_data"
    },
    {
     "data": {
      "image/png": "[encoded data removed]",
      "text/plain": [
       "<Figure size 1000x500 with 1 Axes>"
      ]
     },
     "metadata": {},
     "output_type": "display_data"
    },
    {
     "data": {
      "image/png": "[encoded data removed]",
      "text/plain": [
       "<Figure size 1000x500 with 1 Axes>"
      ]
     },
     "metadata": {},
     "output_type": "display_data"
    }
   ],
   "source": [
    "import matplotlib.pyplot as plt\n",
    "# Plot SALES_UNITS over MONTH\n",
    "plt.figure(figsize=(10, 5))\n",
    "df.groupby('MONTH')['SALES_UNITS'].sum().plot(kind='line', color='skyblue')\n",
    "plt.title('SALES_UNITS over MONTH')\n",
    "plt.xlabel('Month')\n",
    "plt.ylabel('SALES_UNITS')\n",
    "plt.grid(True)\n",
    "plt.show()\n",
    "\n",
    "# Plot SALES_UNITS over DAY\n",
    "plt.figure(figsize=(10, 5))\n",
    "df.groupby('DAY')['SALES_UNITS'].sum().plot(kind='line', color='lightgreen')\n",
    "plt.title('SALES_UNITS over DAY')\n",
    "plt.xlabel('Day')\n",
    "plt.ylabel('SALES_UNITS')\n",
    "plt.grid(True)\n",
    "plt.show()\n",
    "\n",
    "\n",
    "# Plot SALES_UNITS over QUARTER\n",
    "plt.figure(figsize=(10, 5))\n",
    "df.groupby('QUARTER')['SALES_UNITS'].sum().plot(kind='line', color='orange')\n",
    "plt.title('SALES_UNITS over QUARTER')\n",
    "plt.xlabel('Quarter')\n",
    "plt.ylabel('SALES_UNITS')\n",
    "plt.grid(True)\n",
    "plt.show()"
   ]
  },
  {
   "cell_type": "code",
   "execution_count": null,
   "id": "1c6ed5c0-5f1c-4df6-b735-d2f3213f86df",
   "metadata": {},
   "outputs": [],
   "source": [
    "'''from ydata_profiling import ProfileReport\n",
    "profile=ProfileReport(df,explorative=True)\n",
    "profile.to_file(\"autoeda_v1.html\")"
   ]
  },
  {
   "cell_type": "code",
   "execution_count": 35,
   "id": "0f3aa9e9-804d-429b-ad2a-479202d2757e",
   "metadata": {},
   "outputs": [
    {
     "data": {
      "image/png": "[encoded data removed]",
      "text/plain": [
       "<Figure size 1000x500 with 1 Axes>"
      ]
     },
     "metadata": {},
     "output_type": "display_data"
    }
   ],
   "source": [
    "# Plot SALES_UNITS over DAY_OF_WEEK\n",
    "plt.figure(figsize=(10, 5))\n",
    "df.groupby('DAY_OF_WEEK')['SALES_UNITS'].sum().plot(kind='bar', color='salmon')\n",
    "plt.title('SALES_UNITS over DAY_OF_WEEK')\n",
    "plt.xlabel('Day of the Week')\n",
    "plt.ylabel('SALES_UNITS')\n",
    "plt.grid(True)\n",
    "plt.show()"
   ]
  },
  {
   "cell_type": "code",
   "execution_count": null,
   "id": "cb65446d-95ca-496d-a8eb-08b9ee12d5d5",
   "metadata": {},
   "outputs": [],
   "source": []
  }
 ],
 "metadata": {
  "kernelspec": {
   "display_name": "Python 3 (ipykernel)",
   "language": "python",
   "name": "python3"
  },
  "language_info": {
   "codemirror_mode": {
    "name": "ipython",
    "version": 3
   },
   "file_extension": ".py",
   "mimetype": "text/x-python",
   "name": "python",
   "nbconvert_exporter": "python",
   "pygments_lexer": "ipython3",
   "version": "3.9.19"
  }
 },
 "nbformat": 4,
 "nbformat_minor": 5
}
