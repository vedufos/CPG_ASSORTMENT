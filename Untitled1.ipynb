{
 "cells": [
  {
   "cell_type": "code",
   "execution_count": 27,
   "id": "86868396-6147-4712-90b0-391a4bbec42c",
   "metadata": {},
   "outputs": [],
   "source": [
    "def run(session) -> str:\n",
    "    import io         # for image conversion\n",
    "    import base64          # for image conversion\n",
    "    import pandas as pd      #for data manipulation\n",
    "    import matplotlib.pyplot as plt      # for plotting\n",
    "    from statsmodels.tsa.arima.model import ARIMA       # for time series forecasting\n",
    "    from statsmodels.graphics.tsaplots import plot_acf, plot_pacf     #for plotting autocorrelation and partial autocorrelation functions  \n",
    "    \n"
   ]
  },
  {
   "cell_type": "code",
   "execution_count": 29,
   "id": "33bd17a2-49cd-42ec-95da-c139e9c23c1b",
   "metadata": {},
   "outputs": [],
   "source": [
    "    import pandas as pd\n",
    "data = pd.read_csv('data.csv')\n",
    "\n",
    "#data = session.table(\"SALES_CLEAN\").to_pandas()"
   ]
  },
  {
   "cell_type": "code",
   "execution_count": 31,
   "id": "880ed021-0c7c-458a-99c8-627119d880b1",
   "metadata": {},
   "outputs": [],
   "source": [
    "# Ensure TRANS_DATE is in datetime format\n",
    "data['TRANS_DATE'] = pd.to_datetime(data['TRANS_DATE'])"
   ]
  },
  {
   "cell_type": "code",
   "execution_count": 32,
   "id": "5c93f052-f722-4f4c-af52-1a3af3ccf3ca",
   "metadata": {},
   "outputs": [],
   "source": [
    "# Group by OUTLET_CODE, PRODUCT_CODE, and TRANS_DATE, and calculate total SALES_UNITS\n",
    "data_grouped = data.groupby(['OUTLET_CODE', 'PRODUCT_CODE', 'TRANS_DATE'])['SALES_UNITS'].sum().reset_index()\n"
   ]
  },
  {
   "cell_type": "code",
   "execution_count": 2,
   "id": "20488142-ff12-4ab4-a6a8-4415faa74208",
   "metadata": {},
   "outputs": [],
   "source": [
    "\n",
    "#takes the data as inputs\n",
    "#It filters the data for the specified outlet and product, creating a time series of sales units.\n",
    "\n",
    "def forecast_sales(data, outlet_code, product_code, forecast_periods=12):  \n",
    "    data_outlet_product = data[(data['OUTLET_CODE'] == outlet_code) & (data['PRODUCT_CODE'] == product_code)]\n",
    "    sales_units_ts = data_outlet_product.set_index('TRANS_DATE')['SALES_UNITS']  \n",
    "    \n",
    "#If the time series is empty, it prints a message and returns None.   \n",
    "    if sales_units_ts.empty: \n",
    "        print(f\"The time series for outlet {outlet_code} and product {product_code} is empty. Skipping.\")\n",
    "        return None\n",
    " #Otherwise, it fits an ARIMA model to the time series and forecasts future sales for the specified number of periods\n",
    "    model = ARIMA(sales_units_ts, order=(1,1,1)) #p,d,q\n",
    "    model_fit = model.fit()  #train the model on the provided data\n",
    "    \n",
    "    forecast = model_fit.forecast(steps=forecast_periods)  #it tells the ARIMA model to predict the sales for the next forecast_periods\n",
    "    return forecast\n"
   ]
  },
  {
   "cell_type": "code",
   "execution_count": 76,
   "id": "f7944cdc-085d-4a76-b3dc-dd9fe7a996df",
   "metadata": {},
   "outputs": [
    {
     "name": "stdout",
     "output_type": "stream",
     "text": [
      "The time series for outlet OUTLET_1 and product PRODUCT_1 is empty. Skipping.\n",
      "No forecast available for the specified outlet and product.\n"
     ]
    }
   ],
   "source": [
    "# Example usage: Forecast for a specific outlet and product\n",
    "outlet_code = 'OUTLET_1'  # replace with a specific outlet code\n",
    "product_code = 'PRODUCT_1'  # replace with a specific product code\n",
    "forecast = forecast_sales(data_grouped, outlet_code, product_code)\n",
    "\n",
    "if forecast is not None:\n",
    "    # Plot the forecast\n",
    "    plt.figure(figsize=(10, 6))\n",
    "    plt.plot(forecast, label='Forecasted Sales')\n",
    "    plt.title(f'Sales Forecast for {product_code} at {outlet_code}')\n",
    "    plt.xlabel('Date')\n",
    "    plt.ylabel('Sales Units')\n",
    "    plt.legend()\n",
    "\n",
    "    # Convert the graph to a base64 string\n",
    "    buf = io.BytesIO()\n",
    "    plt.savefig(buf, format='png')\n",
    "    response = base64.b64encode(buf.getvalue()).decode('utf-8')\n",
    "    buf.close()\n",
    "\n",
    "    print(response)  # or return response if within a function\n",
    "else:\n",
    "    print(\"No forecast available for the specified outlet and product.\")\n"
   ]
  },
  {
   "cell_type": "code",
   "execution_count": 3,
   "id": "0f9370eb-fb4c-4a78-992a-ffecee3c3d60",
   "metadata": {},
   "outputs": [
    {
     "ename": "NameError",
     "evalue": "name 'data' is not defined",
     "output_type": "error",
     "traceback": [
      "\u001b[0;31m---------------------------------------------------------------------------\u001b[0m",
      "\u001b[0;31mNameError\u001b[0m                                 Traceback (most recent call last)",
      "Cell \u001b[0;32mIn[3], line 1\u001b[0m\n\u001b[0;32m----> 1\u001b[0m \u001b[43mdata\u001b[49m\u001b[38;5;241m.\u001b[39mplot()\n",
      "\u001b[0;31mNameError\u001b[0m: name 'data' is not defined"
     ]
    }
   ],
   "source": [
    "data.plot()"
   ]
  },
  {
   "cell_type": "code",
   "execution_count": null,
   "id": "7ff44961-d3ec-4755-bca7-9c9db4b5a879",
   "metadata": {},
   "outputs": [],
   "source": []
  }
 ],
 "metadata": {
  "kernelspec": {
   "display_name": "Python 3 (ipykernel)",
   "language": "python",
   "name": "python3"
  },
  "language_info": {
   "codemirror_mode": {
    "name": "ipython",
    "version": 3
   },
   "file_extension": ".py",
   "mimetype": "text/x-python",
   "name": "python",
   "nbconvert_exporter": "python",
   "pygments_lexer": "ipython3",
   "version": "3.9.19"
  }
 },
 "nbformat": 4,
 "nbformat_minor": 5
}
