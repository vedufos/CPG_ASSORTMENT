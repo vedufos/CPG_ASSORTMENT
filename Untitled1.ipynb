{
 "cells": [
  {
   "cell_type": "code",
   "execution_count": 27,
   "id": "86868396-6147-4712-90b0-391a4bbec42c",
   "metadata": {},
   "outputs": [],
   "source": [
    "def run(session) -> str:\n",
    "    import io         # for image conversion\n",
    "    import base64          # for image conversion\n",
    "    import pandas as pd      #for data manipulation\n",
    "    import matplotlib.pyplot as plt      # for plotting\n",
    "    from statsmodels.tsa.arima.model import ARIMA       # for time series forecasting\n",
    "    from statsmodels.graphics.tsaplots import plot_acf, plot_pacf     #for plotting autocorrelation and partial autocorrelation functions  \n",
    "    \n"
   ]
  },
  {
   "cell_type": "code",
   "execution_count": 29,
   "id": "33bd17a2-49cd-42ec-95da-c139e9c23c1b",
   "metadata": {},
   "outputs": [],
   "source": [
    "    import pandas as pd\n",
    "data = pd.read_csv('data.csv')\n",
    "\n",
    "#data = session.table(\"SALES_CLEAN\").to_pandas()"
   ]
  },
  {
   "cell_type": "code",
   "execution_count": 31,
   "id": "880ed021-0c7c-458a-99c8-627119d880b1",
   "metadata": {},
   "outputs": [],
   "source": [
    "# Ensure TRANS_DATE is in datetime format\n",
    "data['TRANS_DATE'] = pd.to_datetime(data['TRANS_DATE'])"
   ]
  },
  {
   "cell_type": "code",
   "execution_count": 32,
   "id": "5c93f052-f722-4f4c-af52-1a3af3ccf3ca",
   "metadata": {},
   "outputs": [],
   "source": [
    "# Group by OUTLET_CODE, PRODUCT_CODE, and TRANS_DATE, and calculate total SALES_UNITS\n",
    "data_grouped = data.groupby(['OUTLET_CODE', 'PRODUCT_CODE', 'TRANS_DATE'])['SALES_UNITS'].sum().reset_index()\n"
   ]
  },
  {
   "cell_type": "code",
   "execution_count": 62,
   "id": "20488142-ff12-4ab4-a6a8-4415faa74208",
   "metadata": {},
   "outputs": [],
   "source": [
    "from statsmodels.tsa.arima.model import ARIMA\n",
    "\n",
    "#takes the data as inputs\n",
    "#It filters the data for the specified outlet and product, creating a time series of sales units.\n",
    "\n",
    "def forecast_sales(data, outlet_code, product_code, forecast_periods=12):  \n",
    "    data_outlet_product = data[(data['OUTLET_CODE'] == outlet_code) & (data['PRODUCT_CODE'] == product_code)]\n",
    "    sales_units_ts = data_outlet_product.set_index('TRANS_DATE')['SALES_UNITS']  \n",
    "    \n",
    "#If the time series is empty, it prints a message and returns None.   \n",
    "    if sales_units_ts.empty: \n",
    "        print(f\"The time series for outlet {outlet_code} and product {product_code} is empty. Skipping.\")\n",
    "        return None\n",
    "\n",
    "    model = ARIMA(sales_units_ts, order=(1,1,1)) #p,d,q\n",
    "    model_fit = model.fit()   #Otherwise, it fits an ARIMA model to the time series and forecasts future sales for the specified number of periods.\n",
    "    \n",
    "    forecast = model_fit.forecast(steps=forecast_periods)\n",
    "    return forecast\n"
   ]
  },
  {
   "cell_type": "code",
   "execution_count": 76,
   "id": "f7944cdc-085d-4a76-b3dc-dd9fe7a996df",
   "metadata": {},
   "outputs": [
    {
     "name": "stdout",
     "output_type": "stream",
     "text": [
      "The time series for outlet OUTLET_1 and product PRODUCT_1 is empty. Skipping.\n",
      "No forecast available for the specified outlet and product.\n"
     ]
    }
   ],
   "source": [
    "# Example usage: Forecast for a specific outlet and product\n",
    "outlet_code = 'OUTLET_1'  # replace with a specific outlet code\n",
    "product_code = 'PRODUCT_1'  # replace with a specific product code\n",
    "forecast = forecast_sales(data_grouped, outlet_code, product_code)\n",
    "\n",
    "if forecast is not None:\n",
    "    # Plot the forecast\n",
    "    plt.figure(figsize=(10, 6))\n",
    "    plt.plot(forecast, label='Forecasted Sales')\n",
    "    plt.title(f'Sales Forecast for {product_code} at {outlet_code}')\n",
    "    plt.xlabel('Date')\n",
    "    plt.ylabel('Sales Units')\n",
    "    plt.legend()\n",
    "\n",
    "    # Convert the graph to a base64 string\n",
    "    buf = io.BytesIO()\n",
    "    plt.savefig(buf, format='png')\n",
    "    response = base64.b64encode(buf.getvalue()).decode('utf-8')\n",
    "    buf.close()\n",
    "\n",
    "    print(response)  # or return response if within a function\n",
    "else:\n",
    "    print(\"No forecast available for the specified outlet and product.\")\n"
   ]
  },
  {
   "cell_type": "code",
   "execution_count": 80,
   "id": "0f9370eb-fb4c-4a78-992a-ffecee3c3d60",
   "metadata": {},
   "outputs": [
    {
     "data": {
      "text/html": [
       "<div>\n",
       "<style scoped>\n",
       "    .dataframe tbody tr th:only-of-type {\n",
       "        vertical-align: middle;\n",
       "    }\n",
       "\n",
       "    .dataframe tbody tr th {\n",
       "        vertical-align: top;\n",
       "    }\n",
       "\n",
       "    .dataframe thead th {\n",
       "        text-align: right;\n",
       "    }\n",
       "</style>\n",
       "<table border=\"1\" class=\"dataframe\">\n",
       "  <thead>\n",
       "    <tr style=\"text-align: right;\">\n",
       "      <th></th>\n",
       "      <th>MNTH_CODE</th>\n",
       "      <th>TRANS_DATE</th>\n",
       "      <th>SALES_UNITS</th>\n",
       "      <th>SALES_VOLUME</th>\n",
       "    </tr>\n",
       "  </thead>\n",
       "  <tbody>\n",
       "    <tr>\n",
       "      <th>count</th>\n",
       "      <td>387369.000000</td>\n",
       "      <td>387369</td>\n",
       "      <td>387368.000000</td>\n",
       "      <td>387368.000000</td>\n",
       "    </tr>\n",
       "    <tr>\n",
       "      <th>mean</th>\n",
       "      <td>202381.769705</td>\n",
       "      <td>2024-03-01 08:50:29.148951552</td>\n",
       "      <td>12.228338</td>\n",
       "      <td>0.000929</td>\n",
       "    </tr>\n",
       "    <tr>\n",
       "      <th>min</th>\n",
       "      <td>202310.000000</td>\n",
       "      <td>2023-10-02 00:00:00</td>\n",
       "      <td>1.000000</td>\n",
       "      <td>0.000011</td>\n",
       "    </tr>\n",
       "    <tr>\n",
       "      <th>25%</th>\n",
       "      <td>202401.000000</td>\n",
       "      <td>2024-01-05 00:00:00</td>\n",
       "      <td>2.000000</td>\n",
       "      <td>0.000360</td>\n",
       "    </tr>\n",
       "    <tr>\n",
       "      <th>50%</th>\n",
       "      <td>202403.000000</td>\n",
       "      <td>2024-02-28 00:00:00</td>\n",
       "      <td>6.000000</td>\n",
       "      <td>0.000475</td>\n",
       "    </tr>\n",
       "    <tr>\n",
       "      <th>75%</th>\n",
       "      <td>202405.000000</td>\n",
       "      <td>2024-05-07 00:00:00</td>\n",
       "      <td>16.000000</td>\n",
       "      <td>0.000900</td>\n",
       "    </tr>\n",
       "    <tr>\n",
       "      <th>max</th>\n",
       "      <td>202406.000000</td>\n",
       "      <td>2024-07-02 00:00:00</td>\n",
       "      <td>5120.000000</td>\n",
       "      <td>0.275500</td>\n",
       "    </tr>\n",
       "    <tr>\n",
       "      <th>std</th>\n",
       "      <td>38.982133</td>\n",
       "      <td>NaN</td>\n",
       "      <td>37.797226</td>\n",
       "      <td>0.002054</td>\n",
       "    </tr>\n",
       "  </tbody>\n",
       "</table>\n",
       "</div>"
      ],
      "text/plain": [
       "           MNTH_CODE                     TRANS_DATE    SALES_UNITS  \\\n",
       "count  387369.000000                         387369  387368.000000   \n",
       "mean   202381.769705  2024-03-01 08:50:29.148951552      12.228338   \n",
       "min    202310.000000            2023-10-02 00:00:00       1.000000   \n",
       "25%    202401.000000            2024-01-05 00:00:00       2.000000   \n",
       "50%    202403.000000            2024-02-28 00:00:00       6.000000   \n",
       "75%    202405.000000            2024-05-07 00:00:00      16.000000   \n",
       "max    202406.000000            2024-07-02 00:00:00    5120.000000   \n",
       "std        38.982133                            NaN      37.797226   \n",
       "\n",
       "        SALES_VOLUME  \n",
       "count  387368.000000  \n",
       "mean        0.000929  \n",
       "min         0.000011  \n",
       "25%         0.000360  \n",
       "50%         0.000475  \n",
       "75%         0.000900  \n",
       "max         0.275500  \n",
       "std         0.002054  "
      ]
     },
     "execution_count": 80,
     "metadata": {},
     "output_type": "execute_result"
    }
   ],
   "source": [
    "data.describe()"
   ]
  },
  {
   "cell_type": "code",
   "execution_count": null,
   "id": "7ff44961-d3ec-4755-bca7-9c9db4b5a879",
   "metadata": {},
   "outputs": [],
   "source": []
  }
 ],
 "metadata": {
  "kernelspec": {
   "display_name": "Python 3 (ipykernel)",
   "language": "python",
   "name": "python3"
  },
  "language_info": {
   "codemirror_mode": {
    "name": "ipython",
    "version": 3
   },
   "file_extension": ".py",
   "mimetype": "text/x-python",
   "name": "python",
   "nbconvert_exporter": "python",
   "pygments_lexer": "ipython3",
   "version": "3.9.19"
  }
 },
 "nbformat": 4,
 "nbformat_minor": 5
}
