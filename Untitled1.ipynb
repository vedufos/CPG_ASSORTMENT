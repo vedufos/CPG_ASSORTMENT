{
 "cells": [
  {
   "cell_type": "code",
   "execution_count": null,
   "id": "0fbc68bd-6949-4347-9cd1-de5d216780f6",
   "metadata": {},
   "outputs": [],
   "source": [
    "pip install --upgrade fosforml"
   ]
  },
  {
   "cell_type": "code",
   "execution_count": null,
   "id": "2574f5b2-e61d-4984-9a37-e5bf59f58d3d",
   "metadata": {},
   "outputs": [],
   "source": [
    "pip install statsmodels"
   ]
  },
  {
   "cell_type": "code",
   "execution_count": null,
   "id": "369f6747-3cf6-449c-b9d2-bc4de075176e",
   "metadata": {},
   "outputs": [],
   "source": [
    "import pandas as pd\n",
    "import numpy as np\n",
    "from sklearn.model_selection import train_test_split\n",
    "from sklearn.ensemble import RandomForestRegressor\n",
    "from sklearn.metrics import mean_squared_error\n",
    "import matplotlib.pyplot as plt\n",
    "\n",
    "import fosforml\n",
    "from fosforml.model_manager.snowflakesession import get_session\n",
    "my_session = get_session()"
   ]
  },
  {
   "cell_type": "code",
   "execution_count": null,
   "id": "4f93e2b0-cc53-4c9e-b3ca-137ee6eaecd3",
   "metadata": {},
   "outputs": [],
   "source": [
    "my_session.connection.database"
   ]
  },
  {
   "cell_type": "code",
   "execution_count": null,
   "id": "fd18993d-9d85-48a7-9167-484ea50f45df",
   "metadata": {},
   "outputs": [],
   "source": [
    "my_session.connection.schema"
   ]
  },
  {
   "cell_type": "code",
   "execution_count": null,
   "id": "4602b374-904a-4b15-b806-f1f09b35de6d",
   "metadata": {},
   "outputs": [],
   "source": [
    "data = \"ASSORTMENT_PLANNING.CPG_BRONZE.SALES_CLEAN_WITH_CLUSTER_SEP23TOJUL24\""
   ]
  },
  {
   "cell_type": "code",
   "execution_count": null,
   "id": "af8a2978-f331-4d4c-965a-1c6a481c2215",
   "metadata": {},
   "outputs": [],
   "source": [
    "sf_df = my_session.sql(\"select * from {}\".format(data))"
   ]
  },
  {
   "cell_type": "code",
   "execution_count": null,
   "id": "8583572a-6871-4a78-aa20-7752f945b44d",
   "metadata": {},
   "outputs": [],
   "source": [
    "type(sf_df)"
   ]
  },
  {
   "cell_type": "code",
   "execution_count": null,
   "id": "b1e9608f-47e7-465c-b99e-ee360a5f0578",
   "metadata": {},
   "outputs": [],
   "source": [
    "df=sf_df.to_pandas()"
   ]
  },
  {
   "cell_type": "code",
   "execution_count": null,
   "id": "2c8c5e9a-3680-4532-b55f-d9189e9da6fb",
   "metadata": {},
   "outputs": [],
   "source": [
    "type(df)"
   ]
  },
  {
   "cell_type": "code",
   "execution_count": null,
   "id": "406bc885-8b36-4db8-b12c-997a51e27180",
   "metadata": {},
   "outputs": [],
   "source": [
    "df.head()"
   ]
  },
  {
   "cell_type": "code",
   "execution_count": null,
   "id": "d2ea4b70-4626-4c09-a773-8080e7f38076",
   "metadata": {},
   "outputs": [],
   "source": [
    "print(df.dtypes)"
   ]
  },
  {
   "cell_type": "code",
   "execution_count": null,
   "id": "248fcca2-ab95-414c-9908-433d7fba2951",
   "metadata": {},
   "outputs": [],
   "source": [
    "df = df.apply(pd.to_numeric, errors='coerce')"
   ]
  },
  {
   "cell_type": "code",
   "execution_count": null,
   "id": "39fe4d22-0f8b-4067-892e-c2c833b15a8d",
   "metadata": {},
   "outputs": [],
   "source": [
    "df = df.fillna(0)"
   ]
  },
  {
   "cell_type": "code",
   "execution_count": null,
   "id": "97f24f8a-6bac-41bf-a58c-40c32fb08187",
   "metadata": {},
   "outputs": [],
   "source": [
    "# Split the data into features and target variable\n",
    "X = df.drop('SALES_UNITS', axis=1)\n",
    "y = df['OUTLET_CODE']"
   ]
  },
  {
   "cell_type": "code",
   "execution_count": null,
   "id": "b5067ab3-d9bf-4dd6-a2a1-7eb48680885e",
   "metadata": {},
   "outputs": [],
   "source": [
    "X_train, X_test, y_train, y_test = train_test_split(X, y, test_size=0.2, random_state=42)"
   ]
  },
  {
   "cell_type": "code",
   "execution_count": null,
   "id": "6f3461ba-2dcb-46a4-b0c2-8e8b3abd748d",
   "metadata": {},
   "outputs": [],
   "source": [
    "model = RandomForestRegressor(n_estimators=100, random_state=42)\n",
    "model.fit(X_train, y_train)"
   ]
  },
  {
   "cell_type": "code",
   "execution_count": null,
   "id": "85d2d627-8566-4302-9d10-034a70e19a96",
   "metadata": {},
   "outputs": [],
   "source": [
    "# Make predictions\n",
    "y_pred = model.predict(X_test)"
   ]
  },
  {
   "cell_type": "code",
   "execution_count": null,
   "id": "ce2ae34b-35b3-4f81-ad0f-b7d9355d5ec1",
   "metadata": {},
   "outputs": [],
   "source": [
    "# Evaluate the model\n",
    "mse = mean_squared_error(y_test, y_pred)\n",
    "print(f'Mean Squared Error: {mse}')"
   ]
  },
  {
   "cell_type": "code",
   "execution_count": null,
   "id": "2966fa2d-99e4-47fd-8aa7-e62c2c4c4b80",
   "metadata": {},
   "outputs": [],
   "source": [
    "# Visualize the results\n",
    "plt.scatter(y_test, y_pred)\n",
    "plt.xlabel('Outlet Cluster')\n",
    "plt.ylabel('Predicted Sales Units')\n",
    "plt.title('Actual vs Predicted Sales Units')\n",
    "plt.show()"
   ]
  },
  {
   "cell_type": "code",
   "execution_count": null,
   "id": "b4a488ce-785a-4d83-a629-1d4a6840b082",
   "metadata": {},
   "outputs": [],
   "source": [
    "df.columns"
   ]
  },
  {
   "cell_type": "code",
   "execution_count": null,
   "id": "27b7df6a-0b12-47c2-b7e9-2baa47f43d9e",
   "metadata": {},
   "outputs": [],
   "source": [
    "import pandas as pd\n",
    "\n",
    "# Assuming df is your DataFrame\n",
    "df['TRANS_DATE'] = pd.to_datetime(df['TRANS_DATE'])\n",
    "df = df.sort_values(by='TRANS_DATE')"
   ]
  },
  {
   "cell_type": "code",
   "execution_count": null,
   "id": "467e14f1-651e-4220-a9e5-47c1b0c79e83",
   "metadata": {},
   "outputs": [],
   "source": [
    "df['MONTH'] = df['TRANS_DATE'].dt.month\n",
    "df['YEAR'] = df['TRANS_DATE'].dt.year\n"
   ]
  },
  {
   "cell_type": "code",
   "execution_count": null,
   "id": "3d6a5d64-eebf-4685-a80a-c51a58a5dfca",
   "metadata": {},
   "outputs": [],
   "source": [
    "from statsmodels.tsa.seasonal import seasonal_decompose\n",
    "\n",
    "result = seasonal_decompose(df['SALES_UNITS'], model='multiplicative', period=12)\n",
    "result.plot()\n"
   ]
  },
  {
   "cell_type": "code",
   "execution_count": null,
   "id": "8552aba1-41c8-4090-a159-2476e1c64a47",
   "metadata": {},
   "outputs": [],
   "source": [
    "train = df[df['TRANS_DATE'] < '2024-08-01']\n",
    "test = df[df['TRANS_DATE'] >= '2024-09-01']\n"
   ]
  },
  {
   "cell_type": "code",
   "execution_count": null,
   "id": "71457dd4-285e-47ce-80cd-fa648965cc4a",
   "metadata": {},
   "outputs": [],
   "source": [
    "from sklearn.ensemble import RandomForestRegressor\n",
    "\n",
    "features = ['CLUSTER', 'MONTH', 'CATEGORY_ENCODED']\n",
    "X_train = train[features]\n",
    "y_train = train['SALES_UNITS']\n",
    "X_test = test[features]\n",
    "y_test = test['SALES_UNITS']\n",
    "\n",
    "model = RandomForestRegressor(n_estimators=100, random_state=42)\n",
    "model.fit(X_train, y_train)\n"
   ]
  },
  {
   "cell_type": "code",
   "execution_count": null,
   "id": "ea95f013-4909-4b5b-b586-50b3841b124e",
   "metadata": {},
   "outputs": [],
   "source": [
    "future_dates = pd.date_range(start='2024-01-01', periods=12, freq='M')\n",
    "future_df = pd.DataFrame({'TRANS_DATE': future_dates})\n",
    "future_df['MONTH'] = future_df['TRANS_DATE'].dt.month\n",
    "future_df['CLUSTER'] = df[CLUSTER]  # Assuming a single cluster for simplicity\n",
    "future_df['CATEGORY_ENCODED'] = df['CATEGORY_ENCODED']  # Assuming a single category for simplicity\n",
    "\n",
    "X_future = future_df[features]\n",
    "future_df['PREDICTED_SALES'] = model.predict(X_future)\n"
   ]
  },
  {
   "cell_type": "code",
   "execution_count": null,
   "id": "1d374a4e-7270-4743-9c97-860326f8fca8",
   "metadata": {},
   "outputs": [],
   "source": [
    "X_future = future_df[features]\n",
    "future_df['PREDICTED_SALES'] = model.predict(X_future)"
   ]
  },
  {
   "cell_type": "code",
   "execution_count": null,
   "id": "28d86657-91ac-4595-9263-968ac892e14d",
   "metadata": {},
   "outputs": [],
   "source": [
    "# Assuming a threshold for 'not currently selling'\n",
    "threshold = 0\n",
    "must_sell = future_df[future_df['PREDICTED_SALES'] > threshold]\n",
    "must_sell['MUST_SELL_QTY'] = must_sell['PREDICTED_SALES'] - threshold\n"
   ]
  },
  {
   "cell_type": "code",
   "execution_count": null,
   "id": "155393dc-1658-4b72-8f85-87348577dbf9",
   "metadata": {},
   "outputs": [],
   "source": [
    "print(must_sell[['TRANS_DATE', 'PREDICTED_SALES', 'MUST_SELL_QTY','CATEGORY_ENCODED']])\n"
   ]
  },
  {
   "cell_type": "code",
   "execution_count": null,
   "id": "1010f351-c16b-4c25-9916-8056daba14d7",
   "metadata": {},
   "outputs": [],
   "source": []
  }
 ],
 "metadata": {
  "kernelspec": {
   "display_name": "Python 3 (ipykernel)",
   "language": "python",
   "name": "python3"
  },
  "language_info": {
   "codemirror_mode": {
    "name": "ipython",
    "version": 3
   },
   "file_extension": ".py",
   "mimetype": "text/x-python",
   "name": "python",
   "nbconvert_exporter": "python",
   "pygments_lexer": "ipython3",
   "version": "3.9.19"
  }
 },
 "nbformat": 4,
 "nbformat_minor": 5
}
