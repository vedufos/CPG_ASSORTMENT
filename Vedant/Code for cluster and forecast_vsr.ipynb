{
 "cells": [
  {
   "cell_type": "code",
   "execution_count": 1,
   "id": "f9a2e773-65de-456b-b4e1-052a1c4cd018",
   "metadata": {},
   "outputs": [
    {
     "name": "stdout",
     "output_type": "stream",
     "text": [
      "Requirement already up-to-date: fosforml in /opt/conda/lib/python3.9/site-packages (1.1.8)\n",
      "Requirement already satisfied, skipping upgrade: scikit-learn==1.3.2 in /opt/conda/lib/python3.9/site-packages (from fosforml) (1.3.2)\n",
      "Requirement already satisfied, skipping upgrade: cloudpickle==2.2.1 in /opt/conda/lib/python3.9/site-packages (from fosforml) (2.2.1)\n",
      "Requirement already satisfied, skipping upgrade: snowflake-ml-python==1.5.0; python_version <= \"3.9\" in /opt/conda/lib/python3.9/site-packages (from fosforml) (1.5.0)\n",
      "Requirement already satisfied, skipping upgrade: scipy>=1.5.0 in /opt/conda/lib/python3.9/site-packages (from scikit-learn==1.3.2->fosforml) (1.13.1)\n",
      "Requirement already satisfied, skipping upgrade: joblib>=1.1.1 in /opt/conda/lib/python3.9/site-packages (from scikit-learn==1.3.2->fosforml) (1.4.2)\n",
      "Requirement already satisfied, skipping upgrade: numpy<2.0,>=1.17.3 in /opt/conda/lib/python3.9/site-packages (from scikit-learn==1.3.2->fosforml) (1.26.4)\n",
      "Requirement already satisfied, skipping upgrade: threadpoolctl>=2.0.0 in /opt/conda/lib/python3.9/site-packages (from scikit-learn==1.3.2->fosforml) (3.5.0)\n",
      "Requirement already satisfied, skipping upgrade: pytimeparse<2,>=1.1.8 in /opt/conda/lib/python3.9/site-packages (from snowflake-ml-python==1.5.0; python_version <= \"3.9\"->fosforml) (1.1.8)\n",
      "Requirement already satisfied, skipping upgrade: catboost<1.3,>=1.2.0 in /opt/conda/lib/python3.9/site-packages (from snowflake-ml-python==1.5.0; python_version <= \"3.9\"->fosforml) (1.2.7)\n",
      "Requirement already satisfied, skipping upgrade: packaging<24,>=20.9 in /opt/conda/lib/python3.9/site-packages (from snowflake-ml-python==1.5.0; python_version <= \"3.9\"->fosforml) (23.2)\n",
      "Requirement already satisfied, skipping upgrade: pandas<3,>=1.0.0 in /opt/conda/lib/python3.9/site-packages (from snowflake-ml-python==1.5.0; python_version <= \"3.9\"->fosforml) (2.2.2)\n",
      "Requirement already satisfied, skipping upgrade: pyyaml<7,>=6.0 in /opt/conda/lib/python3.9/site-packages (from snowflake-ml-python==1.5.0; python_version <= \"3.9\"->fosforml) (6.0.1)\n",
      "Requirement already satisfied, skipping upgrade: retrying<2,>=1.3.3 in /opt/conda/lib/python3.9/site-packages (from snowflake-ml-python==1.5.0; python_version <= \"3.9\"->fosforml) (1.3.4)\n",
      "Requirement already satisfied, skipping upgrade: sqlparse<1,>=0.4 in /opt/conda/lib/python3.9/site-packages (from snowflake-ml-python==1.5.0; python_version <= \"3.9\"->fosforml) (0.5.1)\n",
      "Requirement already satisfied, skipping upgrade: xgboost<2,>=1.7.3 in /opt/conda/lib/python3.9/site-packages (from snowflake-ml-python==1.5.0; python_version <= \"3.9\"->fosforml) (1.7.6)\n",
      "Requirement already satisfied, skipping upgrade: fsspec[http]<2024,>=2022.11 in /opt/conda/lib/python3.9/site-packages (from snowflake-ml-python==1.5.0; python_version <= \"3.9\"->fosforml) (2023.12.2)\n",
      "Requirement already satisfied, skipping upgrade: cachetools<6,>=3.1.1 in /opt/conda/lib/python3.9/site-packages (from snowflake-ml-python==1.5.0; python_version <= \"3.9\"->fosforml) (5.5.0)\n",
      "Requirement already satisfied, skipping upgrade: anyio<4,>=3.5.0 in /opt/conda/lib/python3.9/site-packages (from snowflake-ml-python==1.5.0; python_version <= \"3.9\"->fosforml) (3.7.1)\n",
      "Requirement already satisfied, skipping upgrade: snowflake-connector-python[pandas]<4,>=3.5.0 in /opt/conda/lib/python3.9/site-packages (from snowflake-ml-python==1.5.0; python_version <= \"3.9\"->fosforml) (3.12.2)\n",
      "Requirement already satisfied, skipping upgrade: pyarrow in /opt/conda/lib/python3.9/site-packages (from snowflake-ml-python==1.5.0; python_version <= \"3.9\"->fosforml) (17.0.0)\n",
      "Requirement already satisfied, skipping upgrade: snowflake-snowpark-python!=1.12.0,<2,>=1.11.1 in /opt/conda/lib/python3.9/site-packages (from snowflake-ml-python==1.5.0; python_version <= \"3.9\"->fosforml) (1.23.0)\n",
      "Requirement already satisfied, skipping upgrade: typing-extensions<5,>=4.1.0 in /opt/conda/lib/python3.9/site-packages (from snowflake-ml-python==1.5.0; python_version <= \"3.9\"->fosforml) (4.12.2)\n",
      "Requirement already satisfied, skipping upgrade: absl-py<2,>=0.15 in /opt/conda/lib/python3.9/site-packages (from snowflake-ml-python==1.5.0; python_version <= \"3.9\"->fosforml) (1.4.0)\n",
      "Requirement already satisfied, skipping upgrade: s3fs<2024,>=2022.11 in /opt/conda/lib/python3.9/site-packages (from snowflake-ml-python==1.5.0; python_version <= \"3.9\"->fosforml) (2023.12.2)\n",
      "Requirement already satisfied, skipping upgrade: importlib-resources<7,>=6.1.1 in /opt/conda/lib/python3.9/site-packages (from snowflake-ml-python==1.5.0; python_version <= \"3.9\"->fosforml) (6.4.5)\n",
      "Requirement already satisfied, skipping upgrade: six in /opt/conda/lib/python3.9/site-packages (from catboost<1.3,>=1.2.0->snowflake-ml-python==1.5.0; python_version <= \"3.9\"->fosforml) (1.16.0)\n",
      "Requirement already satisfied, skipping upgrade: graphviz in /opt/conda/lib/python3.9/site-packages (from catboost<1.3,>=1.2.0->snowflake-ml-python==1.5.0; python_version <= \"3.9\"->fosforml) (0.20.3)\n",
      "Requirement already satisfied, skipping upgrade: matplotlib in /opt/conda/lib/python3.9/site-packages (from catboost<1.3,>=1.2.0->snowflake-ml-python==1.5.0; python_version <= \"3.9\"->fosforml) (3.9.2)\n",
      "Requirement already satisfied, skipping upgrade: plotly in /opt/conda/lib/python3.9/site-packages (from catboost<1.3,>=1.2.0->snowflake-ml-python==1.5.0; python_version <= \"3.9\"->fosforml) (5.24.1)\n",
      "Requirement already satisfied, skipping upgrade: tzdata>=2022.7 in /opt/conda/lib/python3.9/site-packages (from pandas<3,>=1.0.0->snowflake-ml-python==1.5.0; python_version <= \"3.9\"->fosforml) (2024.1)\n",
      "Requirement already satisfied, skipping upgrade: pytz>=2020.1 in /opt/conda/lib/python3.9/site-packages (from pandas<3,>=1.0.0->snowflake-ml-python==1.5.0; python_version <= \"3.9\"->fosforml) (2024.1)\n",
      "Requirement already satisfied, skipping upgrade: python-dateutil>=2.8.2 in /opt/conda/lib/python3.9/site-packages (from pandas<3,>=1.0.0->snowflake-ml-python==1.5.0; python_version <= \"3.9\"->fosforml) (2.9.0.post0)\n",
      "Requirement already satisfied, skipping upgrade: aiohttp!=4.0.0a0,!=4.0.0a1; extra == \"http\" in /opt/conda/lib/python3.9/site-packages (from fsspec[http]<2024,>=2022.11->snowflake-ml-python==1.5.0; python_version <= \"3.9\"->fosforml) (3.10.10)\n",
      "Requirement already satisfied, skipping upgrade: requests; extra == \"http\" in /opt/conda/lib/python3.9/site-packages (from fsspec[http]<2024,>=2022.11->snowflake-ml-python==1.5.0; python_version <= \"3.9\"->fosforml) (2.32.3)\n",
      "Requirement already satisfied, skipping upgrade: sniffio>=1.1 in /opt/conda/lib/python3.9/site-packages (from anyio<4,>=3.5.0->snowflake-ml-python==1.5.0; python_version <= \"3.9\"->fosforml) (1.3.1)\n",
      "Requirement already satisfied, skipping upgrade: exceptiongroup; python_version < \"3.11\" in /opt/conda/lib/python3.9/site-packages (from anyio<4,>=3.5.0->snowflake-ml-python==1.5.0; python_version <= \"3.9\"->fosforml) (1.2.2)\n",
      "Requirement already satisfied, skipping upgrade: idna>=2.8 in /opt/conda/lib/python3.9/site-packages (from anyio<4,>=3.5.0->snowflake-ml-python==1.5.0; python_version <= \"3.9\"->fosforml) (3.7)\n",
      "Requirement already satisfied, skipping upgrade: asn1crypto<2.0.0,>0.24.0 in /opt/conda/lib/python3.9/site-packages (from snowflake-connector-python[pandas]<4,>=3.5.0->snowflake-ml-python==1.5.0; python_version <= \"3.9\"->fosforml) (1.5.1)\n",
      "Requirement already satisfied, skipping upgrade: certifi>=2017.4.17 in /opt/conda/lib/python3.9/site-packages (from snowflake-connector-python[pandas]<4,>=3.5.0->snowflake-ml-python==1.5.0; python_version <= \"3.9\"->fosforml) (2024.7.4)\n",
      "Requirement already satisfied, skipping upgrade: filelock<4,>=3.5 in /opt/conda/lib/python3.9/site-packages (from snowflake-connector-python[pandas]<4,>=3.5.0->snowflake-ml-python==1.5.0; python_version <= \"3.9\"->fosforml) (3.16.1)\n",
      "Requirement already satisfied, skipping upgrade: pyjwt<3.0.0 in /opt/conda/lib/python3.9/site-packages (from snowflake-connector-python[pandas]<4,>=3.5.0->snowflake-ml-python==1.5.0; python_version <= \"3.9\"->fosforml) (2.9.0)\n",
      "Requirement already satisfied, skipping upgrade: pyOpenSSL<25.0.0,>=16.2.0 in /opt/conda/lib/python3.9/site-packages (from snowflake-connector-python[pandas]<4,>=3.5.0->snowflake-ml-python==1.5.0; python_version <= \"3.9\"->fosforml) (24.0.0)\n",
      "Requirement already satisfied, skipping upgrade: charset-normalizer<4,>=2 in /opt/conda/lib/python3.9/site-packages (from snowflake-connector-python[pandas]<4,>=3.5.0->snowflake-ml-python==1.5.0; python_version <= \"3.9\"->fosforml) (3.3.2)\n",
      "Requirement already satisfied, skipping upgrade: platformdirs<5.0.0,>=2.6.0 in /opt/conda/lib/python3.9/site-packages (from snowflake-connector-python[pandas]<4,>=3.5.0->snowflake-ml-python==1.5.0; python_version <= \"3.9\"->fosforml) (4.2.2)\n",
      "Requirement already satisfied, skipping upgrade: tomlkit in /opt/conda/lib/python3.9/site-packages (from snowflake-connector-python[pandas]<4,>=3.5.0->snowflake-ml-python==1.5.0; python_version <= \"3.9\"->fosforml) (0.13.2)\n",
      "Requirement already satisfied, skipping upgrade: cffi<2.0.0,>=1.9 in /opt/conda/lib/python3.9/site-packages (from snowflake-connector-python[pandas]<4,>=3.5.0->snowflake-ml-python==1.5.0; python_version <= \"3.9\"->fosforml) (1.16.0)\n",
      "Requirement already satisfied, skipping upgrade: urllib3<2.0.0,>=1.21.1; python_version < \"3.10\" in /opt/conda/lib/python3.9/site-packages (from snowflake-connector-python[pandas]<4,>=3.5.0->snowflake-ml-python==1.5.0; python_version <= \"3.9\"->fosforml) (1.26.20)\n",
      "Requirement already satisfied, skipping upgrade: sortedcontainers>=2.4.0 in /opt/conda/lib/python3.9/site-packages (from snowflake-connector-python[pandas]<4,>=3.5.0->snowflake-ml-python==1.5.0; python_version <= \"3.9\"->fosforml) (2.4.0)\n",
      "Requirement already satisfied, skipping upgrade: cryptography>=3.1.0 in /opt/conda/lib/python3.9/site-packages (from snowflake-connector-python[pandas]<4,>=3.5.0->snowflake-ml-python==1.5.0; python_version <= \"3.9\"->fosforml) (42.0.5)\n",
      "Requirement already satisfied, skipping upgrade: setuptools>=40.6.0 in /opt/conda/lib/python3.9/site-packages (from snowflake-snowpark-python!=1.12.0,<2,>=1.11.1->snowflake-ml-python==1.5.0; python_version <= \"3.9\"->fosforml) (65.6.3)\n",
      "Requirement already satisfied, skipping upgrade: wheel in /opt/conda/lib/python3.9/site-packages (from snowflake-snowpark-python!=1.12.0,<2,>=1.11.1->snowflake-ml-python==1.5.0; python_version <= \"3.9\"->fosforml) (0.37.1)\n",
      "Requirement already satisfied, skipping upgrade: aiobotocore<3.0.0,>=2.5.4 in /opt/conda/lib/python3.9/site-packages (from s3fs<2024,>=2022.11->snowflake-ml-python==1.5.0; python_version <= \"3.9\"->fosforml) (2.15.2)\n",
      "Requirement already satisfied, skipping upgrade: zipp>=3.1.0; python_version < \"3.10\" in /opt/conda/lib/python3.9/site-packages (from importlib-resources<7,>=6.1.1->snowflake-ml-python==1.5.0; python_version <= \"3.9\"->fosforml) (3.19.2)\n",
      "Requirement already satisfied, skipping upgrade: contourpy>=1.0.1 in /opt/conda/lib/python3.9/site-packages (from matplotlib->catboost<1.3,>=1.2.0->snowflake-ml-python==1.5.0; python_version <= \"3.9\"->fosforml) (1.3.0)\n",
      "Requirement already satisfied, skipping upgrade: cycler>=0.10 in /opt/conda/lib/python3.9/site-packages (from matplotlib->catboost<1.3,>=1.2.0->snowflake-ml-python==1.5.0; python_version <= \"3.9\"->fosforml) (0.12.1)\n",
      "Requirement already satisfied, skipping upgrade: fonttools>=4.22.0 in /opt/conda/lib/python3.9/site-packages (from matplotlib->catboost<1.3,>=1.2.0->snowflake-ml-python==1.5.0; python_version <= \"3.9\"->fosforml) (4.54.1)\n",
      "Requirement already satisfied, skipping upgrade: pyparsing>=2.3.1 in /opt/conda/lib/python3.9/site-packages (from matplotlib->catboost<1.3,>=1.2.0->snowflake-ml-python==1.5.0; python_version <= \"3.9\"->fosforml) (3.2.0)\n",
      "Requirement already satisfied, skipping upgrade: kiwisolver>=1.3.1 in /opt/conda/lib/python3.9/site-packages (from matplotlib->catboost<1.3,>=1.2.0->snowflake-ml-python==1.5.0; python_version <= \"3.9\"->fosforml) (1.4.7)\n",
      "Requirement already satisfied, skipping upgrade: pillow>=8 in /opt/conda/lib/python3.9/site-packages (from matplotlib->catboost<1.3,>=1.2.0->snowflake-ml-python==1.5.0; python_version <= \"3.9\"->fosforml) (10.4.0)\n",
      "Requirement already satisfied, skipping upgrade: tenacity>=6.2.0 in /opt/conda/lib/python3.9/site-packages (from plotly->catboost<1.3,>=1.2.0->snowflake-ml-python==1.5.0; python_version <= \"3.9\"->fosforml) (9.0.0)\n",
      "Requirement already satisfied, skipping upgrade: attrs>=17.3.0 in /opt/conda/lib/python3.9/site-packages (from aiohttp!=4.0.0a0,!=4.0.0a1; extra == \"http\"->fsspec[http]<2024,>=2022.11->snowflake-ml-python==1.5.0; python_version <= \"3.9\"->fosforml) (23.2.0)\n",
      "Requirement already satisfied, skipping upgrade: yarl<2.0,>=1.12.0 in /opt/conda/lib/python3.9/site-packages (from aiohttp!=4.0.0a0,!=4.0.0a1; extra == \"http\"->fsspec[http]<2024,>=2022.11->snowflake-ml-python==1.5.0; python_version <= \"3.9\"->fosforml) (1.15.2)\n",
      "Requirement already satisfied, skipping upgrade: async-timeout<5.0,>=4.0; python_version < \"3.11\" in /opt/conda/lib/python3.9/site-packages (from aiohttp!=4.0.0a0,!=4.0.0a1; extra == \"http\"->fsspec[http]<2024,>=2022.11->snowflake-ml-python==1.5.0; python_version <= \"3.9\"->fosforml) (4.0.3)\n",
      "Requirement already satisfied, skipping upgrade: aiosignal>=1.1.2 in /opt/conda/lib/python3.9/site-packages (from aiohttp!=4.0.0a0,!=4.0.0a1; extra == \"http\"->fsspec[http]<2024,>=2022.11->snowflake-ml-python==1.5.0; python_version <= \"3.9\"->fosforml) (1.3.1)\n",
      "Requirement already satisfied, skipping upgrade: aiohappyeyeballs>=2.3.0 in /opt/conda/lib/python3.9/site-packages (from aiohttp!=4.0.0a0,!=4.0.0a1; extra == \"http\"->fsspec[http]<2024,>=2022.11->snowflake-ml-python==1.5.0; python_version <= \"3.9\"->fosforml) (2.4.3)\n",
      "Requirement already satisfied, skipping upgrade: frozenlist>=1.1.1 in /opt/conda/lib/python3.9/site-packages (from aiohttp!=4.0.0a0,!=4.0.0a1; extra == \"http\"->fsspec[http]<2024,>=2022.11->snowflake-ml-python==1.5.0; python_version <= \"3.9\"->fosforml) (1.4.1)\n",
      "Requirement already satisfied, skipping upgrade: multidict<7.0,>=4.5 in /opt/conda/lib/python3.9/site-packages (from aiohttp!=4.0.0a0,!=4.0.0a1; extra == \"http\"->fsspec[http]<2024,>=2022.11->snowflake-ml-python==1.5.0; python_version <= \"3.9\"->fosforml) (6.1.0)\n",
      "Requirement already satisfied, skipping upgrade: pycparser in /opt/conda/lib/python3.9/site-packages (from cffi<2.0.0,>=1.9->snowflake-connector-python[pandas]<4,>=3.5.0->snowflake-ml-python==1.5.0; python_version <= \"3.9\"->fosforml) (2.21)\n",
      "Requirement already satisfied, skipping upgrade: aioitertools<1.0.0,>=0.5.1 in /opt/conda/lib/python3.9/site-packages (from aiobotocore<3.0.0,>=2.5.4->s3fs<2024,>=2022.11->snowflake-ml-python==1.5.0; python_version <= \"3.9\"->fosforml) (0.12.0)\n",
      "Requirement already satisfied, skipping upgrade: botocore<1.35.37,>=1.35.16 in /opt/conda/lib/python3.9/site-packages (from aiobotocore<3.0.0,>=2.5.4->s3fs<2024,>=2022.11->snowflake-ml-python==1.5.0; python_version <= \"3.9\"->fosforml) (1.35.36)\n",
      "Requirement already satisfied, skipping upgrade: wrapt<2.0.0,>=1.10.10 in /opt/conda/lib/python3.9/site-packages (from aiobotocore<3.0.0,>=2.5.4->s3fs<2024,>=2022.11->snowflake-ml-python==1.5.0; python_version <= \"3.9\"->fosforml) (1.16.0)\n",
      "Requirement already satisfied, skipping upgrade: propcache>=0.2.0 in /opt/conda/lib/python3.9/site-packages (from yarl<2.0,>=1.12.0->aiohttp!=4.0.0a0,!=4.0.0a1; extra == \"http\"->fsspec[http]<2024,>=2022.11->snowflake-ml-python==1.5.0; python_version <= \"3.9\"->fosforml) (0.2.0)\n",
      "Requirement already satisfied, skipping upgrade: jmespath<2.0.0,>=0.7.1 in /opt/conda/lib/python3.9/site-packages (from botocore<1.35.37,>=1.35.16->aiobotocore<3.0.0,>=2.5.4->s3fs<2024,>=2022.11->snowflake-ml-python==1.5.0; python_version <= \"3.9\"->fosforml) (1.0.1)\n",
      "\u001b[33mWARNING: You are using pip version 19.3.1; however, version 24.2 is available.\n",
      "You should consider upgrading via the 'pip install --upgrade pip' command.\u001b[0m\n",
      "Note: you may need to restart the kernel to use updated packages.\n"
     ]
    }
   ],
   "source": [
    "pip install --upgrade fosforml"
   ]
  },
  {
   "cell_type": "code",
   "execution_count": 2,
   "id": "ebb17914-526f-44a7-a5a6-2eec560a84d6",
   "metadata": {},
   "outputs": [
    {
     "name": "stdout",
     "output_type": "stream",
     "text": [
      "Requirement already satisfied: seaborn in /opt/conda/lib/python3.9/site-packages (0.13.2)\n",
      "Requirement already satisfied: pandas>=1.2 in /opt/conda/lib/python3.9/site-packages (from seaborn) (2.2.2)\n",
      "Requirement already satisfied: numpy!=1.24.0,>=1.20 in /opt/conda/lib/python3.9/site-packages (from seaborn) (1.26.4)\n",
      "Requirement already satisfied: matplotlib!=3.6.1,>=3.4 in /opt/conda/lib/python3.9/site-packages (from seaborn) (3.9.2)\n",
      "Requirement already satisfied: tzdata>=2022.7 in /opt/conda/lib/python3.9/site-packages (from pandas>=1.2->seaborn) (2024.1)\n",
      "Requirement already satisfied: python-dateutil>=2.8.2 in /opt/conda/lib/python3.9/site-packages (from pandas>=1.2->seaborn) (2.9.0.post0)\n",
      "Requirement already satisfied: pytz>=2020.1 in /opt/conda/lib/python3.9/site-packages (from pandas>=1.2->seaborn) (2024.1)\n",
      "Requirement already satisfied: importlib-resources>=3.2.0; python_version < \"3.10\" in /opt/conda/lib/python3.9/site-packages (from matplotlib!=3.6.1,>=3.4->seaborn) (6.4.5)\n",
      "Requirement already satisfied: contourpy>=1.0.1 in /opt/conda/lib/python3.9/site-packages (from matplotlib!=3.6.1,>=3.4->seaborn) (1.3.0)\n",
      "Requirement already satisfied: pillow>=8 in /opt/conda/lib/python3.9/site-packages (from matplotlib!=3.6.1,>=3.4->seaborn) (10.4.0)\n",
      "Requirement already satisfied: cycler>=0.10 in /opt/conda/lib/python3.9/site-packages (from matplotlib!=3.6.1,>=3.4->seaborn) (0.12.1)\n",
      "Requirement already satisfied: pyparsing>=2.3.1 in /opt/conda/lib/python3.9/site-packages (from matplotlib!=3.6.1,>=3.4->seaborn) (3.2.0)\n",
      "Requirement already satisfied: kiwisolver>=1.3.1 in /opt/conda/lib/python3.9/site-packages (from matplotlib!=3.6.1,>=3.4->seaborn) (1.4.7)\n",
      "Requirement already satisfied: fonttools>=4.22.0 in /opt/conda/lib/python3.9/site-packages (from matplotlib!=3.6.1,>=3.4->seaborn) (4.54.1)\n",
      "Requirement already satisfied: packaging>=20.0 in /opt/conda/lib/python3.9/site-packages (from matplotlib!=3.6.1,>=3.4->seaborn) (23.2)\n",
      "Requirement already satisfied: six>=1.5 in /opt/conda/lib/python3.9/site-packages (from python-dateutil>=2.8.2->pandas>=1.2->seaborn) (1.16.0)\n",
      "Requirement already satisfied: zipp>=3.1.0; python_version < \"3.10\" in /opt/conda/lib/python3.9/site-packages (from importlib-resources>=3.2.0; python_version < \"3.10\"->matplotlib!=3.6.1,>=3.4->seaborn) (3.19.2)\n",
      "\u001b[33mWARNING: You are using pip version 19.3.1; however, version 24.2 is available.\n",
      "You should consider upgrading via the 'pip install --upgrade pip' command.\u001b[0m\n",
      "Note: you may need to restart the kernel to use updated packages.\n"
     ]
    }
   ],
   "source": [
    "pip install seaborn"
   ]
  },
  {
   "cell_type": "code",
   "execution_count": 3,
   "id": "db88da33-bb78-4458-aac4-0e037d862051",
   "metadata": {},
   "outputs": [],
   "source": [
    "import pandas as pd\n",
    "import numpy as np\n",
    "import fosforml\n",
    "from fosforml.model_manager.snowflakesession import get_session\n",
    "my_session = get_session()"
   ]
  },
  {
   "cell_type": "code",
   "execution_count": 4,
   "id": "df2137ef-d907-408f-85c8-5ca48d193312",
   "metadata": {},
   "outputs": [
    {
     "data": {
      "text/plain": [
       "'ASSORTMENT_PLANNING'"
      ]
     },
     "execution_count": 4,
     "metadata": {},
     "output_type": "execute_result"
    }
   ],
   "source": [
    "my_session.connection.database"
   ]
  },
  {
   "cell_type": "code",
   "execution_count": 5,
   "id": "821fc365-0e19-4bca-8faa-feb2874d643a",
   "metadata": {},
   "outputs": [
    {
     "data": {
      "text/plain": [
       "'CPG_BRONZE'"
      ]
     },
     "execution_count": 5,
     "metadata": {},
     "output_type": "execute_result"
    }
   ],
   "source": [
    "my_session.connection.schema"
   ]
  },
  {
   "cell_type": "code",
   "execution_count": 6,
   "id": "b3c735e1-161b-4987-b798-5b6a98aaa87d",
   "metadata": {},
   "outputs": [],
   "source": [
    "table_name = \"ASSORTMENT_PLANNING.CPG_BRONZE.SALES_CLEAN\""
   ]
  },
  {
   "cell_type": "code",
   "execution_count": 7,
   "id": "9010394d-20b9-44ae-87b8-0471cf007e66",
   "metadata": {},
   "outputs": [],
   "source": [
    "sf_df = my_session.sql(\"select * from {}\".format(table_name))"
   ]
  },
  {
   "cell_type": "code",
   "execution_count": 8,
   "id": "370b203d-0161-47ee-9df9-57cde9ff77f1",
   "metadata": {},
   "outputs": [
    {
     "data": {
      "text/plain": [
       "snowflake.snowpark.dataframe.DataFrame"
      ]
     },
     "execution_count": 8,
     "metadata": {},
     "output_type": "execute_result"
    }
   ],
   "source": [
    "type(sf_df)"
   ]
  },
  {
   "cell_type": "code",
   "execution_count": 9,
   "id": "3a72f827-b192-411a-b785-226fb62f40b9",
   "metadata": {},
   "outputs": [],
   "source": [
    "df=sf_df.to_pandas()"
   ]
  },
  {
   "cell_type": "code",
   "execution_count": 10,
   "id": "4229525b-3654-4979-9728-fa1201ee0ae2",
   "metadata": {},
   "outputs": [
    {
     "data": {
      "text/plain": [
       "pandas.core.frame.DataFrame"
      ]
     },
     "execution_count": 10,
     "metadata": {},
     "output_type": "execute_result"
    }
   ],
   "source": [
    "type(df)"
   ]
  },
  {
   "cell_type": "code",
   "execution_count": 11,
   "id": "881f7cd0-8c4b-4cec-8b95-1b793598f251",
   "metadata": {},
   "outputs": [],
   "source": [
    "df=df.sort_values(by='TRANS_DATE')"
   ]
  },
  {
   "cell_type": "code",
   "execution_count": 12,
   "id": "3782cf1a-f800-4b6f-bdd1-7c7be5f7cd36",
   "metadata": {},
   "outputs": [
    {
     "data": {
      "text/html": [
       "<div>\n",
       "<style scoped>\n",
       "    .dataframe tbody tr th:only-of-type {\n",
       "        vertical-align: middle;\n",
       "    }\n",
       "\n",
       "    .dataframe tbody tr th {\n",
       "        vertical-align: top;\n",
       "    }\n",
       "\n",
       "    .dataframe thead th {\n",
       "        text-align: right;\n",
       "    }\n",
       "</style>\n",
       "<table border=\"1\" class=\"dataframe\">\n",
       "  <thead>\n",
       "    <tr style=\"text-align: right;\">\n",
       "      <th></th>\n",
       "      <th>MNTH_CODE</th>\n",
       "      <th>TRANS_DATE</th>\n",
       "      <th>START_DATE</th>\n",
       "      <th>SALES_VALUE</th>\n",
       "      <th>SALES_UNITS</th>\n",
       "      <th>SALES_VOLUME</th>\n",
       "      <th>SALES_PTR_VALUE</th>\n",
       "      <th>OC_CODE</th>\n",
       "      <th>DISTRIBUTOR_CODE</th>\n",
       "      <th>OUTLET_CODE</th>\n",
       "      <th>CITY</th>\n",
       "      <th>STATE</th>\n",
       "      <th>COUNTY</th>\n",
       "      <th>STREET</th>\n",
       "      <th>PRODUCT_CODE</th>\n",
       "      <th>CATEGORY</th>\n",
       "      <th>SUBCATEGORY</th>\n",
       "      <th>BRAND</th>\n",
       "    </tr>\n",
       "  </thead>\n",
       "  <tbody>\n",
       "    <tr>\n",
       "      <th>780456</th>\n",
       "      <td>202309</td>\n",
       "      <td>2023-08-29</td>\n",
       "      <td>2023-08-28</td>\n",
       "      <td>172.73</td>\n",
       "      <td>1</td>\n",
       "      <td>0.000375</td>\n",
       "      <td>172.727273</td>\n",
       "      <td>202209</td>\n",
       "      <td>DB0209</td>\n",
       "      <td>OL175129</td>\n",
       "      <td>Truth or Consequences</td>\n",
       "      <td>New Mexico</td>\n",
       "      <td>City Center</td>\n",
       "      <td>Str3</td>\n",
       "      <td>PRD0059</td>\n",
       "      <td>Perfume and Deodrants</td>\n",
       "      <td>Male Deodrant</td>\n",
       "      <td>Sapphire</td>\n",
       "    </tr>\n",
       "    <tr>\n",
       "      <th>800539</th>\n",
       "      <td>202309</td>\n",
       "      <td>2023-08-29</td>\n",
       "      <td>2023-08-28</td>\n",
       "      <td>142.86</td>\n",
       "      <td>16</td>\n",
       "      <td>0.000384</td>\n",
       "      <td>142.857143</td>\n",
       "      <td>202209</td>\n",
       "      <td>DB0655</td>\n",
       "      <td>OL144514</td>\n",
       "      <td>West Point</td>\n",
       "      <td>Mississippi</td>\n",
       "      <td>Silver</td>\n",
       "      <td>Str2</td>\n",
       "      <td>PRD0106</td>\n",
       "      <td>Hair Care</td>\n",
       "      <td>Shampoo</td>\n",
       "      <td>Hair &amp; Shoulders</td>\n",
       "    </tr>\n",
       "    <tr>\n",
       "      <th>800538</th>\n",
       "      <td>202309</td>\n",
       "      <td>2023-08-29</td>\n",
       "      <td>2023-08-28</td>\n",
       "      <td>405.64</td>\n",
       "      <td>4</td>\n",
       "      <td>0.000428</td>\n",
       "      <td>418.181818</td>\n",
       "      <td>202209</td>\n",
       "      <td>DB0110</td>\n",
       "      <td>OL96826</td>\n",
       "      <td>Overland Park</td>\n",
       "      <td>Kansas</td>\n",
       "      <td>City Center</td>\n",
       "      <td>Str5</td>\n",
       "      <td>PRD0065</td>\n",
       "      <td>Hair Care</td>\n",
       "      <td>Hair Oil</td>\n",
       "      <td>Crimson</td>\n",
       "    </tr>\n",
       "    <tr>\n",
       "      <th>800537</th>\n",
       "      <td>202309</td>\n",
       "      <td>2023-08-29</td>\n",
       "      <td>2023-08-28</td>\n",
       "      <td>407.14</td>\n",
       "      <td>48</td>\n",
       "      <td>0.000816</td>\n",
       "      <td>428.571429</td>\n",
       "      <td>202209</td>\n",
       "      <td>DB0209</td>\n",
       "      <td>OL128819</td>\n",
       "      <td>Columbus</td>\n",
       "      <td>Georgia</td>\n",
       "      <td>Silver</td>\n",
       "      <td>Str2</td>\n",
       "      <td>PRD0028</td>\n",
       "      <td>Soap</td>\n",
       "      <td>Toilet Soap</td>\n",
       "      <td>Indigo</td>\n",
       "    </tr>\n",
       "    <tr>\n",
       "      <th>800536</th>\n",
       "      <td>202309</td>\n",
       "      <td>2023-08-29</td>\n",
       "      <td>2023-08-28</td>\n",
       "      <td>345.45</td>\n",
       "      <td>2</td>\n",
       "      <td>0.000500</td>\n",
       "      <td>345.454545</td>\n",
       "      <td>202209</td>\n",
       "      <td>DB0706</td>\n",
       "      <td>OL12592</td>\n",
       "      <td>Nashville</td>\n",
       "      <td>Indiana</td>\n",
       "      <td>City Center</td>\n",
       "      <td>Str4</td>\n",
       "      <td>PRD0122</td>\n",
       "      <td>Perfume and Deodrants</td>\n",
       "      <td>Female Deodrant</td>\n",
       "      <td>Lilac</td>\n",
       "    </tr>\n",
       "  </tbody>\n",
       "</table>\n",
       "</div>"
      ],
      "text/plain": [
       "        MNTH_CODE  TRANS_DATE  START_DATE  SALES_VALUE  SALES_UNITS  \\\n",
       "780456     202309  2023-08-29  2023-08-28       172.73            1   \n",
       "800539     202309  2023-08-29  2023-08-28       142.86           16   \n",
       "800538     202309  2023-08-29  2023-08-28       405.64            4   \n",
       "800537     202309  2023-08-29  2023-08-28       407.14           48   \n",
       "800536     202309  2023-08-29  2023-08-28       345.45            2   \n",
       "\n",
       "        SALES_VOLUME  SALES_PTR_VALUE  OC_CODE DISTRIBUTOR_CODE OUTLET_CODE  \\\n",
       "780456      0.000375       172.727273   202209           DB0209    OL175129   \n",
       "800539      0.000384       142.857143   202209           DB0655    OL144514   \n",
       "800538      0.000428       418.181818   202209           DB0110     OL96826   \n",
       "800537      0.000816       428.571429   202209           DB0209    OL128819   \n",
       "800536      0.000500       345.454545   202209           DB0706     OL12592   \n",
       "\n",
       "                         CITY        STATE       COUNTY STREET PRODUCT_CODE  \\\n",
       "780456  Truth or Consequences   New Mexico  City Center   Str3      PRD0059   \n",
       "800539             West Point  Mississippi       Silver   Str2      PRD0106   \n",
       "800538          Overland Park       Kansas  City Center   Str5      PRD0065   \n",
       "800537               Columbus      Georgia       Silver   Str2      PRD0028   \n",
       "800536              Nashville      Indiana  City Center   Str4      PRD0122   \n",
       "\n",
       "                     CATEGORY      SUBCATEGORY             BRAND  \n",
       "780456  Perfume and Deodrants    Male Deodrant          Sapphire  \n",
       "800539              Hair Care          Shampoo  Hair & Shoulders  \n",
       "800538              Hair Care         Hair Oil           Crimson  \n",
       "800537                   Soap      Toilet Soap            Indigo  \n",
       "800536  Perfume and Deodrants  Female Deodrant             Lilac  "
      ]
     },
     "execution_count": 12,
     "metadata": {},
     "output_type": "execute_result"
    }
   ],
   "source": [
    "df.head(5)"
   ]
  },
  {
   "cell_type": "code",
   "execution_count": 13,
   "id": "bb2b1618-1165-49cc-8b60-f719112d0fbb",
   "metadata": {},
   "outputs": [
    {
     "name": "stdout",
     "output_type": "stream",
     "text": [
      "<class 'pandas.core.frame.DataFrame'>\n",
      "Index: 966400 entries, 780456 to 883818\n",
      "Data columns (total 18 columns):\n",
      " #   Column            Non-Null Count   Dtype  \n",
      "---  ------            --------------   -----  \n",
      " 0   MNTH_CODE         966400 non-null  int32  \n",
      " 1   TRANS_DATE        966400 non-null  object \n",
      " 2   START_DATE        966400 non-null  object \n",
      " 3   SALES_VALUE       966400 non-null  float64\n",
      " 4   SALES_UNITS       966400 non-null  int16  \n",
      " 5   SALES_VOLUME      966400 non-null  float64\n",
      " 6   SALES_PTR_VALUE   966400 non-null  float64\n",
      " 7   OC_CODE           966400 non-null  int32  \n",
      " 8   DISTRIBUTOR_CODE  966400 non-null  object \n",
      " 9   OUTLET_CODE       966400 non-null  object \n",
      " 10  CITY              966400 non-null  object \n",
      " 11  STATE             966400 non-null  object \n",
      " 12  COUNTY            966400 non-null  object \n",
      " 13  STREET            966400 non-null  object \n",
      " 14  PRODUCT_CODE      966400 non-null  object \n",
      " 15  CATEGORY          966400 non-null  object \n",
      " 16  SUBCATEGORY       966400 non-null  object \n",
      " 17  BRAND             966400 non-null  object \n",
      "dtypes: float64(3), int16(1), int32(2), object(12)\n",
      "memory usage: 127.2+ MB\n"
     ]
    }
   ],
   "source": [
    "df.info()"
   ]
  },
  {
   "cell_type": "code",
   "execution_count": 14,
   "id": "68644ce9-b244-4f8c-8962-652f1fad79f5",
   "metadata": {},
   "outputs": [],
   "source": [
    "#Converting into datetime format\n",
    "\n",
    "df['TRANS_DATE'] = pd.to_datetime(df['TRANS_DATE'])\n",
    "df['START_DATE'] = pd.to_datetime(df['START_DATE'])"
   ]
  },
  {
   "cell_type": "code",
   "execution_count": 15,
   "id": "3409ef5e-30bc-4aeb-9fa7-ef71f5770a32",
   "metadata": {},
   "outputs": [
    {
     "data": {
      "text/plain": [
       "(966400, 18)"
      ]
     },
     "execution_count": 15,
     "metadata": {},
     "output_type": "execute_result"
    }
   ],
   "source": [
    "df.shape"
   ]
  },
  {
   "cell_type": "code",
   "execution_count": 16,
   "id": "01dd17c2-4837-46fd-b9bf-0375a63f85db",
   "metadata": {},
   "outputs": [
    {
     "name": "stdout",
     "output_type": "stream",
     "text": [
      "<class 'pandas.core.frame.DataFrame'>\n",
      "Index: 966400 entries, 780456 to 883818\n",
      "Data columns (total 18 columns):\n",
      " #   Column            Non-Null Count   Dtype         \n",
      "---  ------            --------------   -----         \n",
      " 0   MNTH_CODE         966400 non-null  int32         \n",
      " 1   TRANS_DATE        966400 non-null  datetime64[ns]\n",
      " 2   START_DATE        966400 non-null  datetime64[ns]\n",
      " 3   SALES_VALUE       966400 non-null  float64       \n",
      " 4   SALES_UNITS       966400 non-null  int16         \n",
      " 5   SALES_VOLUME      966400 non-null  float64       \n",
      " 6   SALES_PTR_VALUE   966400 non-null  float64       \n",
      " 7   OC_CODE           966400 non-null  int32         \n",
      " 8   DISTRIBUTOR_CODE  966400 non-null  object        \n",
      " 9   OUTLET_CODE       966400 non-null  object        \n",
      " 10  CITY              966400 non-null  object        \n",
      " 11  STATE             966400 non-null  object        \n",
      " 12  COUNTY            966400 non-null  object        \n",
      " 13  STREET            966400 non-null  object        \n",
      " 14  PRODUCT_CODE      966400 non-null  object        \n",
      " 15  CATEGORY          966400 non-null  object        \n",
      " 16  SUBCATEGORY       966400 non-null  object        \n",
      " 17  BRAND             966400 non-null  object        \n",
      "dtypes: datetime64[ns](2), float64(3), int16(1), int32(2), object(10)\n",
      "memory usage: 127.2+ MB\n"
     ]
    }
   ],
   "source": [
    "df.info()"
   ]
  },
  {
   "cell_type": "markdown",
   "id": "6f5b2f14-4028-42eb-85d9-af32cff318da",
   "metadata": {},
   "source": [
    "Clustering the Objects"
   ]
  },
  {
   "cell_type": "code",
   "execution_count": 34,
   "id": "8fa2788c-3932-450c-911c-3a49ef028c80",
   "metadata": {},
   "outputs": [],
   "source": [
    "# import pandas as pd\n",
    "# from sklearn.cluster import KMeans\n",
    "\n",
    "# # Assuming df is your original DataFrame\n",
    "# df_cluster = df.copy()\n",
    "\n",
    "# # Aggregating data by OUTLET_CODE\n",
    "# aggregated_data = df_cluster.groupby('OUTLET_CODE').agg(\n",
    "#     unique_product_codes=('PRODUCT_CODE', 'nunique'),\n",
    "#     total_sales_value=('SALES_VALUE', 'sum'),\n",
    "#     total_sales_units=('SALES_UNITS', 'sum'),\n",
    "#     total_transactions=('TRANS_DATE', 'count'),\n",
    "#     avg_order_value=('SALES_VALUE', lambda x: x.sum() / x.nunique())\n",
    "# ).reset_index()\n",
    "\n",
    "# # Category contribution for each category\n",
    "# categories = df['CATEGORY'].unique()\n",
    "# for category in categories:\n",
    "#     category_sales_units = df[df['CATEGORY'] == category].groupby('OUTLET_CODE')['SALES_UNITS'].sum()\n",
    "#     total_sales_units = df.groupby('OUTLET_CODE')['SALES_UNITS'].sum()\n",
    "#     aggregated_data[f'category_contribution_{category}'] = category_sales_units / total_sales_units\n",
    "\n",
    "# # Fill NaN values with 0 for clustering\n",
    "# aggregated_data = aggregated_data.fillna(0)\n",
    "\n",
    "# # Selecting features for clustering\n",
    "# feature_cols = ['unique_product_codes', 'avg_order_value', 'total_sales_value', 'total_sales_units', 'total_transactions'] + [f'category_contribution_{category}' for category in categories]\n",
    "# features = aggregated_data[feature_cols]"
   ]
  },
  {
   "cell_type": "code",
   "execution_count": 37,
   "id": "c51ceaf1-4205-466e-a7d9-71da016a2206",
   "metadata": {},
   "outputs": [],
   "source": [
    "import pandas as pd\n",
    "from sklearn.cluster import KMeans\n",
    "\n",
    "# Assuming df is your original DataFrame\n",
    "df_cluster = df.copy()\n",
    "\n",
    "# Aggregating data by OUTLET_CODE\n",
    "aggregated_data = df_cluster.groupby('OUTLET_CODE').agg(\n",
    "    unique_product_codes=('PRODUCT_CODE', 'nunique'),\n",
    "    total_sales_value=('SALES_VALUE', 'sum'),\n",
    "    total_sales_units=('SALES_UNITS', 'sum'),\n",
    "    total_transactions=('TRANS_DATE', 'count'),\n",
    "    avg_order_value=('SALES_VALUE', lambda x: x.sum() / x.nunique())\n",
    ").reset_index()\n",
    "\n",
    "# Category contribution for each category\n",
    "categories = df['CATEGORY'].unique()\n",
    "for category in categories:\n",
    "    category_sales_units = df[df['CATEGORY'] == category].groupby('OUTLET_CODE')['SALES_UNITS'].sum()\n",
    "    total_sales_units = df.groupby('OUTLET_CODE')['SALES_UNITS'].sum()\n",
    "    aggregated_data[f'category_contribution_{category}'] = category_sales_units / total_sales_units\n",
    "\n",
    "# Fill NaN values with 0 for clustering\n",
    "aggregated_data = aggregated_data.fillna(0)\n",
    "\n",
    "# Selecting features for clustering\n",
    "feature_cols = ['unique_product_codes', 'avg_order_value', 'total_sales_value', 'total_sales_units', 'total_transactions'] + [f'category_contribution_{category}' for category in categories]\n",
    "features = aggregated_data[feature_cols]"
   ]
  },
  {
   "cell_type": "code",
   "execution_count": 27,
   "id": "74d41d33-b4ad-49cc-b487-c1e2af4f6111",
   "metadata": {},
   "outputs": [
    {
     "name": "stdout",
     "output_type": "stream",
     "text": [
      "        MNTH_CODE TRANS_DATE START_DATE  SALES_VALUE  SALES_UNITS  \\\n",
      "780456     202309 2023-08-29 2023-08-28       172.73            1   \n",
      "800539     202309 2023-08-29 2023-08-28       142.86           16   \n",
      "800538     202309 2023-08-29 2023-08-28       405.64            4   \n",
      "800537     202309 2023-08-29 2023-08-28       407.14           48   \n",
      "800536     202309 2023-08-29 2023-08-28       345.45            2   \n",
      "\n",
      "        SALES_VOLUME  SALES_PTR_VALUE  OC_CODE DISTRIBUTOR_CODE OUTLET_CODE  \\\n",
      "780456      0.000375       172.727273   202209           DB0209    OL175129   \n",
      "800539      0.000384       142.857143   202209           DB0655    OL144514   \n",
      "800538      0.000428       418.181818   202209           DB0110     OL96826   \n",
      "800537      0.000816       428.571429   202209           DB0209    OL128819   \n",
      "800536      0.000500       345.454545   202209           DB0706     OL12592   \n",
      "\n",
      "        ... unique_product_codes category_contribution_Perfume and Deodrants  \\\n",
      "780456  ...                   53                                    0.199061   \n",
      "800539  ...                    5                                         NaN   \n",
      "800538  ...                   69                                         NaN   \n",
      "800537  ...                    3                                         NaN   \n",
      "800536  ...                   70                                    0.223595   \n",
      "\n",
      "       category_contribution_Hair Care category_contribution_Soap  \\\n",
      "780456                             NaN                        NaN   \n",
      "800539                        0.170940                        NaN   \n",
      "800538                        0.229592                        NaN   \n",
      "800537                             NaN                   0.826087   \n",
      "800536                             NaN                        NaN   \n",
      "\n",
      "       category_contribution_Kids Care category_contribution_Lotion  \\\n",
      "780456                             NaN                          NaN   \n",
      "800539                             NaN                          NaN   \n",
      "800538                             NaN                          NaN   \n",
      "800537                             NaN                          NaN   \n",
      "800536                             NaN                          NaN   \n",
      "\n",
      "       category_contribution_Dental category_contribution_Wipes  \\\n",
      "780456                          NaN                         NaN   \n",
      "800539                          NaN                         NaN   \n",
      "800538                          NaN                         NaN   \n",
      "800537                          NaN                         NaN   \n",
      "800536                          NaN                         NaN   \n",
      "\n",
      "        avg_order_value  cluster  \n",
      "780456      3026.418824        0  \n",
      "800539       172.142941        0  \n",
      "800538      4078.795312        0  \n",
      "800537       631.144000        0  \n",
      "800536      9909.466000        1  \n",
      "\n",
      "[5 rows x 28 columns]\n"
     ]
    }
   ],
   "source": [
    "# Clustering using KMeans\n",
    "kmeans = KMeans(n_clusters=3, random_state=42)\n",
    "df_cluster['cluster'] = kmeans.fit_predict(features)\n",
    "\n",
    "# Display the first few rows of the clustered DataFrame\n",
    "print(df_cluster.head())"
   ]
  },
  {
   "cell_type": "code",
   "execution_count": 39,
   "id": "753fc213-0826-4fdb-a224-47795e577ad9",
   "metadata": {},
   "outputs": [
    {
     "data": {
      "text/html": [
       "<div>\n",
       "<style scoped>\n",
       "    .dataframe tbody tr th:only-of-type {\n",
       "        vertical-align: middle;\n",
       "    }\n",
       "\n",
       "    .dataframe tbody tr th {\n",
       "        vertical-align: top;\n",
       "    }\n",
       "\n",
       "    .dataframe thead th {\n",
       "        text-align: right;\n",
       "    }\n",
       "</style>\n",
       "<table border=\"1\" class=\"dataframe\">\n",
       "  <thead>\n",
       "    <tr style=\"text-align: right;\">\n",
       "      <th></th>\n",
       "      <th>OUTLET_CODE</th>\n",
       "      <th>unique_product_codes</th>\n",
       "      <th>total_sales_value</th>\n",
       "      <th>total_sales_units</th>\n",
       "      <th>total_transactions</th>\n",
       "      <th>avg_order_value</th>\n",
       "      <th>category_contribution_Perfume and Deodrants</th>\n",
       "      <th>category_contribution_Hair Care</th>\n",
       "      <th>category_contribution_Soap</th>\n",
       "      <th>category_contribution_Kids Care</th>\n",
       "      <th>category_contribution_Lotion</th>\n",
       "      <th>category_contribution_Dental</th>\n",
       "      <th>category_contribution_Wipes</th>\n",
       "    </tr>\n",
       "  </thead>\n",
       "  <tbody>\n",
       "    <tr>\n",
       "      <th>0</th>\n",
       "      <td>OL10328</td>\n",
       "      <td>23</td>\n",
       "      <td>4904.27</td>\n",
       "      <td>221</td>\n",
       "      <td>34</td>\n",
       "      <td>288.486471</td>\n",
       "      <td>0.0</td>\n",
       "      <td>0.0</td>\n",
       "      <td>0.0</td>\n",
       "      <td>0.0</td>\n",
       "      <td>0.0</td>\n",
       "      <td>0.0</td>\n",
       "      <td>0.0</td>\n",
       "    </tr>\n",
       "    <tr>\n",
       "      <th>1</th>\n",
       "      <td>OL10329</td>\n",
       "      <td>20</td>\n",
       "      <td>42893.83</td>\n",
       "      <td>1148</td>\n",
       "      <td>195</td>\n",
       "      <td>912.634681</td>\n",
       "      <td>0.0</td>\n",
       "      <td>0.0</td>\n",
       "      <td>0.0</td>\n",
       "      <td>0.0</td>\n",
       "      <td>0.0</td>\n",
       "      <td>0.0</td>\n",
       "      <td>0.0</td>\n",
       "    </tr>\n",
       "    <tr>\n",
       "      <th>2</th>\n",
       "      <td>OL10330</td>\n",
       "      <td>73</td>\n",
       "      <td>324169.05</td>\n",
       "      <td>3124</td>\n",
       "      <td>573</td>\n",
       "      <td>1373.597669</td>\n",
       "      <td>0.0</td>\n",
       "      <td>0.0</td>\n",
       "      <td>0.0</td>\n",
       "      <td>0.0</td>\n",
       "      <td>0.0</td>\n",
       "      <td>0.0</td>\n",
       "      <td>0.0</td>\n",
       "    </tr>\n",
       "    <tr>\n",
       "      <th>3</th>\n",
       "      <td>OL10331</td>\n",
       "      <td>19</td>\n",
       "      <td>12422.54</td>\n",
       "      <td>87</td>\n",
       "      <td>49</td>\n",
       "      <td>345.070556</td>\n",
       "      <td>0.0</td>\n",
       "      <td>0.0</td>\n",
       "      <td>0.0</td>\n",
       "      <td>0.0</td>\n",
       "      <td>0.0</td>\n",
       "      <td>0.0</td>\n",
       "      <td>0.0</td>\n",
       "    </tr>\n",
       "    <tr>\n",
       "      <th>4</th>\n",
       "      <td>OL10332</td>\n",
       "      <td>11</td>\n",
       "      <td>36331.30</td>\n",
       "      <td>4204</td>\n",
       "      <td>147</td>\n",
       "      <td>1345.603704</td>\n",
       "      <td>0.0</td>\n",
       "      <td>0.0</td>\n",
       "      <td>0.0</td>\n",
       "      <td>0.0</td>\n",
       "      <td>0.0</td>\n",
       "      <td>0.0</td>\n",
       "      <td>0.0</td>\n",
       "    </tr>\n",
       "  </tbody>\n",
       "</table>\n",
       "</div>"
      ],
      "text/plain": [
       "  OUTLET_CODE  unique_product_codes  total_sales_value  total_sales_units  \\\n",
       "0     OL10328                    23            4904.27                221   \n",
       "1     OL10329                    20           42893.83               1148   \n",
       "2     OL10330                    73          324169.05               3124   \n",
       "3     OL10331                    19           12422.54                 87   \n",
       "4     OL10332                    11           36331.30               4204   \n",
       "\n",
       "   total_transactions  avg_order_value  \\\n",
       "0                  34       288.486471   \n",
       "1                 195       912.634681   \n",
       "2                 573      1373.597669   \n",
       "3                  49       345.070556   \n",
       "4                 147      1345.603704   \n",
       "\n",
       "   category_contribution_Perfume and Deodrants  \\\n",
       "0                                          0.0   \n",
       "1                                          0.0   \n",
       "2                                          0.0   \n",
       "3                                          0.0   \n",
       "4                                          0.0   \n",
       "\n",
       "   category_contribution_Hair Care  category_contribution_Soap  \\\n",
       "0                              0.0                         0.0   \n",
       "1                              0.0                         0.0   \n",
       "2                              0.0                         0.0   \n",
       "3                              0.0                         0.0   \n",
       "4                              0.0                         0.0   \n",
       "\n",
       "   category_contribution_Kids Care  category_contribution_Lotion  \\\n",
       "0                              0.0                           0.0   \n",
       "1                              0.0                           0.0   \n",
       "2                              0.0                           0.0   \n",
       "3                              0.0                           0.0   \n",
       "4                              0.0                           0.0   \n",
       "\n",
       "   category_contribution_Dental  category_contribution_Wipes  \n",
       "0                           0.0                          0.0  \n",
       "1                           0.0                          0.0  \n",
       "2                           0.0                          0.0  \n",
       "3                           0.0                          0.0  \n",
       "4                           0.0                          0.0  "
      ]
     },
     "execution_count": 39,
     "metadata": {},
     "output_type": "execute_result"
    }
   ],
   "source": [
    "aggregated_data.head()"
   ]
  },
  {
   "cell_type": "code",
   "execution_count": 23,
   "id": "44c29593-ef58-4c3b-8e1a-a617c714cd7c",
   "metadata": {},
   "outputs": [
    {
     "name": "stdout",
     "output_type": "stream",
     "text": [
      "cluster\n",
      "0    18205\n",
      "1      541\n",
      "2       87\n",
      "Name: OUTLET_CODE, dtype: int64\n"
     ]
    }
   ],
   "source": [
    "# Count the number of OUTLET_CODEs by cluster\n",
    "outlet_counts_by_cluster = df_cluster.groupby('cluster')['OUTLET_CODE'].nunique()\n",
    "\n",
    "# Display the counts\n",
    "print(outlet_counts_by_cluster)"
   ]
  },
  {
   "cell_type": "code",
   "execution_count": null,
   "id": "b9a12076-e821-4a9a-a7b8-a45a9020e1b0",
   "metadata": {},
   "outputs": [],
   "source": []
  }
 ],
 "metadata": {
  "kernelspec": {
   "display_name": "Python 3 (ipykernel)",
   "language": "python",
   "name": "python3"
  },
  "language_info": {
   "codemirror_mode": {
    "name": "ipython",
    "version": 3
   },
   "file_extension": ".py",
   "mimetype": "text/x-python",
   "name": "python",
   "nbconvert_exporter": "python",
   "pygments_lexer": "ipython3",
   "version": "3.9.19"
  }
 },
 "nbformat": 4,
 "nbformat_minor": 5
}
