{
 "cells": [
  {
   "cell_type": "code",
   "execution_count": 1,
   "id": "f9a2e773-65de-456b-b4e1-052a1c4cd018",
   "metadata": {},
   "outputs": [
    {
     "name": "stdout",
     "output_type": "stream",
     "text": [
      "Requirement already up-to-date: fosforml in /opt/conda/lib/python3.9/site-packages (1.1.8)\n",
      "Requirement already satisfied, skipping upgrade: scikit-learn==1.3.2 in /opt/conda/lib/python3.9/site-packages (from fosforml) (1.3.2)\n",
      "Requirement already satisfied, skipping upgrade: cloudpickle==2.2.1 in /opt/conda/lib/python3.9/site-packages (from fosforml) (2.2.1)\n",
      "Requirement already satisfied, skipping upgrade: snowflake-ml-python==1.5.0; python_version <= \"3.9\" in /opt/conda/lib/python3.9/site-packages (from fosforml) (1.5.0)\n",
      "Requirement already satisfied, skipping upgrade: scipy>=1.5.0 in /opt/conda/lib/python3.9/site-packages (from scikit-learn==1.3.2->fosforml) (1.13.1)\n",
      "Requirement already satisfied, skipping upgrade: joblib>=1.1.1 in /opt/conda/lib/python3.9/site-packages (from scikit-learn==1.3.2->fosforml) (1.4.2)\n",
      "Requirement already satisfied, skipping upgrade: threadpoolctl>=2.0.0 in /opt/conda/lib/python3.9/site-packages (from scikit-learn==1.3.2->fosforml) (3.5.0)\n",
      "Requirement already satisfied, skipping upgrade: numpy<2.0,>=1.17.3 in /opt/conda/lib/python3.9/site-packages (from scikit-learn==1.3.2->fosforml) (1.26.4)\n",
      "Requirement already satisfied, skipping upgrade: pyyaml<7,>=6.0 in /opt/conda/lib/python3.9/site-packages (from snowflake-ml-python==1.5.0; python_version <= \"3.9\"->fosforml) (6.0.1)\n",
      "Requirement already satisfied, skipping upgrade: importlib-resources<7,>=6.1.1 in /opt/conda/lib/python3.9/site-packages (from snowflake-ml-python==1.5.0; python_version <= \"3.9\"->fosforml) (6.4.5)\n",
      "Requirement already satisfied, skipping upgrade: s3fs<2024,>=2022.11 in /opt/conda/lib/python3.9/site-packages (from snowflake-ml-python==1.5.0; python_version <= \"3.9\"->fosforml) (2023.12.2)\n",
      "Requirement already satisfied, skipping upgrade: catboost<1.3,>=1.2.0 in /opt/conda/lib/python3.9/site-packages (from snowflake-ml-python==1.5.0; python_version <= \"3.9\"->fosforml) (1.2.7)\n",
      "Requirement already satisfied, skipping upgrade: typing-extensions<5,>=4.1.0 in /opt/conda/lib/python3.9/site-packages (from snowflake-ml-python==1.5.0; python_version <= \"3.9\"->fosforml) (4.12.2)\n",
      "Requirement already satisfied, skipping upgrade: pytimeparse<2,>=1.1.8 in /opt/conda/lib/python3.9/site-packages (from snowflake-ml-python==1.5.0; python_version <= \"3.9\"->fosforml) (1.1.8)\n",
      "Requirement already satisfied, skipping upgrade: snowflake-connector-python[pandas]<4,>=3.5.0 in /opt/conda/lib/python3.9/site-packages (from snowflake-ml-python==1.5.0; python_version <= \"3.9\"->fosforml) (3.12.2)\n",
      "Requirement already satisfied, skipping upgrade: xgboost<2,>=1.7.3 in /opt/conda/lib/python3.9/site-packages (from snowflake-ml-python==1.5.0; python_version <= \"3.9\"->fosforml) (1.7.6)\n",
      "Requirement already satisfied, skipping upgrade: fsspec[http]<2024,>=2022.11 in /opt/conda/lib/python3.9/site-packages (from snowflake-ml-python==1.5.0; python_version <= \"3.9\"->fosforml) (2023.12.2)\n",
      "Requirement already satisfied, skipping upgrade: pyarrow in /opt/conda/lib/python3.9/site-packages (from snowflake-ml-python==1.5.0; python_version <= \"3.9\"->fosforml) (17.0.0)\n",
      "Requirement already satisfied, skipping upgrade: sqlparse<1,>=0.4 in /opt/conda/lib/python3.9/site-packages (from snowflake-ml-python==1.5.0; python_version <= \"3.9\"->fosforml) (0.5.1)\n",
      "Requirement already satisfied, skipping upgrade: retrying<2,>=1.3.3 in /opt/conda/lib/python3.9/site-packages (from snowflake-ml-python==1.5.0; python_version <= \"3.9\"->fosforml) (1.3.4)\n",
      "Requirement already satisfied, skipping upgrade: snowflake-snowpark-python!=1.12.0,<2,>=1.11.1 in /opt/conda/lib/python3.9/site-packages (from snowflake-ml-python==1.5.0; python_version <= \"3.9\"->fosforml) (1.23.0)\n",
      "Requirement already satisfied, skipping upgrade: anyio<4,>=3.5.0 in /opt/conda/lib/python3.9/site-packages (from snowflake-ml-python==1.5.0; python_version <= \"3.9\"->fosforml) (3.7.1)\n",
      "Requirement already satisfied, skipping upgrade: pandas<3,>=1.0.0 in /opt/conda/lib/python3.9/site-packages (from snowflake-ml-python==1.5.0; python_version <= \"3.9\"->fosforml) (2.2.2)\n",
      "Requirement already satisfied, skipping upgrade: packaging<24,>=20.9 in /opt/conda/lib/python3.9/site-packages (from snowflake-ml-python==1.5.0; python_version <= \"3.9\"->fosforml) (23.2)\n",
      "Requirement already satisfied, skipping upgrade: cachetools<6,>=3.1.1 in /opt/conda/lib/python3.9/site-packages (from snowflake-ml-python==1.5.0; python_version <= \"3.9\"->fosforml) (5.5.0)\n",
      "Requirement already satisfied, skipping upgrade: absl-py<2,>=0.15 in /opt/conda/lib/python3.9/site-packages (from snowflake-ml-python==1.5.0; python_version <= \"3.9\"->fosforml) (1.4.0)\n",
      "Requirement already satisfied, skipping upgrade: zipp>=3.1.0; python_version < \"3.10\" in /opt/conda/lib/python3.9/site-packages (from importlib-resources<7,>=6.1.1->snowflake-ml-python==1.5.0; python_version <= \"3.9\"->fosforml) (3.19.2)\n",
      "Requirement already satisfied, skipping upgrade: aiohttp!=4.0.0a0,!=4.0.0a1 in /opt/conda/lib/python3.9/site-packages (from s3fs<2024,>=2022.11->snowflake-ml-python==1.5.0; python_version <= \"3.9\"->fosforml) (3.10.10)\n",
      "Requirement already satisfied, skipping upgrade: aiobotocore<3.0.0,>=2.5.4 in /opt/conda/lib/python3.9/site-packages (from s3fs<2024,>=2022.11->snowflake-ml-python==1.5.0; python_version <= \"3.9\"->fosforml) (2.15.2)\n",
      "Requirement already satisfied, skipping upgrade: graphviz in /opt/conda/lib/python3.9/site-packages (from catboost<1.3,>=1.2.0->snowflake-ml-python==1.5.0; python_version <= \"3.9\"->fosforml) (0.20.3)\n",
      "Requirement already satisfied, skipping upgrade: matplotlib in /opt/conda/lib/python3.9/site-packages (from catboost<1.3,>=1.2.0->snowflake-ml-python==1.5.0; python_version <= \"3.9\"->fosforml) (3.9.2)\n",
      "Requirement already satisfied, skipping upgrade: plotly in /opt/conda/lib/python3.9/site-packages (from catboost<1.3,>=1.2.0->snowflake-ml-python==1.5.0; python_version <= \"3.9\"->fosforml) (5.24.1)\n",
      "Requirement already satisfied, skipping upgrade: six in /opt/conda/lib/python3.9/site-packages (from catboost<1.3,>=1.2.0->snowflake-ml-python==1.5.0; python_version <= \"3.9\"->fosforml) (1.16.0)\n",
      "Requirement already satisfied, skipping upgrade: idna<4,>=2.5 in /opt/conda/lib/python3.9/site-packages (from snowflake-connector-python[pandas]<4,>=3.5.0->snowflake-ml-python==1.5.0; python_version <= \"3.9\"->fosforml) (3.7)\n",
      "Requirement already satisfied, skipping upgrade: pyjwt<3.0.0 in /opt/conda/lib/python3.9/site-packages (from snowflake-connector-python[pandas]<4,>=3.5.0->snowflake-ml-python==1.5.0; python_version <= \"3.9\"->fosforml) (2.9.0)\n",
      "Requirement already satisfied, skipping upgrade: requests<3.0.0 in /opt/conda/lib/python3.9/site-packages (from snowflake-connector-python[pandas]<4,>=3.5.0->snowflake-ml-python==1.5.0; python_version <= \"3.9\"->fosforml) (2.32.3)\n",
      "Requirement already satisfied, skipping upgrade: cffi<2.0.0,>=1.9 in /opt/conda/lib/python3.9/site-packages (from snowflake-connector-python[pandas]<4,>=3.5.0->snowflake-ml-python==1.5.0; python_version <= \"3.9\"->fosforml) (1.16.0)\n",
      "Requirement already satisfied, skipping upgrade: tomlkit in /opt/conda/lib/python3.9/site-packages (from snowflake-connector-python[pandas]<4,>=3.5.0->snowflake-ml-python==1.5.0; python_version <= \"3.9\"->fosforml) (0.13.2)\n",
      "Requirement already satisfied, skipping upgrade: certifi>=2017.4.17 in /opt/conda/lib/python3.9/site-packages (from snowflake-connector-python[pandas]<4,>=3.5.0->snowflake-ml-python==1.5.0; python_version <= \"3.9\"->fosforml) (2024.7.4)\n",
      "Requirement already satisfied, skipping upgrade: urllib3<2.0.0,>=1.21.1; python_version < \"3.10\" in /opt/conda/lib/python3.9/site-packages (from snowflake-connector-python[pandas]<4,>=3.5.0->snowflake-ml-python==1.5.0; python_version <= \"3.9\"->fosforml) (1.26.20)\n",
      "Requirement already satisfied, skipping upgrade: asn1crypto<2.0.0,>0.24.0 in /opt/conda/lib/python3.9/site-packages (from snowflake-connector-python[pandas]<4,>=3.5.0->snowflake-ml-python==1.5.0; python_version <= \"3.9\"->fosforml) (1.5.1)\n",
      "Requirement already satisfied, skipping upgrade: filelock<4,>=3.5 in /opt/conda/lib/python3.9/site-packages (from snowflake-connector-python[pandas]<4,>=3.5.0->snowflake-ml-python==1.5.0; python_version <= \"3.9\"->fosforml) (3.16.1)\n",
      "Requirement already satisfied, skipping upgrade: platformdirs<5.0.0,>=2.6.0 in /opt/conda/lib/python3.9/site-packages (from snowflake-connector-python[pandas]<4,>=3.5.0->snowflake-ml-python==1.5.0; python_version <= \"3.9\"->fosforml) (4.2.2)\n",
      "Requirement already satisfied, skipping upgrade: sortedcontainers>=2.4.0 in /opt/conda/lib/python3.9/site-packages (from snowflake-connector-python[pandas]<4,>=3.5.0->snowflake-ml-python==1.5.0; python_version <= \"3.9\"->fosforml) (2.4.0)\n",
      "Requirement already satisfied, skipping upgrade: pytz in /opt/conda/lib/python3.9/site-packages (from snowflake-connector-python[pandas]<4,>=3.5.0->snowflake-ml-python==1.5.0; python_version <= \"3.9\"->fosforml) (2024.1)\n",
      "Requirement already satisfied, skipping upgrade: pyOpenSSL<25.0.0,>=16.2.0 in /opt/conda/lib/python3.9/site-packages (from snowflake-connector-python[pandas]<4,>=3.5.0->snowflake-ml-python==1.5.0; python_version <= \"3.9\"->fosforml) (24.0.0)\n",
      "Requirement already satisfied, skipping upgrade: cryptography>=3.1.0 in /opt/conda/lib/python3.9/site-packages (from snowflake-connector-python[pandas]<4,>=3.5.0->snowflake-ml-python==1.5.0; python_version <= \"3.9\"->fosforml) (42.0.5)\n",
      "Requirement already satisfied, skipping upgrade: charset-normalizer<4,>=2 in /opt/conda/lib/python3.9/site-packages (from snowflake-connector-python[pandas]<4,>=3.5.0->snowflake-ml-python==1.5.0; python_version <= \"3.9\"->fosforml) (3.3.2)\n",
      "Requirement already satisfied, skipping upgrade: setuptools>=40.6.0 in /opt/conda/lib/python3.9/site-packages (from snowflake-snowpark-python!=1.12.0,<2,>=1.11.1->snowflake-ml-python==1.5.0; python_version <= \"3.9\"->fosforml) (65.6.3)\n",
      "Requirement already satisfied, skipping upgrade: wheel in /opt/conda/lib/python3.9/site-packages (from snowflake-snowpark-python!=1.12.0,<2,>=1.11.1->snowflake-ml-python==1.5.0; python_version <= \"3.9\"->fosforml) (0.37.1)\n",
      "Requirement already satisfied, skipping upgrade: exceptiongroup; python_version < \"3.11\" in /opt/conda/lib/python3.9/site-packages (from anyio<4,>=3.5.0->snowflake-ml-python==1.5.0; python_version <= \"3.9\"->fosforml) (1.2.2)\n",
      "Requirement already satisfied, skipping upgrade: sniffio>=1.1 in /opt/conda/lib/python3.9/site-packages (from anyio<4,>=3.5.0->snowflake-ml-python==1.5.0; python_version <= \"3.9\"->fosforml) (1.3.1)\n",
      "Requirement already satisfied, skipping upgrade: tzdata>=2022.7 in /opt/conda/lib/python3.9/site-packages (from pandas<3,>=1.0.0->snowflake-ml-python==1.5.0; python_version <= \"3.9\"->fosforml) (2024.1)\n",
      "Requirement already satisfied, skipping upgrade: python-dateutil>=2.8.2 in /opt/conda/lib/python3.9/site-packages (from pandas<3,>=1.0.0->snowflake-ml-python==1.5.0; python_version <= \"3.9\"->fosforml) (2.9.0.post0)\n",
      "Requirement already satisfied, skipping upgrade: yarl<2.0,>=1.12.0 in /opt/conda/lib/python3.9/site-packages (from aiohttp!=4.0.0a0,!=4.0.0a1->s3fs<2024,>=2022.11->snowflake-ml-python==1.5.0; python_version <= \"3.9\"->fosforml) (1.15.2)\n",
      "Requirement already satisfied, skipping upgrade: frozenlist>=1.1.1 in /opt/conda/lib/python3.9/site-packages (from aiohttp!=4.0.0a0,!=4.0.0a1->s3fs<2024,>=2022.11->snowflake-ml-python==1.5.0; python_version <= \"3.9\"->fosforml) (1.4.1)\n",
      "Requirement already satisfied, skipping upgrade: attrs>=17.3.0 in /opt/conda/lib/python3.9/site-packages (from aiohttp!=4.0.0a0,!=4.0.0a1->s3fs<2024,>=2022.11->snowflake-ml-python==1.5.0; python_version <= \"3.9\"->fosforml) (23.2.0)\n",
      "Requirement already satisfied, skipping upgrade: aiohappyeyeballs>=2.3.0 in /opt/conda/lib/python3.9/site-packages (from aiohttp!=4.0.0a0,!=4.0.0a1->s3fs<2024,>=2022.11->snowflake-ml-python==1.5.0; python_version <= \"3.9\"->fosforml) (2.4.3)\n",
      "Requirement already satisfied, skipping upgrade: async-timeout<5.0,>=4.0; python_version < \"3.11\" in /opt/conda/lib/python3.9/site-packages (from aiohttp!=4.0.0a0,!=4.0.0a1->s3fs<2024,>=2022.11->snowflake-ml-python==1.5.0; python_version <= \"3.9\"->fosforml) (4.0.3)\n",
      "Requirement already satisfied, skipping upgrade: aiosignal>=1.1.2 in /opt/conda/lib/python3.9/site-packages (from aiohttp!=4.0.0a0,!=4.0.0a1->s3fs<2024,>=2022.11->snowflake-ml-python==1.5.0; python_version <= \"3.9\"->fosforml) (1.3.1)\n",
      "Requirement already satisfied, skipping upgrade: multidict<7.0,>=4.5 in /opt/conda/lib/python3.9/site-packages (from aiohttp!=4.0.0a0,!=4.0.0a1->s3fs<2024,>=2022.11->snowflake-ml-python==1.5.0; python_version <= \"3.9\"->fosforml) (6.1.0)\n",
      "Requirement already satisfied, skipping upgrade: aioitertools<1.0.0,>=0.5.1 in /opt/conda/lib/python3.9/site-packages (from aiobotocore<3.0.0,>=2.5.4->s3fs<2024,>=2022.11->snowflake-ml-python==1.5.0; python_version <= \"3.9\"->fosforml) (0.12.0)\n",
      "Requirement already satisfied, skipping upgrade: botocore<1.35.37,>=1.35.16 in /opt/conda/lib/python3.9/site-packages (from aiobotocore<3.0.0,>=2.5.4->s3fs<2024,>=2022.11->snowflake-ml-python==1.5.0; python_version <= \"3.9\"->fosforml) (1.35.36)\n",
      "Requirement already satisfied, skipping upgrade: wrapt<2.0.0,>=1.10.10 in /opt/conda/lib/python3.9/site-packages (from aiobotocore<3.0.0,>=2.5.4->s3fs<2024,>=2022.11->snowflake-ml-python==1.5.0; python_version <= \"3.9\"->fosforml) (1.16.0)\n",
      "Requirement already satisfied, skipping upgrade: cycler>=0.10 in /opt/conda/lib/python3.9/site-packages (from matplotlib->catboost<1.3,>=1.2.0->snowflake-ml-python==1.5.0; python_version <= \"3.9\"->fosforml) (0.12.1)\n",
      "Requirement already satisfied, skipping upgrade: pyparsing>=2.3.1 in /opt/conda/lib/python3.9/site-packages (from matplotlib->catboost<1.3,>=1.2.0->snowflake-ml-python==1.5.0; python_version <= \"3.9\"->fosforml) (3.2.0)\n",
      "Requirement already satisfied, skipping upgrade: kiwisolver>=1.3.1 in /opt/conda/lib/python3.9/site-packages (from matplotlib->catboost<1.3,>=1.2.0->snowflake-ml-python==1.5.0; python_version <= \"3.9\"->fosforml) (1.4.7)\n",
      "Requirement already satisfied, skipping upgrade: contourpy>=1.0.1 in /opt/conda/lib/python3.9/site-packages (from matplotlib->catboost<1.3,>=1.2.0->snowflake-ml-python==1.5.0; python_version <= \"3.9\"->fosforml) (1.3.0)\n",
      "Requirement already satisfied, skipping upgrade: fonttools>=4.22.0 in /opt/conda/lib/python3.9/site-packages (from matplotlib->catboost<1.3,>=1.2.0->snowflake-ml-python==1.5.0; python_version <= \"3.9\"->fosforml) (4.54.1)\n",
      "Requirement already satisfied, skipping upgrade: pillow>=8 in /opt/conda/lib/python3.9/site-packages (from matplotlib->catboost<1.3,>=1.2.0->snowflake-ml-python==1.5.0; python_version <= \"3.9\"->fosforml) (10.4.0)\n",
      "Requirement already satisfied, skipping upgrade: tenacity>=6.2.0 in /opt/conda/lib/python3.9/site-packages (from plotly->catboost<1.3,>=1.2.0->snowflake-ml-python==1.5.0; python_version <= \"3.9\"->fosforml) (9.0.0)\n",
      "Requirement already satisfied, skipping upgrade: pycparser in /opt/conda/lib/python3.9/site-packages (from cffi<2.0.0,>=1.9->snowflake-connector-python[pandas]<4,>=3.5.0->snowflake-ml-python==1.5.0; python_version <= \"3.9\"->fosforml) (2.21)\n",
      "Requirement already satisfied, skipping upgrade: propcache>=0.2.0 in /opt/conda/lib/python3.9/site-packages (from yarl<2.0,>=1.12.0->aiohttp!=4.0.0a0,!=4.0.0a1->s3fs<2024,>=2022.11->snowflake-ml-python==1.5.0; python_version <= \"3.9\"->fosforml) (0.2.0)\n",
      "Requirement already satisfied, skipping upgrade: jmespath<2.0.0,>=0.7.1 in /opt/conda/lib/python3.9/site-packages (from botocore<1.35.37,>=1.35.16->aiobotocore<3.0.0,>=2.5.4->s3fs<2024,>=2022.11->snowflake-ml-python==1.5.0; python_version <= \"3.9\"->fosforml) (1.0.1)\n",
      "\u001b[33mWARNING: You are using pip version 19.3.1; however, version 24.2 is available.\n",
      "You should consider upgrading via the 'pip install --upgrade pip' command.\u001b[0m\n",
      "Note: you may need to restart the kernel to use updated packages.\n"
     ]
    }
   ],
   "source": [
    "pip install --upgrade fosforml"
   ]
  },
  {
   "cell_type": "code",
   "execution_count": 2,
   "id": "ebb17914-526f-44a7-a5a6-2eec560a84d6",
   "metadata": {},
   "outputs": [
    {
     "name": "stdout",
     "output_type": "stream",
     "text": [
      "Requirement already satisfied: seaborn in /opt/conda/lib/python3.9/site-packages (0.13.2)\n",
      "Requirement already satisfied: matplotlib!=3.6.1,>=3.4 in /opt/conda/lib/python3.9/site-packages (from seaborn) (3.9.2)\n",
      "Requirement already satisfied: numpy!=1.24.0,>=1.20 in /opt/conda/lib/python3.9/site-packages (from seaborn) (1.26.4)\n",
      "Requirement already satisfied: pandas>=1.2 in /opt/conda/lib/python3.9/site-packages (from seaborn) (2.2.2)\n",
      "Requirement already satisfied: importlib-resources>=3.2.0; python_version < \"3.10\" in /opt/conda/lib/python3.9/site-packages (from matplotlib!=3.6.1,>=3.4->seaborn) (6.4.5)\n",
      "Requirement already satisfied: kiwisolver>=1.3.1 in /opt/conda/lib/python3.9/site-packages (from matplotlib!=3.6.1,>=3.4->seaborn) (1.4.7)\n",
      "Requirement already satisfied: cycler>=0.10 in /opt/conda/lib/python3.9/site-packages (from matplotlib!=3.6.1,>=3.4->seaborn) (0.12.1)\n",
      "Requirement already satisfied: packaging>=20.0 in /opt/conda/lib/python3.9/site-packages (from matplotlib!=3.6.1,>=3.4->seaborn) (23.2)\n",
      "Requirement already satisfied: pyparsing>=2.3.1 in /opt/conda/lib/python3.9/site-packages (from matplotlib!=3.6.1,>=3.4->seaborn) (3.2.0)\n",
      "Requirement already satisfied: pillow>=8 in /opt/conda/lib/python3.9/site-packages (from matplotlib!=3.6.1,>=3.4->seaborn) (10.4.0)\n",
      "Requirement already satisfied: contourpy>=1.0.1 in /opt/conda/lib/python3.9/site-packages (from matplotlib!=3.6.1,>=3.4->seaborn) (1.3.0)\n",
      "Requirement already satisfied: python-dateutil>=2.7 in /opt/conda/lib/python3.9/site-packages (from matplotlib!=3.6.1,>=3.4->seaborn) (2.9.0.post0)\n",
      "Requirement already satisfied: fonttools>=4.22.0 in /opt/conda/lib/python3.9/site-packages (from matplotlib!=3.6.1,>=3.4->seaborn) (4.54.1)\n",
      "Requirement already satisfied: pytz>=2020.1 in /opt/conda/lib/python3.9/site-packages (from pandas>=1.2->seaborn) (2024.1)\n",
      "Requirement already satisfied: tzdata>=2022.7 in /opt/conda/lib/python3.9/site-packages (from pandas>=1.2->seaborn) (2024.1)\n",
      "Requirement already satisfied: zipp>=3.1.0; python_version < \"3.10\" in /opt/conda/lib/python3.9/site-packages (from importlib-resources>=3.2.0; python_version < \"3.10\"->matplotlib!=3.6.1,>=3.4->seaborn) (3.19.2)\n",
      "Requirement already satisfied: six>=1.5 in /opt/conda/lib/python3.9/site-packages (from python-dateutil>=2.7->matplotlib!=3.6.1,>=3.4->seaborn) (1.16.0)\n",
      "\u001b[33mWARNING: You are using pip version 19.3.1; however, version 24.2 is available.\n",
      "You should consider upgrading via the 'pip install --upgrade pip' command.\u001b[0m\n",
      "Note: you may need to restart the kernel to use updated packages.\n"
     ]
    }
   ],
   "source": [
    "pip install seaborn"
   ]
  },
  {
   "cell_type": "code",
   "execution_count": 3,
   "id": "db88da33-bb78-4458-aac4-0e037d862051",
   "metadata": {},
   "outputs": [],
   "source": [
    "import pandas as pd\n",
    "import numpy as np\n",
    "import fosforml\n",
    "from fosforml.model_manager.snowflakesession import get_session\n",
    "my_session = get_session()"
   ]
  },
  {
   "cell_type": "code",
   "execution_count": 4,
   "id": "df2137ef-d907-408f-85c8-5ca48d193312",
   "metadata": {},
   "outputs": [
    {
     "data": {
      "text/plain": [
       "'ASSORTMENT_PLANNING'"
      ]
     },
     "execution_count": 4,
     "metadata": {},
     "output_type": "execute_result"
    }
   ],
   "source": [
    "my_session.connection.database"
   ]
  },
  {
   "cell_type": "code",
   "execution_count": 5,
   "id": "821fc365-0e19-4bca-8faa-feb2874d643a",
   "metadata": {},
   "outputs": [
    {
     "data": {
      "text/plain": [
       "'CPG_BRONZE'"
      ]
     },
     "execution_count": 5,
     "metadata": {},
     "output_type": "execute_result"
    }
   ],
   "source": [
    "my_session.connection.schema"
   ]
  },
  {
   "cell_type": "code",
   "execution_count": 6,
   "id": "b3c735e1-161b-4987-b798-5b6a98aaa87d",
   "metadata": {},
   "outputs": [],
   "source": [
    "table_name = \"ASSORTMENT_PLANNING.CPG_BRONZE.SALES_CLEAN\""
   ]
  },
  {
   "cell_type": "code",
   "execution_count": 7,
   "id": "9010394d-20b9-44ae-87b8-0471cf007e66",
   "metadata": {},
   "outputs": [],
   "source": [
    "sf_df = my_session.sql(\"select * from {}\".format(table_name))"
   ]
  },
  {
   "cell_type": "code",
   "execution_count": 8,
   "id": "370b203d-0161-47ee-9df9-57cde9ff77f1",
   "metadata": {},
   "outputs": [
    {
     "data": {
      "text/plain": [
       "snowflake.snowpark.dataframe.DataFrame"
      ]
     },
     "execution_count": 8,
     "metadata": {},
     "output_type": "execute_result"
    }
   ],
   "source": [
    "type(sf_df)"
   ]
  },
  {
   "cell_type": "code",
   "execution_count": 9,
   "id": "3a72f827-b192-411a-b785-226fb62f40b9",
   "metadata": {},
   "outputs": [],
   "source": [
    "df=sf_df.to_pandas()"
   ]
  },
  {
   "cell_type": "code",
   "execution_count": 10,
   "id": "4229525b-3654-4979-9728-fa1201ee0ae2",
   "metadata": {},
   "outputs": [
    {
     "data": {
      "text/plain": [
       "pandas.core.frame.DataFrame"
      ]
     },
     "execution_count": 10,
     "metadata": {},
     "output_type": "execute_result"
    }
   ],
   "source": [
    "type(df)"
   ]
  },
  {
   "cell_type": "code",
   "execution_count": 11,
   "id": "881f7cd0-8c4b-4cec-8b95-1b793598f251",
   "metadata": {},
   "outputs": [],
   "source": [
    "df=df.sort_values(by='TRANS_DATE')"
   ]
  },
  {
   "cell_type": "code",
   "execution_count": 12,
   "id": "3782cf1a-f800-4b6f-bdd1-7c7be5f7cd36",
   "metadata": {},
   "outputs": [
    {
     "data": {
      "text/html": [
       "<div>\n",
       "<style scoped>\n",
       "    .dataframe tbody tr th:only-of-type {\n",
       "        vertical-align: middle;\n",
       "    }\n",
       "\n",
       "    .dataframe tbody tr th {\n",
       "        vertical-align: top;\n",
       "    }\n",
       "\n",
       "    .dataframe thead th {\n",
       "        text-align: right;\n",
       "    }\n",
       "</style>\n",
       "<table border=\"1\" class=\"dataframe\">\n",
       "  <thead>\n",
       "    <tr style=\"text-align: right;\">\n",
       "      <th></th>\n",
       "      <th>MNTH_CODE</th>\n",
       "      <th>TRANS_DATE</th>\n",
       "      <th>START_DATE</th>\n",
       "      <th>SALES_VALUE</th>\n",
       "      <th>SALES_UNITS</th>\n",
       "      <th>SALES_VOLUME</th>\n",
       "      <th>SALES_PTR_VALUE</th>\n",
       "      <th>OC_CODE</th>\n",
       "      <th>DISTRIBUTOR_CODE</th>\n",
       "      <th>OUTLET_CODE</th>\n",
       "      <th>CITY</th>\n",
       "      <th>STATE</th>\n",
       "      <th>COUNTY</th>\n",
       "      <th>STREET</th>\n",
       "      <th>PRODUCT_CODE</th>\n",
       "      <th>CATEGORY</th>\n",
       "      <th>SUBCATEGORY</th>\n",
       "      <th>BRAND</th>\n",
       "    </tr>\n",
       "  </thead>\n",
       "  <tbody>\n",
       "    <tr>\n",
       "      <th>780456</th>\n",
       "      <td>202309</td>\n",
       "      <td>2023-08-29</td>\n",
       "      <td>2023-08-28</td>\n",
       "      <td>172.73</td>\n",
       "      <td>1</td>\n",
       "      <td>0.000375</td>\n",
       "      <td>172.727273</td>\n",
       "      <td>202209</td>\n",
       "      <td>DB0209</td>\n",
       "      <td>OL175129</td>\n",
       "      <td>Truth or Consequences</td>\n",
       "      <td>New Mexico</td>\n",
       "      <td>City Center</td>\n",
       "      <td>Str3</td>\n",
       "      <td>PRD0059</td>\n",
       "      <td>Perfume and Deodrants</td>\n",
       "      <td>Male Deodrant</td>\n",
       "      <td>Sapphire</td>\n",
       "    </tr>\n",
       "    <tr>\n",
       "      <th>800539</th>\n",
       "      <td>202309</td>\n",
       "      <td>2023-08-29</td>\n",
       "      <td>2023-08-28</td>\n",
       "      <td>142.86</td>\n",
       "      <td>16</td>\n",
       "      <td>0.000384</td>\n",
       "      <td>142.857143</td>\n",
       "      <td>202209</td>\n",
       "      <td>DB0655</td>\n",
       "      <td>OL144514</td>\n",
       "      <td>West Point</td>\n",
       "      <td>Mississippi</td>\n",
       "      <td>Silver</td>\n",
       "      <td>Str2</td>\n",
       "      <td>PRD0106</td>\n",
       "      <td>Hair Care</td>\n",
       "      <td>Shampoo</td>\n",
       "      <td>Hair &amp; Shoulders</td>\n",
       "    </tr>\n",
       "    <tr>\n",
       "      <th>800538</th>\n",
       "      <td>202309</td>\n",
       "      <td>2023-08-29</td>\n",
       "      <td>2023-08-28</td>\n",
       "      <td>405.64</td>\n",
       "      <td>4</td>\n",
       "      <td>0.000428</td>\n",
       "      <td>418.181818</td>\n",
       "      <td>202209</td>\n",
       "      <td>DB0110</td>\n",
       "      <td>OL96826</td>\n",
       "      <td>Overland Park</td>\n",
       "      <td>Kansas</td>\n",
       "      <td>City Center</td>\n",
       "      <td>Str5</td>\n",
       "      <td>PRD0065</td>\n",
       "      <td>Hair Care</td>\n",
       "      <td>Hair Oil</td>\n",
       "      <td>Crimson</td>\n",
       "    </tr>\n",
       "    <tr>\n",
       "      <th>800537</th>\n",
       "      <td>202309</td>\n",
       "      <td>2023-08-29</td>\n",
       "      <td>2023-08-28</td>\n",
       "      <td>407.14</td>\n",
       "      <td>48</td>\n",
       "      <td>0.000816</td>\n",
       "      <td>428.571429</td>\n",
       "      <td>202209</td>\n",
       "      <td>DB0209</td>\n",
       "      <td>OL128819</td>\n",
       "      <td>Columbus</td>\n",
       "      <td>Georgia</td>\n",
       "      <td>Silver</td>\n",
       "      <td>Str2</td>\n",
       "      <td>PRD0028</td>\n",
       "      <td>Soap</td>\n",
       "      <td>Toilet Soap</td>\n",
       "      <td>Indigo</td>\n",
       "    </tr>\n",
       "    <tr>\n",
       "      <th>800536</th>\n",
       "      <td>202309</td>\n",
       "      <td>2023-08-29</td>\n",
       "      <td>2023-08-28</td>\n",
       "      <td>345.45</td>\n",
       "      <td>2</td>\n",
       "      <td>0.000500</td>\n",
       "      <td>345.454545</td>\n",
       "      <td>202209</td>\n",
       "      <td>DB0706</td>\n",
       "      <td>OL12592</td>\n",
       "      <td>Nashville</td>\n",
       "      <td>Indiana</td>\n",
       "      <td>City Center</td>\n",
       "      <td>Str4</td>\n",
       "      <td>PRD0122</td>\n",
       "      <td>Perfume and Deodrants</td>\n",
       "      <td>Female Deodrant</td>\n",
       "      <td>Lilac</td>\n",
       "    </tr>\n",
       "  </tbody>\n",
       "</table>\n",
       "</div>"
      ],
      "text/plain": [
       "        MNTH_CODE  TRANS_DATE  START_DATE  SALES_VALUE  SALES_UNITS  \\\n",
       "780456     202309  2023-08-29  2023-08-28       172.73            1   \n",
       "800539     202309  2023-08-29  2023-08-28       142.86           16   \n",
       "800538     202309  2023-08-29  2023-08-28       405.64            4   \n",
       "800537     202309  2023-08-29  2023-08-28       407.14           48   \n",
       "800536     202309  2023-08-29  2023-08-28       345.45            2   \n",
       "\n",
       "        SALES_VOLUME  SALES_PTR_VALUE  OC_CODE DISTRIBUTOR_CODE OUTLET_CODE  \\\n",
       "780456      0.000375       172.727273   202209           DB0209    OL175129   \n",
       "800539      0.000384       142.857143   202209           DB0655    OL144514   \n",
       "800538      0.000428       418.181818   202209           DB0110     OL96826   \n",
       "800537      0.000816       428.571429   202209           DB0209    OL128819   \n",
       "800536      0.000500       345.454545   202209           DB0706     OL12592   \n",
       "\n",
       "                         CITY        STATE       COUNTY STREET PRODUCT_CODE  \\\n",
       "780456  Truth or Consequences   New Mexico  City Center   Str3      PRD0059   \n",
       "800539             West Point  Mississippi       Silver   Str2      PRD0106   \n",
       "800538          Overland Park       Kansas  City Center   Str5      PRD0065   \n",
       "800537               Columbus      Georgia       Silver   Str2      PRD0028   \n",
       "800536              Nashville      Indiana  City Center   Str4      PRD0122   \n",
       "\n",
       "                     CATEGORY      SUBCATEGORY             BRAND  \n",
       "780456  Perfume and Deodrants    Male Deodrant          Sapphire  \n",
       "800539              Hair Care          Shampoo  Hair & Shoulders  \n",
       "800538              Hair Care         Hair Oil           Crimson  \n",
       "800537                   Soap      Toilet Soap            Indigo  \n",
       "800536  Perfume and Deodrants  Female Deodrant             Lilac  "
      ]
     },
     "execution_count": 12,
     "metadata": {},
     "output_type": "execute_result"
    }
   ],
   "source": [
    "df.head(5)"
   ]
  },
  {
   "cell_type": "code",
   "execution_count": 13,
   "id": "bb2b1618-1165-49cc-8b60-f719112d0fbb",
   "metadata": {},
   "outputs": [
    {
     "name": "stdout",
     "output_type": "stream",
     "text": [
      "<class 'pandas.core.frame.DataFrame'>\n",
      "Index: 966400 entries, 780456 to 883818\n",
      "Data columns (total 18 columns):\n",
      " #   Column            Non-Null Count   Dtype  \n",
      "---  ------            --------------   -----  \n",
      " 0   MNTH_CODE         966400 non-null  int32  \n",
      " 1   TRANS_DATE        966400 non-null  object \n",
      " 2   START_DATE        966400 non-null  object \n",
      " 3   SALES_VALUE       966400 non-null  float64\n",
      " 4   SALES_UNITS       966400 non-null  int16  \n",
      " 5   SALES_VOLUME      966400 non-null  float64\n",
      " 6   SALES_PTR_VALUE   966400 non-null  float64\n",
      " 7   OC_CODE           966400 non-null  int32  \n",
      " 8   DISTRIBUTOR_CODE  966400 non-null  object \n",
      " 9   OUTLET_CODE       966400 non-null  object \n",
      " 10  CITY              966400 non-null  object \n",
      " 11  STATE             966400 non-null  object \n",
      " 12  COUNTY            966400 non-null  object \n",
      " 13  STREET            966400 non-null  object \n",
      " 14  PRODUCT_CODE      966400 non-null  object \n",
      " 15  CATEGORY          966400 non-null  object \n",
      " 16  SUBCATEGORY       966400 non-null  object \n",
      " 17  BRAND             966400 non-null  object \n",
      "dtypes: float64(3), int16(1), int32(2), object(12)\n",
      "memory usage: 127.2+ MB\n"
     ]
    }
   ],
   "source": [
    "df.info()"
   ]
  },
  {
   "cell_type": "code",
   "execution_count": 14,
   "id": "68644ce9-b244-4f8c-8962-652f1fad79f5",
   "metadata": {},
   "outputs": [],
   "source": [
    "#Converting into datetime format\n",
    "\n",
    "df['TRANS_DATE'] = pd.to_datetime(df['TRANS_DATE'])\n",
    "df['START_DATE'] = pd.to_datetime(df['START_DATE'])"
   ]
  },
  {
   "cell_type": "code",
   "execution_count": 15,
   "id": "3409ef5e-30bc-4aeb-9fa7-ef71f5770a32",
   "metadata": {},
   "outputs": [
    {
     "data": {
      "text/plain": [
       "(966400, 18)"
      ]
     },
     "execution_count": 15,
     "metadata": {},
     "output_type": "execute_result"
    }
   ],
   "source": [
    "df.shape"
   ]
  },
  {
   "cell_type": "code",
   "execution_count": 16,
   "id": "01dd17c2-4837-46fd-b9bf-0375a63f85db",
   "metadata": {},
   "outputs": [
    {
     "name": "stdout",
     "output_type": "stream",
     "text": [
      "<class 'pandas.core.frame.DataFrame'>\n",
      "Index: 966400 entries, 780456 to 883818\n",
      "Data columns (total 18 columns):\n",
      " #   Column            Non-Null Count   Dtype         \n",
      "---  ------            --------------   -----         \n",
      " 0   MNTH_CODE         966400 non-null  int32         \n",
      " 1   TRANS_DATE        966400 non-null  datetime64[ns]\n",
      " 2   START_DATE        966400 non-null  datetime64[ns]\n",
      " 3   SALES_VALUE       966400 non-null  float64       \n",
      " 4   SALES_UNITS       966400 non-null  int16         \n",
      " 5   SALES_VOLUME      966400 non-null  float64       \n",
      " 6   SALES_PTR_VALUE   966400 non-null  float64       \n",
      " 7   OC_CODE           966400 non-null  int32         \n",
      " 8   DISTRIBUTOR_CODE  966400 non-null  object        \n",
      " 9   OUTLET_CODE       966400 non-null  object        \n",
      " 10  CITY              966400 non-null  object        \n",
      " 11  STATE             966400 non-null  object        \n",
      " 12  COUNTY            966400 non-null  object        \n",
      " 13  STREET            966400 non-null  object        \n",
      " 14  PRODUCT_CODE      966400 non-null  object        \n",
      " 15  CATEGORY          966400 non-null  object        \n",
      " 16  SUBCATEGORY       966400 non-null  object        \n",
      " 17  BRAND             966400 non-null  object        \n",
      "dtypes: datetime64[ns](2), float64(3), int16(1), int32(2), object(10)\n",
      "memory usage: 127.2+ MB\n"
     ]
    }
   ],
   "source": [
    "df.info()"
   ]
  },
  {
   "cell_type": "markdown",
   "id": "6f5b2f14-4028-42eb-85d9-af32cff318da",
   "metadata": {},
   "source": [
    "Clustering the Objects"
   ]
  },
  {
   "cell_type": "code",
   "execution_count": 22,
   "id": "c51ceaf1-4205-466e-a7d9-71da016a2206",
   "metadata": {},
   "outputs": [
    {
     "name": "stdout",
     "output_type": "stream",
     "text": [
      "      OUTLET_CODE  total_sales_value  total_sales_units  total_transactions  \\\n",
      "0         OL10328            4904.27                221                  34   \n",
      "1         OL10329           42893.83               1148                 195   \n",
      "2         OL10330          324169.05               3124                 573   \n",
      "3         OL10331           12422.54                 87                  49   \n",
      "4         OL10332           36331.30               4204                 147   \n",
      "...           ...                ...                ...                 ...   \n",
      "18828     OL97620           52546.41               1340                 183   \n",
      "18829     OL97621           20248.25                839                  76   \n",
      "18830     OL97622            1803.26                184                  15   \n",
      "18831     OL97623            3100.27                448                  29   \n",
      "18832     OL97624             976.40                160                  12   \n",
      "\n",
      "       unique_transactions  unique_products  avg_order_value  Dental  \\\n",
      "0                       10               23       490.427000     6.0   \n",
      "1                       37               20      1159.292703    43.0   \n",
      "2                       32               73     10130.282812   138.0   \n",
      "3                       16               19       776.408750     6.0   \n",
      "4                       20               11      1816.565000   512.0   \n",
      "...                    ...              ...              ...     ...   \n",
      "18828                   25               42      2101.856400    44.0   \n",
      "18829                   17               19      1191.073529     0.0   \n",
      "18830                   14               10       128.804286     0.0   \n",
      "18831                   18                9       172.237222     0.0   \n",
      "18832                    7                5       139.485714     0.0   \n",
      "\n",
      "       Hair Care  Kids Care  ...  Perfume and Deodrants    Soap  Wipes  \\\n",
      "0           63.0       17.0  ...                   64.0    62.0    0.0   \n",
      "1          762.0       51.0  ...                  182.0    50.0    0.0   \n",
      "2          852.0      316.0  ...                  589.0   652.0    0.0   \n",
      "3           13.0       18.0  ...                    7.0    20.0    0.0   \n",
      "4          848.0      650.0  ...                  704.0  1490.0    0.0   \n",
      "...          ...        ...  ...                    ...     ...    ...   \n",
      "18828      437.0      153.0  ...                  274.0   319.0    0.0   \n",
      "18829      512.0       11.0  ...                  204.0    91.0    0.0   \n",
      "18830       49.0       16.0  ...                   28.0    90.0    0.0   \n",
      "18831      112.0       16.0  ...                  188.0   132.0    0.0   \n",
      "18832       16.0        0.0  ...                   96.0    48.0    0.0   \n",
      "\n",
      "       Dental_sales_ratio  Hair Care_sales_ratio  Kids Care_sales_ratio  \\\n",
      "0                0.027149               0.285068               0.076923   \n",
      "1                0.037456               0.663763               0.044425   \n",
      "2                0.044174               0.272727               0.101152   \n",
      "3                0.068966               0.149425               0.206897   \n",
      "4                0.121789               0.201713               0.154615   \n",
      "...                   ...                    ...                    ...   \n",
      "18828            0.032836               0.326119               0.114179   \n",
      "18829            0.000000               0.610250               0.013111   \n",
      "18830            0.000000               0.266304               0.086957   \n",
      "18831            0.000000               0.250000               0.035714   \n",
      "18832            0.000000               0.100000               0.000000   \n",
      "\n",
      "       Lotion_sales_ratio  Perfume and Deodrants_sales_ratio  \\\n",
      "0                0.040724                           0.289593   \n",
      "1                0.052265                           0.158537   \n",
      "2                0.184699                           0.188540   \n",
      "3                0.264368                           0.080460   \n",
      "4                0.000000                           0.167460   \n",
      "...                   ...                                ...   \n",
      "18828            0.084328                           0.204478   \n",
      "18829            0.025030                           0.243147   \n",
      "18830            0.005435                           0.152174   \n",
      "18831            0.000000                           0.419643   \n",
      "18832            0.000000                           0.600000   \n",
      "\n",
      "       Soap_sales_ratio  Wipes_sales_ratio  \n",
      "0              0.280543                0.0  \n",
      "1              0.043554                0.0  \n",
      "2              0.208707                0.0  \n",
      "3              0.229885                0.0  \n",
      "4              0.354424                0.0  \n",
      "...                 ...                ...  \n",
      "18828          0.238060                0.0  \n",
      "18829          0.108462                0.0  \n",
      "18830          0.489130                0.0  \n",
      "18831          0.294643                0.0  \n",
      "18832          0.300000                0.0  \n",
      "\n",
      "[18833 rows x 21 columns]\n"
     ]
    }
   ],
   "source": [
    "import pandas as pd\n",
    "\n",
    "# Group by OUTLET_CODE and aggregate\n",
    "aggregated_df = df.groupby('OUTLET_CODE').agg(\n",
    "    total_sales_value=('SALES_VALUE', 'sum'),\n",
    "    total_sales_units=('SALES_UNITS', 'sum'),\n",
    "    total_transactions=('TRANS_DATE', 'count'),\n",
    "    unique_transactions=('TRANS_DATE', 'nunique'),\n",
    "    unique_products=('PRODUCT_CODE', 'nunique')\n",
    ").reset_index()\n",
    "\n",
    "# Calculate average order value\n",
    "aggregated_df['avg_order_value'] = aggregated_df['total_sales_value'] / aggregated_df['unique_transactions']\n",
    "\n",
    "# Group by OUTLET_CODE and CATEGORY to get total sales units for each category by outlet\n",
    "category_sales_df = df.groupby(['OUTLET_CODE', 'CATEGORY']).agg(\n",
    "    category_sales_units=('SALES_UNITS', 'sum')\n",
    ").reset_index()\n",
    "\n",
    "# Pivot the category sales data to create separate columns for each category\n",
    "category_sales_pivot = category_sales_df.pivot(index='OUTLET_CODE', columns='CATEGORY', values='category_sales_units').fillna(0)\n",
    "\n",
    "# Merge the pivoted data with the aggregated data\n",
    "merged_df = pd.merge(aggregated_df, category_sales_pivot, on='OUTLET_CODE')\n",
    "\n",
    "# Calculate the ratio of category sales units to total sales units by outlet\n",
    "for category in category_sales_pivot.columns:\n",
    "    merged_df[f'{category}_sales_ratio'] = merged_df[category] / merged_df['total_sales_units']\n",
    "\n",
    "print(merged_df)"
   ]
  },
  {
   "cell_type": "code",
   "execution_count": 24,
   "id": "b9a12076-e821-4a9a-a7b8-a45a9020e1b0",
   "metadata": {},
   "outputs": [
    {
     "name": "stdout",
     "output_type": "stream",
     "text": [
      "<class 'pandas.core.frame.DataFrame'>\n",
      "RangeIndex: 18833 entries, 0 to 18832\n",
      "Data columns (total 21 columns):\n",
      " #   Column                             Non-Null Count  Dtype  \n",
      "---  ------                             --------------  -----  \n",
      " 0   OUTLET_CODE                        18833 non-null  object \n",
      " 1   total_sales_value                  18833 non-null  float64\n",
      " 2   total_sales_units                  18833 non-null  int64  \n",
      " 3   total_transactions                 18833 non-null  int64  \n",
      " 4   unique_transactions                18833 non-null  int64  \n",
      " 5   unique_products                    18833 non-null  int64  \n",
      " 6   avg_order_value                    18833 non-null  float64\n",
      " 7   Dental                             18833 non-null  float64\n",
      " 8   Hair Care                          18833 non-null  float64\n",
      " 9   Kids Care                          18833 non-null  float64\n",
      " 10  Lotion                             18833 non-null  float64\n",
      " 11  Perfume and Deodrants              18833 non-null  float64\n",
      " 12  Soap                               18833 non-null  float64\n",
      " 13  Wipes                              18833 non-null  float64\n",
      " 14  Dental_sales_ratio                 18833 non-null  float64\n",
      " 15  Hair Care_sales_ratio              18833 non-null  float64\n",
      " 16  Kids Care_sales_ratio              18833 non-null  float64\n",
      " 17  Lotion_sales_ratio                 18833 non-null  float64\n",
      " 18  Perfume and Deodrants_sales_ratio  18833 non-null  float64\n",
      " 19  Soap_sales_ratio                   18833 non-null  float64\n",
      " 20  Wipes_sales_ratio                  18833 non-null  float64\n",
      "dtypes: float64(16), int64(4), object(1)\n",
      "memory usage: 3.0+ MB\n"
     ]
    }
   ],
   "source": [
    "merged_df.info()"
   ]
  },
  {
   "cell_type": "code",
   "execution_count": 47,
   "id": "3f5163fc-9fdd-4c19-882d-ca9ed2243c58",
   "metadata": {},
   "outputs": [],
   "source": [
    "import pandas as pd\n",
    "from sklearn.cluster import KMeans\n",
    "from sklearn.preprocessing import StandardScaler\n",
    "\n",
    "# Assuming merged_df is your DataFrame with the required features\n",
    "# Select the features for clustering\n",
    "features = [ \n",
    "    'unique_products', 'avg_order_value', 'total_sales_value', 'total_sales_units', 'total_transactions'\n",
    "    'Dental_sales_ratio', 'Hair Care_sales_ratio', 'Kids Care_sales_ratio', \n",
    "    'Lotion_sales_ratio', 'Perfume and Deodrants_sales_ratio', \n",
    "    'Soap_sales_ratio', 'Wipes_sales_ratio'\n",
    "]\n",
    "\n",
    "# Standardize the features\n",
    "scaler = StandardScaler()\n",
    "scaled_features = scaler.fit_transform(merged_df[features])"
   ]
  },
  {
   "cell_type": "code",
   "execution_count": 48,
   "id": "696215de-1465-4ddd-8943-b92dfa6253ef",
   "metadata": {},
   "outputs": [
    {
     "data": {
      "image/png": "[encoded data removed]",
      "text/plain": [
       "<Figure size 800x600 with 1 Axes>"
      ]
     },
     "metadata": {},
     "output_type": "display_data"
    }
   ],
   "source": [
    "from sklearn.metrics import silhouette_score\n",
    "\n",
    "# Calculate silhouette scores for different numbers of clusters\n",
    "silhouette_scores = []\n",
    "for n_clusters in range(2, 11):\n",
    "    kmeans = KMeans(n_clusters=n_clusters, random_state=42)\n",
    "    cluster_labels = kmeans.fit_predict(scaled_features)\n",
    "    silhouette_avg = silhouette_score(scaled_features, cluster_labels)\n",
    "    silhouette_scores.append(silhouette_avg)\n",
    "\n",
    "# Plot the silhouette scores\n",
    "plt.figure(figsize=(8, 6))\n",
    "plt.plot(range(2, 11), silhouette_scores, marker='o')\n",
    "plt.xlabel('Number of Clusters')\n",
    "plt.ylabel('Silhouette Score')\n",
    "plt.title('Silhouette Score Plot for Determining Optimum Number of Clusters')\n",
    "plt.show()"
   ]
  },
  {
   "cell_type": "code",
   "execution_count": 42,
   "id": "877ba047-cf90-496a-95ca-358dce7318cd",
   "metadata": {},
   "outputs": [
    {
     "name": "stdout",
     "output_type": "stream",
     "text": [
      "      OUTLET_CODE  total_sales_value  total_sales_units  total_transactions  \\\n",
      "0         OL10328            4904.27                221                  34   \n",
      "1         OL10329           42893.83               1148                 195   \n",
      "2         OL10330          324169.05               3124                 573   \n",
      "3         OL10331           12422.54                 87                  49   \n",
      "4         OL10332           36331.30               4204                 147   \n",
      "...           ...                ...                ...                 ...   \n",
      "18828     OL97620           52546.41               1340                 183   \n",
      "18829     OL97621           20248.25                839                  76   \n",
      "18830     OL97622            1803.26                184                  15   \n",
      "18831     OL97623            3100.27                448                  29   \n",
      "18832     OL97624             976.40                160                  12   \n",
      "\n",
      "       unique_transactions  unique_products  avg_order_value  Dental  \\\n",
      "0                       10               23       490.427000     6.0   \n",
      "1                       37               20      1159.292703    43.0   \n",
      "2                       32               73     10130.282812   138.0   \n",
      "3                       16               19       776.408750     6.0   \n",
      "4                       20               11      1816.565000   512.0   \n",
      "...                    ...              ...              ...     ...   \n",
      "18828                   25               42      2101.856400    44.0   \n",
      "18829                   17               19      1191.073529     0.0   \n",
      "18830                   14               10       128.804286     0.0   \n",
      "18831                   18                9       172.237222     0.0   \n",
      "18832                    7                5       139.485714     0.0   \n",
      "\n",
      "       Hair Care  Kids Care  ...    Soap  Wipes  Dental_sales_ratio  \\\n",
      "0           63.0       17.0  ...    62.0    0.0            0.027149   \n",
      "1          762.0       51.0  ...    50.0    0.0            0.037456   \n",
      "2          852.0      316.0  ...   652.0    0.0            0.044174   \n",
      "3           13.0       18.0  ...    20.0    0.0            0.068966   \n",
      "4          848.0      650.0  ...  1490.0    0.0            0.121789   \n",
      "...          ...        ...  ...     ...    ...                 ...   \n",
      "18828      437.0      153.0  ...   319.0    0.0            0.032836   \n",
      "18829      512.0       11.0  ...    91.0    0.0            0.000000   \n",
      "18830       49.0       16.0  ...    90.0    0.0            0.000000   \n",
      "18831      112.0       16.0  ...   132.0    0.0            0.000000   \n",
      "18832       16.0        0.0  ...    48.0    0.0            0.000000   \n",
      "\n",
      "       Hair Care_sales_ratio  Kids Care_sales_ratio  Lotion_sales_ratio  \\\n",
      "0                   0.285068               0.076923            0.040724   \n",
      "1                   0.663763               0.044425            0.052265   \n",
      "2                   0.272727               0.101152            0.184699   \n",
      "3                   0.149425               0.206897            0.264368   \n",
      "4                   0.201713               0.154615            0.000000   \n",
      "...                      ...                    ...                 ...   \n",
      "18828               0.326119               0.114179            0.084328   \n",
      "18829               0.610250               0.013111            0.025030   \n",
      "18830               0.266304               0.086957            0.005435   \n",
      "18831               0.250000               0.035714            0.000000   \n",
      "18832               0.100000               0.000000            0.000000   \n",
      "\n",
      "       Perfume and Deodrants_sales_ratio  Soap_sales_ratio  Wipes_sales_ratio  \\\n",
      "0                               0.289593          0.280543                0.0   \n",
      "1                               0.158537          0.043554                0.0   \n",
      "2                               0.188540          0.208707                0.0   \n",
      "3                               0.080460          0.229885                0.0   \n",
      "4                               0.167460          0.354424                0.0   \n",
      "...                                  ...               ...                ...   \n",
      "18828                           0.204478          0.238060                0.0   \n",
      "18829                           0.243147          0.108462                0.0   \n",
      "18830                           0.152174          0.489130                0.0   \n",
      "18831                           0.419643          0.294643                0.0   \n",
      "18832                           0.600000          0.300000                0.0   \n",
      "\n",
      "       cluster  \n",
      "0            2  \n",
      "1            0  \n",
      "2            1  \n",
      "3            2  \n",
      "4            2  \n",
      "...        ...  \n",
      "18828        2  \n",
      "18829        0  \n",
      "18830        2  \n",
      "18831        2  \n",
      "18832        0  \n",
      "\n",
      "[18833 rows x 22 columns]\n"
     ]
    }
   ],
   "source": [
    "# Apply K-Means clustering\n",
    "kmeans = KMeans(n_clusters=3, random_state=42)  # You can choose the number of clusters (n_clusters) as needed\n",
    "merged_df['cluster'] = kmeans.fit_predict(scaled_features)\n",
    "\n",
    "print(merged_df)"
   ]
  },
  {
   "cell_type": "code",
   "execution_count": 44,
   "id": "22979e99-b655-4b30-b78d-6a3d37f0c343",
   "metadata": {},
   "outputs": [],
   "source": [
    "merged_df.to_csv('merged_data.csv', index=False)"
   ]
  },
  {
   "cell_type": "code",
   "execution_count": 43,
   "id": "44c29593-ef58-4c3b-8e1a-a617c714cd7c",
   "metadata": {},
   "outputs": [
    {
     "name": "stdout",
     "output_type": "stream",
     "text": [
      "cluster\n",
      "0    8110\n",
      "1     886\n",
      "2    9837\n",
      "Name: OUTLET_CODE, dtype: int64\n"
     ]
    }
   ],
   "source": [
    "# Count the number of OUTLET_CODEs by cluster\n",
    "outlet_counts_by_cluster = merged_df.groupby('cluster')['OUTLET_CODE'].nunique()\n",
    "\n",
    "# Display the counts\n",
    "print(outlet_counts_by_cluster)"
   ]
  },
  {
   "cell_type": "code",
   "execution_count": null,
   "id": "d6b9971a-b915-4da1-bdd3-358be212023d",
   "metadata": {},
   "outputs": [],
   "source": [
    "merged_df.to_csv('merged_data.csv', index=False)"
   ]
  },
  {
   "cell_type": "code",
   "execution_count": null,
   "id": "7fa158d8-bcc0-48fd-a9e7-cdd1be86f4b8",
   "metadata": {},
   "outputs": [],
   "source": []
  }
 ],
 "metadata": {
  "kernelspec": {
   "display_name": "Python 3 (ipykernel)",
   "language": "python",
   "name": "python3"
  },
  "language_info": {
   "codemirror_mode": {
    "name": "ipython",
    "version": 3
   },
   "file_extension": ".py",
   "mimetype": "text/x-python",
   "name": "python",
   "nbconvert_exporter": "python",
   "pygments_lexer": "ipython3",
   "version": "3.9.19"
  }
 },
 "nbformat": 4,
 "nbformat_minor": 5
}
