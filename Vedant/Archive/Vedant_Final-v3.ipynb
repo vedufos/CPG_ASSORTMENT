{
 "cells": [
  {
   "cell_type": "code",
   "execution_count": 1,
   "id": "b9965daf-686f-4ec8-96b3-18943d0f2324",
   "metadata": {},
   "outputs": [
    {
     "name": "stdout",
     "output_type": "stream",
     "text": [
      "Collecting fosforml\n",
      "\u001b[?25l  Downloading https://files.pythonhosted.org/packages/94/2e/3613fd0ccdbf3709dec86f87fe7624737a6f08bd1a813c88e65e7352dfde/fosforml-1.1.8-py3-none-any.whl (42kB)\n",
      "\u001b[K     |████████████████████████████████| 51kB 4.4MB/s eta 0:00:011\n",
      "\u001b[?25hCollecting cloudpickle==2.2.1\n",
      "  Downloading https://files.pythonhosted.org/packages/15/80/44286939ca215e88fa827b2aeb6fa3fd2b4a7af322485c7170d6f9fd96e0/cloudpickle-2.2.1-py3-none-any.whl\n",
      "Collecting snowflake-ml-python==1.5.0; python_version <= \"3.9\"\n",
      "\u001b[?25l  Downloading https://files.pythonhosted.org/packages/80/72/c0fa5a9bc811a59a5a1c7113ff89676ed1629d7d6463db8c1a8c97a8b5f6/snowflake_ml_python-1.5.0-py3-none-any.whl (1.9MB)\n",
      "\u001b[K     |████████████████████████████████| 1.9MB 11.0MB/s eta 0:00:01\n",
      "\u001b[?25hCollecting scikit-learn==1.3.2\n",
      "\u001b[?25l  Downloading https://files.pythonhosted.org/packages/25/89/dce01a35d354159dcc901e3c7e7eb3fe98de5cb3639c6cd39518d8830caa/scikit_learn-1.3.2-cp39-cp39-manylinux_2_17_x86_64.manylinux2014_x86_64.whl (10.9MB)\n",
      "\u001b[K     |████████████████████████████████| 10.9MB 36.8MB/s eta 0:00:01\n",
      "\u001b[?25hRequirement already satisfied: typing-extensions<5,>=4.1.0 in /opt/conda/lib/python3.9/site-packages (from snowflake-ml-python==1.5.0; python_version <= \"3.9\"->fosforml) (4.12.2)\n",
      "Collecting s3fs<2024,>=2022.11\n",
      "  Downloading https://files.pythonhosted.org/packages/5b/d6/b8a748b7d3fc7b0fd2ede1cf26a80281d65cc24d5d56b66c3a4c87e256e2/s3fs-2023.12.2-py3-none-any.whl\n",
      "Collecting sqlparse<1,>=0.4\n",
      "\u001b[?25l  Downloading https://files.pythonhosted.org/packages/5d/a5/b2860373aa8de1e626b2bdfdd6df4355f0565b47e51f7d0c54fe70faf8fe/sqlparse-0.5.1-py3-none-any.whl (44kB)\n",
      "\u001b[K     |████████████████████████████████| 51kB 15.9MB/s eta 0:00:01\n",
      "\u001b[?25hCollecting xgboost<2,>=1.7.3\n",
      "\u001b[?25l  Downloading https://files.pythonhosted.org/packages/8c/3a/c9c5d4d5c49b132ef15ac7b5ccf56ef1c82efe36cd19414771762e97c00e/xgboost-1.7.6-py3-none-manylinux2014_x86_64.whl (200.3MB)\n",
      "\u001b[K     |████████████████████████████████| 200.3MB 89kB/s /s eta 0:00:01\n",
      "\u001b[?25hCollecting packaging<24,>=20.9\n",
      "\u001b[?25l  Downloading https://files.pythonhosted.org/packages/ec/1a/610693ac4ee14fcdf2d9bf3c493370e4f2ef7ae2e19217d7a237ff42367d/packaging-23.2-py3-none-any.whl (53kB)\n",
      "\u001b[K     |████████████████████████████████| 61kB 16.9MB/s eta 0:00:01\n",
      "\u001b[?25hCollecting absl-py<2,>=0.15\n",
      "\u001b[?25l  Downloading https://files.pythonhosted.org/packages/dd/87/de5c32fa1b1c6c3305d576e299801d8655c175ca9557019906247b994331/absl_py-1.4.0-py3-none-any.whl (126kB)\n",
      "\u001b[K     |████████████████████████████████| 133kB 106.6MB/s eta 0:00:01\n",
      "\u001b[?25hCollecting pytimeparse<2,>=1.1.8\n",
      "  Downloading https://files.pythonhosted.org/packages/1b/b4/afd75551a3b910abd1d922dbd45e49e5deeb4d47dc50209ce489ba9844dd/pytimeparse-1.1.8-py2.py3-none-any.whl\n",
      "Collecting pyarrow\n",
      "  Using cached https://files.pythonhosted.org/packages/af/61/bcd9b58e38ead6ad42b9ed00da33a3f862bc1d445e3d3164799c25550ac2/pyarrow-17.0.0-cp39-cp39-manylinux_2_17_x86_64.manylinux2014_x86_64.whl\n",
      "Requirement already satisfied: pandas<3,>=1.0.0 in /opt/conda/lib/python3.9/site-packages (from snowflake-ml-python==1.5.0; python_version <= \"3.9\"->fosforml) (2.2.2)\n",
      "Requirement already satisfied: numpy<2,>=1.23 in /opt/conda/lib/python3.9/site-packages (from snowflake-ml-python==1.5.0; python_version <= \"3.9\"->fosforml) (1.26.4)\n",
      "Requirement already satisfied: pyyaml<7,>=6.0 in /opt/conda/lib/python3.9/site-packages (from snowflake-ml-python==1.5.0; python_version <= \"3.9\"->fosforml) (6.0.1)\n",
      "Collecting snowflake-connector-python[pandas]<4,>=3.5.0\n",
      "\u001b[?25l  Downloading https://files.pythonhosted.org/packages/5e/78/7e3ce98acef501ab3509958ed8f95e31720e225b7f478b7d7e70ff731fc9/snowflake_connector_python-3.12.2-cp39-cp39-manylinux_2_17_x86_64.manylinux2014_x86_64.whl (2.5MB)\n",
      "\u001b[K     |████████████████████████████████| 2.5MB 76.7MB/s eta 0:00:01\n",
      "\u001b[?25hCollecting retrying<2,>=1.3.3\n",
      "  Downloading https://files.pythonhosted.org/packages/8f/04/9e36f28be4c0532c0e9207ff9dc01fb13a2b0eb036476a213b0000837d0e/retrying-1.3.4-py3-none-any.whl\n",
      "Collecting cachetools<6,>=3.1.1\n",
      "  Downloading https://files.pythonhosted.org/packages/a4/07/14f8ad37f2d12a5ce41206c21820d8cb6561b728e51fad4530dff0552a67/cachetools-5.5.0-py3-none-any.whl\n",
      "Collecting catboost<1.3,>=1.2.0\n",
      "\u001b[?25l  Downloading https://files.pythonhosted.org/packages/35/4a/8ada4fb635601943805cbeeb288f70982fefe48a7cef63352e318435aa98/catboost-1.2.7-cp39-cp39-manylinux2014_x86_64.whl (98.7MB)\n",
      "\u001b[K     |████████████████████████████████| 98.7MB 145.0MB/s eta 0:00:01\n",
      "\u001b[?25hCollecting importlib-resources<7,>=6.1.1\n",
      "  Using cached https://files.pythonhosted.org/packages/e1/6a/4604f9ae2fa62ef47b9de2fa5ad599589d28c9fd1d335f32759813dfa91e/importlib_resources-6.4.5-py3-none-any.whl\n",
      "Collecting scipy<2,>=1.9\n",
      "  Using cached https://files.pythonhosted.org/packages/35/f5/d0ad1a96f80962ba65e2ce1de6a1e59edecd1f0a7b55990ed208848012e0/scipy-1.13.1-cp39-cp39-manylinux_2_17_x86_64.manylinux2014_x86_64.whl\n",
      "Collecting fsspec[http]<2024,>=2022.11\n",
      "\u001b[?25l  Downloading https://files.pythonhosted.org/packages/70/25/fab23259a52ece5670dcb8452e1af34b89e6135ecc17cd4b54b4b479eac6/fsspec-2023.12.2-py3-none-any.whl (168kB)\n",
      "\u001b[K     |████████████████████████████████| 174kB 112.6MB/s eta 0:00:01\n",
      "\u001b[?25hCollecting snowflake-snowpark-python!=1.12.0,<2,>=1.11.1\n",
      "\u001b[?25l  Downloading https://files.pythonhosted.org/packages/1c/1e/c78cf80cc17dfe32bd89d8c5b7d86982571d58b4d8399bfecb8296e60bf1/snowflake_snowpark_python-1.22.1-py3-none-any.whl (1.3MB)\n",
      "\u001b[K     |████████████████████████████████| 1.3MB 81.9MB/s eta 0:00:01\n",
      "\u001b[?25hCollecting anyio<4,>=3.5.0\n",
      "\u001b[?25l  Downloading https://files.pythonhosted.org/packages/19/24/44299477fe7dcc9cb58d0a57d5a7588d6af2ff403fdd2d47a246c91a3246/anyio-3.7.1-py3-none-any.whl (80kB)\n",
      "\u001b[K     |████████████████████████████████| 81kB 19.0MB/s eta 0:00:01\n",
      "\u001b[?25hCollecting threadpoolctl>=2.0.0\n",
      "  Using cached https://files.pythonhosted.org/packages/4b/2c/ffbf7a134b9ab11a67b0cf0726453cedd9c5043a4fe7a35d1cefa9a1bcfb/threadpoolctl-3.5.0-py3-none-any.whl\n",
      "Requirement already satisfied: joblib>=1.1.1 in /opt/conda/lib/python3.9/site-packages (from scikit-learn==1.3.2->fosforml) (1.4.2)\n",
      "Collecting aiohttp!=4.0.0a0,!=4.0.0a1\n",
      "\u001b[?25l  Downloading https://files.pythonhosted.org/packages/25/b3/8b20a25c896c6286e411be8fc6f3280bb9d7e9e4c9c90d0618a6c004ab2c/aiohttp-3.10.8-cp39-cp39-manylinux_2_17_x86_64.manylinux2014_x86_64.whl (1.2MB)\n",
      "\u001b[K     |████████████████████████████████| 1.2MB 95.3MB/s eta 0:00:01\n",
      "\u001b[?25hCollecting aiobotocore<3.0.0,>=2.5.4\n",
      "\u001b[?25l  Downloading https://files.pythonhosted.org/packages/df/b8/a0fc9cf540d15f4962448c7ec097e99196b4ddd2a988d98b3d4236cbc89e/aiobotocore-2.15.1-py3-none-any.whl (77kB)\n",
      "\u001b[K     |████████████████████████████████| 81kB 17.2MB/s eta 0:00:01\n",
      "\u001b[?25hRequirement already satisfied: tzdata>=2022.7 in /opt/conda/lib/python3.9/site-packages (from pandas<3,>=1.0.0->snowflake-ml-python==1.5.0; python_version <= \"3.9\"->fosforml) (2024.1)\n",
      "Requirement already satisfied: pytz>=2020.1 in /opt/conda/lib/python3.9/site-packages (from pandas<3,>=1.0.0->snowflake-ml-python==1.5.0; python_version <= \"3.9\"->fosforml) (2024.1)\n",
      "Requirement already satisfied: python-dateutil>=2.8.2 in /opt/conda/lib/python3.9/site-packages (from pandas<3,>=1.0.0->snowflake-ml-python==1.5.0; python_version <= \"3.9\"->fosforml) (2.9.0.post0)\n",
      "Requirement already satisfied: charset-normalizer<4,>=2 in /opt/conda/lib/python3.9/site-packages (from snowflake-connector-python[pandas]<4,>=3.5.0->snowflake-ml-python==1.5.0; python_version <= \"3.9\"->fosforml) (3.3.2)\n",
      "Collecting filelock<4,>=3.5\n",
      "  Using cached https://files.pythonhosted.org/packages/b9/f8/feced7779d755758a52d1f6635d990b8d98dc0a29fa568bbe0625f18fdf3/filelock-3.16.1-py3-none-any.whl\n",
      "Collecting asn1crypto<2.0.0,>0.24.0\n",
      "\u001b[?25l  Downloading https://files.pythonhosted.org/packages/c9/7f/09065fd9e27da0eda08b4d6897f1c13535066174cc023af248fc2a8d5e5a/asn1crypto-1.5.1-py2.py3-none-any.whl (105kB)\n",
      "\u001b[K     |████████████████████████████████| 112kB 123.2MB/s eta 0:00:01\n",
      "\u001b[?25hCollecting sortedcontainers>=2.4.0\n",
      "  Downloading https://files.pythonhosted.org/packages/32/46/9cb0e58b2deb7f82b84065f37f3bffeb12413f947f9388e4cac22c4621ce/sortedcontainers-2.4.0-py2.py3-none-any.whl\n",
      "Collecting urllib3<2.0.0,>=1.21.1; python_version < \"3.10\"\n",
      "\u001b[?25l  Downloading https://files.pythonhosted.org/packages/33/cf/8435d5a7159e2a9c83a95896ed596f68cf798005fe107cc655b5c5c14704/urllib3-1.26.20-py2.py3-none-any.whl (144kB)\n",
      "\u001b[K     |████████████████████████████████| 153kB 115.6MB/s eta 0:00:01\n",
      "\u001b[?25hCollecting tomlkit\n",
      "  Downloading https://files.pythonhosted.org/packages/f9/b6/a447b5e4ec71e13871be01ba81f5dfc9d0af7e473da256ff46bc0e24026f/tomlkit-0.13.2-py3-none-any.whl\n",
      "Collecting pyjwt<3.0.0\n",
      "  Downloading https://files.pythonhosted.org/packages/79/84/0fdf9b18ba31d69877bd39c9cd6052b47f3761e9910c15de788e519f079f/PyJWT-2.9.0-py3-none-any.whl\n",
      "Requirement already satisfied: cffi<2.0.0,>=1.9 in /opt/conda/lib/python3.9/site-packages (from snowflake-connector-python[pandas]<4,>=3.5.0->snowflake-ml-python==1.5.0; python_version <= \"3.9\"->fosforml) (1.16.0)\n",
      "Requirement already satisfied: certifi>=2017.4.17 in /opt/conda/lib/python3.9/site-packages (from snowflake-connector-python[pandas]<4,>=3.5.0->snowflake-ml-python==1.5.0; python_version <= \"3.9\"->fosforml) (2024.7.4)\n",
      "Requirement already satisfied: pyOpenSSL<25.0.0,>=16.2.0 in /opt/conda/lib/python3.9/site-packages (from snowflake-connector-python[pandas]<4,>=3.5.0->snowflake-ml-python==1.5.0; python_version <= \"3.9\"->fosforml) (24.0.0)\n",
      "Requirement already satisfied: requests<3.0.0 in /opt/conda/lib/python3.9/site-packages (from snowflake-connector-python[pandas]<4,>=3.5.0->snowflake-ml-python==1.5.0; python_version <= \"3.9\"->fosforml) (2.32.3)\n",
      "Requirement already satisfied: idna<4,>=2.5 in /opt/conda/lib/python3.9/site-packages (from snowflake-connector-python[pandas]<4,>=3.5.0->snowflake-ml-python==1.5.0; python_version <= \"3.9\"->fosforml) (3.7)\n",
      "Requirement already satisfied: platformdirs<5.0.0,>=2.6.0 in /opt/conda/lib/python3.9/site-packages (from snowflake-connector-python[pandas]<4,>=3.5.0->snowflake-ml-python==1.5.0; python_version <= \"3.9\"->fosforml) (4.2.2)\n",
      "Requirement already satisfied: cryptography>=3.1.0 in /opt/conda/lib/python3.9/site-packages (from snowflake-connector-python[pandas]<4,>=3.5.0->snowflake-ml-python==1.5.0; python_version <= \"3.9\"->fosforml) (42.0.5)\n",
      "Requirement already satisfied: six>=1.7.0 in /opt/conda/lib/python3.9/site-packages (from retrying<2,>=1.3.3->snowflake-ml-python==1.5.0; python_version <= \"3.9\"->fosforml) (1.16.0)\n",
      "Collecting graphviz\n",
      "\u001b[?25l  Downloading https://files.pythonhosted.org/packages/00/be/d59db2d1d52697c6adc9eacaf50e8965b6345cc143f671e1ed068818d5cf/graphviz-0.20.3-py3-none-any.whl (47kB)\n",
      "\u001b[K     |████████████████████████████████| 51kB 14.5MB/s eta 0:00:01\n",
      "\u001b[?25hCollecting matplotlib\n",
      "  Using cached https://files.pythonhosted.org/packages/5a/20/f56d5b88450593ccde3f283e338f3f976b2e479bddd9a147f14f66ee1ca7/matplotlib-3.9.2-cp39-cp39-manylinux_2_17_x86_64.manylinux2014_x86_64.whl\n",
      "Collecting plotly\n",
      "\u001b[?25l  Downloading https://files.pythonhosted.org/packages/e5/ae/580600f441f6fc05218bd6c9d5794f4aef072a7d9093b291f1c50a9db8bc/plotly-5.24.1-py3-none-any.whl (19.1MB)\n",
      "\u001b[K     |████████████████████████████████| 19.1MB 89.1MB/s eta 0:00:01██████████████▏  | 17.4MB 89.1MB/s eta 0:00:01\n",
      "\u001b[?25hRequirement already satisfied: zipp>=3.1.0; python_version < \"3.10\" in /opt/conda/lib/python3.9/site-packages (from importlib-resources<7,>=6.1.1->snowflake-ml-python==1.5.0; python_version <= \"3.9\"->fosforml) (3.19.2)\n",
      "Requirement already satisfied: wheel in /opt/conda/lib/python3.9/site-packages (from snowflake-snowpark-python!=1.12.0,<2,>=1.11.1->snowflake-ml-python==1.5.0; python_version <= \"3.9\"->fosforml) (0.37.1)\n",
      "Requirement already satisfied: setuptools>=40.6.0 in /opt/conda/lib/python3.9/site-packages (from snowflake-snowpark-python!=1.12.0,<2,>=1.11.1->snowflake-ml-python==1.5.0; python_version <= \"3.9\"->fosforml) (65.6.3)\n",
      "Requirement already satisfied: sniffio>=1.1 in /opt/conda/lib/python3.9/site-packages (from anyio<4,>=3.5.0->snowflake-ml-python==1.5.0; python_version <= \"3.9\"->fosforml) (1.3.1)\n",
      "Requirement already satisfied: exceptiongroup; python_version < \"3.11\" in /opt/conda/lib/python3.9/site-packages (from anyio<4,>=3.5.0->snowflake-ml-python==1.5.0; python_version <= \"3.9\"->fosforml) (1.2.2)\n",
      "Requirement already satisfied: attrs>=17.3.0 in /opt/conda/lib/python3.9/site-packages (from aiohttp!=4.0.0a0,!=4.0.0a1->s3fs<2024,>=2022.11->snowflake-ml-python==1.5.0; python_version <= \"3.9\"->fosforml) (23.2.0)\n",
      "Collecting multidict<7.0,>=4.5\n",
      "\u001b[?25l  Downloading https://files.pythonhosted.org/packages/5e/41/0d0fb18c1ad574f807196f5f3d99164edf9de3e169a58c6dc2d6ed5742b9/multidict-6.1.0-cp39-cp39-manylinux_2_17_x86_64.manylinux2014_x86_64.whl (124kB)\n",
      "\u001b[K     |████████████████████████████████| 133kB 107.8MB/s eta 0:00:01\n",
      "\u001b[?25hCollecting frozenlist>=1.1.1\n",
      "\u001b[?25l  Downloading https://files.pythonhosted.org/packages/70/b0/6f1ebdabfb604e39a0f84428986b89ab55f246b64cddaa495f2c953e1f6b/frozenlist-1.4.1-cp39-cp39-manylinux_2_5_x86_64.manylinux1_x86_64.manylinux_2_17_x86_64.manylinux2014_x86_64.whl (240kB)\n",
      "\u001b[K     |████████████████████████████████| 245kB 101.5MB/s eta 0:00:01\n",
      "\u001b[?25hCollecting yarl<2.0,>=1.12.0\n",
      "\u001b[?25l  Downloading https://files.pythonhosted.org/packages/e1/b1/8adfc234fc165e7d512b44b87754dd816cdace36c7f7e6f054801a530ccb/yarl-1.13.1-cp39-cp39-manylinux_2_17_x86_64.manylinux2014_x86_64.whl (455kB)\n",
      "\u001b[K     |████████████████████████████████| 460kB 83.1MB/s eta 0:00:01\n",
      "\u001b[?25hCollecting async-timeout<5.0,>=4.0; python_version < \"3.11\"\n",
      "  Downloading https://files.pythonhosted.org/packages/a7/fa/e01228c2938de91d47b307831c62ab9e4001e747789d0b05baf779a6488c/async_timeout-4.0.3-py3-none-any.whl\n",
      "Collecting aiosignal>=1.1.2\n",
      "  Downloading https://files.pythonhosted.org/packages/76/ac/a7305707cb852b7e16ff80eaf5692309bde30e2b1100a1fcacdc8f731d97/aiosignal-1.3.1-py3-none-any.whl\n",
      "Collecting aiohappyeyeballs>=2.3.0\n",
      "  Downloading https://files.pythonhosted.org/packages/f7/d8/120cd0fe3e8530df0539e71ba9683eade12cae103dd7543e50d15f737917/aiohappyeyeballs-2.4.3-py3-none-any.whl\n",
      "Collecting wrapt<2.0.0,>=1.10.10\n",
      "\u001b[?25l  Downloading https://files.pythonhosted.org/packages/b1/e7/459a8a4f40f2fa65eb73cb3f339e6d152957932516d18d0e996c7ae2d7ae/wrapt-1.16.0-cp39-cp39-manylinux_2_5_x86_64.manylinux1_x86_64.manylinux_2_17_x86_64.manylinux2014_x86_64.whl (80kB)\n",
      "\u001b[K     |████████████████████████████████| 81kB 18.6MB/s eta 0:00:01\n",
      "\u001b[?25hCollecting botocore<1.35.24,>=1.35.16\n",
      "\u001b[?25l  Downloading https://files.pythonhosted.org/packages/f8/81/90e1b82697d849e4a5e7e6dcf21ef7ba9fa902b98324849bd2956e6efac3/botocore-1.35.23-py3-none-any.whl (12.6MB)\n",
      "\u001b[K     |████████████████████████████████| 12.6MB 38.1MB/s eta 0:00:01\n",
      "\u001b[?25hCollecting aioitertools<1.0.0,>=0.5.1\n",
      "  Downloading https://files.pythonhosted.org/packages/85/13/58b70a580de00893223d61de8fea167877a3aed97d4a5e1405c9159ef925/aioitertools-0.12.0-py3-none-any.whl\n",
      "Requirement already satisfied: pycparser in /opt/conda/lib/python3.9/site-packages (from cffi<2.0.0,>=1.9->snowflake-connector-python[pandas]<4,>=3.5.0->snowflake-ml-python==1.5.0; python_version <= \"3.9\"->fosforml) (2.21)\n",
      "Collecting pyparsing>=2.3.1\n",
      "  Using cached https://files.pythonhosted.org/packages/e5/0c/0e3c05b1c87bb6a1c76d281b0f35e78d2d80ac91b5f8f524cebf77f51049/pyparsing-3.1.4-py3-none-any.whl\n",
      "Collecting kiwisolver>=1.3.1\n",
      "  Using cached https://files.pythonhosted.org/packages/21/b1/40655f6c3fa11ce740e8a964fa8e4c0479c87d6a7944b95af799c7a55dfe/kiwisolver-1.4.7-cp39-cp39-manylinux_2_12_x86_64.manylinux2010_x86_64.whl\n",
      "Collecting contourpy>=1.0.1\n",
      "  Using cached https://files.pythonhosted.org/packages/05/11/57335544a3027e9b96a05948c32e566328e3a2f84b7b99a325b7a06d2b06/contourpy-1.3.0-cp39-cp39-manylinux_2_17_x86_64.manylinux2014_x86_64.whl\n",
      "Collecting cycler>=0.10\n",
      "  Using cached https://files.pythonhosted.org/packages/e7/05/c19819d5e3d95294a6f5947fb9b9629efb316b96de511b418c53d245aae6/cycler-0.12.1-py3-none-any.whl\n",
      "Collecting fonttools>=4.22.0\n",
      "  Using cached https://files.pythonhosted.org/packages/8c/e7/24870ef7d4014b7904a3b9911199ffe04532d1fb73cf70856471f9f8b252/fonttools-4.54.1-cp39-cp39-manylinux_2_17_x86_64.manylinux2014_x86_64.whl\n",
      "Collecting pillow>=8\n",
      "  Using cached https://files.pythonhosted.org/packages/32/3f/c02268d0c6fb6b3958bdda673c17b315c821d97df29ae6969f20fb49388a/pillow-10.4.0-cp39-cp39-manylinux_2_17_x86_64.manylinux2014_x86_64.whl\n",
      "Collecting tenacity>=6.2.0\n",
      "  Downloading https://files.pythonhosted.org/packages/b6/cb/b86984bed139586d01532a587464b5805f12e397594f19f931c4c2fbfa61/tenacity-9.0.0-py3-none-any.whl\n",
      "Collecting jmespath<2.0.0,>=0.7.1\n",
      "  Downloading https://files.pythonhosted.org/packages/31/b4/b9b800c45527aadd64d5b442f9b932b00648617eb5d63d2c7a6587b7cafc/jmespath-1.0.1-py3-none-any.whl\n",
      "Installing collected packages: cloudpickle, multidict, frozenlist, yarl, async-timeout, aiosignal, aiohappyeyeballs, aiohttp, fsspec, wrapt, jmespath, urllib3, botocore, aioitertools, aiobotocore, s3fs, sqlparse, scipy, xgboost, packaging, absl-py, pytimeparse, pyarrow, filelock, asn1crypto, sortedcontainers, tomlkit, pyjwt, snowflake-connector-python, retrying, cachetools, graphviz, pyparsing, kiwisolver, importlib-resources, contourpy, cycler, fonttools, pillow, matplotlib, tenacity, plotly, catboost, snowflake-snowpark-python, anyio, threadpoolctl, scikit-learn, snowflake-ml-python, fosforml\n",
      "  Found existing installation: urllib3 2.2.2\n",
      "    Uninstalling urllib3-2.2.2:\n",
      "      Successfully uninstalled urllib3-2.2.2\n",
      "  Found existing installation: packaging 24.1\n",
      "    Uninstalling packaging-24.1:\n",
      "      Successfully uninstalled packaging-24.1\n",
      "  Found existing installation: anyio 4.4.0\n",
      "    Uninstalling anyio-4.4.0:\n",
      "      Successfully uninstalled anyio-4.4.0\n",
      "Successfully installed absl-py-1.4.0 aiobotocore-2.15.1 aiohappyeyeballs-2.4.3 aiohttp-3.10.8 aioitertools-0.12.0 aiosignal-1.3.1 anyio-3.7.1 asn1crypto-1.5.1 async-timeout-4.0.3 botocore-1.35.23 cachetools-5.5.0 catboost-1.2.7 cloudpickle-2.2.1 contourpy-1.3.0 cycler-0.12.1 filelock-3.16.1 fonttools-4.54.1 fosforml-1.1.8 frozenlist-1.4.1 fsspec-2023.12.2 graphviz-0.20.3 importlib-resources-6.4.5 jmespath-1.0.1 kiwisolver-1.4.7 matplotlib-3.9.2 multidict-6.1.0 packaging-23.2 pillow-10.4.0 plotly-5.24.1 pyarrow-17.0.0 pyjwt-2.9.0 pyparsing-3.1.4 pytimeparse-1.1.8 retrying-1.3.4 s3fs-2023.12.2 scikit-learn-1.3.2 scipy-1.13.1 snowflake-connector-python-3.12.2 snowflake-ml-python-1.5.0 snowflake-snowpark-python-1.22.1 sortedcontainers-2.4.0 sqlparse-0.5.1 tenacity-9.0.0 threadpoolctl-3.5.0 tomlkit-0.13.2 urllib3-1.26.20 wrapt-1.16.0 xgboost-1.7.6 yarl-1.13.1\n",
      "\u001b[33mWARNING: You are using pip version 19.3.1; however, version 24.2 is available.\n",
      "You should consider upgrading via the 'pip install --upgrade pip' command.\u001b[0m\n",
      "Note: you may need to restart the kernel to use updated packages.\n"
     ]
    }
   ],
   "source": [
    "pip install fosforml"
   ]
  },
  {
   "cell_type": "code",
   "execution_count": 32,
   "id": "460cf0ff-80ec-4faa-a4b0-91ef9256d476",
   "metadata": {},
   "outputs": [
    {
     "name": "stdout",
     "output_type": "stream",
     "text": [
      "Collecting seaborn\n",
      "\u001b[?25l  Downloading https://files.pythonhosted.org/packages/83/11/00d3c3dfc25ad54e731d91449895a79e4bf2384dc3ac01809010ba88f6d5/seaborn-0.13.2-py3-none-any.whl (294kB)\n",
      "\u001b[K     |████████████████████████████████| 296kB 757kB/s eta 0:00:01\n",
      "\u001b[?25hRequirement already satisfied: matplotlib!=3.6.1,>=3.4 in /opt/conda/lib/python3.9/site-packages (from seaborn) (3.9.2)\n",
      "Requirement already satisfied: pandas>=1.2 in /opt/conda/lib/python3.9/site-packages (from seaborn) (2.2.2)\n",
      "Requirement already satisfied: numpy!=1.24.0,>=1.20 in /opt/conda/lib/python3.9/site-packages (from seaborn) (1.26.4)\n",
      "Requirement already satisfied: pyparsing>=2.3.1 in /opt/conda/lib/python3.9/site-packages (from matplotlib!=3.6.1,>=3.4->seaborn) (3.1.4)\n",
      "Requirement already satisfied: python-dateutil>=2.7 in /opt/conda/lib/python3.9/site-packages (from matplotlib!=3.6.1,>=3.4->seaborn) (2.9.0.post0)\n",
      "Requirement already satisfied: contourpy>=1.0.1 in /opt/conda/lib/python3.9/site-packages (from matplotlib!=3.6.1,>=3.4->seaborn) (1.3.0)\n",
      "Requirement already satisfied: kiwisolver>=1.3.1 in /opt/conda/lib/python3.9/site-packages (from matplotlib!=3.6.1,>=3.4->seaborn) (1.4.7)\n",
      "Requirement already satisfied: fonttools>=4.22.0 in /opt/conda/lib/python3.9/site-packages (from matplotlib!=3.6.1,>=3.4->seaborn) (4.54.1)\n",
      "Requirement already satisfied: cycler>=0.10 in /opt/conda/lib/python3.9/site-packages (from matplotlib!=3.6.1,>=3.4->seaborn) (0.12.1)\n",
      "Requirement already satisfied: pillow>=8 in /opt/conda/lib/python3.9/site-packages (from matplotlib!=3.6.1,>=3.4->seaborn) (10.4.0)\n",
      "Requirement already satisfied: importlib-resources>=3.2.0; python_version < \"3.10\" in /opt/conda/lib/python3.9/site-packages (from matplotlib!=3.6.1,>=3.4->seaborn) (6.4.5)\n",
      "Requirement already satisfied: packaging>=20.0 in /opt/conda/lib/python3.9/site-packages (from matplotlib!=3.6.1,>=3.4->seaborn) (23.2)\n",
      "Requirement already satisfied: pytz>=2020.1 in /opt/conda/lib/python3.9/site-packages (from pandas>=1.2->seaborn) (2024.1)\n",
      "Requirement already satisfied: tzdata>=2022.7 in /opt/conda/lib/python3.9/site-packages (from pandas>=1.2->seaborn) (2024.1)\n",
      "Requirement already satisfied: six>=1.5 in /opt/conda/lib/python3.9/site-packages (from python-dateutil>=2.7->matplotlib!=3.6.1,>=3.4->seaborn) (1.16.0)\n",
      "Requirement already satisfied: zipp>=3.1.0; python_version < \"3.10\" in /opt/conda/lib/python3.9/site-packages (from importlib-resources>=3.2.0; python_version < \"3.10\"->matplotlib!=3.6.1,>=3.4->seaborn) (3.19.2)\n",
      "Installing collected packages: seaborn\n",
      "Successfully installed seaborn-0.13.2\n",
      "\u001b[33mWARNING: You are using pip version 19.3.1; however, version 24.2 is available.\n",
      "You should consider upgrading via the 'pip install --upgrade pip' command.\u001b[0m\n",
      "Note: you may need to restart the kernel to use updated packages.\n"
     ]
    }
   ],
   "source": [
    "pip install seaborn"
   ]
  },
  {
   "cell_type": "code",
   "execution_count": 2,
   "id": "ab0853be-dbf3-47be-813b-6135afb2242d",
   "metadata": {},
   "outputs": [],
   "source": [
    "import fosforml\n",
    "from fosforml.model_manager.snowflakesession import get_session\n",
    "my_session = get_session()"
   ]
  },
  {
   "cell_type": "code",
   "execution_count": 3,
   "id": "bd3a63fc-a09e-4077-bbfa-e29c8c8d3c2b",
   "metadata": {},
   "outputs": [
    {
     "data": {
      "text/plain": [
       "'ASSORTMENT_PLANNING'"
      ]
     },
     "execution_count": 3,
     "metadata": {},
     "output_type": "execute_result"
    }
   ],
   "source": [
    "my_session.connection.database"
   ]
  },
  {
   "cell_type": "code",
   "execution_count": 4,
   "id": "516f24b8-afc5-462f-b968-f7b0f5c87662",
   "metadata": {},
   "outputs": [
    {
     "data": {
      "text/plain": [
       "'CPG_BRONZE'"
      ]
     },
     "execution_count": 4,
     "metadata": {},
     "output_type": "execute_result"
    }
   ],
   "source": [
    "my_session.connection.schema"
   ]
  },
  {
   "cell_type": "code",
   "execution_count": 5,
   "id": "e9588a76-31eb-4957-8906-f1c1e0fb32c0",
   "metadata": {},
   "outputs": [],
   "source": [
    "table_name = \"ASSORTMENT_PLANNING.CPG_BRONZE.SALES_CLEAN\""
   ]
  },
  {
   "cell_type": "code",
   "execution_count": 6,
   "id": "2559db41-e91e-487e-a8d2-4b98d75f515a",
   "metadata": {},
   "outputs": [
    {
     "data": {
      "text/plain": [
       "pandas.core.frame.DataFrame"
      ]
     },
     "execution_count": 6,
     "metadata": {},
     "output_type": "execute_result"
    }
   ],
   "source": [
    "sf_df = my_session.sql(\"select * from {}\".format(table_name))\n",
    "type(sf_df)\n",
    "df=sf_df.to_pandas()\n",
    "type(df)"
   ]
  },
  {
   "cell_type": "code",
   "execution_count": 7,
   "id": "acdea69c-6151-41e3-a6ce-bd945c1845eb",
   "metadata": {},
   "outputs": [
    {
     "data": {
      "text/html": [
       "<div>\n",
       "<style scoped>\n",
       "    .dataframe tbody tr th:only-of-type {\n",
       "        vertical-align: middle;\n",
       "    }\n",
       "\n",
       "    .dataframe tbody tr th {\n",
       "        vertical-align: top;\n",
       "    }\n",
       "\n",
       "    .dataframe thead th {\n",
       "        text-align: right;\n",
       "    }\n",
       "</style>\n",
       "<table border=\"1\" class=\"dataframe\">\n",
       "  <thead>\n",
       "    <tr style=\"text-align: right;\">\n",
       "      <th></th>\n",
       "      <th>MNTH_CODE</th>\n",
       "      <th>TRANS_DATE</th>\n",
       "      <th>START_DATE</th>\n",
       "      <th>SALES_VALUE</th>\n",
       "      <th>SALES_UNITS</th>\n",
       "      <th>SALES_VOLUME</th>\n",
       "      <th>SALES_PTR_VALUE</th>\n",
       "      <th>OC_CODE</th>\n",
       "      <th>DISTRIBUTOR_CODE</th>\n",
       "      <th>OUTLET_CODE</th>\n",
       "      <th>CITY</th>\n",
       "      <th>STATE</th>\n",
       "      <th>COUNTY</th>\n",
       "      <th>STREET</th>\n",
       "      <th>PRODUCT_CODE</th>\n",
       "      <th>CATEGORY</th>\n",
       "      <th>SUBCATEGORY</th>\n",
       "      <th>BRAND</th>\n",
       "    </tr>\n",
       "  </thead>\n",
       "  <tbody>\n",
       "    <tr>\n",
       "      <th>0</th>\n",
       "      <td>202312</td>\n",
       "      <td>2023-12-26</td>\n",
       "      <td>2023-11-27</td>\n",
       "      <td>372.73</td>\n",
       "      <td>2</td>\n",
       "      <td>0.000650</td>\n",
       "      <td>372.727273</td>\n",
       "      <td>202212</td>\n",
       "      <td>DB0110</td>\n",
       "      <td>OL112848</td>\n",
       "      <td>Carbondale</td>\n",
       "      <td>Illinois</td>\n",
       "      <td>City Center</td>\n",
       "      <td>Str2</td>\n",
       "      <td>PRD0118</td>\n",
       "      <td>Soap</td>\n",
       "      <td>Medicated Soap</td>\n",
       "      <td>Burgundy</td>\n",
       "    </tr>\n",
       "    <tr>\n",
       "      <th>1</th>\n",
       "      <td>202312</td>\n",
       "      <td>2023-12-26</td>\n",
       "      <td>2023-11-27</td>\n",
       "      <td>436.36</td>\n",
       "      <td>3</td>\n",
       "      <td>0.000900</td>\n",
       "      <td>436.363636</td>\n",
       "      <td>202212</td>\n",
       "      <td>DB0110</td>\n",
       "      <td>OL112848</td>\n",
       "      <td>Carbondale</td>\n",
       "      <td>Illinois</td>\n",
       "      <td>City Center</td>\n",
       "      <td>Str2</td>\n",
       "      <td>PRD0131</td>\n",
       "      <td>Soap</td>\n",
       "      <td>Toilet Soap</td>\n",
       "      <td>Grape vine</td>\n",
       "    </tr>\n",
       "    <tr>\n",
       "      <th>2</th>\n",
       "      <td>202312</td>\n",
       "      <td>2023-12-24</td>\n",
       "      <td>2023-11-27</td>\n",
       "      <td>202.82</td>\n",
       "      <td>2</td>\n",
       "      <td>0.000214</td>\n",
       "      <td>209.090909</td>\n",
       "      <td>202212</td>\n",
       "      <td>DB0209</td>\n",
       "      <td>OL112555</td>\n",
       "      <td>Shelbyville</td>\n",
       "      <td>Tennessee</td>\n",
       "      <td>City Center</td>\n",
       "      <td>Str5</td>\n",
       "      <td>PRD0065</td>\n",
       "      <td>Hair Care</td>\n",
       "      <td>Hair Oil</td>\n",
       "      <td>Crimson</td>\n",
       "    </tr>\n",
       "    <tr>\n",
       "      <th>3</th>\n",
       "      <td>202312</td>\n",
       "      <td>2023-12-29</td>\n",
       "      <td>2023-11-27</td>\n",
       "      <td>142.86</td>\n",
       "      <td>16</td>\n",
       "      <td>0.000384</td>\n",
       "      <td>142.857143</td>\n",
       "      <td>202212</td>\n",
       "      <td>DB0655</td>\n",
       "      <td>OL113173</td>\n",
       "      <td>Renton</td>\n",
       "      <td>Washington</td>\n",
       "      <td>Orange</td>\n",
       "      <td>Str2</td>\n",
       "      <td>PRD0106</td>\n",
       "      <td>Hair Care</td>\n",
       "      <td>Shampoo</td>\n",
       "      <td>Hair &amp; Shoulders</td>\n",
       "    </tr>\n",
       "    <tr>\n",
       "      <th>4</th>\n",
       "      <td>202312</td>\n",
       "      <td>2023-12-17</td>\n",
       "      <td>2023-11-27</td>\n",
       "      <td>145.45</td>\n",
       "      <td>1</td>\n",
       "      <td>0.000300</td>\n",
       "      <td>145.454545</td>\n",
       "      <td>202212</td>\n",
       "      <td>DB0652</td>\n",
       "      <td>OL112373</td>\n",
       "      <td>Wallingford</td>\n",
       "      <td>Connecticut</td>\n",
       "      <td>Dolphin</td>\n",
       "      <td>Str1</td>\n",
       "      <td>PRD0070</td>\n",
       "      <td>Perfume and Deodrants</td>\n",
       "      <td>Female Deodrant</td>\n",
       "      <td>Pista green</td>\n",
       "    </tr>\n",
       "  </tbody>\n",
       "</table>\n",
       "</div>"
      ],
      "text/plain": [
       "   MNTH_CODE  TRANS_DATE  START_DATE  SALES_VALUE  SALES_UNITS  SALES_VOLUME  \\\n",
       "0     202312  2023-12-26  2023-11-27       372.73            2      0.000650   \n",
       "1     202312  2023-12-26  2023-11-27       436.36            3      0.000900   \n",
       "2     202312  2023-12-24  2023-11-27       202.82            2      0.000214   \n",
       "3     202312  2023-12-29  2023-11-27       142.86           16      0.000384   \n",
       "4     202312  2023-12-17  2023-11-27       145.45            1      0.000300   \n",
       "\n",
       "   SALES_PTR_VALUE  OC_CODE DISTRIBUTOR_CODE OUTLET_CODE         CITY  \\\n",
       "0       372.727273   202212           DB0110    OL112848   Carbondale   \n",
       "1       436.363636   202212           DB0110    OL112848   Carbondale   \n",
       "2       209.090909   202212           DB0209    OL112555  Shelbyville   \n",
       "3       142.857143   202212           DB0655    OL113173       Renton   \n",
       "4       145.454545   202212           DB0652    OL112373  Wallingford   \n",
       "\n",
       "         STATE       COUNTY STREET PRODUCT_CODE               CATEGORY  \\\n",
       "0     Illinois  City Center   Str2      PRD0118                   Soap   \n",
       "1     Illinois  City Center   Str2      PRD0131                   Soap   \n",
       "2    Tennessee  City Center   Str5      PRD0065              Hair Care   \n",
       "3   Washington       Orange   Str2      PRD0106              Hair Care   \n",
       "4  Connecticut      Dolphin   Str1      PRD0070  Perfume and Deodrants   \n",
       "\n",
       "       SUBCATEGORY             BRAND  \n",
       "0   Medicated Soap          Burgundy  \n",
       "1      Toilet Soap        Grape vine  \n",
       "2         Hair Oil           Crimson  \n",
       "3          Shampoo  Hair & Shoulders  \n",
       "4  Female Deodrant       Pista green  "
      ]
     },
     "execution_count": 7,
     "metadata": {},
     "output_type": "execute_result"
    }
   ],
   "source": [
    "df.head(5)"
   ]
  },
  {
   "cell_type": "code",
   "execution_count": 8,
   "id": "4b9be009-97f3-4201-8eba-6fd90343674c",
   "metadata": {},
   "outputs": [
    {
     "name": "stdout",
     "output_type": "stream",
     "text": [
      "<class 'pandas.core.frame.DataFrame'>\n",
      "RangeIndex: 966400 entries, 0 to 966399\n",
      "Data columns (total 18 columns):\n",
      " #   Column            Non-Null Count   Dtype  \n",
      "---  ------            --------------   -----  \n",
      " 0   MNTH_CODE         966400 non-null  int32  \n",
      " 1   TRANS_DATE        966400 non-null  object \n",
      " 2   START_DATE        966400 non-null  object \n",
      " 3   SALES_VALUE       966400 non-null  float64\n",
      " 4   SALES_UNITS       966400 non-null  int16  \n",
      " 5   SALES_VOLUME      966400 non-null  float64\n",
      " 6   SALES_PTR_VALUE   966400 non-null  float64\n",
      " 7   OC_CODE           966400 non-null  int32  \n",
      " 8   DISTRIBUTOR_CODE  966400 non-null  object \n",
      " 9   OUTLET_CODE       966400 non-null  object \n",
      " 10  CITY              966400 non-null  object \n",
      " 11  STATE             966400 non-null  object \n",
      " 12  COUNTY            966400 non-null  object \n",
      " 13  STREET            966400 non-null  object \n",
      " 14  PRODUCT_CODE      966400 non-null  object \n",
      " 15  CATEGORY          966400 non-null  object \n",
      " 16  SUBCATEGORY       966400 non-null  object \n",
      " 17  BRAND             966400 non-null  object \n",
      "dtypes: float64(3), int16(1), int32(2), object(12)\n",
      "memory usage: 119.8+ MB\n"
     ]
    }
   ],
   "source": [
    "df.info()"
   ]
  },
  {
   "cell_type": "markdown",
   "id": "7dc7ab0e-cc1a-4df5-8280-d4379e539004",
   "metadata": {},
   "source": [
    "## Generate Additional Features"
   ]
  },
  {
   "cell_type": "code",
   "execution_count": 9,
   "id": "cb8b3091-1ab8-4a09-b94e-10151d0fd4d0",
   "metadata": {},
   "outputs": [],
   "source": [
    "import pandas as pd\n",
    "\n",
    "def generate_features(df):\n",
    "    # Ensure the TRANS_DATE column is in datetime format\n",
    "    df['TRANS_DATE'] = pd.to_datetime(df['TRANS_DATE'])\n",
    "    \n",
    "    # Extract temporal features\n",
    "    df['year'] = df['TRANS_DATE'].dt.year\n",
    "    df['month'] = df['TRANS_DATE'].dt.month\n",
    "    df['day'] = df['TRANS_DATE'].dt.day\n",
    "    df['dayofweek'] = df['TRANS_DATE'].dt.dayofweek\n",
    "    df['quarter'] = df['TRANS_DATE'].dt.quarter\n",
    "    df['is_month_start'] = df['TRANS_DATE'].dt.is_month_start\n",
    "    df['is_month_end'] = df['TRANS_DATE'].dt.is_month_end\n",
    "    \n",
    "    # Create UNIT_PTR feature\n",
    "    df['UNIT_PTR'] = df['SALES_PTR_VALUE'] / df['SALES_UNITS']\n",
    "    \n",
    "    return df"
   ]
  },
  {
   "cell_type": "code",
   "execution_count": 10,
   "id": "bbf4e968-e977-4f99-9c7d-b618e3c81e4e",
   "metadata": {},
   "outputs": [],
   "source": [
    "df = generate_features(df)"
   ]
  },
  {
   "cell_type": "code",
   "execution_count": 11,
   "id": "74149cd1-4f7c-4712-97b7-0ffcec68e9eb",
   "metadata": {},
   "outputs": [
    {
     "data": {
      "text/plain": [
       "94"
      ]
     },
     "execution_count": 11,
     "metadata": {},
     "output_type": "execute_result"
    }
   ],
   "source": [
    "df['PRODUCT_CODE'].nunique()"
   ]
  },
  {
   "cell_type": "code",
   "execution_count": 12,
   "id": "bc091166-a0bf-4972-be8a-06acaa49b415",
   "metadata": {},
   "outputs": [],
   "source": [
    "df = df.sort_values(by='TRANS_DATE')"
   ]
  },
  {
   "cell_type": "code",
   "execution_count": 13,
   "id": "4c79dba7-1dc1-476b-840e-b0d01f25e2f8",
   "metadata": {},
   "outputs": [],
   "source": [
    "# Convert all column names to uppercase\n",
    "df.columns = [col.upper() for col in df.columns]"
   ]
  },
  {
   "cell_type": "code",
   "execution_count": 14,
   "id": "584f890e-1e2b-4956-bf8e-61154950da74",
   "metadata": {},
   "outputs": [
    {
     "name": "stdout",
     "output_type": "stream",
     "text": [
      "<class 'pandas.core.frame.DataFrame'>\n",
      "Index: 966400 entries, 787515 to 905006\n",
      "Data columns (total 26 columns):\n",
      " #   Column            Non-Null Count   Dtype         \n",
      "---  ------            --------------   -----         \n",
      " 0   MNTH_CODE         966400 non-null  int32         \n",
      " 1   TRANS_DATE        966400 non-null  datetime64[ns]\n",
      " 2   START_DATE        966400 non-null  object        \n",
      " 3   SALES_VALUE       966400 non-null  float64       \n",
      " 4   SALES_UNITS       966400 non-null  int16         \n",
      " 5   SALES_VOLUME      966400 non-null  float64       \n",
      " 6   SALES_PTR_VALUE   966400 non-null  float64       \n",
      " 7   OC_CODE           966400 non-null  int32         \n",
      " 8   DISTRIBUTOR_CODE  966400 non-null  object        \n",
      " 9   OUTLET_CODE       966400 non-null  object        \n",
      " 10  CITY              966400 non-null  object        \n",
      " 11  STATE             966400 non-null  object        \n",
      " 12  COUNTY            966400 non-null  object        \n",
      " 13  STREET            966400 non-null  object        \n",
      " 14  PRODUCT_CODE      966400 non-null  object        \n",
      " 15  CATEGORY          966400 non-null  object        \n",
      " 16  SUBCATEGORY       966400 non-null  object        \n",
      " 17  BRAND             966400 non-null  object        \n",
      " 18  YEAR              966400 non-null  int32         \n",
      " 19  MONTH             966400 non-null  int32         \n",
      " 20  DAY               966400 non-null  int32         \n",
      " 21  DAYOFWEEK         966400 non-null  int32         \n",
      " 22  QUARTER           966400 non-null  int32         \n",
      " 23  IS_MONTH_START    966400 non-null  bool          \n",
      " 24  IS_MONTH_END      966400 non-null  bool          \n",
      " 25  UNIT_PTR          966400 non-null  float64       \n",
      "dtypes: bool(2), datetime64[ns](1), float64(4), int16(1), int32(7), object(11)\n",
      "memory usage: 154.8+ MB\n"
     ]
    }
   ],
   "source": [
    "df.info()"
   ]
  },
  {
   "cell_type": "code",
   "execution_count": 15,
   "id": "80144ea0-2260-4a64-867e-3c1116118a64",
   "metadata": {},
   "outputs": [],
   "source": [
    "df_sorted = df.sort_values(by=['OUTLET_CODE', 'PRODUCT_CODE', 'TRANS_DATE'])"
   ]
  },
  {
   "cell_type": "code",
   "execution_count": 16,
   "id": "7dc89dc5-2911-41bc-abc6-9bfb30815ff6",
   "metadata": {},
   "outputs": [],
   "source": [
    "pd.set_option('display.max_columns', None)"
   ]
  },
  {
   "cell_type": "code",
   "execution_count": 17,
   "id": "e1785231-0520-43de-9362-20743b96d2b3",
   "metadata": {},
   "outputs": [],
   "source": [
    "# List of columns in the desired order\n",
    "columns_order = ['OUTLET_CODE', 'PRODUCT_CODE', 'TRANS_DATE', 'UNIT_PTR'] + [col for col in df_sorted.columns if col not in ['OUTLET_CODE', 'PRODUCT_CODE']]\n",
    "\n",
    "# Reorder the DataFrame columns\n",
    "df_sorted = df_sorted[columns_order]"
   ]
  },
  {
   "cell_type": "code",
   "execution_count": 18,
   "id": "8bb8f698-9816-4284-b5e8-241f6dafa3c2",
   "metadata": {},
   "outputs": [],
   "source": [
    "df_sorted['FREQUENCY'] = df_sorted.groupby(['OUTLET_CODE', 'PRODUCT_CODE']).cumcount() + 1"
   ]
  },
  {
   "cell_type": "code",
   "execution_count": 19,
   "id": "2a858e9d-db57-4ac7-a22c-76cefacafaef",
   "metadata": {},
   "outputs": [
    {
     "data": {
      "text/html": [
       "<div>\n",
       "<style scoped>\n",
       "    .dataframe tbody tr th:only-of-type {\n",
       "        vertical-align: middle;\n",
       "    }\n",
       "\n",
       "    .dataframe tbody tr th {\n",
       "        vertical-align: top;\n",
       "    }\n",
       "\n",
       "    .dataframe thead th {\n",
       "        text-align: right;\n",
       "    }\n",
       "</style>\n",
       "<table border=\"1\" class=\"dataframe\">\n",
       "  <thead>\n",
       "    <tr style=\"text-align: right;\">\n",
       "      <th></th>\n",
       "      <th>OUTLET_CODE</th>\n",
       "      <th>PRODUCT_CODE</th>\n",
       "      <th>TRANS_DATE</th>\n",
       "      <th>UNIT_PTR</th>\n",
       "      <th>MNTH_CODE</th>\n",
       "      <th>TRANS_DATE</th>\n",
       "      <th>START_DATE</th>\n",
       "      <th>SALES_VALUE</th>\n",
       "      <th>SALES_UNITS</th>\n",
       "      <th>SALES_VOLUME</th>\n",
       "      <th>SALES_PTR_VALUE</th>\n",
       "      <th>OC_CODE</th>\n",
       "      <th>DISTRIBUTOR_CODE</th>\n",
       "      <th>CITY</th>\n",
       "      <th>STATE</th>\n",
       "      <th>COUNTY</th>\n",
       "      <th>STREET</th>\n",
       "      <th>CATEGORY</th>\n",
       "      <th>SUBCATEGORY</th>\n",
       "      <th>BRAND</th>\n",
       "      <th>YEAR</th>\n",
       "      <th>MONTH</th>\n",
       "      <th>DAY</th>\n",
       "      <th>DAYOFWEEK</th>\n",
       "      <th>QUARTER</th>\n",
       "      <th>IS_MONTH_START</th>\n",
       "      <th>IS_MONTH_END</th>\n",
       "      <th>UNIT_PTR</th>\n",
       "      <th>FREQUENCY</th>\n",
       "    </tr>\n",
       "  </thead>\n",
       "  <tbody>\n",
       "    <tr>\n",
       "      <th>219329</th>\n",
       "      <td>OL10328</td>\n",
       "      <td>PRD0014</td>\n",
       "      <td>2023-12-08</td>\n",
       "      <td>17.857143</td>\n",
       "      <td>202312</td>\n",
       "      <td>2023-12-08</td>\n",
       "      <td>2023-11-27</td>\n",
       "      <td>107.14</td>\n",
       "      <td>6</td>\n",
       "      <td>0.000312</td>\n",
       "      <td>107.142857</td>\n",
       "      <td>202212</td>\n",
       "      <td>DB0110</td>\n",
       "      <td>Durham</td>\n",
       "      <td>North Carolina</td>\n",
       "      <td>Santa Cruz</td>\n",
       "      <td>Str5</td>\n",
       "      <td>Dental</td>\n",
       "      <td>ToothPaste</td>\n",
       "      <td>Toothy Sensitive</td>\n",
       "      <td>2023</td>\n",
       "      <td>12</td>\n",
       "      <td>8</td>\n",
       "      <td>4</td>\n",
       "      <td>4</td>\n",
       "      <td>False</td>\n",
       "      <td>False</td>\n",
       "      <td>17.857143</td>\n",
       "      <td>1</td>\n",
       "    </tr>\n",
       "    <tr>\n",
       "      <th>512107</th>\n",
       "      <td>OL10328</td>\n",
       "      <td>PRD0058</td>\n",
       "      <td>2023-10-06</td>\n",
       "      <td>4.464286</td>\n",
       "      <td>202310</td>\n",
       "      <td>2023-10-06</td>\n",
       "      <td>2023-10-02</td>\n",
       "      <td>53.57</td>\n",
       "      <td>12</td>\n",
       "      <td>0.000132</td>\n",
       "      <td>53.571429</td>\n",
       "      <td>202210</td>\n",
       "      <td>DB0110</td>\n",
       "      <td>Durham</td>\n",
       "      <td>North Carolina</td>\n",
       "      <td>Santa Cruz</td>\n",
       "      <td>Str5</td>\n",
       "      <td>Soap</td>\n",
       "      <td>Liquid Soap</td>\n",
       "      <td>Rust</td>\n",
       "      <td>2023</td>\n",
       "      <td>10</td>\n",
       "      <td>6</td>\n",
       "      <td>4</td>\n",
       "      <td>4</td>\n",
       "      <td>False</td>\n",
       "      <td>False</td>\n",
       "      <td>4.464286</td>\n",
       "      <td>1</td>\n",
       "    </tr>\n",
       "    <tr>\n",
       "      <th>117235</th>\n",
       "      <td>OL10328</td>\n",
       "      <td>PRD0064</td>\n",
       "      <td>2024-04-21</td>\n",
       "      <td>99.090909</td>\n",
       "      <td>202404</td>\n",
       "      <td>2024-04-21</td>\n",
       "      <td>2024-04-03</td>\n",
       "      <td>198.18</td>\n",
       "      <td>2</td>\n",
       "      <td>0.000214</td>\n",
       "      <td>198.181818</td>\n",
       "      <td>202204</td>\n",
       "      <td>DB0110</td>\n",
       "      <td>Durham</td>\n",
       "      <td>North Carolina</td>\n",
       "      <td>Santa Cruz</td>\n",
       "      <td>Str5</td>\n",
       "      <td>Hair Care</td>\n",
       "      <td>Conditioner</td>\n",
       "      <td>Bamboo</td>\n",
       "      <td>2024</td>\n",
       "      <td>4</td>\n",
       "      <td>21</td>\n",
       "      <td>6</td>\n",
       "      <td>2</td>\n",
       "      <td>False</td>\n",
       "      <td>False</td>\n",
       "      <td>99.090909</td>\n",
       "      <td>1</td>\n",
       "    </tr>\n",
       "    <tr>\n",
       "      <th>475887</th>\n",
       "      <td>OL10328</td>\n",
       "      <td>PRD0064</td>\n",
       "      <td>2024-07-14</td>\n",
       "      <td>104.545455</td>\n",
       "      <td>202407</td>\n",
       "      <td>2024-07-14</td>\n",
       "      <td>2024-07-03</td>\n",
       "      <td>101.41</td>\n",
       "      <td>1</td>\n",
       "      <td>0.000107</td>\n",
       "      <td>104.545455</td>\n",
       "      <td>202207</td>\n",
       "      <td>DB0110</td>\n",
       "      <td>Durham</td>\n",
       "      <td>North Carolina</td>\n",
       "      <td>Santa Cruz</td>\n",
       "      <td>Str5</td>\n",
       "      <td>Hair Care</td>\n",
       "      <td>Conditioner</td>\n",
       "      <td>Bamboo</td>\n",
       "      <td>2024</td>\n",
       "      <td>7</td>\n",
       "      <td>14</td>\n",
       "      <td>6</td>\n",
       "      <td>3</td>\n",
       "      <td>False</td>\n",
       "      <td>False</td>\n",
       "      <td>104.545455</td>\n",
       "      <td>2</td>\n",
       "    </tr>\n",
       "    <tr>\n",
       "      <th>431721</th>\n",
       "      <td>OL10328</td>\n",
       "      <td>PRD0064</td>\n",
       "      <td>2024-07-21</td>\n",
       "      <td>104.545455</td>\n",
       "      <td>202407</td>\n",
       "      <td>2024-07-21</td>\n",
       "      <td>2024-07-03</td>\n",
       "      <td>209.09</td>\n",
       "      <td>2</td>\n",
       "      <td>0.000214</td>\n",
       "      <td>209.090909</td>\n",
       "      <td>202207</td>\n",
       "      <td>DB0110</td>\n",
       "      <td>Durham</td>\n",
       "      <td>North Carolina</td>\n",
       "      <td>Santa Cruz</td>\n",
       "      <td>Str5</td>\n",
       "      <td>Hair Care</td>\n",
       "      <td>Conditioner</td>\n",
       "      <td>Bamboo</td>\n",
       "      <td>2024</td>\n",
       "      <td>7</td>\n",
       "      <td>21</td>\n",
       "      <td>6</td>\n",
       "      <td>3</td>\n",
       "      <td>False</td>\n",
       "      <td>False</td>\n",
       "      <td>104.545455</td>\n",
       "      <td>3</td>\n",
       "    </tr>\n",
       "  </tbody>\n",
       "</table>\n",
       "</div>"
      ],
      "text/plain": [
       "       OUTLET_CODE PRODUCT_CODE TRANS_DATE    UNIT_PTR  MNTH_CODE TRANS_DATE  \\\n",
       "219329     OL10328      PRD0014 2023-12-08   17.857143     202312 2023-12-08   \n",
       "512107     OL10328      PRD0058 2023-10-06    4.464286     202310 2023-10-06   \n",
       "117235     OL10328      PRD0064 2024-04-21   99.090909     202404 2024-04-21   \n",
       "475887     OL10328      PRD0064 2024-07-14  104.545455     202407 2024-07-14   \n",
       "431721     OL10328      PRD0064 2024-07-21  104.545455     202407 2024-07-21   \n",
       "\n",
       "        START_DATE  SALES_VALUE  SALES_UNITS  SALES_VOLUME  SALES_PTR_VALUE  \\\n",
       "219329  2023-11-27       107.14            6      0.000312       107.142857   \n",
       "512107  2023-10-02        53.57           12      0.000132        53.571429   \n",
       "117235  2024-04-03       198.18            2      0.000214       198.181818   \n",
       "475887  2024-07-03       101.41            1      0.000107       104.545455   \n",
       "431721  2024-07-03       209.09            2      0.000214       209.090909   \n",
       "\n",
       "        OC_CODE DISTRIBUTOR_CODE    CITY           STATE      COUNTY STREET  \\\n",
       "219329   202212           DB0110  Durham  North Carolina  Santa Cruz   Str5   \n",
       "512107   202210           DB0110  Durham  North Carolina  Santa Cruz   Str5   \n",
       "117235   202204           DB0110  Durham  North Carolina  Santa Cruz   Str5   \n",
       "475887   202207           DB0110  Durham  North Carolina  Santa Cruz   Str5   \n",
       "431721   202207           DB0110  Durham  North Carolina  Santa Cruz   Str5   \n",
       "\n",
       "         CATEGORY  SUBCATEGORY             BRAND  YEAR  MONTH  DAY  DAYOFWEEK  \\\n",
       "219329     Dental   ToothPaste  Toothy Sensitive  2023     12    8          4   \n",
       "512107       Soap  Liquid Soap              Rust  2023     10    6          4   \n",
       "117235  Hair Care  Conditioner            Bamboo  2024      4   21          6   \n",
       "475887  Hair Care  Conditioner            Bamboo  2024      7   14          6   \n",
       "431721  Hair Care  Conditioner            Bamboo  2024      7   21          6   \n",
       "\n",
       "        QUARTER  IS_MONTH_START  IS_MONTH_END    UNIT_PTR  FREQUENCY  \n",
       "219329        4           False         False   17.857143          1  \n",
       "512107        4           False         False    4.464286          1  \n",
       "117235        2           False         False   99.090909          1  \n",
       "475887        3           False         False  104.545455          2  \n",
       "431721        3           False         False  104.545455          3  "
      ]
     },
     "execution_count": 19,
     "metadata": {},
     "output_type": "execute_result"
    }
   ],
   "source": [
    "df_sorted.head()"
   ]
  },
  {
   "cell_type": "markdown",
   "id": "4e88a6e3-4333-485c-8cf8-2dec775ec590",
   "metadata": {},
   "source": [
    "Split the dataset into test and train"
   ]
  },
  {
   "cell_type": "markdown",
   "id": "e1d560d1-1eee-4527-b73a-95adbe1b1030",
   "metadata": {},
   "source": [
    "K means clustering of OUTLET_CODES"
   ]
  },
  {
   "cell_type": "code",
   "execution_count": 20,
   "id": "c0a49ff5-424e-4d87-bff7-505540b2e7bd",
   "metadata": {},
   "outputs": [],
   "source": [
    "import pandas as pd\n",
    "from sklearn.preprocessing import LabelEncoder\n",
    "\n",
    "def label_encode_dataframe(df, columns_to_encode):\n",
    "    # Initialize the label encoder\n",
    "    label_encoder = LabelEncoder()\n",
    "    \n",
    "    # Apply label encoding to each column\n",
    "    for column in columns_to_encode:\n",
    "        df[column + '_encoded'] = label_encoder.fit_transform(df[column])\n",
    "    \n",
    "    # Convert all column names to uppercase and replace spaces with underscores\n",
    "    df.columns = df.columns.str.upper().str.replace(' ', '_')\n",
    "    \n",
    "    return df"
   ]
  },
  {
   "cell_type": "code",
   "execution_count": 21,
   "id": "3dda46ec-0a49-4fae-a746-f59cfc759241",
   "metadata": {},
   "outputs": [],
   "source": [
    "columns_to_encode = ['PRODUCT_CODE', 'CATEGORY', 'SUBCATEGORY', 'BRAND']\n",
    "df_sorted = label_encode_dataframe(df_sorted, columns_to_encode)"
   ]
  },
  {
   "cell_type": "code",
   "execution_count": 22,
   "id": "d76ca595-2f65-4b51-ade5-11a9120c6112",
   "metadata": {},
   "outputs": [
    {
     "name": "stdout",
     "output_type": "stream",
     "text": [
      "<class 'pandas.core.frame.DataFrame'>\n",
      "Index: 966400 entries, 219329 to 278374\n",
      "Data columns (total 33 columns):\n",
      " #   Column                Non-Null Count   Dtype         \n",
      "---  ------                --------------   -----         \n",
      " 0   OUTLET_CODE           966400 non-null  object        \n",
      " 1   PRODUCT_CODE          966400 non-null  object        \n",
      " 2   TRANS_DATE            966400 non-null  datetime64[ns]\n",
      " 3   UNIT_PTR              966400 non-null  float64       \n",
      " 4   MNTH_CODE             966400 non-null  int32         \n",
      " 5   TRANS_DATE            966400 non-null  datetime64[ns]\n",
      " 6   START_DATE            966400 non-null  object        \n",
      " 7   SALES_VALUE           966400 non-null  float64       \n",
      " 8   SALES_UNITS           966400 non-null  int16         \n",
      " 9   SALES_VOLUME          966400 non-null  float64       \n",
      " 10  SALES_PTR_VALUE       966400 non-null  float64       \n",
      " 11  OC_CODE               966400 non-null  int32         \n",
      " 12  DISTRIBUTOR_CODE      966400 non-null  object        \n",
      " 13  CITY                  966400 non-null  object        \n",
      " 14  STATE                 966400 non-null  object        \n",
      " 15  COUNTY                966400 non-null  object        \n",
      " 16  STREET                966400 non-null  object        \n",
      " 17  CATEGORY              966400 non-null  object        \n",
      " 18  SUBCATEGORY           966400 non-null  object        \n",
      " 19  BRAND                 966400 non-null  object        \n",
      " 20  YEAR                  966400 non-null  int32         \n",
      " 21  MONTH                 966400 non-null  int32         \n",
      " 22  DAY                   966400 non-null  int32         \n",
      " 23  DAYOFWEEK             966400 non-null  int32         \n",
      " 24  QUARTER               966400 non-null  int32         \n",
      " 25  IS_MONTH_START        966400 non-null  bool          \n",
      " 26  IS_MONTH_END          966400 non-null  bool          \n",
      " 27  UNIT_PTR              966400 non-null  float64       \n",
      " 28  FREQUENCY             966400 non-null  int64         \n",
      " 29  PRODUCT_CODE_ENCODED  966400 non-null  int64         \n",
      " 30  CATEGORY_ENCODED      966400 non-null  int64         \n",
      " 31  SUBCATEGORY_ENCODED   966400 non-null  int64         \n",
      " 32  BRAND_ENCODED         966400 non-null  int64         \n",
      "dtypes: bool(2), datetime64[ns](2), float64(5), int16(1), int32(7), int64(5), object(11)\n",
      "memory usage: 206.4+ MB\n"
     ]
    }
   ],
   "source": [
    "df_sorted.info()"
   ]
  },
  {
   "cell_type": "code",
   "execution_count": 23,
   "id": "09343758-98d9-4be5-85fb-552b4ea3681b",
   "metadata": {},
   "outputs": [],
   "source": [
    "df_sorted = df_sorted.loc[:, ~df_sorted.columns.duplicated()]"
   ]
  },
  {
   "cell_type": "code",
   "execution_count": 24,
   "id": "e776c0fe-ec87-4c7e-8873-3564a4651910",
   "metadata": {},
   "outputs": [],
   "source": [
    "# Aggregation dictionary\n",
    "aggregation_dict = {\n",
    "    'SALES_UNITS': 'mean',\n",
    "    'UNIT_PTR': 'mean',\n",
    "    'FREQUENCY': 'count',\n",
    "    'PRODUCT_CODE_ENCODED': 'mean'\n",
    "}\n",
    "\n",
    "# Aggregate data by OUTLET_CODE\n",
    "aggregated_df = df_sorted.groupby('OUTLET_CODE').agg(aggregation_dict).reset_index()"
   ]
  },
  {
   "cell_type": "code",
   "execution_count": 25,
   "id": "1b32de37-b545-4731-b1a4-fd93c26206cf",
   "metadata": {},
   "outputs": [],
   "source": [
    "# Select features for clustering\n",
    "features = ['SALES_UNITS', 'UNIT_PTR', 'FREQUENCY', 'PRODUCT_CODE_ENCODED']"
   ]
  },
  {
   "cell_type": "code",
   "execution_count": 26,
   "id": "79aa312b-e2a2-47e1-ba29-8bb40f00a903",
   "metadata": {},
   "outputs": [],
   "source": [
    "from sklearn.preprocessing import StandardScaler\n",
    "from sklearn.compose import ColumnTransformer\n",
    "from sklearn.pipeline import Pipeline\n",
    "from sklearn.cluster import KMeans\n",
    "from sklearn.metrics import silhouette_score\n",
    "import matplotlib.pyplot as plt\n",
    "\n",
    "# Define preprocessing steps\n",
    "preprocessor = ColumnTransformer(\n",
    "    transformers=[\n",
    "        ('num', StandardScaler(), ['SALES_UNITS', 'UNIT_PTR', 'FREQUENCY', 'PRODUCT_CODE_ENCODED']),\n",
    "        # No need to preprocess category columns as they are already one-hot encoded\n",
    "    ],\n",
    "    remainder='passthrough'  # Keep the one-hot encoded columns as they are\n",
    ")"
   ]
  },
  {
   "cell_type": "code",
   "execution_count": 27,
   "id": "cfe8e4c3-7f77-44b9-91fa-6380bc5bb461",
   "metadata": {},
   "outputs": [],
   "source": [
    "df_sorted_preprocessed = preprocessor.fit_transform(aggregated_df[features])"
   ]
  },
  {
   "cell_type": "code",
   "execution_count": 28,
   "id": "fd26bd58-2c07-4993-9b96-0e9a68326f0a",
   "metadata": {},
   "outputs": [
    {
     "data": {
      "image/png": "[encoded data removed]",
      "text/plain": [
       "<Figure size 1000x600 with 1 Axes>"
      ]
     },
     "metadata": {},
     "output_type": "display_data"
    }
   ],
   "source": [
    "# Calculate silhouette scores for different numbers of clusters\n",
    "silhouette_scores = []\n",
    "k_range = range(2, 11)  # Silhouette score is not defined for k=1\n",
    "for k in k_range:\n",
    "    kmeans = KMeans(n_clusters=k, random_state=42)\n",
    "    cluster_labels = kmeans.fit_predict(df_sorted_preprocessed)\n",
    "    silhouette_avg = silhouette_score(df_sorted_preprocessed, cluster_labels)\n",
    "    silhouette_scores.append(silhouette_avg)\n",
    "\n",
    "# Plot the silhouette scores\n",
    "plt.figure(figsize=(10, 6))\n",
    "plt.plot(k_range, silhouette_scores, marker='o')\n",
    "plt.xlabel('Number of clusters')\n",
    "plt.ylabel('Silhouette Score')\n",
    "plt.title('Silhouette Score For Optimal k')\n",
    "plt.show()"
   ]
  },
  {
   "cell_type": "code",
   "execution_count": 29,
   "id": "7ee29378-bc26-485f-beaa-8ac071228a64",
   "metadata": {},
   "outputs": [
    {
     "name": "stdout",
     "output_type": "stream",
     "text": [
      "      OUTLET_CODE  SALES_UNITS    UNIT_PTR  FREQUENCY  PRODUCT_CODE_ENCODED  \\\n",
      "18828     OL97620     7.322404   94.301238        183             51.519126   \n",
      "18829     OL97621    11.039474  110.612184         76             43.473684   \n",
      "18830     OL97622    12.266667   24.139610         15             50.933333   \n",
      "18831     OL97623    15.448276    6.588670         29             48.896552   \n",
      "18832     OL97624    13.333333    5.952381         12             43.833333   \n",
      "\n",
      "       CLUSTER  \n",
      "18828        2  \n",
      "18829        2  \n",
      "18830        0  \n",
      "18831        0  \n",
      "18832        0  \n"
     ]
    }
   ],
   "source": [
    "# Apply K-Means clustering with the chosen number of clusters \n",
    "optimal_k = k_range[silhouette_scores.index(max(silhouette_scores))]  # Choose the k with the highest silhouette score\n",
    "kmeans = KMeans(n_clusters=optimal_k, random_state=42)\n",
    "aggregated_df['CLUSTER'] = kmeans.fit_predict(df_sorted_preprocessed)\n",
    "\n",
    "# Display the first few rows to verify\n",
    "print(aggregated_df.tail())"
   ]
  },
  {
   "cell_type": "code",
   "execution_count": 30,
   "id": "f09811ca-f9b4-4a2d-b8ab-924dd44adedb",
   "metadata": {},
   "outputs": [],
   "source": [
    "aggregated_df.to_csv('outlet_to_cluster_mapping.csv', index=False)"
   ]
  },
  {
   "cell_type": "code",
   "execution_count": 31,
   "id": "4388b1d6-b4ad-4a41-a904-770ffac1d707",
   "metadata": {},
   "outputs": [
    {
     "ename": "ModuleNotFoundError",
     "evalue": "No module named 'seaborn'",
     "output_type": "error",
     "traceback": [
      "\u001b[0;31m---------------------------------------------------------------------------\u001b[0m",
      "\u001b[0;31mModuleNotFoundError\u001b[0m                       Traceback (most recent call last)",
      "Cell \u001b[0;32mIn[31], line 2\u001b[0m\n\u001b[1;32m      1\u001b[0m \u001b[38;5;28;01mimport\u001b[39;00m \u001b[38;5;21;01mmatplotlib\u001b[39;00m\u001b[38;5;21;01m.\u001b[39;00m\u001b[38;5;21;01mpyplot\u001b[39;00m \u001b[38;5;28;01mas\u001b[39;00m \u001b[38;5;21;01mplt\u001b[39;00m\n\u001b[0;32m----> 2\u001b[0m \u001b[38;5;28;01mimport\u001b[39;00m \u001b[38;5;21;01mseaborn\u001b[39;00m \u001b[38;5;28;01mas\u001b[39;00m \u001b[38;5;21;01msns\u001b[39;00m\n\u001b[1;32m      4\u001b[0m \u001b[38;5;66;03m# Example visualization Clusters of SALES_UNITS VS SALES_VALUE\u001b[39;00m\n\u001b[1;32m      5\u001b[0m sns\u001b[38;5;241m.\u001b[39mscatterplot(x\u001b[38;5;241m=\u001b[39m\u001b[38;5;124m'\u001b[39m\u001b[38;5;124mSALES_UNITS\u001b[39m\u001b[38;5;124m'\u001b[39m, y\u001b[38;5;241m=\u001b[39m\u001b[38;5;124m'\u001b[39m\u001b[38;5;124mFREQUENCY\u001b[39m\u001b[38;5;124m'\u001b[39m, hue\u001b[38;5;241m=\u001b[39m\u001b[38;5;124m'\u001b[39m\u001b[38;5;124mCLUSTER\u001b[39m\u001b[38;5;124m'\u001b[39m, data\u001b[38;5;241m=\u001b[39maggregated_df)\n",
      "\u001b[0;31mModuleNotFoundError\u001b[0m: No module named 'seaborn'"
     ]
    }
   ],
   "source": [
    "import matplotlib.pyplot as plt\n",
    "import seaborn as sns\n",
    "\n",
    "# Example visualization Clusters of SALES_UNITS VS SALES_VALUE\n",
    "sns.scatterplot(x='SALES_UNITS', y='FREQUENCY', hue='CLUSTER', data=aggregated_df)\n",
    "plt.title('Clusters of OUTLET_CODE')\n",
    "plt.show()"
   ]
  },
  {
   "cell_type": "code",
   "execution_count": null,
   "id": "cb0123a7-9b2d-4d99-81cb-8799ef67c454",
   "metadata": {},
   "outputs": [],
   "source": [
    "df_sorted.head()"
   ]
  },
  {
   "cell_type": "code",
   "execution_count": null,
   "id": "484e0378-8f89-4c17-8766-277bc94cfeef",
   "metadata": {},
   "outputs": [],
   "source": [
    "df_sorted=df_sorted.merge(aggregated_df[['OUTLET_CODE', 'CLUSTER']], on='OUTLET_CODE', how='left')"
   ]
  },
  {
   "cell_type": "code",
   "execution_count": null,
   "id": "a3071200-ed38-4439-ace1-b3ced92c703c",
   "metadata": {},
   "outputs": [],
   "source": [
    "df_sorted.to_csv('HistoricalSales_with_cluster.csv', index=False)"
   ]
  },
  {
   "cell_type": "code",
   "execution_count": null,
   "id": "c33d379e-2e13-4f3f-8d32-74c5bfcc504f",
   "metadata": {},
   "outputs": [],
   "source": [
    "unique_product_codes = df['PRODUCT_CODE'].unique()\n",
    "df_unique_product_codes = pd.DataFrame(unique_product_codes, columns=['PRODUCT_CODE'])\n",
    "\n",
    "unique_outlet_codes = df['OUTLET_CODE'].unique()\n",
    "df_unique_outlet_codes = pd.DataFrame(unique_outlet_codes, columns=['OUTLET_CODE'])\n",
    "\n",
    "df_all_combinations = df_unique_product_codes.merge(df_unique_outlet_codes, how='cross')\n",
    "\n",
    "current_selling = df_sorted[['PRODUCT_CODE', 'OUTLET_CODE']].drop_duplicates()"
   ]
  },
  {
   "cell_type": "code",
   "execution_count": null,
   "id": "0756634d-553a-481e-942d-471d36ac4224",
   "metadata": {},
   "outputs": [],
   "source": [
    "# Assuming df_all_combinations and unique_combinations are your DataFrames\n",
    "# Merge the DataFrames with an indicator\n",
    "merged_df = df_combinations.merge(current_selling, on=['PRODUCT_CODE', 'OUTLET_CODE'], how='left', indicator=True)\n",
    "\n",
    "# Filter the rows that are present in df_combinations but not in unique_combinations\n",
    "diff_df = merged_df[merged_df['_merge'] == 'left_only'].drop(columns=['_merge'])\n"
   ]
  },
  {
   "cell_type": "code",
   "execution_count": null,
   "id": "28c31e6f-daa2-4caa-b076-e159a4ca19ae",
   "metadata": {},
   "outputs": [],
   "source": [
    "diff_df.info()"
   ]
  },
  {
   "cell_type": "code",
   "execution_count": null,
   "id": "a4bf36af-eaff-46a4-85d7-bd8cb09d341b",
   "metadata": {},
   "outputs": [],
   "source": [
    "diff_df=diff_df.merge(aggregated_df[['OUTLET_CODE', 'CLUSTER']], on='OUTLET_CODE', how='left')"
   ]
  },
  {
   "cell_type": "code",
   "execution_count": null,
   "id": "5a5df2d9-bbe1-4987-987e-4dab6b870a0f",
   "metadata": {},
   "outputs": [],
   "source": [
    "diff_df.to_csv('Not_selling.csv', index=False)"
   ]
  }
 ],
 "metadata": {
  "kernelspec": {
   "display_name": "Python 3 (ipykernel)",
   "language": "python",
   "name": "python3"
  },
  "language_info": {
   "codemirror_mode": {
    "name": "ipython",
    "version": 3
   },
   "file_extension": ".py",
   "mimetype": "text/x-python",
   "name": "python",
   "nbconvert_exporter": "python",
   "pygments_lexer": "ipython3",
   "version": "3.9.19"
  }
 },
 "nbformat": 4,
 "nbformat_minor": 5
}
