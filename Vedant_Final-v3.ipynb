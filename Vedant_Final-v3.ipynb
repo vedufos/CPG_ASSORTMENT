{
 "cells": [
  {
   "cell_type": "code",
   "execution_count": null,
   "id": "04a2bb45-e268-411a-974b-6f058e9f3f01",
   "metadata": {},
   "outputs": [
    {
     "name": "stdout",
     "output_type": "stream",
     "text": [
      "Collecting darts\n",
      "\u001b[?25l  Downloading https://files.pythonhosted.org/packages/e9/d5/6e6ac9ecb5205c5080ba7456b0a102e45541a80051f0ad95ff4d4f4b8630/darts-0.30.0-py3-none-any.whl (917kB)\n",
      "\u001b[K     |████████████████████████████████| 921kB 6.5MB/s eta 0:00:01\n",
      "\u001b[?25hCollecting joblib>=0.16.0\n",
      "\u001b[?25l  Downloading https://files.pythonhosted.org/packages/91/29/df4b9b42f2be0b623cbd5e2140cafcaa2bef0759a00b7b70104dcfe2fb51/joblib-1.4.2-py3-none-any.whl (301kB)\n",
      "\u001b[K     |████████████████████████████████| 307kB 20.1MB/s eta 0:00:01\n",
      "\u001b[?25hRequirement already satisfied: typing-extensions in /opt/conda/lib/python3.9/site-packages (from darts) (4.12.2)\n",
      "Collecting torch>=1.8.0\n",
      "\u001b[?25l  Downloading https://files.pythonhosted.org/packages/14/d6/caa3ccde685a3bfedeed1454d82b2eb520e611d1b36bf748f54475de333f/torch-2.4.1-cp39-cp39-manylinux1_x86_64.whl (797.1MB)\n",
      "\u001b[K     |███████████████                 | 375.1MB 119.5MB/s eta 0:00:04    |██████████▏                     | 254.2MB 143.5MB/s eta 0:00:04"
     ]
    },
    {
     "name": "stderr",
     "output_type": "stream",
     "text": [
      "IOPub data rate exceeded.\n",
      "The Jupyter server will temporarily stop sending output\n",
      "to the client in order to avoid crashing it.\n",
      "To change this limit, set the config variable\n",
      "`--ServerApp.iopub_data_rate_limit`.\n",
      "\n",
      "Current values:\n",
      "ServerApp.iopub_data_rate_limit=1000000.0 (bytes/sec)\n",
      "ServerApp.rate_limit_window=3.0 (secs)\n",
      "\n"
     ]
    },
    {
     "name": "stdout",
     "output_type": "stream",
     "text": [
      "\u001b[K     |███████████████████████████     | 671.1MB 420kB/s eta 0:05:0002�████████▋           | 514.5MB 114.4MB/s eta 0:00:03"
     ]
    },
    {
     "name": "stderr",
     "output_type": "stream",
     "text": [
      "IOPub data rate exceeded.\n",
      "The Jupyter server will temporarily stop sending output\n",
      "to the client in order to avoid crashing it.\n",
      "To change this limit, set the config variable\n",
      "`--ServerApp.iopub_data_rate_limit`.\n",
      "\n",
      "Current values:\n",
      "ServerApp.iopub_data_rate_limit=1000000.0 (bytes/sec)\n",
      "ServerApp.rate_limit_window=3.0 (secs)\n",
      "\n"
     ]
    },
    {
     "name": "stdout",
     "output_type": "stream",
     "text": [
      "\u001b[K     |████████████████████████████████| 797.1MB 15kB/s /s eta 0:00:01\n",
      "\u001b[?25hCollecting statsforecast>=1.4\n",
      "\u001b[?25l  Downloading https://files.pythonhosted.org/packages/ee/bf/95e92580072ed8cc0998beac933425c9dc78faf0f0998686cf8303e3e24d/statsforecast-1.7.8-cp39-cp39-manylinux_2_17_x86_64.manylinux2014_x86_64.whl (314kB)\n",
      "\u001b[K     |████████████████████████████████| 317kB 82.8MB/s eta 0:00:01\n",
      "\u001b[?25hCollecting scikit-learn>=1.0.1\n",
      "\u001b[?25l  Downloading https://files.pythonhosted.org/packages/2a/9d/d332ec76e2cc442fce98bc43a44e69d3c281e6b4ede6b6db2616dc6fbec6/scikit_learn-1.5.2-cp39-cp39-manylinux_2_17_x86_64.manylinux2014_x86_64.whl (13.4MB)\n",
      "\u001b[K     |████████████████████████████████| 13.4MB 111.3MB/s eta 0:00:01\n",
      "\u001b[?25hCollecting scipy>=1.3.2\n",
      "\u001b[?25l  Downloading https://files.pythonhosted.org/packages/35/f5/d0ad1a96f80962ba65e2ce1de6a1e59edecd1f0a7b55990ed208848012e0/scipy-1.13.1-cp39-cp39-manylinux_2_17_x86_64.manylinux2014_x86_64.whl (38.6MB)\n",
      "\u001b[K     |████████████████████████████████| 38.6MB 229kB/s  eta 0:00:01\n",
      "\u001b[?25hRequirement already satisfied: tqdm>=4.60.0 in /opt/conda/lib/python3.9/site-packages (from darts) (4.66.4)\n",
      "Collecting holidays>=0.11.1\n",
      "\u001b[?25l  Downloading https://files.pythonhosted.org/packages/20/37/730e4577a6e4eedf04a2948ccc0880b2931281ce8451d76dc47aad13f726/holidays-0.57-py3-none-any.whl (1.1MB)\n",
      "\u001b[K     |████████████████████████████████| 1.1MB 96.0MB/s eta 0:00:01\n",
      "\u001b[?25hCollecting tbats>=1.1.0\n",
      "\u001b[?25l  Downloading https://files.pythonhosted.org/packages/63/94/1949dc644c3fa05b736b988dc8058122f8c0187778ff9f18070bce2d4ddd/tbats-1.1.3-py3-none-any.whl (44kB)\n",
      "\u001b[K     |████████████████████████████████| 51kB 1.1MB/s  eta 0:00:01\n",
      "\u001b[?25hCollecting shap>=0.40.0\n",
      "\u001b[?25l  Downloading https://files.pythonhosted.org/packages/c6/53/17cd5c57123f67b03c02d7a86ac5b9af76395f9e85e2e22960b259b2531a/shap-0.46.0-cp39-cp39-manylinux_2_12_x86_64.manylinux2010_x86_64.manylinux_2_17_x86_64.manylinux2014_x86_64.whl (539kB)\n",
      "\u001b[K     |████████████████████████████████| 542kB 96.7MB/s eta 0:00:01\n",
      "\u001b[?25hCollecting nfoursid>=1.0.0\n",
      "  Downloading https://files.pythonhosted.org/packages/0a/92/dda081df8d207b72e419ef5dbd6a861041ceabdc609557249f334555a619/nfoursid-1.0.1-py3-none-any.whl\n",
      "Requirement already satisfied: pandas>=1.0.5; python_version >= \"3.9\" in /opt/conda/lib/python3.9/site-packages (from darts) (2.2.2)\n",
      "Requirement already satisfied: numpy<2.0.0,>=1.19.0 in /opt/conda/lib/python3.9/site-packages (from darts) (1.26.4)\n",
      "Collecting xarray>=0.17.0\n",
      "\u001b[?25l  Downloading https://files.pythonhosted.org/packages/45/95/233e1f9c939f5ba314297315df709e6a5e823bf3cade7211991b15aa65d2/xarray-2024.7.0-py3-none-any.whl (1.2MB)\n",
      "\u001b[K     |████████████████████████████████| 1.2MB 65.0MB/s eta 0:00:01\n",
      "\u001b[?25hCollecting statsmodels>=0.14.0\n",
      "\u001b[?25l  Downloading https://files.pythonhosted.org/packages/68/8b/c640e4a243b59fc75e566ff3509ae55fb6cd4535643494be834c7d69c25d/statsmodels-0.14.4-cp39-cp39-manylinux_2_17_x86_64.manylinux2014_x86_64.whl (10.8MB)\n",
      "\u001b[K     |████████████████████████████████| 10.8MB 66.3MB/s eta 0:00:01\n",
      "\u001b[?25hCollecting matplotlib>=3.3.0\n",
      "\u001b[?25l  Downloading https://files.pythonhosted.org/packages/5a/20/f56d5b88450593ccde3f283e338f3f976b2e479bddd9a147f14f66ee1ca7/matplotlib-3.9.2-cp39-cp39-manylinux_2_17_x86_64.manylinux2014_x86_64.whl (8.3MB)\n",
      "\u001b[K     |████████████████████████████████| 8.3MB 85.7MB/s eta 0:00:01\n",
      "\u001b[?25hCollecting pyod>=0.9.5\n",
      "\u001b[?25l  Downloading https://files.pythonhosted.org/packages/ef/86/80ff0719a4a24e84e1e6bfc0149c21e40fc9dc061f0c476e169a7b4eea15/pyod-2.0.2.tar.gz (165kB)\n",
      "\u001b[K     |████████████████████████████████| 174kB 79.0MB/s eta 0:00:01\n",
      "\u001b[?25hCollecting pytorch-lightning>=1.5.0\n",
      "\u001b[?25l  Downloading https://files.pythonhosted.org/packages/2b/d2/ecd65ff1e0b1ca79f9785dd65d5ced7ec2643a828068aaa24e47e4c84a14/pytorch_lightning-2.4.0-py3-none-any.whl (815kB)\n",
      "\u001b[K     |████████████████████████████████| 819kB 97.3MB/s eta 0:00:01\n",
      "\u001b[?25hRequirement already satisfied: requests>=2.22.0 in /opt/conda/lib/python3.9/site-packages (from darts) (2.32.3)\n",
      "Collecting pmdarima>=1.8.0\n",
      "\u001b[?25l  Downloading https://files.pythonhosted.org/packages/a2/14/cd7417d90312ad6de4e5bb48d98f0b89e77bb427f5b80495074ab25cd13b/pmdarima-2.0.4-cp39-cp39-manylinux_2_17_x86_64.manylinux2014_x86_64.manylinux_2_28_x86_64.whl (2.1MB)\n",
      "\u001b[K     |████████████████████████████████| 2.1MB 89.2MB/s eta 0:00:01\n",
      "\u001b[?25hCollecting xgboost>=1.6.0\n",
      "\u001b[?25l  Downloading https://files.pythonhosted.org/packages/ac/91/fdbd611bfa9a2c91001ccbbc32b3717d370551a98d083fd0a0bbfcb4b537/xgboost-2.1.1-py3-none-manylinux2014_x86_64.whl (4.5MB)\n",
      "\u001b[K     |████████████████████████████████| 4.5MB 69.0MB/s eta 0:00:01\n",
      "\u001b[?25hCollecting tensorboardX>=2.1\n",
      "\u001b[?25l  Downloading https://files.pythonhosted.org/packages/44/71/f3e7c9b2ab67e28c572ab4e9d5fa3499e0d252650f96d8a3a03e26677f53/tensorboardX-2.6.2.2-py2.py3-none-any.whl (101kB)\n",
      "\u001b[K     |████████████████████████████████| 102kB 1.7MB/s eta 0:00:01\n",
      "\u001b[?25hCollecting nvidia-cusolver-cu12==11.4.5.107; platform_system == \"Linux\" and platform_machine == \"x86_64\"\n",
      "\u001b[?25l  Downloading https://files.pythonhosted.org/packages/bc/1d/8de1e5c67099015c834315e333911273a8c6aaba78923dd1d1e25fc5f217/nvidia_cusolver_cu12-11.4.5.107-py3-none-manylinux1_x86_64.whl (124.2MB)\n",
      "\u001b[K     |████████████████████████████████| 124.2MB 137kB/s s eta 0:00:01\n",
      "\u001b[?25hCollecting nvidia-nccl-cu12==2.20.5; platform_system == \"Linux\" and platform_machine == \"x86_64\"\n",
      "\u001b[?25l  Downloading https://files.pythonhosted.org/packages/4b/2a/0a131f572aa09f741c30ccd45a8e56316e8be8dfc7bc19bf0ab7cfef7b19/nvidia_nccl_cu12-2.20.5-py3-none-manylinux2014_x86_64.whl (176.2MB)\n",
      "\u001b[K     |████████████████████████████████| 176.3MB 103kB/s s eta 0:00:01\n",
      "\u001b[?25hCollecting sympy\n",
      "\u001b[?25l  Downloading https://files.pythonhosted.org/packages/99/ff/c87e0622b1dadea79d2fb0b25ade9ed98954c9033722eb707053d310d4f3/sympy-1.13.3-py3-none-any.whl (6.2MB)\n",
      "\u001b[K     |████████████████████████████████| 6.2MB 99.9MB/s eta 0:00:01\n",
      "\u001b[?25hCollecting nvidia-cudnn-cu12==9.1.0.70; platform_system == \"Linux\" and platform_machine == \"x86_64\"\n",
      "\u001b[?25l  Downloading https://files.pythonhosted.org/packages/9f/fd/713452cd72343f682b1c7b9321e23829f00b842ceaedcda96e742ea0b0b3/nvidia_cudnn_cu12-9.1.0.70-py3-none-manylinux2014_x86_64.whl (664.8MB)\n",
      "\u001b[K     |█████████████████████           | 434.9MB 150.4MB/s eta 0:00:02    |███████████████▌                | 321.5MB 114.0MB/s eta 0:00:04"
     ]
    },
    {
     "name": "stderr",
     "output_type": "stream",
     "text": [
      "IOPub data rate exceeded.\n",
      "The Jupyter server will temporarily stop sending output\n",
      "to the client in order to avoid crashing it.\n",
      "To change this limit, set the config variable\n",
      "`--ServerApp.iopub_data_rate_limit`.\n",
      "\n",
      "Current values:\n",
      "ServerApp.iopub_data_rate_limit=1000000.0 (bytes/sec)\n",
      "ServerApp.rate_limit_window=3.0 (secs)\n",
      "\n"
     ]
    },
    {
     "name": "stdout",
     "output_type": "stream",
     "text": [
      "\u001b[K     |████████████████████████████████| 664.8MB 15kB/s /s eta 0:00:01\n",
      "\u001b[?25hRequirement already satisfied: jinja2 in /opt/conda/lib/python3.9/site-packages (from torch>=1.8.0->darts) (3.1.4)\n",
      "Collecting nvidia-cuda-nvrtc-cu12==12.1.105; platform_system == \"Linux\" and platform_machine == \"x86_64\"\n",
      "\u001b[?25l  Downloading https://files.pythonhosted.org/packages/b6/9f/c64c03f49d6fbc56196664d05dba14e3a561038a81a638eeb47f4d4cfd48/nvidia_cuda_nvrtc_cu12-12.1.105-py3-none-manylinux1_x86_64.whl (23.7MB)\n",
      "\u001b[K     |████████████████████████████████| 23.7MB 95.2MB/s eta 0:00:01\n",
      "\u001b[?25hCollecting nvidia-cuda-cupti-cu12==12.1.105; platform_system == \"Linux\" and platform_machine == \"x86_64\"\n",
      "\u001b[?25l  Downloading https://files.pythonhosted.org/packages/7e/00/6b218edd739ecfc60524e585ba8e6b00554dd908de2c9c66c1af3e44e18d/nvidia_cuda_cupti_cu12-12.1.105-py3-none-manylinux1_x86_64.whl (14.1MB)\n",
      "\u001b[K     |████████████████████████████████| 14.1MB 48.7MB/s eta 0:00:01\n",
      "\u001b[?25hCollecting nvidia-curand-cu12==10.3.2.106; platform_system == \"Linux\" and platform_machine == \"x86_64\"\n",
      "\u001b[?25l  Downloading https://files.pythonhosted.org/packages/44/31/4890b1c9abc496303412947fc7dcea3d14861720642b49e8ceed89636705/nvidia_curand_cu12-10.3.2.106-py3-none-manylinux1_x86_64.whl (56.5MB)\n",
      "\u001b[K     |████████████████████████████████| 56.5MB 82.9MB/s eta 0:00:01\n",
      "\u001b[?25hCollecting nvidia-cusparse-cu12==12.1.0.106; platform_system == \"Linux\" and platform_machine == \"x86_64\"\n",
      "\u001b[?25l  Downloading https://files.pythonhosted.org/packages/65/5b/cfaeebf25cd9fdec14338ccb16f6b2c4c7fa9163aefcf057d86b9cc248bb/nvidia_cusparse_cu12-12.1.0.106-py3-none-manylinux1_x86_64.whl (196.0MB)\n",
      "\u001b[K     |████████████████████████████████| 196.0MB 75kB/s s eta 0:00:010:01\n",
      "\u001b[?25hCollecting triton==3.0.0; platform_system == \"Linux\" and platform_machine == \"x86_64\" and python_version < \"3.13\"\n",
      "\u001b[?25l  Downloading https://files.pythonhosted.org/packages/6c/bf/55cccf57c14787ad81ee827526ddd48fd0aff0291fcc7b8c2e2bdf28da0a/triton-3.0.0-1-cp39-cp39-manylinux2014_x86_64.manylinux_2_17_x86_64.whl (209.4MB)\n",
      "\u001b[K     |████████████████████████████████| 209.4MB 36kB/s  eta 0:00:0101\n",
      "\u001b[?25hCollecting nvidia-cuda-runtime-cu12==12.1.105; platform_system == \"Linux\" and platform_machine == \"x86_64\"\n",
      "\u001b[?25l  Downloading https://files.pythonhosted.org/packages/eb/d5/c68b1d2cdfcc59e72e8a5949a37ddb22ae6cade80cd4a57a84d4c8b55472/nvidia_cuda_runtime_cu12-12.1.105-py3-none-manylinux1_x86_64.whl (823kB)\n",
      "\u001b[K     |████████████████████████████████| 829kB 82.4MB/s eta 0:00:01\n",
      "\u001b[?25hCollecting nvidia-cublas-cu12==12.1.3.1; platform_system == \"Linux\" and platform_machine == \"x86_64\"\n",
      "\u001b[?25l  Downloading https://files.pythonhosted.org/packages/37/6d/121efd7382d5b0284239f4ab1fc1590d86d34ed4a4a2fdb13b30ca8e5740/nvidia_cublas_cu12-12.1.3.1-py3-none-manylinux1_x86_64.whl (410.6MB)\n",
      "\u001b[K     |████████████████████████████████| 410.6MB 32kB/s  eta 0:00:0101     |███████████▋                    | 149.6MB 125.3MB/s eta 0:00:03 207.5MB 139.6MB/s eta 0:00:02��██████████████████▋            | 252.2MB 111.3MB/s eta 0:00:02\n"
     ]
    }
   ],
   "source": [
    "pip install darts"
   ]
  },
  {
   "cell_type": "code",
   "execution_count": null,
   "id": "ab0853be-dbf3-47be-813b-6135afb2242d",
   "metadata": {},
   "outputs": [],
   "source": [
    "import fosforml\n",
    "from fosforml.model_manager.snowflakesession import get_session\n",
    "my_session = get_session()"
   ]
  },
  {
   "cell_type": "code",
   "execution_count": null,
   "id": "bd3a63fc-a09e-4077-bbfa-e29c8c8d3c2b",
   "metadata": {},
   "outputs": [],
   "source": [
    "my_session.connection.database"
   ]
  },
  {
   "cell_type": "code",
   "execution_count": null,
   "id": "516f24b8-afc5-462f-b968-f7b0f5c87662",
   "metadata": {},
   "outputs": [],
   "source": [
    "my_session.connection.schema"
   ]
  },
  {
   "cell_type": "code",
   "execution_count": null,
   "id": "e9588a76-31eb-4957-8906-f1c1e0fb32c0",
   "metadata": {},
   "outputs": [],
   "source": [
    "table_name = \"ASSORTMENT_PLANNING.CPG_BRONZE.SALES_CLEAN\""
   ]
  },
  {
   "cell_type": "code",
   "execution_count": null,
   "id": "2559db41-e91e-487e-a8d2-4b98d75f515a",
   "metadata": {},
   "outputs": [],
   "source": [
    "sf_df = my_session.sql(\"select * from {}\".format(table_name))\n",
    "type(sf_df)\n",
    "df=sf_df.to_pandas()\n",
    "type(df)"
   ]
  },
  {
   "cell_type": "code",
   "execution_count": null,
   "id": "acdea69c-6151-41e3-a6ce-bd945c1845eb",
   "metadata": {},
   "outputs": [],
   "source": [
    "df.head(5)"
   ]
  },
  {
   "cell_type": "code",
   "execution_count": null,
   "id": "4b9be009-97f3-4201-8eba-6fd90343674c",
   "metadata": {},
   "outputs": [],
   "source": [
    "df.info()"
   ]
  },
  {
   "cell_type": "markdown",
   "id": "7dc7ab0e-cc1a-4df5-8280-d4379e539004",
   "metadata": {},
   "source": [
    "## Generate Additional Features"
   ]
  },
  {
   "cell_type": "code",
   "execution_count": null,
   "id": "cb8b3091-1ab8-4a09-b94e-10151d0fd4d0",
   "metadata": {},
   "outputs": [],
   "source": [
    "import pandas as pd\n",
    "\n",
    "def generate_features(df):\n",
    "    # Ensure the TRANS_DATE column is in datetime format\n",
    "    df['TRANS_DATE'] = pd.to_datetime(df['TRANS_DATE'])\n",
    "    \n",
    "    # Extract temporal features\n",
    "    df['year'] = df['TRANS_DATE'].dt.year\n",
    "    df['month'] = df['TRANS_DATE'].dt.month\n",
    "    df['day'] = df['TRANS_DATE'].dt.day\n",
    "    df['dayofweek'] = df['TRANS_DATE'].dt.dayofweek\n",
    "    df['quarter'] = df['TRANS_DATE'].dt.quarter\n",
    "    df['is_month_start'] = df['TRANS_DATE'].dt.is_month_start\n",
    "    df['is_month_end'] = df['TRANS_DATE'].dt.is_month_end\n",
    "    \n",
    "    # Create UNIT_PTR feature\n",
    "    df['UNIT_PTR'] = df['SALES_PTR_VALUE'] / df['SALES_UNITS']\n",
    "    \n",
    "    return df"
   ]
  },
  {
   "cell_type": "code",
   "execution_count": null,
   "id": "bbf4e968-e977-4f99-9c7d-b618e3c81e4e",
   "metadata": {},
   "outputs": [],
   "source": [
    "df = generate_features(df)"
   ]
  },
  {
   "cell_type": "code",
   "execution_count": null,
   "id": "74149cd1-4f7c-4712-97b7-0ffcec68e9eb",
   "metadata": {},
   "outputs": [],
   "source": [
    "df['PRODUCT_CODE'].nunique()"
   ]
  },
  {
   "cell_type": "code",
   "execution_count": null,
   "id": "bc091166-a0bf-4972-be8a-06acaa49b415",
   "metadata": {},
   "outputs": [],
   "source": [
    "df = df.sort_values(by='TRANS_DATE')"
   ]
  },
  {
   "cell_type": "code",
   "execution_count": null,
   "id": "4c79dba7-1dc1-476b-840e-b0d01f25e2f8",
   "metadata": {},
   "outputs": [],
   "source": [
    "# Convert all column names to uppercase\n",
    "df.columns = [col.upper() for col in df.columns]"
   ]
  },
  {
   "cell_type": "code",
   "execution_count": null,
   "id": "584f890e-1e2b-4956-bf8e-61154950da74",
   "metadata": {},
   "outputs": [],
   "source": [
    "df.info()"
   ]
  },
  {
   "cell_type": "code",
   "execution_count": null,
   "id": "80144ea0-2260-4a64-867e-3c1116118a64",
   "metadata": {},
   "outputs": [],
   "source": [
    "df_sorted = df.sort_values(by=['OUTLET_CODE', 'PRODUCT_CODE', 'TRANS_DATE'])"
   ]
  },
  {
   "cell_type": "code",
   "execution_count": null,
   "id": "7dc89dc5-2911-41bc-abc6-9bfb30815ff6",
   "metadata": {},
   "outputs": [],
   "source": [
    "pd.set_option('display.max_columns', None)"
   ]
  },
  {
   "cell_type": "code",
   "execution_count": null,
   "id": "e1785231-0520-43de-9362-20743b96d2b3",
   "metadata": {},
   "outputs": [],
   "source": [
    "# List of columns in the desired order\n",
    "columns_order = ['OUTLET_CODE', 'PRODUCT_CODE', 'TRANS_DATE', 'UNIT_PTR'] + [col for col in df_sorted.columns if col not in ['OUTLET_CODE', 'PRODUCT_CODE']]\n",
    "\n",
    "# Reorder the DataFrame columns\n",
    "df_sorted = df_sorted[columns_order]"
   ]
  },
  {
   "cell_type": "code",
   "execution_count": null,
   "id": "8bb8f698-9816-4284-b5e8-241f6dafa3c2",
   "metadata": {},
   "outputs": [],
   "source": [
    "df_sorted['FREQUENCY'] = df_sorted.groupby(['OUTLET_CODE', 'PRODUCT_CODE']).cumcount() + 1"
   ]
  },
  {
   "cell_type": "code",
   "execution_count": null,
   "id": "2a858e9d-db57-4ac7-a22c-76cefacafaef",
   "metadata": {},
   "outputs": [],
   "source": [
    "df_sorted.head()"
   ]
  },
  {
   "cell_type": "markdown",
   "id": "4e88a6e3-4333-485c-8cf8-2dec775ec590",
   "metadata": {},
   "source": [
    "Split the dataset into test and train"
   ]
  },
  {
   "cell_type": "markdown",
   "id": "e1d560d1-1eee-4527-b73a-95adbe1b1030",
   "metadata": {},
   "source": [
    "K means clustering of OUTLET_CODES"
   ]
  },
  {
   "cell_type": "code",
   "execution_count": null,
   "id": "c0a49ff5-424e-4d87-bff7-505540b2e7bd",
   "metadata": {},
   "outputs": [],
   "source": [
    "import pandas as pd\n",
    "from sklearn.preprocessing import LabelEncoder\n",
    "\n",
    "def label_encode_dataframe(df, columns_to_encode):\n",
    "    # Initialize the label encoder\n",
    "    label_encoder = LabelEncoder()\n",
    "    \n",
    "    # Apply label encoding to each column\n",
    "    for column in columns_to_encode:\n",
    "        df[column + '_encoded'] = label_encoder.fit_transform(df[column])\n",
    "    \n",
    "    # Convert all column names to uppercase and replace spaces with underscores\n",
    "    df.columns = df.columns.str.upper().str.replace(' ', '_')\n",
    "    \n",
    "    return df"
   ]
  },
  {
   "cell_type": "code",
   "execution_count": null,
   "id": "3dda46ec-0a49-4fae-a746-f59cfc759241",
   "metadata": {},
   "outputs": [],
   "source": [
    "columns_to_encode = ['PRODUCT_CODE', 'CATEGORY', 'SUBCATEGORY', 'BRAND']\n",
    "df_sorted = label_encode_dataframe(df_sorted, columns_to_encode)"
   ]
  },
  {
   "cell_type": "code",
   "execution_count": null,
   "id": "d76ca595-2f65-4b51-ade5-11a9120c6112",
   "metadata": {},
   "outputs": [],
   "source": [
    "df_sorted.info()"
   ]
  },
  {
   "cell_type": "code",
   "execution_count": null,
   "id": "09343758-98d9-4be5-85fb-552b4ea3681b",
   "metadata": {},
   "outputs": [],
   "source": [
    "df_sorted = df_sorted.loc[:, ~df_sorted.columns.duplicated()]"
   ]
  },
  {
   "cell_type": "code",
   "execution_count": null,
   "id": "e776c0fe-ec87-4c7e-8873-3564a4651910",
   "metadata": {},
   "outputs": [],
   "source": [
    "# Aggregation dictionary\n",
    "aggregation_dict = {\n",
    "    'SALES_UNITS': 'mean',\n",
    "    'UNIT_PTR': 'mean',\n",
    "    'FREQUENCY': 'count',\n",
    "    'PRODUCT_CODE_ENCODED': 'mean'\n",
    "}\n",
    "\n",
    "# Aggregate data by OUTLET_CODE\n",
    "aggregated_df = df_sorted.groupby('OUTLET_CODE').agg(aggregation_dict).reset_index()"
   ]
  },
  {
   "cell_type": "code",
   "execution_count": null,
   "id": "1b32de37-b545-4731-b1a4-fd93c26206cf",
   "metadata": {},
   "outputs": [],
   "source": [
    "# Select features for clustering\n",
    "features = ['SALES_UNITS', 'UNIT_PTR', 'FREQUENCY', 'PRODUCT_CODE_ENCODED']"
   ]
  },
  {
   "cell_type": "code",
   "execution_count": null,
   "id": "79aa312b-e2a2-47e1-ba29-8bb40f00a903",
   "metadata": {},
   "outputs": [],
   "source": [
    "from sklearn.preprocessing import StandardScaler\n",
    "from sklearn.compose import ColumnTransformer\n",
    "from sklearn.pipeline import Pipeline\n",
    "from sklearn.cluster import KMeans\n",
    "from sklearn.metrics import silhouette_score\n",
    "import matplotlib.pyplot as plt\n",
    "\n",
    "# Define preprocessing steps\n",
    "preprocessor = ColumnTransformer(\n",
    "    transformers=[\n",
    "        ('num', StandardScaler(), ['SALES_UNITS', 'UNIT_PTR', 'FREQUENCY', 'PRODUCT_CODE_ENCODED']),\n",
    "        # No need to preprocess category columns as they are already one-hot encoded\n",
    "    ],\n",
    "    remainder='passthrough'  # Keep the one-hot encoded columns as they are\n",
    ")"
   ]
  },
  {
   "cell_type": "code",
   "execution_count": null,
   "id": "cfe8e4c3-7f77-44b9-91fa-6380bc5bb461",
   "metadata": {},
   "outputs": [],
   "source": [
    "df_sorted_preprocessed = preprocessor.fit_transform(aggregated_df[features])"
   ]
  },
  {
   "cell_type": "code",
   "execution_count": null,
   "id": "fd26bd58-2c07-4993-9b96-0e9a68326f0a",
   "metadata": {},
   "outputs": [],
   "source": [
    "# Calculate silhouette scores for different numbers of clusters\n",
    "silhouette_scores = []\n",
    "k_range = range(2, 11)  # Silhouette score is not defined for k=1\n",
    "for k in k_range:\n",
    "    kmeans = KMeans(n_clusters=k, random_state=42)\n",
    "    cluster_labels = kmeans.fit_predict(df_sorted_preprocessed)\n",
    "    silhouette_avg = silhouette_score(df_sorted_preprocessed, cluster_labels)\n",
    "    silhouette_scores.append(silhouette_avg)\n",
    "\n",
    "# Plot the silhouette scores\n",
    "plt.figure(figsize=(10, 6))\n",
    "plt.plot(k_range, silhouette_scores, marker='o')\n",
    "plt.xlabel('Number of clusters')\n",
    "plt.ylabel('Silhouette Score')\n",
    "plt.title('Silhouette Score For Optimal k')\n",
    "plt.show()"
   ]
  },
  {
   "cell_type": "code",
   "execution_count": null,
   "id": "7ee29378-bc26-485f-beaa-8ac071228a64",
   "metadata": {},
   "outputs": [],
   "source": [
    "# Apply K-Means clustering with the chosen number of clusters \n",
    "optimal_k = k_range[silhouette_scores.index(max(silhouette_scores))]  # Choose the k with the highest silhouette score\n",
    "kmeans = KMeans(n_clusters=optimal_k, random_state=42)\n",
    "aggregated_df['CLUSTER'] = kmeans.fit_predict(df_sorted_preprocessed)\n",
    "\n",
    "# Display the first few rows to verify\n",
    "print(aggregated_df.tail())"
   ]
  },
  {
   "cell_type": "code",
   "execution_count": null,
   "id": "f09811ca-f9b4-4a2d-b8ab-924dd44adedb",
   "metadata": {},
   "outputs": [],
   "source": [
    "aggregated_df.to_csv('outlet_to_cluster_mapping.csv', index=False)"
   ]
  },
  {
   "cell_type": "code",
   "execution_count": null,
   "id": "4388b1d6-b4ad-4a41-a904-770ffac1d707",
   "metadata": {},
   "outputs": [],
   "source": [
    "import matplotlib.pyplot as plt\n",
    "import seaborn as sns\n",
    "\n",
    "# Example visualization Clusters of SALES_UNITS VS SALES_VALUE\n",
    "sns.scatterplot(x='SALES_UNITS', y='FREQUENCY', hue='CLUSTER', data=aggregated_df)\n",
    "plt.title('Clusters of OUTLET_CODE')\n",
    "plt.show()"
   ]
  },
  {
   "cell_type": "code",
   "execution_count": null,
   "id": "cb0123a7-9b2d-4d99-81cb-8799ef67c454",
   "metadata": {},
   "outputs": [],
   "source": [
    "df_sorted.head()"
   ]
  },
  {
   "cell_type": "code",
   "execution_count": null,
   "id": "484e0378-8f89-4c17-8766-277bc94cfeef",
   "metadata": {},
   "outputs": [],
   "source": [
    "df_sorted=df_sorted.merge(aggregated_df[['OUTLET_CODE', 'CLUSTER']], on='OUTLET_CODE', how='left')"
   ]
  },
  {
   "cell_type": "code",
   "execution_count": null,
   "id": "a3071200-ed38-4439-ace1-b3ced92c703c",
   "metadata": {},
   "outputs": [],
   "source": [
    "df_sorted.to_csv('HistoricalSales_with_cluster.csv', index=False)"
   ]
  },
  {
   "cell_type": "code",
   "execution_count": null,
   "id": "c33d379e-2e13-4f3f-8d32-74c5bfcc504f",
   "metadata": {},
   "outputs": [],
   "source": [
    "unique_product_codes = df['PRODUCT_CODE'].unique()\n",
    "df_unique_product_codes = pd.DataFrame(unique_product_codes, columns=['PRODUCT_CODE'])\n",
    "\n",
    "unique_outlet_codes = df['OUTLET_CODE'].unique()\n",
    "df_unique_outlet_codes = pd.DataFrame(unique_outlet_codes, columns=['OUTLET_CODE'])\n",
    "\n",
    "df_all_combinations = df_unique_product_codes.merge(df_unique_outlet_codes, how='cross')\n",
    "\n",
    "current_selling = df_sorted[['PRODUCT_CODE', 'OUTLET_CODE']].drop_duplicates()"
   ]
  },
  {
   "cell_type": "code",
   "execution_count": null,
   "id": "0756634d-553a-481e-942d-471d36ac4224",
   "metadata": {},
   "outputs": [],
   "source": [
    "# Assuming df_all_combinations and unique_combinations are your DataFrames\n",
    "# Merge the DataFrames with an indicator\n",
    "merged_df = df_combinations.merge(current_selling, on=['PRODUCT_CODE', 'OUTLET_CODE'], how='left', indicator=True)\n",
    "\n",
    "# Filter the rows that are present in df_combinations but not in unique_combinations\n",
    "diff_df = merged_df[merged_df['_merge'] == 'left_only'].drop(columns=['_merge'])\n"
   ]
  },
  {
   "cell_type": "code",
   "execution_count": null,
   "id": "28c31e6f-daa2-4caa-b076-e159a4ca19ae",
   "metadata": {},
   "outputs": [],
   "source": [
    "diff_df.info()"
   ]
  },
  {
   "cell_type": "code",
   "execution_count": null,
   "id": "a4bf36af-eaff-46a4-85d7-bd8cb09d341b",
   "metadata": {},
   "outputs": [],
   "source": [
    "diff_df=diff_df.merge(aggregated_df[['OUTLET_CODE', 'CLUSTER']], on='OUTLET_CODE', how='left')"
   ]
  },
  {
   "cell_type": "code",
   "execution_count": null,
   "id": "5a5df2d9-bbe1-4987-987e-4dab6b870a0f",
   "metadata": {},
   "outputs": [],
   "source": [
    "diff_df.to_csv('Not_selling.csv', index=False)"
   ]
  }
 ],
 "metadata": {
  "kernelspec": {
   "display_name": "Python 3 (ipykernel)",
   "language": "python",
   "name": "python3"
  },
  "language_info": {
   "codemirror_mode": {
    "name": "ipython",
    "version": 3
   },
   "file_extension": ".py",
   "mimetype": "text/x-python",
   "name": "python",
   "nbconvert_exporter": "python",
   "pygments_lexer": "ipython3",
   "version": "3.9.19"
  }
 },
 "nbformat": 4,
 "nbformat_minor": 5
}
