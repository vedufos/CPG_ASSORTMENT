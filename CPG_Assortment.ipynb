{
 "cells": [
  {
   "cell_type": "code",
   "execution_count": 1,
   "id": "d7adba57-7996-491a-bf42-93a785b3ace8",
   "metadata": {},
   "outputs": [
    {
     "name": "stdout",
     "output_type": "stream",
     "text": [
      "Requirement already satisfied: matplotlib in /opt/conda/lib/python3.9/site-packages (3.9.2)\n",
      "Requirement already satisfied: packaging>=20.0 in /opt/conda/lib/python3.9/site-packages (from matplotlib) (24.1)\n",
      "Requirement already satisfied: fonttools>=4.22.0 in /opt/conda/lib/python3.9/site-packages (from matplotlib) (4.54.1)\n",
      "Requirement already satisfied: cycler>=0.10 in /opt/conda/lib/python3.9/site-packages (from matplotlib) (0.12.1)\n",
      "Requirement already satisfied: python-dateutil>=2.7 in /opt/conda/lib/python3.9/site-packages (from matplotlib) (2.9.0.post0)\n",
      "Requirement already satisfied: pyparsing>=2.3.1 in /opt/conda/lib/python3.9/site-packages (from matplotlib) (3.1.4)\n",
      "Requirement already satisfied: kiwisolver>=1.3.1 in /opt/conda/lib/python3.9/site-packages (from matplotlib) (1.4.7)\n",
      "Requirement already satisfied: numpy>=1.23 in /opt/conda/lib/python3.9/site-packages (from matplotlib) (1.26.4)\n",
      "Requirement already satisfied: importlib-resources>=3.2.0; python_version < \"3.10\" in /opt/conda/lib/python3.9/site-packages (from matplotlib) (6.4.5)\n",
      "Requirement already satisfied: pillow>=8 in /opt/conda/lib/python3.9/site-packages (from matplotlib) (10.4.0)\n",
      "Requirement already satisfied: contourpy>=1.0.1 in /opt/conda/lib/python3.9/site-packages (from matplotlib) (1.3.0)\n",
      "Requirement already satisfied: six>=1.5 in /opt/conda/lib/python3.9/site-packages (from python-dateutil>=2.7->matplotlib) (1.16.0)\n",
      "Requirement already satisfied: zipp>=3.1.0; python_version < \"3.10\" in /opt/conda/lib/python3.9/site-packages (from importlib-resources>=3.2.0; python_version < \"3.10\"->matplotlib) (3.19.2)\n",
      "\u001b[33mWARNING: You are using pip version 19.3.1; however, version 24.2 is available.\n",
      "You should consider upgrading via the 'pip install --upgrade pip' command.\u001b[0m\n",
      "Note: you may need to restart the kernel to use updated packages.\n"
     ]
    }
   ],
   "source": [
    "pip install matplotlib"
   ]
  },
  {
   "cell_type": "code",
   "execution_count": 5,
   "id": "9602c0d9-28f7-4e09-8433-bb0982970166",
   "metadata": {},
   "outputs": [],
   "source": [
    "import pandas as pd\n",
    "from sklearn.ensemble import RandomForestRegressor\n",
    "from sklearn.model_selection import train_test_split\n",
    "from sklearn.metrics import mean_squared_error\n",
    "import matplotlib.pyplot as plt\n",
    "import numpy as np\n",
    "import io\n",
    "import base64\n",
    "\n",
    "def forecast_sales(data, outlet_code, product_code, forecast_periods=12):\n",
    "    data_outlet_product = data[(data['OUTLET_CODE'] == outlet_code) & (data['PRODUCT_CODE'] == product_code)]\n",
    "    sales_units_ts = data_outlet_product.set_index('TRANS_DATE')['SALES_UNITS']\n",
    "    \n",
    "    if sales_units_ts.empty:\n",
    "        print(f\"The time series for outlet {outlet_code} and product {product_code} is empty. Skipping.\")\n",
    "        return None\n",
    "\n",
    "    # Prepare the data for regression\n",
    "    sales_units_ts = sales_units_ts.reset_index()\n",
    "    sales_units_ts['TRANS_DATE'] = sales_units_ts['TRANS_DATE'].map(pd.Timestamp.toordinal)\n",
    "    \n",
    "    X = sales_units_ts[['TRANS_DATE']]\n",
    "    y = sales_units_ts['SALES_UNITS']\n",
    "    \n",
    "    # Split the data into training and testing sets\n",
    "    X_train, X_test, y_train, y_test = train_test_split(X, y, test_size=0.2, shuffle=False)\n",
    "    \n",
    "    # Train the Random Forest model\n",
    "    model = RandomForestRegressor(n_estimators=100, random_state=42)\n",
    "    model.fit(X_train, y_train)\n",
    "    \n",
    "    # Forecast future sales\n",
    "    last_date = X['TRANS_DATE'].max()\n",
    "    future_dates = np.array([last_date + i for i in range(1, forecast_periods + 1)]).reshape(-1, 1)\n",
    "    forecast = model.predict(future_dates)\n",
    "    \n",
    "    return forecast, future_dates\n",
    "\n",
    "def run(session) -> str:\n",
    "    data = session.table(\"SALES_CLEAN\").to_pandas()\n",
    "\n",
    "    # Ensure TRANS_DATE is in datetime format\n",
    "    data['TRANS_DATE'] = pd.to_datetime(data['TRANS_DATE'])\n",
    "\n",
    "    # Group by OUTLET_CODE, PRODUCT_CODE, and TRANS_DATE, and calculate total SALES_UNITS\n",
    "    data_grouped = data.groupby(['OUTLET_CODE', 'PRODUCT_CODE', 'TRANS_DATE'])['SALES_UNITS'].sum().reset_index()\n",
    "\n",
    "    # Example usage: Forecast for a specific outlet and product\n",
    "    outlet_code = 'OUTLET_1'  # replace with a specific outlet code\n",
    "    product_code = 'PRODUCT_1'  # replace with a specific product code\n",
    "    forecast, future_dates = forecast_sales(data_grouped, outlet_code, product_code)\n",
    "\n",
    "    if forecast is not None:\n",
    "        # Plot the forecast\n",
    "        plt.figure(figsize=(10, 6))\n",
    "        plt.plot(pd.to_datetime(future_dates.flatten(), origin='unix', unit='D'), forecast, label='Forecasted Sales')\n",
    "        plt.title(f'Sales Forecast for {product_code} at {outlet_code}')\n",
    "        plt.xlabel('Date')\n",
    "        plt.ylabel('Sales Units')\n",
    "        plt.legend()\n",
    "\n",
    "        # Convert the graph to a base64 string\n",
    "        buf = io.BytesIO()\n",
    "        plt.savefig(buf, format='png')\n",
    "        response = base64.b64encode(buf.getvalue()).decode('utf-8')\n",
    "        buf.close()\n",
    "\n",
    "        return response\n",
    "    else:\n",
    "        return \"No forecast available for the specified outlet and product.\"\n",
    "\n",
    "# Example call to the function\n",
    "# session = ...  # Initialize your session object here\n",
    "# print(run(session))\n"
   ]
  },
  {
   "cell_type": "code",
   "execution_count": 6,
   "id": "cc37bac8-93fc-4d1c-8439-38296688ca4b",
   "metadata": {},
   "outputs": [],
   "source": [
    "import pandas as pd\n",
    "from sklearn.ensemble import RandomForestRegressor\n",
    "from sklearn.model_selection import train_test_split\n",
    "from sklearn.metrics import mean_squared_error\n",
    "import matplotlib.pyplot as plt\n",
    "import numpy as np\n",
    "import io\n",
    "import base64"
   ]
  },
  {
   "cell_type": "code",
   "execution_count": null,
   "id": "c8ec3a19-466f-46b2-9a40-61ad29a7300c",
   "metadata": {},
   "outputs": [],
   "source": []
  }
 ],
 "metadata": {
  "kernelspec": {
   "display_name": "Python 3 (ipykernel)",
   "language": "python",
   "name": "python3"
  },
  "language_info": {
   "codemirror_mode": {
    "name": "ipython",
    "version": 3
   },
   "file_extension": ".py",
   "mimetype": "text/x-python",
   "name": "python",
   "nbconvert_exporter": "python",
   "pygments_lexer": "ipython3",
   "version": "3.9.19"
  }
 },
 "nbformat": 4,
 "nbformat_minor": 5
}
