{
 "cells": [
  {
   "cell_type": "code",
   "execution_count": null,
   "id": "d7adba57-7996-491a-bf42-93a785b3ace8",
   "metadata": {},
   "outputs": [
    {
     "name": "stdout",
     "output_type": "stream",
     "text": [
      "Collecting matplotlib\n",
      "\u001b[?25l  Downloading https://files.pythonhosted.org/packages/5a/20/f56d5b88450593ccde3f283e338f3f976b2e479bddd9a147f14f66ee1ca7/matplotlib-3.9.2-cp39-cp39-manylinux_2_17_x86_64.manylinux2014_x86_64.whl (8.3MB)\n",
      "\u001b[K     |████████████████████████████████| 8.3MB 6.8MB/s eta 0:00:01\n",
      "\u001b[?25hCollecting pillow>=8\n",
      "\u001b[?25l  Downloading https://files.pythonhosted.org/packages/32/3f/c02268d0c6fb6b3958bdda673c17b315c821d97df29ae6969f20fb49388a/pillow-10.4.0-cp39-cp39-manylinux_2_17_x86_64.manylinux2014_x86_64.whl (4.4MB)\n",
      "\u001b[K     |████████████████████████████████| 4.4MB 93.4MB/s eta 0:00:01\n",
      "\u001b[?25hCollecting fonttools>=4.22.0\n"
     ]
    }
   ],
   "source": [
    "pip install matplotlib"
   ]
  },
  {
   "cell_type": "code",
   "execution_count": null,
   "id": "9602c0d9-28f7-4e09-8433-bb0982970166",
   "metadata": {},
   "outputs": [],
   "source": [
    "import pandas as pd\n",
    "from sklearn.ensemble import RandomForestRegressor\n",
    "from sklearn.model_selection import train_test_split\n",
    "from sklearn.metrics import mean_squared_error\n",
    "import matplotlib.pyplot as plt\n",
    "import numpy as np\n",
    "import io\n",
    "import base64\n",
    "\n",
    "def forecast_sales(data, outlet_code, product_code, forecast_periods=12):\n",
    "    data_outlet_product = data[(data['OUTLET_CODE'] == outlet_code) & (data['PRODUCT_CODE'] == product_code)]\n",
    "    sales_units_ts = data_outlet_product.set_index('TRANS_DATE')['SALES_UNITS']\n",
    "    \n",
    "    if sales_units_ts.empty:\n",
    "        print(f\"The time series for outlet {outlet_code} and product {product_code} is empty. Skipping.\")\n",
    "        return None\n",
    "\n",
    "    # Prepare the data for regression\n",
    "    sales_units_ts = sales_units_ts.reset_index()\n",
    "    sales_units_ts['TRANS_DATE'] = sales_units_ts['TRANS_DATE'].map(pd.Timestamp.toordinal)\n",
    "    \n",
    "    X = sales_units_ts[['TRANS_DATE']]\n",
    "    y = sales_units_ts['SALES_UNITS']\n",
    "    \n",
    "    # Split the data into training and testing sets\n",
    "    X_train, X_test, y_train, y_test = train_test_split(X, y, test_size=0.2, shuffle=False)\n",
    "    \n",
    "    # Train the Random Forest model\n",
    "    model = RandomForestRegressor(n_estimators=100, random_state=42)\n",
    "    model.fit(X_train, y_train)\n",
    "    \n",
    "    # Forecast future sales\n",
    "    last_date = X['TRANS_DATE'].max()\n",
    "    future_dates = np.array([last_date + i for i in range(1, forecast_periods + 1)]).reshape(-1, 1)\n",
    "    forecast = model.predict(future_dates)\n",
    "    \n",
    "    return forecast, future_dates\n",
    "\n",
    "def run(session) -> str:\n",
    "    data = session.table(\"SALES_CLEAN\").to_pandas()\n",
    "\n",
    "    # Ensure TRANS_DATE is in datetime format\n",
    "    data['TRANS_DATE'] = pd.to_datetime(data['TRANS_DATE'])\n",
    "\n",
    "    # Group by OUTLET_CODE, PRODUCT_CODE, and TRANS_DATE, and calculate total SALES_UNITS\n",
    "    data_grouped = data.groupby(['OUTLET_CODE', 'PRODUCT_CODE', 'TRANS_DATE'])['SALES_UNITS'].sum().reset_index()\n",
    "\n",
    "    # Example usage: Forecast for a specific outlet and product\n",
    "    outlet_code = 'OUTLET_1'  # replace with a specific outlet code\n",
    "    product_code = 'PRODUCT_1'  # replace with a specific product code\n",
    "    forecast, future_dates = forecast_sales(data_grouped, outlet_code, product_code)\n",
    "\n",
    "    if forecast is not None:\n",
    "        # Plot the forecast\n",
    "        plt.figure(figsize=(10, 6))\n",
    "        plt.plot(pd.to_datetime(future_dates.flatten(), origin='unix', unit='D'), forecast, label='Forecasted Sales')\n",
    "        plt.title(f'Sales Forecast for {product_code} at {outlet_code}')\n",
    "        plt.xlabel('Date')\n",
    "        plt.ylabel('Sales Units')\n",
    "        plt.legend()\n",
    "\n",
    "        # Convert the graph to a base64 string\n",
    "        buf = io.BytesIO()\n",
    "        plt.savefig(buf, format='png')\n",
    "        response = base64.b64encode(buf.getvalue()).decode('utf-8')\n",
    "        buf.close()\n",
    "\n",
    "        return response\n",
    "    else:\n",
    "        return \"No forecast available for the specified outlet and product.\"\n",
    "\n",
    "# Example call to the function\n",
    "# session = ...  # Initialize your session object here\n",
    "# print(run(session))\n"
   ]
  },
  {
   "cell_type": "code",
   "execution_count": null,
   "id": "07f400d6-abeb-4683-b9e2-cb02e6fdc2fe",
   "metadata": {},
   "outputs": [],
   "source": []
  }
 ],
 "metadata": {
  "kernelspec": {
   "display_name": "Python 3 (ipykernel)",
   "language": "python",
   "name": "python3"
  },
  "language_info": {
   "codemirror_mode": {
    "name": "ipython",
    "version": 3
   },
   "file_extension": ".py",
   "mimetype": "text/x-python",
   "name": "python",
   "nbconvert_exporter": "python",
   "pygments_lexer": "ipython3",
   "version": "3.9.19"
  }
 },
 "nbformat": 4,
 "nbformat_minor": 5
}
