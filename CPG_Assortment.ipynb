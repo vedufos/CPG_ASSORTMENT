{
 "cells": [
  {
   "cell_type": "code",
   "execution_count": 7,
   "id": "8327d32d-93a9-42d0-af49-396310bc502e",
   "metadata": {},
   "outputs": [],
   "source": [
    "import pandas as pd\n",
    "import fosforml\n",
    "from fosforml.model_manager.snowflakesession import get_session\n",
    "my_session = get_session()"
   ]
  },
  {
   "cell_type": "code",
   "execution_count": 8,
   "id": "94aa9fe8-9cfe-4db4-895c-743fd7b37355",
   "metadata": {},
   "outputs": [],
   "source": [
    "import seaborn as sns"
   ]
  },
  {
   "cell_type": "code",
   "execution_count": 9,
   "id": "0635798c-29f1-42d9-ad33-7fc7e29ce0b8",
   "metadata": {},
   "outputs": [
    {
     "data": {
      "text/plain": [
       "'ASSORTMENT_PLANNING'"
      ]
     },
     "execution_count": 9,
     "metadata": {},
     "output_type": "execute_result"
    }
   ],
   "source": [
    "my_session.connection.database"
   ]
  },
  {
   "cell_type": "code",
   "execution_count": 10,
   "id": "16bf193d-f2f7-4390-80ef-8c2fbe1e427d",
   "metadata": {},
   "outputs": [
    {
     "data": {
      "text/plain": [
       "'CPG_BRONZE'"
      ]
     },
     "execution_count": 10,
     "metadata": {},
     "output_type": "execute_result"
    }
   ],
   "source": [
    "my_session.connection.schema"
   ]
  },
  {
   "cell_type": "code",
   "execution_count": 11,
   "id": "96503747-48be-4b85-b9e1-d0184a0dc6c9",
   "metadata": {},
   "outputs": [],
   "source": [
    "table_name = \"ASSORTMENT_PLANNING.CPG_BRONZE.SALES_CLEAN\""
   ]
  },
  {
   "cell_type": "code",
   "execution_count": 12,
   "id": "baa9de7a-5c07-4bde-a92f-68d36b342347",
   "metadata": {},
   "outputs": [],
   "source": [
    "sf_df = my_session.sql(\"select * from {}\".format(table_name))"
   ]
  },
  {
   "cell_type": "code",
   "execution_count": 13,
   "id": "5c4d2049-50d9-4371-82a9-9ab62cd9ed5b",
   "metadata": {},
   "outputs": [
    {
     "data": {
      "text/plain": [
       "snowflake.snowpark.dataframe.DataFrame"
      ]
     },
     "execution_count": 13,
     "metadata": {},
     "output_type": "execute_result"
    }
   ],
   "source": [
    "type(sf_df)"
   ]
  },
  {
   "cell_type": "code",
   "execution_count": 17,
   "id": "7729f086-2c89-4609-9fde-0de166701baa",
   "metadata": {},
   "outputs": [],
   "source": [
    "df=sf_df.to_pandas()"
   ]
  },
  {
   "cell_type": "code",
   "execution_count": 18,
   "id": "4135630b-b3b7-40c4-874b-89a98ba42538",
   "metadata": {},
   "outputs": [
    {
     "data": {
      "text/html": [
       "<div>\n",
       "<style scoped>\n",
       "    .dataframe tbody tr th:only-of-type {\n",
       "        vertical-align: middle;\n",
       "    }\n",
       "\n",
       "    .dataframe tbody tr th {\n",
       "        vertical-align: top;\n",
       "    }\n",
       "\n",
       "    .dataframe thead th {\n",
       "        text-align: right;\n",
       "    }\n",
       "</style>\n",
       "<table border=\"1\" class=\"dataframe\">\n",
       "  <thead>\n",
       "    <tr style=\"text-align: right;\">\n",
       "      <th></th>\n",
       "      <th>MNTH_CODE</th>\n",
       "      <th>TRANS_DATE</th>\n",
       "      <th>START_DATE</th>\n",
       "      <th>SALES_VALUE</th>\n",
       "      <th>SALES_UNITS</th>\n",
       "      <th>SALES_VOLUME</th>\n",
       "      <th>SALES_PTR_VALUE</th>\n",
       "      <th>OC_CODE</th>\n",
       "      <th>DISTRIBUTOR_CODE</th>\n",
       "      <th>OUTLET_CODE</th>\n",
       "      <th>CITY</th>\n",
       "      <th>STATE</th>\n",
       "      <th>COUNTY</th>\n",
       "      <th>STREET</th>\n",
       "      <th>PRODUCT_CODE</th>\n",
       "      <th>CATEGORY</th>\n",
       "      <th>SUBCATEGORY</th>\n",
       "      <th>BRAND</th>\n",
       "    </tr>\n",
       "  </thead>\n",
       "  <tbody>\n",
       "    <tr>\n",
       "      <th>0</th>\n",
       "      <td>202401</td>\n",
       "      <td>2024-01-18</td>\n",
       "      <td>2024-01-02</td>\n",
       "      <td>1537.89</td>\n",
       "      <td>16</td>\n",
       "      <td>0.001712</td>\n",
       "      <td>1585.454545</td>\n",
       "      <td>202201</td>\n",
       "      <td>DB0706</td>\n",
       "      <td>OL144111</td>\n",
       "      <td>Sedalia</td>\n",
       "      <td>Missouri</td>\n",
       "      <td>City Center</td>\n",
       "      <td>Str4</td>\n",
       "      <td>PRD0064</td>\n",
       "      <td>Hair Care</td>\n",
       "      <td>Conditioner</td>\n",
       "      <td>Bamboo</td>\n",
       "    </tr>\n",
       "    <tr>\n",
       "      <th>1</th>\n",
       "      <td>202401</td>\n",
       "      <td>2024-01-28</td>\n",
       "      <td>2024-01-02</td>\n",
       "      <td>518.18</td>\n",
       "      <td>3</td>\n",
       "      <td>0.001125</td>\n",
       "      <td>518.181818</td>\n",
       "      <td>202201</td>\n",
       "      <td>DB0706</td>\n",
       "      <td>OL238706</td>\n",
       "      <td>Williston</td>\n",
       "      <td>North Dakota</td>\n",
       "      <td>City Center</td>\n",
       "      <td>Str1</td>\n",
       "      <td>PRD0113</td>\n",
       "      <td>Perfume and Deodrants</td>\n",
       "      <td>Unisex Deodrant</td>\n",
       "      <td>Navy Blue</td>\n",
       "    </tr>\n",
       "    <tr>\n",
       "      <th>2</th>\n",
       "      <td>202401</td>\n",
       "      <td>2024-01-13</td>\n",
       "      <td>2024-01-02</td>\n",
       "      <td>113.64</td>\n",
       "      <td>1</td>\n",
       "      <td>0.000250</td>\n",
       "      <td>113.636364</td>\n",
       "      <td>202201</td>\n",
       "      <td>DB0706</td>\n",
       "      <td>OL223076</td>\n",
       "      <td>Silver City</td>\n",
       "      <td>New Mexico</td>\n",
       "      <td>Santa Cruz</td>\n",
       "      <td>Str1</td>\n",
       "      <td>PRD0107</td>\n",
       "      <td>Lotion</td>\n",
       "      <td>Body Lotion</td>\n",
       "      <td>Coral</td>\n",
       "    </tr>\n",
       "    <tr>\n",
       "      <th>3</th>\n",
       "      <td>202401</td>\n",
       "      <td>2024-01-06</td>\n",
       "      <td>2024-01-02</td>\n",
       "      <td>285.71</td>\n",
       "      <td>32</td>\n",
       "      <td>0.000832</td>\n",
       "      <td>285.714286</td>\n",
       "      <td>202201</td>\n",
       "      <td>DB0652</td>\n",
       "      <td>OL175529</td>\n",
       "      <td>Dunkirk</td>\n",
       "      <td>New York</td>\n",
       "      <td>Dolphin</td>\n",
       "      <td>Str3</td>\n",
       "      <td>PRD0147</td>\n",
       "      <td>Kids Care</td>\n",
       "      <td>Baby Cream</td>\n",
       "      <td>Mint</td>\n",
       "    </tr>\n",
       "    <tr>\n",
       "      <th>4</th>\n",
       "      <td>202401</td>\n",
       "      <td>2024-01-18</td>\n",
       "      <td>2024-01-02</td>\n",
       "      <td>290.91</td>\n",
       "      <td>1</td>\n",
       "      <td>0.000500</td>\n",
       "      <td>290.909091</td>\n",
       "      <td>202201</td>\n",
       "      <td>DB0652</td>\n",
       "      <td>OL48851</td>\n",
       "      <td>Stroudsburg</td>\n",
       "      <td>Pennsylvania</td>\n",
       "      <td>City Center</td>\n",
       "      <td>Str2</td>\n",
       "      <td>PRD0004</td>\n",
       "      <td>Lotion</td>\n",
       "      <td>Body Lotion</td>\n",
       "      <td>Tan</td>\n",
       "    </tr>\n",
       "  </tbody>\n",
       "</table>\n",
       "</div>"
      ],
      "text/plain": [
       "   MNTH_CODE  TRANS_DATE  START_DATE  SALES_VALUE  SALES_UNITS  SALES_VOLUME  \\\n",
       "0     202401  2024-01-18  2024-01-02      1537.89           16      0.001712   \n",
       "1     202401  2024-01-28  2024-01-02       518.18            3      0.001125   \n",
       "2     202401  2024-01-13  2024-01-02       113.64            1      0.000250   \n",
       "3     202401  2024-01-06  2024-01-02       285.71           32      0.000832   \n",
       "4     202401  2024-01-18  2024-01-02       290.91            1      0.000500   \n",
       "\n",
       "   SALES_PTR_VALUE  OC_CODE DISTRIBUTOR_CODE OUTLET_CODE         CITY  \\\n",
       "0      1585.454545   202201           DB0706    OL144111      Sedalia   \n",
       "1       518.181818   202201           DB0706    OL238706    Williston   \n",
       "2       113.636364   202201           DB0706    OL223076  Silver City   \n",
       "3       285.714286   202201           DB0652    OL175529      Dunkirk   \n",
       "4       290.909091   202201           DB0652     OL48851  Stroudsburg   \n",
       "\n",
       "          STATE       COUNTY STREET PRODUCT_CODE               CATEGORY  \\\n",
       "0      Missouri  City Center   Str4      PRD0064              Hair Care   \n",
       "1  North Dakota  City Center   Str1      PRD0113  Perfume and Deodrants   \n",
       "2    New Mexico   Santa Cruz   Str1      PRD0107                 Lotion   \n",
       "3      New York      Dolphin   Str3      PRD0147              Kids Care   \n",
       "4  Pennsylvania  City Center   Str2      PRD0004                 Lotion   \n",
       "\n",
       "       SUBCATEGORY      BRAND  \n",
       "0      Conditioner     Bamboo  \n",
       "1  Unisex Deodrant  Navy Blue  \n",
       "2      Body Lotion      Coral  \n",
       "3       Baby Cream       Mint  \n",
       "4      Body Lotion        Tan  "
      ]
     },
     "execution_count": 18,
     "metadata": {},
     "output_type": "execute_result"
    }
   ],
   "source": [
    "df.head()"
   ]
  },
  {
   "cell_type": "code",
   "execution_count": 20,
   "id": "9f18e27a-627e-4dcd-b019-f8efd177c03f",
   "metadata": {},
   "outputs": [
    {
     "data": {
      "text/plain": [
       "(966400, 18)"
      ]
     },
     "execution_count": 20,
     "metadata": {},
     "output_type": "execute_result"
    }
   ],
   "source": [
    "df.shape"
   ]
  },
  {
   "cell_type": "code",
   "execution_count": 21,
   "id": "9f5599f9-b135-4c52-9921-e4904495a233",
   "metadata": {},
   "outputs": [
    {
     "data": {
      "text/plain": [
       "MNTH_CODE           0.0\n",
       "TRANS_DATE          0.0\n",
       "START_DATE          0.0\n",
       "SALES_VALUE         0.0\n",
       "SALES_UNITS         0.0\n",
       "SALES_VOLUME        0.0\n",
       "SALES_PTR_VALUE     0.0\n",
       "OC_CODE             0.0\n",
       "DISTRIBUTOR_CODE    0.0\n",
       "OUTLET_CODE         0.0\n",
       "CITY                0.0\n",
       "STATE               0.0\n",
       "COUNTY              0.0\n",
       "STREET              0.0\n",
       "PRODUCT_CODE        0.0\n",
       "CATEGORY            0.0\n",
       "SUBCATEGORY         0.0\n",
       "BRAND               0.0\n",
       "dtype: float64"
      ]
     },
     "execution_count": 21,
     "metadata": {},
     "output_type": "execute_result"
    }
   ],
   "source": [
    "#How many % of missing values do we have for each feature?\n",
    "missing_percentage = df.isnull().sum() / df.shape[0] * 100 \n",
    "missing_percentage"
   ]
  },
  {
   "cell_type": "code",
   "execution_count": 29,
   "id": "632d12a1-12d1-4e02-9c2c-a376a8d78513",
   "metadata": {},
   "outputs": [
    {
     "data": {
      "text/html": [
       "<div>\n",
       "<style scoped>\n",
       "    .dataframe tbody tr th:only-of-type {\n",
       "        vertical-align: middle;\n",
       "    }\n",
       "\n",
       "    .dataframe tbody tr th {\n",
       "        vertical-align: top;\n",
       "    }\n",
       "\n",
       "    .dataframe thead th {\n",
       "        text-align: right;\n",
       "    }\n",
       "</style>\n",
       "<table border=\"1\" class=\"dataframe\">\n",
       "  <thead>\n",
       "    <tr style=\"text-align: right;\">\n",
       "      <th></th>\n",
       "      <th>SALES_VOLUME</th>\n",
       "      <th>SALES_UNITS</th>\n",
       "    </tr>\n",
       "  </thead>\n",
       "  <tbody>\n",
       "    <tr>\n",
       "      <th>count</th>\n",
       "      <td>0.0</td>\n",
       "      <td>0.0</td>\n",
       "    </tr>\n",
       "    <tr>\n",
       "      <th>mean</th>\n",
       "      <td>NaN</td>\n",
       "      <td>NaN</td>\n",
       "    </tr>\n",
       "    <tr>\n",
       "      <th>std</th>\n",
       "      <td>NaN</td>\n",
       "      <td>NaN</td>\n",
       "    </tr>\n",
       "    <tr>\n",
       "      <th>min</th>\n",
       "      <td>NaN</td>\n",
       "      <td>NaN</td>\n",
       "    </tr>\n",
       "    <tr>\n",
       "      <th>25%</th>\n",
       "      <td>NaN</td>\n",
       "      <td>NaN</td>\n",
       "    </tr>\n",
       "    <tr>\n",
       "      <th>50%</th>\n",
       "      <td>NaN</td>\n",
       "      <td>NaN</td>\n",
       "    </tr>\n",
       "    <tr>\n",
       "      <th>75%</th>\n",
       "      <td>NaN</td>\n",
       "      <td>NaN</td>\n",
       "    </tr>\n",
       "    <tr>\n",
       "      <th>max</th>\n",
       "      <td>NaN</td>\n",
       "      <td>NaN</td>\n",
       "    </tr>\n",
       "  </tbody>\n",
       "</table>\n",
       "</div>"
      ],
      "text/plain": [
       "       SALES_VOLUME  SALES_UNITS\n",
       "count           0.0          0.0\n",
       "mean            NaN          NaN\n",
       "std             NaN          NaN\n",
       "min             NaN          NaN\n",
       "25%             NaN          NaN\n",
       "50%             NaN          NaN\n",
       "75%             NaN          NaN\n",
       "max             NaN          NaN"
      ]
     },
     "execution_count": 29,
     "metadata": {},
     "output_type": "execute_result"
    }
   ],
   "source": [
    "#no any transactions happened without distributer and no outliers/NULL in sales\n",
    "df.loc[df.DISTRIBUTOR_CODE.isnull(), [\"SALES_VOLUME\", \"SALES_UNITS\"]].describe()"
   ]
  },
  {
   "cell_type": "code",
   "execution_count": 33,
   "id": "189391a9-d5d1-408b-b6cb-9fe610c659ef",
   "metadata": {},
   "outputs": [
    {
     "data": {
      "text/html": [
       "<div>\n",
       "<style scoped>\n",
       "    .dataframe tbody tr th:only-of-type {\n",
       "        vertical-align: middle;\n",
       "    }\n",
       "\n",
       "    .dataframe tbody tr th {\n",
       "        vertical-align: top;\n",
       "    }\n",
       "\n",
       "    .dataframe thead th {\n",
       "        text-align: right;\n",
       "    }\n",
       "</style>\n",
       "<table border=\"1\" class=\"dataframe\">\n",
       "  <thead>\n",
       "    <tr style=\"text-align: right;\">\n",
       "      <th></th>\n",
       "      <th>SALES_VOLUME</th>\n",
       "      <th>SALES_UNITS</th>\n",
       "    </tr>\n",
       "  </thead>\n",
       "  <tbody>\n",
       "    <tr>\n",
       "      <th>count</th>\n",
       "      <td>0.0</td>\n",
       "      <td>0.0</td>\n",
       "    </tr>\n",
       "    <tr>\n",
       "      <th>mean</th>\n",
       "      <td>NaN</td>\n",
       "      <td>NaN</td>\n",
       "    </tr>\n",
       "    <tr>\n",
       "      <th>std</th>\n",
       "      <td>NaN</td>\n",
       "      <td>NaN</td>\n",
       "    </tr>\n",
       "    <tr>\n",
       "      <th>min</th>\n",
       "      <td>NaN</td>\n",
       "      <td>NaN</td>\n",
       "    </tr>\n",
       "    <tr>\n",
       "      <th>25%</th>\n",
       "      <td>NaN</td>\n",
       "      <td>NaN</td>\n",
       "    </tr>\n",
       "    <tr>\n",
       "      <th>50%</th>\n",
       "      <td>NaN</td>\n",
       "      <td>NaN</td>\n",
       "    </tr>\n",
       "    <tr>\n",
       "      <th>75%</th>\n",
       "      <td>NaN</td>\n",
       "      <td>NaN</td>\n",
       "    </tr>\n",
       "    <tr>\n",
       "      <th>max</th>\n",
       "      <td>NaN</td>\n",
       "      <td>NaN</td>\n",
       "    </tr>\n",
       "  </tbody>\n",
       "</table>\n",
       "</div>"
      ],
      "text/plain": [
       "       SALES_VOLUME  SALES_UNITS\n",
       "count           0.0          0.0\n",
       "mean            NaN          NaN\n",
       "std             NaN          NaN\n",
       "min             NaN          NaN\n",
       "25%             NaN          NaN\n",
       "50%             NaN          NaN\n",
       "75%             NaN          NaN\n",
       "max             NaN          NaN"
      ]
     },
     "execution_count": 33,
     "metadata": {},
     "output_type": "execute_result"
    }
   ],
   "source": [
    "#no any transactions happened without distributer and no outliers in sales\n",
    "df.loc[df.OUTLET_CODE.isnull(), [\"SALES_VOLUME\", \"SALES_UNITS\"]].describe()"
   ]
  },
  {
   "cell_type": "code",
   "execution_count": 35,
   "id": "375742d8-a319-4e0f-a770-2a65ffc46fce",
   "metadata": {},
   "outputs": [
    {
     "data": {
      "text/plain": [
       "18833"
      ]
     },
     "execution_count": 35,
     "metadata": {},
     "output_type": "execute_result"
    }
   ],
   "source": [
    "df.OUTLET_CODE.nunique()"
   ]
  },
  {
   "cell_type": "code",
   "execution_count": 36,
   "id": "45ade9b7-781b-418e-a81a-1b4435ff606a",
   "metadata": {},
   "outputs": [
    {
     "data": {
      "text/plain": [
       "5"
      ]
     },
     "execution_count": 36,
     "metadata": {},
     "output_type": "execute_result"
    }
   ],
   "source": [
    "df.DISTRIBUTOR_CODE.nunique()"
   ]
  },
  {
   "cell_type": "code",
   "execution_count": 38,
   "id": "087cd736-b17b-49ae-969b-dfdc1f5f801e",
   "metadata": {},
   "outputs": [
    {
     "data": {
      "text/plain": [
       "[       MNTH_CODE  SALES_VALUE  SALES_UNITS  SALES_VOLUME  SALES_PTR_VALUE  \\\n",
       " count      False        False        False         False            False   \n",
       " mean       False        False        False         False            False   \n",
       " std        False        False        False         False            False   \n",
       " min        False        False        False         False            False   \n",
       " 25%        False        False        False         False            False   \n",
       " 50%        False        False        False         False            False   \n",
       " 75%        False        False        False         False            False   \n",
       " max        False        False        False         False            False   \n",
       " \n",
       "        OC_CODE  \n",
       " count    False  \n",
       " mean     False  \n",
       " std      False  \n",
       " min      False  \n",
       " 25%      False  \n",
       " 50%      False  \n",
       " 75%      False  \n",
       " max      False  ]"
      ]
     },
     "execution_count": 38,
     "metadata": {},
     "output_type": "execute_result"
    }
   ],
   "source": [
    "#no negative sales happened\n",
    "[df.describe()<0]"
   ]
  },
  {
   "cell_type": "code",
   "execution_count": 43,
   "id": "31735cef-f845-4f96-aa5d-a29b40bf7cda",
   "metadata": {},
   "outputs": [],
   "source": [
    "import numpy as np \n",
    "import pandas as pd \n",
    "import matplotlib.pyplot as plt\n",
    "%matplotlib inline\n",
    "\n",
    "import seaborn as sns\n",
    "sns.set()\n",
    "\n",
    "from catboost import CatBoostRegressor, Pool, cv\n",
    "from catboost import MetricVisualizer\n",
    "\n",
    "from sklearn.model_selection import TimeSeriesSplit\n",
    "from sklearn.preprocessing import StandardScaler\n",
    "from sklearn.cluster import KMeans\n",
    "\n",
    "from scipy.stats import boxcox\n",
    "from os import listdir"
   ]
  },
  {
   "cell_type": "code",
   "execution_count": 58,
   "id": "7dd5d8bf-629a-46c3-8108-e101af8de549",
   "metadata": {},
   "outputs": [
    {
     "data": {
      "image/png": "[encoded data removed]",
      "text/plain": [
       "<Figure size 2000x500 with 1 Axes>"
      ]
     },
     "metadata": {},
     "output_type": "display_data"
    }
   ],
   "source": [
    "\n",
    "# Group by description and sum the sales\n",
    "productby_sales = df.groupby('CATEGORY')['SALES_VOLUME'].sum().sort_values(ascending=False).iloc[0:30]\n",
    "\n",
    "# Plotting\n",
    "plt.figure(figsize=(20, 5))\n",
    "sns.barplot(x=productby_sales.index, y=productby_sales.values, palette=\"Purples_r\")\n",
    "plt.ylabel(\"Total Sales\")\n",
    "plt.title(\"Which products have the most sales?\")\n",
    "plt.xticks(rotation=90)\n",
    "plt.show()\n"
   ]
  },
  {
   "cell_type": "code",
   "execution_count": 68,
   "id": "42c47cf4-2e4f-48b1-8d28-d2675abfea31",
   "metadata": {},
   "outputs": [
    {
     "data": {
      "image/png": "[encoded data removed]",
      "text/plain": [
       "<Figure size 2000x500 with 1 Axes>"
      ]
     },
     "metadata": {},
     "output_type": "display_data"
    }
   ],
   "source": [
    "\n",
    "# Group by description and sum the sales\n",
    "productby_qty = df.groupby('CATEGORY')['SALES_UNITS'].sum().sort_values(ascending=False).iloc[0:30]\n",
    "\n",
    "# Plotting\n",
    "plt.figure(figsize=(20, 5))\n",
    "sns.barplot(x=productby_qty.index, y=productby_qty.values, palette=\"Greens_r\")\n",
    "plt.ylabel(\"Total Sales\")\n",
    "plt.title(\"Which products sold most?\")\n",
    "plt.xticks(rotation=90)\n",
    "plt.show()\n"
   ]
  },
  {
   "cell_type": "code",
   "execution_count": 62,
   "id": "a29fde30-22cd-4b9a-b6f6-61c8c69c876d",
   "metadata": {},
   "outputs": [
    {
     "data": {
      "text/plain": [
       "9"
      ]
     },
     "execution_count": 62,
     "metadata": {},
     "output_type": "execute_result"
    }
   ],
   "source": [
    "df.COUNTY.nunique()"
   ]
  },
  {
   "cell_type": "code",
   "execution_count": 69,
   "id": "e4f7968d-ffe2-4337-83fe-60e58160561d",
   "metadata": {},
   "outputs": [
    {
     "data": {
      "image/png": "[encoded data removed]",
      "text/plain": [
       "<Figure size 2000x500 with 1 Axes>"
      ]
     },
     "metadata": {},
     "output_type": "display_data"
    }
   ],
   "source": [
    "\n",
    "# Group by description and sum the sales\n",
    "country_sales = df.groupby('COUNTY')['SALES_VOLUME'].sum().sort_values(ascending=False).iloc[0:30]\n",
    "\n",
    "# Plotting\n",
    "plt.figure(figsize=(20, 5))\n",
    "sns.barplot(x=country_sales.index, y=country_sales.values, palette=\"Reds_r\")\n",
    "plt.ylabel(\"Total Sales\")\n",
    "plt.title(\"Which country has most sales?\")\n",
    "plt.xticks(rotation=90)\n",
    "plt.show()\n"
   ]
  },
  {
   "cell_type": "code",
   "execution_count": null,
   "id": "d6c08a3f-6f98-46e9-b4bf-cc508af7fbb8",
   "metadata": {},
   "outputs": [],
   "source": [
    "\n",
    "data.loc[data.Country==\"CIty Center\"] \n",
    "# Group by description and sum the sales\n",
    "country_sales = df.groupby('COUNTY')['CATEGORY'].sum().sort_values(ascending=False).iloc[0:30]\n",
    "\n",
    "# Plotting\n",
    "plt.figure(figsize=(20, 5))\n",
    "sns.barplot(x=country_sales.index, y=country_sales.values, palette=\"Reds_r\")\n",
    "plt.ylabel(\"Total Sales\")\n",
    "plt.title(\"Which product sold most in city center?\")\n",
    "plt.xticks(rotation=90)\n",
    "plt.show()"
   ]
  }
 ],
 "metadata": {
  "kernelspec": {
   "display_name": "Python 3 (ipykernel)",
   "language": "python",
   "name": "python3"
  },
  "language_info": {
   "codemirror_mode": {
    "name": "ipython",
    "version": 3
   },
   "file_extension": ".py",
   "mimetype": "text/x-python",
   "name": "python",
   "nbconvert_exporter": "python",
   "pygments_lexer": "ipython3",
   "version": "3.9.19"
  }
 },
 "nbformat": 4,
 "nbformat_minor": 5
}
