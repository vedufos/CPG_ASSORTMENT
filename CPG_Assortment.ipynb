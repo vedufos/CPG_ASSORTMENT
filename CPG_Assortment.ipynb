{
 "cells": [
  {
   "cell_type": "code",
   "execution_count": 7,
   "id": "9602c0d9-28f7-4e09-8433-bb0982970166",
   "metadata": {},
   "outputs": [
    {
     "ename": "ModuleNotFoundError",
     "evalue": "No module named 'sklearn'",
     "output_type": "error",
     "traceback": [
      "\u001b[0;31m---------------------------------------------------------------------------\u001b[0m",
      "\u001b[0;31mModuleNotFoundError\u001b[0m                       Traceback (most recent call last)",
      "Cell \u001b[0;32mIn[7], line 2\u001b[0m\n\u001b[1;32m      1\u001b[0m \u001b[38;5;28;01mimport\u001b[39;00m \u001b[38;5;21;01mpandas\u001b[39;00m \u001b[38;5;28;01mas\u001b[39;00m \u001b[38;5;21;01mpd\u001b[39;00m\n\u001b[0;32m----> 2\u001b[0m \u001b[38;5;28;01mfrom\u001b[39;00m \u001b[38;5;21;01msklearn\u001b[39;00m\u001b[38;5;21;01m.\u001b[39;00m\u001b[38;5;21;01mensemble\u001b[39;00m \u001b[38;5;28;01mimport\u001b[39;00m RandomForestRegressor\n\u001b[1;32m      3\u001b[0m \u001b[38;5;28;01mfrom\u001b[39;00m \u001b[38;5;21;01msklearn\u001b[39;00m\u001b[38;5;21;01m.\u001b[39;00m\u001b[38;5;21;01mmodel_selection\u001b[39;00m \u001b[38;5;28;01mimport\u001b[39;00m train_test_split\n\u001b[1;32m      4\u001b[0m \u001b[38;5;28;01mfrom\u001b[39;00m \u001b[38;5;21;01msklearn\u001b[39;00m\u001b[38;5;21;01m.\u001b[39;00m\u001b[38;5;21;01mmetrics\u001b[39;00m \u001b[38;5;28;01mimport\u001b[39;00m mean_squared_error\n",
      "\u001b[0;31mModuleNotFoundError\u001b[0m: No module named 'sklearn'"
     ]
    }
   ],
   "source": [
    "import pandas as pd\n",
    "from sklearn.ensemble import RandomForestRegressor\n",
    "from sklearn.model_selection import train_test_split\n",
    "from sklearn.metrics import mean_squared_error\n",
    "import matplotlib.pyplot as plt\n",
    "import numpy as np\n",
    "import io\n",
    "import base64\n",
    "\n",
    "def forecast_sales(data, outlet_code, product_code, forecast_periods=12):\n",
    "    data_outlet_product = data[(data['OUTLET_CODE'] == outlet_code) & (data['PRODUCT_CODE'] == product_code)]\n",
    "    sales_units_ts = data_outlet_product.set_index('TRANS_DATE')['SALES_UNITS']\n",
    "    \n",
    "    if sales_units_ts.empty:\n",
    "        print(f\"The time series for outlet {outlet_code} and product {product_code} is empty. Skipping.\")\n",
    "        return None\n",
    "\n",
    "    # Prepare the data for regression\n",
    "    sales_units_ts = sales_units_ts.reset_index()\n",
    "    sales_units_ts['TRANS_DATE'] = sales_units_ts['TRANS_DATE'].map(pd.Timestamp.toordinal)\n",
    "    \n",
    "    X = sales_units_ts[['TRANS_DATE']]\n",
    "    y = sales_units_ts['SALES_UNITS']\n",
    "    \n",
    "    # Split the data into training and testing sets\n",
    "    X_train, X_test, y_train, y_test = train_test_split(X, y, test_size=0.2, shuffle=False)\n",
    "    \n",
    "    # Train the Random Forest model\n",
    "    model = RandomForestRegressor(n_estimators=100, random_state=42)\n",
    "    model.fit(X_train, y_train)\n",
    "    \n",
    "    # Forecast future sales\n",
    "    last_date = X['TRANS_DATE'].max()\n",
    "    future_dates = np.array([last_date + i for i in range(1, forecast_periods + 1)]).reshape(-1, 1)\n",
    "    forecast = model.predict(future_dates)\n",
    "    \n",
    "    return forecast, future_dates\n",
    "\n",
    "def run(session) -> str:\n",
    "    data = session.table(\"SALES_CLEAN\").to_pandas()\n",
    "\n",
    "    # Ensure TRANS_DATE is in datetime format\n",
    "    data['TRANS_DATE'] = pd.to_datetime(data['TRANS_DATE'])\n",
    "\n",
    "    # Group by OUTLET_CODE, PRODUCT_CODE, and TRANS_DATE, and calculate total SALES_UNITS\n",
    "    data_grouped = data.groupby(['OUTLET_CODE', 'PRODUCT_CODE', 'TRANS_DATE'])['SALES_UNITS'].sum().reset_index()\n",
    "\n",
    "    # Example usage: Forecast for a specific outlet and product\n",
    "    outlet_code = 'OUTLET_1'  # replace with a specific outlet code\n",
    "    product_code = 'PRODUCT_1'  # replace with a specific product code\n",
    "    forecast, future_dates = forecast_sales(data_grouped, outlet_code, product_code)\n",
    "\n",
    "    if forecast is not None:\n",
    "        # Plot the forecast\n",
    "        plt.figure(figsize=(10, 6))\n",
    "        plt.plot(pd.to_datetime(future_dates.flatten(), origin='unix', unit='D'), forecast, label='Forecasted Sales')\n",
    "        plt.title(f'Sales Forecast for {product_code} at {outlet_code}')\n",
    "        plt.xlabel('Date')\n",
    "        plt.ylabel('Sales Units')\n",
    "        plt.legend()\n",
    "\n",
    "        # Convert the graph to a base64 string\n",
    "        buf = io.BytesIO()\n",
    "        plt.savefig(buf, format='png')\n",
    "        response = base64.b64encode(buf.getvalue()).decode('utf-8')\n",
    "        buf.close()\n",
    "\n",
    "        return response\n",
    "    else:\n",
    "        return \"No forecast available for the specified outlet and product.\"\n",
    "\n",
    "# Example call to the function\n",
    "# session = ...  # Initialize your session object here\n",
    "# print(run(session))\n"
   ]
  },
  {
   "cell_type": "code",
   "execution_count": null,
   "id": "07f400d6-abeb-4683-b9e2-cb02e6fdc2fe",
   "metadata": {},
   "outputs": [],
   "source": []
  }
 ],
 "metadata": {
  "kernelspec": {
   "display_name": "Python 3 (ipykernel)",
   "language": "python",
   "name": "python3"
  },
  "language_info": {
   "codemirror_mode": {
    "name": "ipython",
    "version": 3
   },
   "file_extension": ".py",
   "mimetype": "text/x-python",
   "name": "python",
   "nbconvert_exporter": "python",
   "pygments_lexer": "ipython3",
   "version": "3.9.19"
  }
 },
 "nbformat": 4,
 "nbformat_minor": 5
}
