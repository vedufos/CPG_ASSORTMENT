{
 "cells": [
  {
   "cell_type": "code",
   "execution_count": 2,
   "id": "35d5cb84-94ab-4348-8fe1-64ed4ba89057",
   "metadata": {},
   "outputs": [
    {
     "name": "stdout",
     "output_type": "stream",
     "text": [
      "Requirement already satisfied: fosforml in /opt/conda/lib/python3.9/site-packages (1.1.8)\n",
      "Requirement already satisfied: snowflake-ml-python==1.5.0; python_version <= \"3.9\" in /opt/conda/lib/python3.9/site-packages (from fosforml) (1.5.0)\n",
      "Requirement already satisfied: cloudpickle==2.2.1 in /opt/conda/lib/python3.9/site-packages (from fosforml) (2.2.1)\n",
      "Requirement already satisfied: scikit-learn==1.3.2 in /opt/conda/lib/python3.9/site-packages (from fosforml) (1.3.2)\n",
      "Requirement already satisfied: xgboost<2,>=1.7.3 in /opt/conda/lib/python3.9/site-packages (from snowflake-ml-python==1.5.0; python_version <= \"3.9\"->fosforml) (1.7.6)\n",
      "Requirement already satisfied: typing-extensions<5,>=4.1.0 in /opt/conda/lib/python3.9/site-packages (from snowflake-ml-python==1.5.0; python_version <= \"3.9\"->fosforml) (4.12.2)\n",
      "Requirement already satisfied: absl-py<2,>=0.15 in /opt/conda/lib/python3.9/site-packages (from snowflake-ml-python==1.5.0; python_version <= \"3.9\"->fosforml) (1.4.0)\n",
      "Requirement already satisfied: fsspec[http]<2024,>=2022.11 in /opt/conda/lib/python3.9/site-packages (from snowflake-ml-python==1.5.0; python_version <= \"3.9\"->fosforml) (2023.12.2)\n",
      "Requirement already satisfied: pytimeparse<2,>=1.1.8 in /opt/conda/lib/python3.9/site-packages (from snowflake-ml-python==1.5.0; python_version <= \"3.9\"->fosforml) (1.1.8)\n",
      "Requirement already satisfied: sqlparse<1,>=0.4 in /opt/conda/lib/python3.9/site-packages (from snowflake-ml-python==1.5.0; python_version <= \"3.9\"->fosforml) (0.5.1)\n",
      "Requirement already satisfied: numpy<2,>=1.23 in /opt/conda/lib/python3.9/site-packages (from snowflake-ml-python==1.5.0; python_version <= \"3.9\"->fosforml) (1.26.4)\n",
      "Requirement already satisfied: pyyaml<7,>=6.0 in /opt/conda/lib/python3.9/site-packages (from snowflake-ml-python==1.5.0; python_version <= \"3.9\"->fosforml) (6.0.1)\n",
      "Requirement already satisfied: snowflake-connector-python[pandas]<4,>=3.5.0 in /opt/conda/lib/python3.9/site-packages (from snowflake-ml-python==1.5.0; python_version <= \"3.9\"->fosforml) (3.12.2)\n",
      "Requirement already satisfied: anyio<4,>=3.5.0 in /opt/conda/lib/python3.9/site-packages (from snowflake-ml-python==1.5.0; python_version <= \"3.9\"->fosforml) (3.7.1)\n",
      "Requirement already satisfied: pandas<3,>=1.0.0 in /opt/conda/lib/python3.9/site-packages (from snowflake-ml-python==1.5.0; python_version <= \"3.9\"->fosforml) (2.2.2)\n",
      "Requirement already satisfied: cachetools<6,>=3.1.1 in /opt/conda/lib/python3.9/site-packages (from snowflake-ml-python==1.5.0; python_version <= \"3.9\"->fosforml) (5.5.0)\n",
      "Requirement already satisfied: pyarrow in /opt/conda/lib/python3.9/site-packages (from snowflake-ml-python==1.5.0; python_version <= \"3.9\"->fosforml) (17.0.0)\n",
      "Requirement already satisfied: packaging<24,>=20.9 in /opt/conda/lib/python3.9/site-packages (from snowflake-ml-python==1.5.0; python_version <= \"3.9\"->fosforml) (23.2)\n",
      "Requirement already satisfied: s3fs<2024,>=2022.11 in /opt/conda/lib/python3.9/site-packages (from snowflake-ml-python==1.5.0; python_version <= \"3.9\"->fosforml) (2023.12.2)\n",
      "Requirement already satisfied: retrying<2,>=1.3.3 in /opt/conda/lib/python3.9/site-packages (from snowflake-ml-python==1.5.0; python_version <= \"3.9\"->fosforml) (1.3.4)\n",
      "Requirement already satisfied: importlib-resources<7,>=6.1.1 in /opt/conda/lib/python3.9/site-packages (from snowflake-ml-python==1.5.0; python_version <= \"3.9\"->fosforml) (6.4.5)\n",
      "Requirement already satisfied: catboost<1.3,>=1.2.0 in /opt/conda/lib/python3.9/site-packages (from snowflake-ml-python==1.5.0; python_version <= \"3.9\"->fosforml) (1.2.7)\n",
      "Requirement already satisfied: scipy<2,>=1.9 in /opt/conda/lib/python3.9/site-packages (from snowflake-ml-python==1.5.0; python_version <= \"3.9\"->fosforml) (1.13.1)\n",
      "Requirement already satisfied: snowflake-snowpark-python!=1.12.0,<2,>=1.11.1 in /opt/conda/lib/python3.9/site-packages (from snowflake-ml-python==1.5.0; python_version <= \"3.9\"->fosforml) (1.22.1)\n",
      "Requirement already satisfied: threadpoolctl>=2.0.0 in /opt/conda/lib/python3.9/site-packages (from scikit-learn==1.3.2->fosforml) (3.5.0)\n",
      "Requirement already satisfied: joblib>=1.1.1 in /opt/conda/lib/python3.9/site-packages (from scikit-learn==1.3.2->fosforml) (1.4.2)\n",
      "Requirement already satisfied: aiohttp!=4.0.0a0,!=4.0.0a1; extra == \"http\" in /opt/conda/lib/python3.9/site-packages (from fsspec[http]<2024,>=2022.11->snowflake-ml-python==1.5.0; python_version <= \"3.9\"->fosforml) (3.10.6)\n",
      "Requirement already satisfied: requests; extra == \"http\" in /opt/conda/lib/python3.9/site-packages (from fsspec[http]<2024,>=2022.11->snowflake-ml-python==1.5.0; python_version <= \"3.9\"->fosforml) (2.32.3)\n",
      "Requirement already satisfied: idna<4,>=2.5 in /opt/conda/lib/python3.9/site-packages (from snowflake-connector-python[pandas]<4,>=3.5.0->snowflake-ml-python==1.5.0; python_version <= \"3.9\"->fosforml) (3.7)\n",
      "Requirement already satisfied: tomlkit in /opt/conda/lib/python3.9/site-packages (from snowflake-connector-python[pandas]<4,>=3.5.0->snowflake-ml-python==1.5.0; python_version <= \"3.9\"->fosforml) (0.13.2)\n",
      "Requirement already satisfied: pyjwt<3.0.0 in /opt/conda/lib/python3.9/site-packages (from snowflake-connector-python[pandas]<4,>=3.5.0->snowflake-ml-python==1.5.0; python_version <= \"3.9\"->fosforml) (2.9.0)\n",
      "Requirement already satisfied: certifi>=2017.4.17 in /opt/conda/lib/python3.9/site-packages (from snowflake-connector-python[pandas]<4,>=3.5.0->snowflake-ml-python==1.5.0; python_version <= \"3.9\"->fosforml) (2024.7.4)\n",
      "Requirement already satisfied: cffi<2.0.0,>=1.9 in /opt/conda/lib/python3.9/site-packages (from snowflake-connector-python[pandas]<4,>=3.5.0->snowflake-ml-python==1.5.0; python_version <= \"3.9\"->fosforml) (1.16.0)\n",
      "Requirement already satisfied: asn1crypto<2.0.0,>0.24.0 in /opt/conda/lib/python3.9/site-packages (from snowflake-connector-python[pandas]<4,>=3.5.0->snowflake-ml-python==1.5.0; python_version <= \"3.9\"->fosforml) (1.5.1)\n",
      "Requirement already satisfied: cryptography>=3.1.0 in /opt/conda/lib/python3.9/site-packages (from snowflake-connector-python[pandas]<4,>=3.5.0->snowflake-ml-python==1.5.0; python_version <= \"3.9\"->fosforml) (42.0.5)\n",
      "Requirement already satisfied: urllib3<2.0.0,>=1.21.1; python_version < \"3.10\" in /opt/conda/lib/python3.9/site-packages (from snowflake-connector-python[pandas]<4,>=3.5.0->snowflake-ml-python==1.5.0; python_version <= \"3.9\"->fosforml) (1.26.20)\n",
      "Requirement already satisfied: platformdirs<5.0.0,>=2.6.0 in /opt/conda/lib/python3.9/site-packages (from snowflake-connector-python[pandas]<4,>=3.5.0->snowflake-ml-python==1.5.0; python_version <= \"3.9\"->fosforml) (4.2.2)\n",
      "Requirement already satisfied: pytz in /opt/conda/lib/python3.9/site-packages (from snowflake-connector-python[pandas]<4,>=3.5.0->snowflake-ml-python==1.5.0; python_version <= \"3.9\"->fosforml) (2024.1)\n",
      "Requirement already satisfied: charset-normalizer<4,>=2 in /opt/conda/lib/python3.9/site-packages (from snowflake-connector-python[pandas]<4,>=3.5.0->snowflake-ml-python==1.5.0; python_version <= \"3.9\"->fosforml) (3.3.2)\n",
      "Requirement already satisfied: filelock<4,>=3.5 in /opt/conda/lib/python3.9/site-packages (from snowflake-connector-python[pandas]<4,>=3.5.0->snowflake-ml-python==1.5.0; python_version <= \"3.9\"->fosforml) (3.16.1)\n",
      "Requirement already satisfied: pyOpenSSL<25.0.0,>=16.2.0 in /opt/conda/lib/python3.9/site-packages (from snowflake-connector-python[pandas]<4,>=3.5.0->snowflake-ml-python==1.5.0; python_version <= \"3.9\"->fosforml) (24.0.0)\n",
      "Requirement already satisfied: sortedcontainers>=2.4.0 in /opt/conda/lib/python3.9/site-packages (from snowflake-connector-python[pandas]<4,>=3.5.0->snowflake-ml-python==1.5.0; python_version <= \"3.9\"->fosforml) (2.4.0)\n",
      "Requirement already satisfied: exceptiongroup; python_version < \"3.11\" in /opt/conda/lib/python3.9/site-packages (from anyio<4,>=3.5.0->snowflake-ml-python==1.5.0; python_version <= \"3.9\"->fosforml) (1.2.2)\n",
      "Requirement already satisfied: sniffio>=1.1 in /opt/conda/lib/python3.9/site-packages (from anyio<4,>=3.5.0->snowflake-ml-python==1.5.0; python_version <= \"3.9\"->fosforml) (1.3.1)\n",
      "Requirement already satisfied: python-dateutil>=2.8.2 in /opt/conda/lib/python3.9/site-packages (from pandas<3,>=1.0.0->snowflake-ml-python==1.5.0; python_version <= \"3.9\"->fosforml) (2.9.0.post0)\n",
      "Requirement already satisfied: tzdata>=2022.7 in /opt/conda/lib/python3.9/site-packages (from pandas<3,>=1.0.0->snowflake-ml-python==1.5.0; python_version <= \"3.9\"->fosforml) (2024.1)\n",
      "Requirement already satisfied: aiobotocore<3.0.0,>=2.5.4 in /opt/conda/lib/python3.9/site-packages (from s3fs<2024,>=2022.11->snowflake-ml-python==1.5.0; python_version <= \"3.9\"->fosforml) (2.15.1)\n",
      "Requirement already satisfied: six>=1.7.0 in /opt/conda/lib/python3.9/site-packages (from retrying<2,>=1.3.3->snowflake-ml-python==1.5.0; python_version <= \"3.9\"->fosforml) (1.16.0)\n",
      "Requirement already satisfied: zipp>=3.1.0; python_version < \"3.10\" in /opt/conda/lib/python3.9/site-packages (from importlib-resources<7,>=6.1.1->snowflake-ml-python==1.5.0; python_version <= \"3.9\"->fosforml) (3.19.2)\n",
      "Requirement already satisfied: plotly in /opt/conda/lib/python3.9/site-packages (from catboost<1.3,>=1.2.0->snowflake-ml-python==1.5.0; python_version <= \"3.9\"->fosforml) (5.24.1)\n",
      "Requirement already satisfied: matplotlib in /opt/conda/lib/python3.9/site-packages (from catboost<1.3,>=1.2.0->snowflake-ml-python==1.5.0; python_version <= \"3.9\"->fosforml) (3.9.2)\n",
      "Requirement already satisfied: graphviz in /opt/conda/lib/python3.9/site-packages (from catboost<1.3,>=1.2.0->snowflake-ml-python==1.5.0; python_version <= \"3.9\"->fosforml) (0.20.3)\n",
      "Requirement already satisfied: setuptools>=40.6.0 in /opt/conda/lib/python3.9/site-packages (from snowflake-snowpark-python!=1.12.0,<2,>=1.11.1->snowflake-ml-python==1.5.0; python_version <= \"3.9\"->fosforml) (65.6.3)\n",
      "Requirement already satisfied: wheel in /opt/conda/lib/python3.9/site-packages (from snowflake-snowpark-python!=1.12.0,<2,>=1.11.1->snowflake-ml-python==1.5.0; python_version <= \"3.9\"->fosforml) (0.37.1)\n",
      "Requirement already satisfied: attrs>=17.3.0 in /opt/conda/lib/python3.9/site-packages (from aiohttp!=4.0.0a0,!=4.0.0a1; extra == \"http\"->fsspec[http]<2024,>=2022.11->snowflake-ml-python==1.5.0; python_version <= \"3.9\"->fosforml) (23.2.0)\n",
      "Requirement already satisfied: aiosignal>=1.1.2 in /opt/conda/lib/python3.9/site-packages (from aiohttp!=4.0.0a0,!=4.0.0a1; extra == \"http\"->fsspec[http]<2024,>=2022.11->snowflake-ml-python==1.5.0; python_version <= \"3.9\"->fosforml) (1.3.1)\n",
      "Requirement already satisfied: frozenlist>=1.1.1 in /opt/conda/lib/python3.9/site-packages (from aiohttp!=4.0.0a0,!=4.0.0a1; extra == \"http\"->fsspec[http]<2024,>=2022.11->snowflake-ml-python==1.5.0; python_version <= \"3.9\"->fosforml) (1.4.1)\n",
      "Requirement already satisfied: async-timeout<5.0,>=4.0; python_version < \"3.11\" in /opt/conda/lib/python3.9/site-packages (from aiohttp!=4.0.0a0,!=4.0.0a1; extra == \"http\"->fsspec[http]<2024,>=2022.11->snowflake-ml-python==1.5.0; python_version <= \"3.9\"->fosforml) (4.0.3)\n",
      "Requirement already satisfied: multidict<7.0,>=4.5 in /opt/conda/lib/python3.9/site-packages (from aiohttp!=4.0.0a0,!=4.0.0a1; extra == \"http\"->fsspec[http]<2024,>=2022.11->snowflake-ml-python==1.5.0; python_version <= \"3.9\"->fosforml) (6.1.0)\n",
      "Requirement already satisfied: aiohappyeyeballs>=2.3.0 in /opt/conda/lib/python3.9/site-packages (from aiohttp!=4.0.0a0,!=4.0.0a1; extra == \"http\"->fsspec[http]<2024,>=2022.11->snowflake-ml-python==1.5.0; python_version <= \"3.9\"->fosforml) (2.4.2)\n",
      "Requirement already satisfied: yarl<2.0,>=1.12.0 in /opt/conda/lib/python3.9/site-packages (from aiohttp!=4.0.0a0,!=4.0.0a1; extra == \"http\"->fsspec[http]<2024,>=2022.11->snowflake-ml-python==1.5.0; python_version <= \"3.9\"->fosforml) (1.13.0)\n",
      "Requirement already satisfied: pycparser in /opt/conda/lib/python3.9/site-packages (from cffi<2.0.0,>=1.9->snowflake-connector-python[pandas]<4,>=3.5.0->snowflake-ml-python==1.5.0; python_version <= \"3.9\"->fosforml) (2.21)\n",
      "Requirement already satisfied: aioitertools<1.0.0,>=0.5.1 in /opt/conda/lib/python3.9/site-packages (from aiobotocore<3.0.0,>=2.5.4->s3fs<2024,>=2022.11->snowflake-ml-python==1.5.0; python_version <= \"3.9\"->fosforml) (0.12.0)\n",
      "Requirement already satisfied: botocore<1.35.24,>=1.35.16 in /opt/conda/lib/python3.9/site-packages (from aiobotocore<3.0.0,>=2.5.4->s3fs<2024,>=2022.11->snowflake-ml-python==1.5.0; python_version <= \"3.9\"->fosforml) (1.35.23)\n",
      "Requirement already satisfied: wrapt<2.0.0,>=1.10.10 in /opt/conda/lib/python3.9/site-packages (from aiobotocore<3.0.0,>=2.5.4->s3fs<2024,>=2022.11->snowflake-ml-python==1.5.0; python_version <= \"3.9\"->fosforml) (1.16.0)\n",
      "Requirement already satisfied: tenacity>=6.2.0 in /opt/conda/lib/python3.9/site-packages (from plotly->catboost<1.3,>=1.2.0->snowflake-ml-python==1.5.0; python_version <= \"3.9\"->fosforml) (9.0.0)\n",
      "Requirement already satisfied: contourpy>=1.0.1 in /opt/conda/lib/python3.9/site-packages (from matplotlib->catboost<1.3,>=1.2.0->snowflake-ml-python==1.5.0; python_version <= \"3.9\"->fosforml) (1.3.0)\n",
      "Requirement already satisfied: pyparsing>=2.3.1 in /opt/conda/lib/python3.9/site-packages (from matplotlib->catboost<1.3,>=1.2.0->snowflake-ml-python==1.5.0; python_version <= \"3.9\"->fosforml) (3.1.4)\n",
      "Requirement already satisfied: fonttools>=4.22.0 in /opt/conda/lib/python3.9/site-packages (from matplotlib->catboost<1.3,>=1.2.0->snowflake-ml-python==1.5.0; python_version <= \"3.9\"->fosforml) (4.54.1)\n",
      "Requirement already satisfied: cycler>=0.10 in /opt/conda/lib/python3.9/site-packages (from matplotlib->catboost<1.3,>=1.2.0->snowflake-ml-python==1.5.0; python_version <= \"3.9\"->fosforml) (0.12.1)\n",
      "Requirement already satisfied: pillow>=8 in /opt/conda/lib/python3.9/site-packages (from matplotlib->catboost<1.3,>=1.2.0->snowflake-ml-python==1.5.0; python_version <= \"3.9\"->fosforml) (10.4.0)\n",
      "Requirement already satisfied: kiwisolver>=1.3.1 in /opt/conda/lib/python3.9/site-packages (from matplotlib->catboost<1.3,>=1.2.0->snowflake-ml-python==1.5.0; python_version <= \"3.9\"->fosforml) (1.4.7)\n",
      "Requirement already satisfied: jmespath<2.0.0,>=0.7.1 in /opt/conda/lib/python3.9/site-packages (from botocore<1.35.24,>=1.35.16->aiobotocore<3.0.0,>=2.5.4->s3fs<2024,>=2022.11->snowflake-ml-python==1.5.0; python_version <= \"3.9\"->fosforml) (1.0.1)\n",
      "\u001b[33mWARNING: You are using pip version 19.3.1; however, version 24.2 is available.\n",
      "You should consider upgrading via the 'pip install --upgrade pip' command.\u001b[0m\n",
      "Note: you may need to restart the kernel to use updated packages.\n"
     ]
    }
   ],
   "source": [
    "pip install fosforml"
   ]
  },
  {
   "cell_type": "code",
   "execution_count": 5,
   "id": "8327d32d-93a9-42d0-af49-396310bc502e",
   "metadata": {},
   "outputs": [],
   "source": [
    "import pandas as pd\n",
    "import fosforml\n",
    "from fosforml.model_manager.snowflakesession import get_session\n",
    "my_session = get_session()"
   ]
  },
  {
   "cell_type": "code",
   "execution_count": 6,
   "id": "94aa9fe8-9cfe-4db4-895c-743fd7b37355",
   "metadata": {},
   "outputs": [
    {
     "name": "stdout",
     "output_type": "stream",
     "text": [
      "Requirement already satisfied: seaborn in /opt/conda/lib/python3.9/site-packages (0.13.2)\n",
      "Requirement already satisfied: pandas>=1.2 in /opt/conda/lib/python3.9/site-packages (from seaborn) (2.2.2)\n",
      "Requirement already satisfied: numpy!=1.24.0,>=1.20 in /opt/conda/lib/python3.9/site-packages (from seaborn) (1.26.4)\n",
      "Requirement already satisfied: matplotlib!=3.6.1,>=3.4 in /opt/conda/lib/python3.9/site-packages (from seaborn) (3.9.2)\n",
      "Requirement already satisfied: python-dateutil>=2.8.2 in /opt/conda/lib/python3.9/site-packages (from pandas>=1.2->seaborn) (2.9.0.post0)\n",
      "Requirement already satisfied: pytz>=2020.1 in /opt/conda/lib/python3.9/site-packages (from pandas>=1.2->seaborn) (2024.1)\n",
      "Requirement already satisfied: tzdata>=2022.7 in /opt/conda/lib/python3.9/site-packages (from pandas>=1.2->seaborn) (2024.1)\n",
      "Requirement already satisfied: pillow>=8 in /opt/conda/lib/python3.9/site-packages (from matplotlib!=3.6.1,>=3.4->seaborn) (10.4.0)\n",
      "Requirement already satisfied: cycler>=0.10 in /opt/conda/lib/python3.9/site-packages (from matplotlib!=3.6.1,>=3.4->seaborn) (0.12.1)\n",
      "Requirement already satisfied: fonttools>=4.22.0 in /opt/conda/lib/python3.9/site-packages (from matplotlib!=3.6.1,>=3.4->seaborn) (4.54.1)\n",
      "Requirement already satisfied: contourpy>=1.0.1 in /opt/conda/lib/python3.9/site-packages (from matplotlib!=3.6.1,>=3.4->seaborn) (1.3.0)\n",
      "Requirement already satisfied: importlib-resources>=3.2.0; python_version < \"3.10\" in /opt/conda/lib/python3.9/site-packages (from matplotlib!=3.6.1,>=3.4->seaborn) (6.4.5)\n",
      "Requirement already satisfied: kiwisolver>=1.3.1 in /opt/conda/lib/python3.9/site-packages (from matplotlib!=3.6.1,>=3.4->seaborn) (1.4.7)\n",
      "Requirement already satisfied: pyparsing>=2.3.1 in /opt/conda/lib/python3.9/site-packages (from matplotlib!=3.6.1,>=3.4->seaborn) (3.1.4)\n",
      "Requirement already satisfied: packaging>=20.0 in /opt/conda/lib/python3.9/site-packages (from matplotlib!=3.6.1,>=3.4->seaborn) (23.2)\n",
      "Requirement already satisfied: six>=1.5 in /opt/conda/lib/python3.9/site-packages (from python-dateutil>=2.8.2->pandas>=1.2->seaborn) (1.16.0)\n",
      "Requirement already satisfied: zipp>=3.1.0; python_version < \"3.10\" in /opt/conda/lib/python3.9/site-packages (from importlib-resources>=3.2.0; python_version < \"3.10\"->matplotlib!=3.6.1,>=3.4->seaborn) (3.19.2)\n",
      "\u001b[33mWARNING: You are using pip version 19.3.1; however, version 24.2 is available.\n",
      "You should consider upgrading via the 'pip install --upgrade pip' command.\u001b[0m\n",
      "Note: you may need to restart the kernel to use updated packages.\n"
     ]
    }
   ],
   "source": [
    "pip install seaborn"
   ]
  },
  {
   "cell_type": "code",
   "execution_count": 7,
   "id": "cf2ae51c-37c6-479b-807f-3e5750055612",
   "metadata": {},
   "outputs": [],
   "source": [
    "import seaborn as sns"
   ]
  },
  {
   "cell_type": "code",
   "execution_count": 8,
   "id": "0635798c-29f1-42d9-ad33-7fc7e29ce0b8",
   "metadata": {},
   "outputs": [
    {
     "data": {
      "text/plain": [
       "'ASSORTMENT_PLANNING'"
      ]
     },
     "execution_count": 8,
     "metadata": {},
     "output_type": "execute_result"
    }
   ],
   "source": [
    "my_session.connection.database"
   ]
  },
  {
   "cell_type": "code",
   "execution_count": 9,
   "id": "16bf193d-f2f7-4390-80ef-8c2fbe1e427d",
   "metadata": {},
   "outputs": [
    {
     "data": {
      "text/plain": [
       "'CPG_BRONZE'"
      ]
     },
     "execution_count": 9,
     "metadata": {},
     "output_type": "execute_result"
    }
   ],
   "source": [
    "my_session.connection.schema"
   ]
  },
  {
   "cell_type": "code",
   "execution_count": 10,
   "id": "96503747-48be-4b85-b9e1-d0184a0dc6c9",
   "metadata": {},
   "outputs": [],
   "source": [
    "table_name = \"ASSORTMENT_PLANNING.CPG_BRONZE.SALES_CLEAN\""
   ]
  },
  {
   "cell_type": "code",
   "execution_count": 11,
   "id": "baa9de7a-5c07-4bde-a92f-68d36b342347",
   "metadata": {},
   "outputs": [],
   "source": [
    "sf_df = my_session.sql(\"select * from {}\".format(table_name))"
   ]
  },
  {
   "cell_type": "code",
   "execution_count": 12,
   "id": "5c4d2049-50d9-4371-82a9-9ab62cd9ed5b",
   "metadata": {},
   "outputs": [
    {
     "data": {
      "text/plain": [
       "snowflake.snowpark.dataframe.DataFrame"
      ]
     },
     "execution_count": 12,
     "metadata": {},
     "output_type": "execute_result"
    }
   ],
   "source": [
    "type(sf_df)"
   ]
  },
  {
   "cell_type": "code",
   "execution_count": 13,
   "id": "7729f086-2c89-4609-9fde-0de166701baa",
   "metadata": {},
   "outputs": [],
   "source": [
    "df=sf_df.to_pandas()"
   ]
  },
  {
   "cell_type": "code",
   "execution_count": 14,
   "id": "4135630b-b3b7-40c4-874b-89a98ba42538",
   "metadata": {},
   "outputs": [
    {
     "data": {
      "text/html": [
       "<div>\n",
       "<style scoped>\n",
       "    .dataframe tbody tr th:only-of-type {\n",
       "        vertical-align: middle;\n",
       "    }\n",
       "\n",
       "    .dataframe tbody tr th {\n",
       "        vertical-align: top;\n",
       "    }\n",
       "\n",
       "    .dataframe thead th {\n",
       "        text-align: right;\n",
       "    }\n",
       "</style>\n",
       "<table border=\"1\" class=\"dataframe\">\n",
       "  <thead>\n",
       "    <tr style=\"text-align: right;\">\n",
       "      <th></th>\n",
       "      <th>MNTH_CODE</th>\n",
       "      <th>TRANS_DATE</th>\n",
       "      <th>START_DATE</th>\n",
       "      <th>SALES_VALUE</th>\n",
       "      <th>SALES_UNITS</th>\n",
       "      <th>SALES_VOLUME</th>\n",
       "      <th>SALES_PTR_VALUE</th>\n",
       "      <th>OC_CODE</th>\n",
       "      <th>DISTRIBUTOR_CODE</th>\n",
       "      <th>OUTLET_CODE</th>\n",
       "      <th>CITY</th>\n",
       "      <th>STATE</th>\n",
       "      <th>COUNTY</th>\n",
       "      <th>STREET</th>\n",
       "      <th>PRODUCT_CODE</th>\n",
       "      <th>CATEGORY</th>\n",
       "      <th>SUBCATEGORY</th>\n",
       "      <th>BRAND</th>\n",
       "    </tr>\n",
       "  </thead>\n",
       "  <tbody>\n",
       "    <tr>\n",
       "      <th>0</th>\n",
       "      <td>202401</td>\n",
       "      <td>2024-01-18</td>\n",
       "      <td>2024-01-02</td>\n",
       "      <td>1537.89</td>\n",
       "      <td>16</td>\n",
       "      <td>0.001712</td>\n",
       "      <td>1585.454545</td>\n",
       "      <td>202201</td>\n",
       "      <td>DB0706</td>\n",
       "      <td>OL144111</td>\n",
       "      <td>Sedalia</td>\n",
       "      <td>Missouri</td>\n",
       "      <td>City Center</td>\n",
       "      <td>Str4</td>\n",
       "      <td>PRD0064</td>\n",
       "      <td>Hair Care</td>\n",
       "      <td>Conditioner</td>\n",
       "      <td>Bamboo</td>\n",
       "    </tr>\n",
       "    <tr>\n",
       "      <th>1</th>\n",
       "      <td>202401</td>\n",
       "      <td>2024-01-28</td>\n",
       "      <td>2024-01-02</td>\n",
       "      <td>518.18</td>\n",
       "      <td>3</td>\n",
       "      <td>0.001125</td>\n",
       "      <td>518.181818</td>\n",
       "      <td>202201</td>\n",
       "      <td>DB0706</td>\n",
       "      <td>OL238706</td>\n",
       "      <td>Williston</td>\n",
       "      <td>North Dakota</td>\n",
       "      <td>City Center</td>\n",
       "      <td>Str1</td>\n",
       "      <td>PRD0113</td>\n",
       "      <td>Perfume and Deodrants</td>\n",
       "      <td>Unisex Deodrant</td>\n",
       "      <td>Navy Blue</td>\n",
       "    </tr>\n",
       "    <tr>\n",
       "      <th>2</th>\n",
       "      <td>202401</td>\n",
       "      <td>2024-01-13</td>\n",
       "      <td>2024-01-02</td>\n",
       "      <td>113.64</td>\n",
       "      <td>1</td>\n",
       "      <td>0.000250</td>\n",
       "      <td>113.636364</td>\n",
       "      <td>202201</td>\n",
       "      <td>DB0706</td>\n",
       "      <td>OL223076</td>\n",
       "      <td>Silver City</td>\n",
       "      <td>New Mexico</td>\n",
       "      <td>Santa Cruz</td>\n",
       "      <td>Str1</td>\n",
       "      <td>PRD0107</td>\n",
       "      <td>Lotion</td>\n",
       "      <td>Body Lotion</td>\n",
       "      <td>Coral</td>\n",
       "    </tr>\n",
       "    <tr>\n",
       "      <th>3</th>\n",
       "      <td>202401</td>\n",
       "      <td>2024-01-06</td>\n",
       "      <td>2024-01-02</td>\n",
       "      <td>285.71</td>\n",
       "      <td>32</td>\n",
       "      <td>0.000832</td>\n",
       "      <td>285.714286</td>\n",
       "      <td>202201</td>\n",
       "      <td>DB0652</td>\n",
       "      <td>OL175529</td>\n",
       "      <td>Dunkirk</td>\n",
       "      <td>New York</td>\n",
       "      <td>Dolphin</td>\n",
       "      <td>Str3</td>\n",
       "      <td>PRD0147</td>\n",
       "      <td>Kids Care</td>\n",
       "      <td>Baby Cream</td>\n",
       "      <td>Mint</td>\n",
       "    </tr>\n",
       "    <tr>\n",
       "      <th>4</th>\n",
       "      <td>202401</td>\n",
       "      <td>2024-01-18</td>\n",
       "      <td>2024-01-02</td>\n",
       "      <td>290.91</td>\n",
       "      <td>1</td>\n",
       "      <td>0.000500</td>\n",
       "      <td>290.909091</td>\n",
       "      <td>202201</td>\n",
       "      <td>DB0652</td>\n",
       "      <td>OL48851</td>\n",
       "      <td>Stroudsburg</td>\n",
       "      <td>Pennsylvania</td>\n",
       "      <td>City Center</td>\n",
       "      <td>Str2</td>\n",
       "      <td>PRD0004</td>\n",
       "      <td>Lotion</td>\n",
       "      <td>Body Lotion</td>\n",
       "      <td>Tan</td>\n",
       "    </tr>\n",
       "  </tbody>\n",
       "</table>\n",
       "</div>"
      ],
      "text/plain": [
       "   MNTH_CODE  TRANS_DATE  START_DATE  SALES_VALUE  SALES_UNITS  SALES_VOLUME  \\\n",
       "0     202401  2024-01-18  2024-01-02      1537.89           16      0.001712   \n",
       "1     202401  2024-01-28  2024-01-02       518.18            3      0.001125   \n",
       "2     202401  2024-01-13  2024-01-02       113.64            1      0.000250   \n",
       "3     202401  2024-01-06  2024-01-02       285.71           32      0.000832   \n",
       "4     202401  2024-01-18  2024-01-02       290.91            1      0.000500   \n",
       "\n",
       "   SALES_PTR_VALUE  OC_CODE DISTRIBUTOR_CODE OUTLET_CODE         CITY  \\\n",
       "0      1585.454545   202201           DB0706    OL144111      Sedalia   \n",
       "1       518.181818   202201           DB0706    OL238706    Williston   \n",
       "2       113.636364   202201           DB0706    OL223076  Silver City   \n",
       "3       285.714286   202201           DB0652    OL175529      Dunkirk   \n",
       "4       290.909091   202201           DB0652     OL48851  Stroudsburg   \n",
       "\n",
       "          STATE       COUNTY STREET PRODUCT_CODE               CATEGORY  \\\n",
       "0      Missouri  City Center   Str4      PRD0064              Hair Care   \n",
       "1  North Dakota  City Center   Str1      PRD0113  Perfume and Deodrants   \n",
       "2    New Mexico   Santa Cruz   Str1      PRD0107                 Lotion   \n",
       "3      New York      Dolphin   Str3      PRD0147              Kids Care   \n",
       "4  Pennsylvania  City Center   Str2      PRD0004                 Lotion   \n",
       "\n",
       "       SUBCATEGORY      BRAND  \n",
       "0      Conditioner     Bamboo  \n",
       "1  Unisex Deodrant  Navy Blue  \n",
       "2      Body Lotion      Coral  \n",
       "3       Baby Cream       Mint  \n",
       "4      Body Lotion        Tan  "
      ]
     },
     "execution_count": 14,
     "metadata": {},
     "output_type": "execute_result"
    }
   ],
   "source": [
    "df.head()"
   ]
  },
  {
   "cell_type": "code",
   "execution_count": 12,
   "id": "9f18e27a-627e-4dcd-b019-f8efd177c03f",
   "metadata": {},
   "outputs": [
    {
     "data": {
      "text/plain": [
       "(966400, 18)"
      ]
     },
     "execution_count": 12,
     "metadata": {},
     "output_type": "execute_result"
    }
   ],
   "source": [
    "df.shape"
   ]
  },
  {
   "cell_type": "code",
   "execution_count": 15,
   "id": "9f5599f9-b135-4c52-9921-e4904495a233",
   "metadata": {},
   "outputs": [
    {
     "data": {
      "text/plain": [
       "MNTH_CODE           0.0\n",
       "TRANS_DATE          0.0\n",
       "START_DATE          0.0\n",
       "SALES_VALUE         0.0\n",
       "SALES_UNITS         0.0\n",
       "SALES_VOLUME        0.0\n",
       "SALES_PTR_VALUE     0.0\n",
       "OC_CODE             0.0\n",
       "DISTRIBUTOR_CODE    0.0\n",
       "OUTLET_CODE         0.0\n",
       "CITY                0.0\n",
       "STATE               0.0\n",
       "COUNTY              0.0\n",
       "STREET              0.0\n",
       "PRODUCT_CODE        0.0\n",
       "CATEGORY            0.0\n",
       "SUBCATEGORY         0.0\n",
       "BRAND               0.0\n",
       "dtype: float64"
      ]
     },
     "execution_count": 15,
     "metadata": {},
     "output_type": "execute_result"
    }
   ],
   "source": [
    "#How many % of missing values do we have for each feature?\n",
    "missing_percentage = df.isnull().sum() / df.shape[0] * 100 \n",
    "missing_percentage"
   ]
  },
  {
   "cell_type": "code",
   "execution_count": 14,
   "id": "632d12a1-12d1-4e02-9c2c-a376a8d78513",
   "metadata": {},
   "outputs": [
    {
     "data": {
      "text/html": [
       "<div>\n",
       "<style scoped>\n",
       "    .dataframe tbody tr th:only-of-type {\n",
       "        vertical-align: middle;\n",
       "    }\n",
       "\n",
       "    .dataframe tbody tr th {\n",
       "        vertical-align: top;\n",
       "    }\n",
       "\n",
       "    .dataframe thead th {\n",
       "        text-align: right;\n",
       "    }\n",
       "</style>\n",
       "<table border=\"1\" class=\"dataframe\">\n",
       "  <thead>\n",
       "    <tr style=\"text-align: right;\">\n",
       "      <th></th>\n",
       "      <th>SALES_VOLUME</th>\n",
       "      <th>SALES_UNITS</th>\n",
       "    </tr>\n",
       "  </thead>\n",
       "  <tbody>\n",
       "    <tr>\n",
       "      <th>count</th>\n",
       "      <td>0.0</td>\n",
       "      <td>0.0</td>\n",
       "    </tr>\n",
       "    <tr>\n",
       "      <th>mean</th>\n",
       "      <td>NaN</td>\n",
       "      <td>NaN</td>\n",
       "    </tr>\n",
       "    <tr>\n",
       "      <th>std</th>\n",
       "      <td>NaN</td>\n",
       "      <td>NaN</td>\n",
       "    </tr>\n",
       "    <tr>\n",
       "      <th>min</th>\n",
       "      <td>NaN</td>\n",
       "      <td>NaN</td>\n",
       "    </tr>\n",
       "    <tr>\n",
       "      <th>25%</th>\n",
       "      <td>NaN</td>\n",
       "      <td>NaN</td>\n",
       "    </tr>\n",
       "    <tr>\n",
       "      <th>50%</th>\n",
       "      <td>NaN</td>\n",
       "      <td>NaN</td>\n",
       "    </tr>\n",
       "    <tr>\n",
       "      <th>75%</th>\n",
       "      <td>NaN</td>\n",
       "      <td>NaN</td>\n",
       "    </tr>\n",
       "    <tr>\n",
       "      <th>max</th>\n",
       "      <td>NaN</td>\n",
       "      <td>NaN</td>\n",
       "    </tr>\n",
       "  </tbody>\n",
       "</table>\n",
       "</div>"
      ],
      "text/plain": [
       "       SALES_VOLUME  SALES_UNITS\n",
       "count           0.0          0.0\n",
       "mean            NaN          NaN\n",
       "std             NaN          NaN\n",
       "min             NaN          NaN\n",
       "25%             NaN          NaN\n",
       "50%             NaN          NaN\n",
       "75%             NaN          NaN\n",
       "max             NaN          NaN"
      ]
     },
     "execution_count": 14,
     "metadata": {},
     "output_type": "execute_result"
    }
   ],
   "source": [
    "#no any transactions happened without distributer and no outliers/NULL in sales\n",
    "df.loc[df.DISTRIBUTOR_CODE.isnull(), [\"SALES_VOLUME\", \"SALES_UNITS\"]].describe()"
   ]
  },
  {
   "cell_type": "code",
   "execution_count": 15,
   "id": "189391a9-d5d1-408b-b6cb-9fe610c659ef",
   "metadata": {},
   "outputs": [
    {
     "data": {
      "text/html": [
       "<div>\n",
       "<style scoped>\n",
       "    .dataframe tbody tr th:only-of-type {\n",
       "        vertical-align: middle;\n",
       "    }\n",
       "\n",
       "    .dataframe tbody tr th {\n",
       "        vertical-align: top;\n",
       "    }\n",
       "\n",
       "    .dataframe thead th {\n",
       "        text-align: right;\n",
       "    }\n",
       "</style>\n",
       "<table border=\"1\" class=\"dataframe\">\n",
       "  <thead>\n",
       "    <tr style=\"text-align: right;\">\n",
       "      <th></th>\n",
       "      <th>SALES_VOLUME</th>\n",
       "      <th>SALES_UNITS</th>\n",
       "    </tr>\n",
       "  </thead>\n",
       "  <tbody>\n",
       "    <tr>\n",
       "      <th>count</th>\n",
       "      <td>0.0</td>\n",
       "      <td>0.0</td>\n",
       "    </tr>\n",
       "    <tr>\n",
       "      <th>mean</th>\n",
       "      <td>NaN</td>\n",
       "      <td>NaN</td>\n",
       "    </tr>\n",
       "    <tr>\n",
       "      <th>std</th>\n",
       "      <td>NaN</td>\n",
       "      <td>NaN</td>\n",
       "    </tr>\n",
       "    <tr>\n",
       "      <th>min</th>\n",
       "      <td>NaN</td>\n",
       "      <td>NaN</td>\n",
       "    </tr>\n",
       "    <tr>\n",
       "      <th>25%</th>\n",
       "      <td>NaN</td>\n",
       "      <td>NaN</td>\n",
       "    </tr>\n",
       "    <tr>\n",
       "      <th>50%</th>\n",
       "      <td>NaN</td>\n",
       "      <td>NaN</td>\n",
       "    </tr>\n",
       "    <tr>\n",
       "      <th>75%</th>\n",
       "      <td>NaN</td>\n",
       "      <td>NaN</td>\n",
       "    </tr>\n",
       "    <tr>\n",
       "      <th>max</th>\n",
       "      <td>NaN</td>\n",
       "      <td>NaN</td>\n",
       "    </tr>\n",
       "  </tbody>\n",
       "</table>\n",
       "</div>"
      ],
      "text/plain": [
       "       SALES_VOLUME  SALES_UNITS\n",
       "count           0.0          0.0\n",
       "mean            NaN          NaN\n",
       "std             NaN          NaN\n",
       "min             NaN          NaN\n",
       "25%             NaN          NaN\n",
       "50%             NaN          NaN\n",
       "75%             NaN          NaN\n",
       "max             NaN          NaN"
      ]
     },
     "execution_count": 15,
     "metadata": {},
     "output_type": "execute_result"
    }
   ],
   "source": [
    "#no any transactions happened without distributer and no outliers in sales\n",
    "df.loc[df.OUTLET_CODE.isnull(), [\"SALES_VOLUME\", \"SALES_UNITS\"]].describe()"
   ]
  },
  {
   "cell_type": "code",
   "execution_count": 16,
   "id": "375742d8-a319-4e0f-a770-2a65ffc46fce",
   "metadata": {},
   "outputs": [
    {
     "data": {
      "text/plain": [
       "18833"
      ]
     },
     "execution_count": 16,
     "metadata": {},
     "output_type": "execute_result"
    }
   ],
   "source": [
    "df.OUTLET_CODE.nunique()"
   ]
  },
  {
   "cell_type": "code",
   "execution_count": 17,
   "id": "45ade9b7-781b-418e-a81a-1b4435ff606a",
   "metadata": {},
   "outputs": [
    {
     "data": {
      "text/plain": [
       "5"
      ]
     },
     "execution_count": 17,
     "metadata": {},
     "output_type": "execute_result"
    }
   ],
   "source": [
    "df.DISTRIBUTOR_CODE.nunique()"
   ]
  },
  {
   "cell_type": "code",
   "execution_count": 18,
   "id": "087cd736-b17b-49ae-969b-dfdc1f5f801e",
   "metadata": {},
   "outputs": [
    {
     "data": {
      "text/plain": [
       "[       MNTH_CODE  SALES_VALUE  SALES_UNITS  SALES_VOLUME  SALES_PTR_VALUE  \\\n",
       " count      False        False        False         False            False   \n",
       " mean       False        False        False         False            False   \n",
       " std        False        False        False         False            False   \n",
       " min        False        False        False         False            False   \n",
       " 25%        False        False        False         False            False   \n",
       " 50%        False        False        False         False            False   \n",
       " 75%        False        False        False         False            False   \n",
       " max        False        False        False         False            False   \n",
       " \n",
       "        OC_CODE  \n",
       " count    False  \n",
       " mean     False  \n",
       " std      False  \n",
       " min      False  \n",
       " 25%      False  \n",
       " 50%      False  \n",
       " 75%      False  \n",
       " max      False  ]"
      ]
     },
     "execution_count": 18,
     "metadata": {},
     "output_type": "execute_result"
    }
   ],
   "source": [
    "#no negative sales happened\n",
    "[df.describe()<0]"
   ]
  },
  {
   "cell_type": "code",
   "execution_count": 16,
   "id": "3c42bc0f-514b-49a7-9afb-612b0217cd27",
   "metadata": {},
   "outputs": [
    {
     "data": {
      "text/plain": [
       "MNTH_CODE           0\n",
       "TRANS_DATE          0\n",
       "START_DATE          0\n",
       "SALES_VALUE         0\n",
       "SALES_UNITS         0\n",
       "SALES_VOLUME        0\n",
       "SALES_PTR_VALUE     0\n",
       "OC_CODE             0\n",
       "DISTRIBUTOR_CODE    0\n",
       "OUTLET_CODE         0\n",
       "CITY                0\n",
       "STATE               0\n",
       "COUNTY              0\n",
       "STREET              0\n",
       "PRODUCT_CODE        0\n",
       "CATEGORY            0\n",
       "SUBCATEGORY         0\n",
       "BRAND               0\n",
       "dtype: int64"
      ]
     },
     "execution_count": 16,
     "metadata": {},
     "output_type": "execute_result"
    }
   ],
   "source": [
    "df.isnull().sum()"
   ]
  },
  {
   "cell_type": "code",
   "execution_count": 17,
   "id": "bde99513-99a3-4b82-8068-01917bfc3f71",
   "metadata": {},
   "outputs": [
    {
     "data": {
      "text/plain": [
       "3158"
      ]
     },
     "execution_count": 17,
     "metadata": {},
     "output_type": "execute_result"
    }
   ],
   "source": [
    "df.duplicated().sum()"
   ]
  },
  {
   "cell_type": "code",
   "execution_count": 27,
   "id": "22a2f256-ee2a-4461-a164-bb97355c007a",
   "metadata": {},
   "outputs": [
    {
     "data": {
      "text/html": [
       "<div>\n",
       "<style scoped>\n",
       "    .dataframe tbody tr th:only-of-type {\n",
       "        vertical-align: middle;\n",
       "    }\n",
       "\n",
       "    .dataframe tbody tr th {\n",
       "        vertical-align: top;\n",
       "    }\n",
       "\n",
       "    .dataframe thead th {\n",
       "        text-align: right;\n",
       "    }\n",
       "</style>\n",
       "<table border=\"1\" class=\"dataframe\">\n",
       "  <thead>\n",
       "    <tr style=\"text-align: right;\">\n",
       "      <th></th>\n",
       "      <th>MNTH_CODE</th>\n",
       "      <th>SALES_VALUE</th>\n",
       "      <th>SALES_UNITS</th>\n",
       "      <th>SALES_VOLUME</th>\n",
       "      <th>SALES_PTR_VALUE</th>\n",
       "      <th>OC_CODE</th>\n",
       "    </tr>\n",
       "  </thead>\n",
       "  <tbody>\n",
       "    <tr>\n",
       "      <th>MNTH_CODE</th>\n",
       "      <td>1.000000</td>\n",
       "      <td>-0.007954</td>\n",
       "      <td>-0.011117</td>\n",
       "      <td>-0.005767</td>\n",
       "      <td>-0.007843</td>\n",
       "      <td>-0.791833</td>\n",
       "    </tr>\n",
       "    <tr>\n",
       "      <th>SALES_VALUE</th>\n",
       "      <td>-0.007954</td>\n",
       "      <td>1.000000</td>\n",
       "      <td>0.331870</td>\n",
       "      <td>0.925910</td>\n",
       "      <td>0.996460</td>\n",
       "      <td>0.005674</td>\n",
       "    </tr>\n",
       "    <tr>\n",
       "      <th>SALES_UNITS</th>\n",
       "      <td>-0.011117</td>\n",
       "      <td>0.331870</td>\n",
       "      <td>1.000000</td>\n",
       "      <td>0.427627</td>\n",
       "      <td>0.334911</td>\n",
       "      <td>0.013232</td>\n",
       "    </tr>\n",
       "    <tr>\n",
       "      <th>SALES_VOLUME</th>\n",
       "      <td>-0.005767</td>\n",
       "      <td>0.925910</td>\n",
       "      <td>0.427627</td>\n",
       "      <td>1.000000</td>\n",
       "      <td>0.927547</td>\n",
       "      <td>0.004323</td>\n",
       "    </tr>\n",
       "    <tr>\n",
       "      <th>SALES_PTR_VALUE</th>\n",
       "      <td>-0.007843</td>\n",
       "      <td>0.996460</td>\n",
       "      <td>0.334911</td>\n",
       "      <td>0.927547</td>\n",
       "      <td>1.000000</td>\n",
       "      <td>0.006129</td>\n",
       "    </tr>\n",
       "    <tr>\n",
       "      <th>OC_CODE</th>\n",
       "      <td>-0.791833</td>\n",
       "      <td>0.005674</td>\n",
       "      <td>0.013232</td>\n",
       "      <td>0.004323</td>\n",
       "      <td>0.006129</td>\n",
       "      <td>1.000000</td>\n",
       "    </tr>\n",
       "  </tbody>\n",
       "</table>\n",
       "</div>"
      ],
      "text/plain": [
       "                 MNTH_CODE  SALES_VALUE  SALES_UNITS  SALES_VOLUME  \\\n",
       "MNTH_CODE         1.000000    -0.007954    -0.011117     -0.005767   \n",
       "SALES_VALUE      -0.007954     1.000000     0.331870      0.925910   \n",
       "SALES_UNITS      -0.011117     0.331870     1.000000      0.427627   \n",
       "SALES_VOLUME     -0.005767     0.925910     0.427627      1.000000   \n",
       "SALES_PTR_VALUE  -0.007843     0.996460     0.334911      0.927547   \n",
       "OC_CODE          -0.791833     0.005674     0.013232      0.004323   \n",
       "\n",
       "                 SALES_PTR_VALUE   OC_CODE  \n",
       "MNTH_CODE              -0.007843 -0.791833  \n",
       "SALES_VALUE             0.996460  0.005674  \n",
       "SALES_UNITS             0.334911  0.013232  \n",
       "SALES_VOLUME            0.927547  0.004323  \n",
       "SALES_PTR_VALUE         1.000000  0.006129  \n",
       "OC_CODE                 0.006129  1.000000  "
      ]
     },
     "execution_count": 27,
     "metadata": {},
     "output_type": "execute_result"
    }
   ],
   "source": [
    "df.corr(numeric_only=True)"
   ]
  },
  {
   "cell_type": "code",
   "execution_count": 20,
   "id": "31735cef-f845-4f96-aa5d-a29b40bf7cda",
   "metadata": {},
   "outputs": [],
   "source": [
    "import numpy as np \n",
    "import pandas as pd \n",
    "import matplotlib.pyplot as plt\n",
    "%matplotlib inline\n",
    "\n",
    "import seaborn as sns\n",
    "sns.set()\n",
    "\n",
    "from catboost import CatBoostRegressor, Pool, cv\n",
    "from catboost import MetricVisualizer\n",
    "\n",
    "from sklearn.model_selection import TimeSeriesSplit\n",
    "from sklearn.preprocessing import StandardScaler\n",
    "from sklearn.cluster import KMeans\n",
    "\n",
    "from scipy.stats import boxcox\n",
    "from os import listdir"
   ]
  },
  {
   "cell_type": "code",
   "execution_count": 20,
   "id": "7dd5d8bf-629a-46c3-8108-e101af8de549",
   "metadata": {},
   "outputs": [
    {
     "data": {
      "image/png": "[encoded data removed]",
      "text/plain": [
       "<Figure size 2000x500 with 1 Axes>"
      ]
     },
     "metadata": {},
     "output_type": "display_data"
    }
   ],
   "source": [
    "\n",
    "# Group by description and sum the sales\n",
    "productby_sales = df.groupby('CATEGORY')['SALES_VOLUME'].sum().sort_values(ascending=False).iloc[0:30]\n",
    "\n",
    "# Plotting\n",
    "plt.figure(figsize=(20, 5))\n",
    "sns.barplot(x=productby_sales.index, y=productby_sales.values, palette=\"Purples_r\")\n",
    "plt.ylabel(\"Total Sales\")\n",
    "plt.title(\"Which products has the most sales?\")\n",
    "plt.xticks(rotation=90)\n",
    "plt.show()\n"
   ]
  },
  {
   "cell_type": "code",
   "execution_count": 21,
   "id": "42c47cf4-2e4f-48b1-8d28-d2675abfea31",
   "metadata": {},
   "outputs": [
    {
     "data": {
      "image/png": "[encoded data removed]",
      "text/plain": [
       "<Figure size 2000x500 with 1 Axes>"
      ]
     },
     "metadata": {},
     "output_type": "display_data"
    }
   ],
   "source": [
    "\n",
    "# Group by description and sum the sales\n",
    "productby_qty = df.groupby('CATEGORY')['SALES_UNITS'].sum().sort_values(ascending=False).iloc[0:30]\n",
    "\n",
    "# Plotting\n",
    "plt.figure(figsize=(20, 5))\n",
    "sns.barplot(x=productby_qty.index, y=productby_qty.values, palette=\"Greens_r\")\n",
    "plt.ylabel(\"Total Sales\")\n",
    "plt.title(\"Which products sold most?\")\n",
    "plt.xticks(rotation=90)\n",
    "plt.show()\n"
   ]
  },
  {
   "cell_type": "code",
   "execution_count": 18,
   "id": "a29fde30-22cd-4b9a-b6f6-61c8c69c876d",
   "metadata": {},
   "outputs": [
    {
     "data": {
      "text/plain": [
       "9"
      ]
     },
     "execution_count": 18,
     "metadata": {},
     "output_type": "execute_result"
    }
   ],
   "source": [
    "df.COUNTY.nunique()"
   ]
  },
  {
   "cell_type": "code",
   "execution_count": 25,
   "id": "d2f21e7f-3c9b-4606-830b-4e3fc5cfa2ca",
   "metadata": {},
   "outputs": [
    {
     "data": {
      "text/plain": [
       "303"
      ]
     },
     "execution_count": 25,
     "metadata": {},
     "output_type": "execute_result"
    }
   ],
   "source": [
    "# Find unique dates\n",
    "df['TRANS_DATE'].nunique()"
   ]
  },
  {
   "cell_type": "code",
   "execution_count": 34,
   "id": "f6595b8f-c81b-422d-bcc7-29120a02995d",
   "metadata": {},
   "outputs": [
    {
     "data": {
      "image/png": "[encoded data removed]",
      "text/plain": [
       "<Figure size 2000x500 with 1 Axes>"
      ]
     },
     "metadata": {},
     "output_type": "display_data"
    }
   ],
   "source": [
    "state_counts = df.STATE.value_counts().sort_values(ascending=False).iloc[0:20]\n",
    "plt.figure(figsize=(20,5))\n",
    "sns.barplot(x=state_counts.index, y=state_counts.values, palette=\"Blues_r\")\n",
    "plt.ylabel(\"Counts\")\n",
    "plt.title(\"Which State made the most transactions?\");\n",
    "plt.xticks(rotation=90);\n",
    "plt.yscale(\"log\")"
   ]
  },
  {
   "cell_type": "code",
   "execution_count": 37,
   "id": "0f8065f6-4ca2-405b-8f9c-cb1922571aa2",
   "metadata": {},
   "outputs": [
    {
     "data": {
      "text/plain": [
       "11.530111754966887"
      ]
     },
     "execution_count": 37,
     "metadata": {},
     "output_type": "execute_result"
    }
   ],
   "source": [
    "#How many percentage of transactions happened in california\n",
    "df.loc[df.STATE==\"California\"].shape[0] / df.shape[0] * 100"
   ]
  },
  {
   "cell_type": "code",
   "execution_count": 39,
   "id": "f7c3fa12-d20e-45f2-8e0f-66565ccde785",
   "metadata": {},
   "outputs": [],
   "source": [
    "df['TRANS_DATE'] = pd.to_datetime(df['TRANS_DATE'])\n",
    "df['START_DATE'] = pd.to_datetime(df['START_DATE'])"
   ]
  },
  {
   "cell_type": "code",
   "execution_count": 40,
   "id": "9e3c36d7-457d-4149-81a4-16bd6c00a904",
   "metadata": {},
   "outputs": [],
   "source": [
    "# Create features from date column\n",
    "df['YEAR'] = df['TRANS_DATE'].dt.year\n",
    "df['MONTH'] = df['TRANS_DATE'].dt.month\n",
    "df['DAY'] = df['TRANS_DATE'].dt.day\n",
    "df['DAY_OF_WEEK'] = df['TRANS_DATE'].dt.day_of_week + 1 # Monday is 1 and sunday is 7\n",
    "df['QUARTER'] = df['TRANS_DATE'].dt.quarter\n",
    "df['DAY_OF_YEAR'] = df['TRANS_DATE'].dt.dayofyear"
   ]
  },
  {
   "cell_type": "code",
   "execution_count": 41,
   "id": "d41c7ec0-7e6f-4abb-b391-8dc8841ad416",
   "metadata": {},
   "outputs": [
    {
     "data": {
      "text/html": [
       "<div>\n",
       "<style scoped>\n",
       "    .dataframe tbody tr th:only-of-type {\n",
       "        vertical-align: middle;\n",
       "    }\n",
       "\n",
       "    .dataframe tbody tr th {\n",
       "        vertical-align: top;\n",
       "    }\n",
       "\n",
       "    .dataframe thead th {\n",
       "        text-align: right;\n",
       "    }\n",
       "</style>\n",
       "<table border=\"1\" class=\"dataframe\">\n",
       "  <thead>\n",
       "    <tr style=\"text-align: right;\">\n",
       "      <th></th>\n",
       "      <th>MNTH_CODE</th>\n",
       "      <th>TRANS_DATE</th>\n",
       "      <th>START_DATE</th>\n",
       "      <th>SALES_VALUE</th>\n",
       "      <th>SALES_UNITS</th>\n",
       "      <th>SALES_VOLUME</th>\n",
       "      <th>SALES_PTR_VALUE</th>\n",
       "      <th>OC_CODE</th>\n",
       "      <th>YEAR</th>\n",
       "      <th>MONTH</th>\n",
       "      <th>DAY</th>\n",
       "      <th>DAY_OF_WEEK</th>\n",
       "      <th>QUARTER</th>\n",
       "      <th>DAY_OF_YEAR</th>\n",
       "    </tr>\n",
       "  </thead>\n",
       "  <tbody>\n",
       "    <tr>\n",
       "      <th>count</th>\n",
       "      <td>966400.000000</td>\n",
       "      <td>966400</td>\n",
       "      <td>966400</td>\n",
       "      <td>966400.000000</td>\n",
       "      <td>966400.000000</td>\n",
       "      <td>966400.000000</td>\n",
       "      <td>966400.000000</td>\n",
       "      <td>966400.000000</td>\n",
       "      <td>966400.000000</td>\n",
       "      <td>966400.000000</td>\n",
       "      <td>966400.000000</td>\n",
       "      <td>966400.000000</td>\n",
       "      <td>966400.000000</td>\n",
       "      <td>966400.000000</td>\n",
       "    </tr>\n",
       "    <tr>\n",
       "      <th>mean</th>\n",
       "      <td>202372.876450</td>\n",
       "      <td>2024-03-01 03:47:10.976822272</td>\n",
       "      <td>2024-02-14 23:17:36.278145792</td>\n",
       "      <td>446.417454</td>\n",
       "      <td>12.696476</td>\n",
       "      <td>0.000931</td>\n",
       "      <td>457.814679</td>\n",
       "      <td>202206.573263</td>\n",
       "      <td>2023.663032</td>\n",
       "      <td>6.557728</td>\n",
       "      <td>15.405579</td>\n",
       "      <td>4.324140</td>\n",
       "      <td>2.513462</td>\n",
       "      <td>184.151133</td>\n",
       "    </tr>\n",
       "    <tr>\n",
       "      <th>min</th>\n",
       "      <td>202309.000000</td>\n",
       "      <td>2023-08-29 00:00:00</td>\n",
       "      <td>2023-08-28 00:00:00</td>\n",
       "      <td>2.860000</td>\n",
       "      <td>1.000000</td>\n",
       "      <td>0.000011</td>\n",
       "      <td>1.785714</td>\n",
       "      <td>202201.000000</td>\n",
       "      <td>2023.000000</td>\n",
       "      <td>1.000000</td>\n",
       "      <td>1.000000</td>\n",
       "      <td>1.000000</td>\n",
       "      <td>1.000000</td>\n",
       "      <td>3.000000</td>\n",
       "    </tr>\n",
       "    <tr>\n",
       "      <th>25%</th>\n",
       "      <td>202312.000000</td>\n",
       "      <td>2023-11-30 00:00:00</td>\n",
       "      <td>2023-11-27 00:00:00</td>\n",
       "      <td>140.000000</td>\n",
       "      <td>2.000000</td>\n",
       "      <td>0.000368</td>\n",
       "      <td>142.857143</td>\n",
       "      <td>202204.000000</td>\n",
       "      <td>2023.000000</td>\n",
       "      <td>4.000000</td>\n",
       "      <td>8.000000</td>\n",
       "      <td>3.000000</td>\n",
       "      <td>2.000000</td>\n",
       "      <td>97.000000</td>\n",
       "    </tr>\n",
       "    <tr>\n",
       "      <th>50%</th>\n",
       "      <td>202403.000000</td>\n",
       "      <td>2024-03-03 00:00:00</td>\n",
       "      <td>2024-02-27 00:00:00</td>\n",
       "      <td>192.240000</td>\n",
       "      <td>6.000000</td>\n",
       "      <td>0.000448</td>\n",
       "      <td>198.181818</td>\n",
       "      <td>202207.000000</td>\n",
       "      <td>2024.000000</td>\n",
       "      <td>7.000000</td>\n",
       "      <td>15.000000</td>\n",
       "      <td>5.000000</td>\n",
       "      <td>3.000000</td>\n",
       "      <td>186.000000</td>\n",
       "    </tr>\n",
       "    <tr>\n",
       "      <th>75%</th>\n",
       "      <td>202406.000000</td>\n",
       "      <td>2024-06-04 00:00:00</td>\n",
       "      <td>2024-05-29 00:00:00</td>\n",
       "      <td>450.000000</td>\n",
       "      <td>16.000000</td>\n",
       "      <td>0.000900</td>\n",
       "      <td>450.000000</td>\n",
       "      <td>202209.000000</td>\n",
       "      <td>2024.000000</td>\n",
       "      <td>9.000000</td>\n",
       "      <td>23.000000</td>\n",
       "      <td>6.000000</td>\n",
       "      <td>3.000000</td>\n",
       "      <td>271.000000</td>\n",
       "    </tr>\n",
       "    <tr>\n",
       "      <th>max</th>\n",
       "      <td>202408.000000</td>\n",
       "      <td>2024-08-27 00:00:00</td>\n",
       "      <td>2024-07-31 00:00:00</td>\n",
       "      <td>145728.120000</td>\n",
       "      <td>10240.000000</td>\n",
       "      <td>0.275500</td>\n",
       "      <td>151800.000000</td>\n",
       "      <td>202212.000000</td>\n",
       "      <td>2024.000000</td>\n",
       "      <td>12.000000</td>\n",
       "      <td>31.000000</td>\n",
       "      <td>7.000000</td>\n",
       "      <td>4.000000</td>\n",
       "      <td>365.000000</td>\n",
       "    </tr>\n",
       "    <tr>\n",
       "      <th>std</th>\n",
       "      <td>44.525843</td>\n",
       "      <td>NaN</td>\n",
       "      <td>NaN</td>\n",
       "      <td>1053.355633</td>\n",
       "      <td>40.761336</td>\n",
       "      <td>0.002063</td>\n",
       "      <td>1101.769102</td>\n",
       "      <td>3.404526</td>\n",
       "      <td>0.472674</td>\n",
       "      <td>3.399272</td>\n",
       "      <td>8.632029</td>\n",
       "      <td>1.952907</td>\n",
       "      <td>1.100524</td>\n",
       "      <td>103.703252</td>\n",
       "    </tr>\n",
       "  </tbody>\n",
       "</table>\n",
       "</div>"
      ],
      "text/plain": [
       "           MNTH_CODE                     TRANS_DATE  \\\n",
       "count  966400.000000                         966400   \n",
       "mean   202372.876450  2024-03-01 03:47:10.976822272   \n",
       "min    202309.000000            2023-08-29 00:00:00   \n",
       "25%    202312.000000            2023-11-30 00:00:00   \n",
       "50%    202403.000000            2024-03-03 00:00:00   \n",
       "75%    202406.000000            2024-06-04 00:00:00   \n",
       "max    202408.000000            2024-08-27 00:00:00   \n",
       "std        44.525843                            NaN   \n",
       "\n",
       "                          START_DATE    SALES_VALUE    SALES_UNITS  \\\n",
       "count                         966400  966400.000000  966400.000000   \n",
       "mean   2024-02-14 23:17:36.278145792     446.417454      12.696476   \n",
       "min              2023-08-28 00:00:00       2.860000       1.000000   \n",
       "25%              2023-11-27 00:00:00     140.000000       2.000000   \n",
       "50%              2024-02-27 00:00:00     192.240000       6.000000   \n",
       "75%              2024-05-29 00:00:00     450.000000      16.000000   \n",
       "max              2024-07-31 00:00:00  145728.120000   10240.000000   \n",
       "std                              NaN    1053.355633      40.761336   \n",
       "\n",
       "        SALES_VOLUME  SALES_PTR_VALUE        OC_CODE           YEAR  \\\n",
       "count  966400.000000    966400.000000  966400.000000  966400.000000   \n",
       "mean        0.000931       457.814679  202206.573263    2023.663032   \n",
       "min         0.000011         1.785714  202201.000000    2023.000000   \n",
       "25%         0.000368       142.857143  202204.000000    2023.000000   \n",
       "50%         0.000448       198.181818  202207.000000    2024.000000   \n",
       "75%         0.000900       450.000000  202209.000000    2024.000000   \n",
       "max         0.275500    151800.000000  202212.000000    2024.000000   \n",
       "std         0.002063      1101.769102       3.404526       0.472674   \n",
       "\n",
       "               MONTH            DAY    DAY_OF_WEEK        QUARTER  \\\n",
       "count  966400.000000  966400.000000  966400.000000  966400.000000   \n",
       "mean        6.557728      15.405579       4.324140       2.513462   \n",
       "min         1.000000       1.000000       1.000000       1.000000   \n",
       "25%         4.000000       8.000000       3.000000       2.000000   \n",
       "50%         7.000000      15.000000       5.000000       3.000000   \n",
       "75%         9.000000      23.000000       6.000000       3.000000   \n",
       "max        12.000000      31.000000       7.000000       4.000000   \n",
       "std         3.399272       8.632029       1.952907       1.100524   \n",
       "\n",
       "         DAY_OF_YEAR  \n",
       "count  966400.000000  \n",
       "mean      184.151133  \n",
       "min         3.000000  \n",
       "25%        97.000000  \n",
       "50%       186.000000  \n",
       "75%       271.000000  \n",
       "max       365.000000  \n",
       "std       103.703252  "
      ]
     },
     "execution_count": 41,
     "metadata": {},
     "output_type": "execute_result"
    }
   ],
   "source": [
    "df.describe()"
   ]
  },
  {
   "cell_type": "code",
   "execution_count": null,
   "id": "74a3dbf5-e83b-4a58-ae6b-ffc7d45ed5de",
   "metadata": {},
   "outputs": [],
   "source": []
  }
 ],
 "metadata": {
  "kernelspec": {
   "display_name": "Python 3 (ipykernel)",
   "language": "python",
   "name": "python3"
  },
  "language_info": {
   "codemirror_mode": {
    "name": "ipython",
    "version": 3
   },
   "file_extension": ".py",
   "mimetype": "text/x-python",
   "name": "python",
   "nbconvert_exporter": "python",
   "pygments_lexer": "ipython3",
   "version": "3.9.19"
  }
 },
 "nbformat": 4,
 "nbformat_minor": 5
}
