{
 "cells": [
  {
   "cell_type": "code",
   "execution_count": 1,
   "id": "35d5cb84-94ab-4348-8fe1-64ed4ba89057",
   "metadata": {},
   "outputs": [
    {
     "name": "stdout",
     "output_type": "stream",
     "text": [
      "Collecting fosforml\n",
      "\u001b[?25l  Downloading https://files.pythonhosted.org/packages/94/2e/3613fd0ccdbf3709dec86f87fe7624737a6f08bd1a813c88e65e7352dfde/fosforml-1.1.8-py3-none-any.whl (42kB)\n",
      "\u001b[K     |████████████████████████████████| 51kB 5.1MB/s eta 0:00:011\n",
      "\u001b[?25hCollecting scikit-learn==1.3.2\n",
      "\u001b[?25l  Downloading https://files.pythonhosted.org/packages/25/89/dce01a35d354159dcc901e3c7e7eb3fe98de5cb3639c6cd39518d8830caa/scikit_learn-1.3.2-cp39-cp39-manylinux_2_17_x86_64.manylinux2014_x86_64.whl (10.9MB)\n",
      "\u001b[K     |████████████████████████████████| 10.9MB 13.4MB/s eta 0:00:01\n",
      "\u001b[?25hCollecting cloudpickle==2.2.1\n",
      "  Downloading https://files.pythonhosted.org/packages/15/80/44286939ca215e88fa827b2aeb6fa3fd2b4a7af322485c7170d6f9fd96e0/cloudpickle-2.2.1-py3-none-any.whl\n",
      "Collecting snowflake-ml-python==1.5.0; python_version <= \"3.9\"\n",
      "\u001b[?25l  Downloading https://files.pythonhosted.org/packages/80/72/c0fa5a9bc811a59a5a1c7113ff89676ed1629d7d6463db8c1a8c97a8b5f6/snowflake_ml_python-1.5.0-py3-none-any.whl (1.9MB)\n",
      "\u001b[K     |████████████████████████████████| 1.9MB 83.9MB/s eta 0:00:01\n",
      "\u001b[?25hCollecting threadpoolctl>=2.0.0\n",
      "  Downloading https://files.pythonhosted.org/packages/4b/2c/ffbf7a134b9ab11a67b0cf0726453cedd9c5043a4fe7a35d1cefa9a1bcfb/threadpoolctl-3.5.0-py3-none-any.whl\n",
      "Collecting joblib>=1.1.1\n",
      "\u001b[?25l  Downloading https://files.pythonhosted.org/packages/91/29/df4b9b42f2be0b623cbd5e2140cafcaa2bef0759a00b7b70104dcfe2fb51/joblib-1.4.2-py3-none-any.whl (301kB)\n",
      "\u001b[K     |████████████████████████████████| 307kB 102.0MB/s eta 0:00:01\n",
      "\u001b[?25hCollecting scipy>=1.5.0\n",
      "\u001b[?25l  Downloading https://files.pythonhosted.org/packages/35/f5/d0ad1a96f80962ba65e2ce1de6a1e59edecd1f0a7b55990ed208848012e0/scipy-1.13.1-cp39-cp39-manylinux_2_17_x86_64.manylinux2014_x86_64.whl (38.6MB)\n",
      "\u001b[K     |████████████████████████████████| 38.6MB 93.7MB/s eta 0:00:01\n",
      "\u001b[?25hRequirement already satisfied: numpy<2.0,>=1.17.3 in /opt/conda/lib/python3.9/site-packages (from scikit-learn==1.3.2->fosforml) (1.26.4)\n",
      "Collecting xgboost<2,>=1.7.3\n",
      "\u001b[?25l  Downloading https://files.pythonhosted.org/packages/8c/3a/c9c5d4d5c49b132ef15ac7b5ccf56ef1c82efe36cd19414771762e97c00e/xgboost-1.7.6-py3-none-manylinux2014_x86_64.whl (200.3MB)\n",
      "\u001b[K     |████████████████████████████████| 200.3MB 128kB/s eta 0:00:012.4MB 1.4MB/s eta 0:01:37    |███████████████████████████████ | 194.2MB 1.3MB/s eta 0:00:056.2MB 1.3MB/s eta 0:00:04\n",
      "\u001b[?25hCollecting catboost<1.3,>=1.2.0\n",
      "\u001b[?25l  Downloading https://files.pythonhosted.org/packages/35/4a/8ada4fb635601943805cbeeb288f70982fefe48a7cef63352e318435aa98/catboost-1.2.7-cp39-cp39-manylinux2014_x86_64.whl (98.7MB)\n",
      "\u001b[K     |████████████████████████████████| 98.7MB 156kB/s eta 0:00:011\n",
      "\u001b[?25hCollecting absl-py<2,>=0.15\n",
      "\u001b[?25l  Downloading https://files.pythonhosted.org/packages/dd/87/de5c32fa1b1c6c3305d576e299801d8655c175ca9557019906247b994331/absl_py-1.4.0-py3-none-any.whl (126kB)\n",
      "\u001b[K     |████████████████████████████████| 133kB 106.9MB/s eta 0:00:01\n",
      "\u001b[?25hCollecting snowflake-snowpark-python!=1.12.0,<2,>=1.11.1\n",
      "\u001b[?25l  Downloading https://files.pythonhosted.org/packages/1c/1e/c78cf80cc17dfe32bd89d8c5b7d86982571d58b4d8399bfecb8296e60bf1/snowflake_snowpark_python-1.22.1-py3-none-any.whl (1.3MB)\n",
      "\u001b[K     |████████████████████████████████| 1.3MB 89.3MB/s eta 0:00:01\n",
      "\u001b[?25hCollecting pytimeparse<2,>=1.1.8\n",
      "  Downloading https://files.pythonhosted.org/packages/1b/b4/afd75551a3b910abd1d922dbd45e49e5deeb4d47dc50209ce489ba9844dd/pytimeparse-1.1.8-py2.py3-none-any.whl\n",
      "Collecting snowflake-connector-python[pandas]<4,>=3.5.0\n",
      "\u001b[?25l  Downloading https://files.pythonhosted.org/packages/5e/78/7e3ce98acef501ab3509958ed8f95e31720e225b7f478b7d7e70ff731fc9/snowflake_connector_python-3.12.2-cp39-cp39-manylinux_2_17_x86_64.manylinux2014_x86_64.whl (2.5MB)\n",
      "\u001b[K     |████████████████████████████████| 2.5MB 67.3MB/s eta 0:00:01\n",
      "\u001b[?25hCollecting pyarrow\n",
      "\u001b[?25l  Downloading https://files.pythonhosted.org/packages/af/61/bcd9b58e38ead6ad42b9ed00da33a3f862bc1d445e3d3164799c25550ac2/pyarrow-17.0.0-cp39-cp39-manylinux_2_17_x86_64.manylinux2014_x86_64.whl (39.9MB)\n",
      "\u001b[K     |████████████████████████████████| 39.9MB 655kB/s eta 0:00:011\n",
      "\u001b[?25hRequirement already satisfied: typing-extensions<5,>=4.1.0 in /opt/conda/lib/python3.9/site-packages (from snowflake-ml-python==1.5.0; python_version <= \"3.9\"->fosforml) (4.12.2)\n",
      "Requirement already satisfied: pyyaml<7,>=6.0 in /opt/conda/lib/python3.9/site-packages (from snowflake-ml-python==1.5.0; python_version <= \"3.9\"->fosforml) (6.0.1)\n",
      "Requirement already satisfied: pandas<3,>=1.0.0 in /opt/conda/lib/python3.9/site-packages (from snowflake-ml-python==1.5.0; python_version <= \"3.9\"->fosforml) (2.2.2)\n",
      "Collecting retrying<2,>=1.3.3\n",
      "  Downloading https://files.pythonhosted.org/packages/8f/04/9e36f28be4c0532c0e9207ff9dc01fb13a2b0eb036476a213b0000837d0e/retrying-1.3.4-py3-none-any.whl\n",
      "Collecting s3fs<2024,>=2022.11\n",
      "  Downloading https://files.pythonhosted.org/packages/5b/d6/b8a748b7d3fc7b0fd2ede1cf26a80281d65cc24d5d56b66c3a4c87e256e2/s3fs-2023.12.2-py3-none-any.whl\n",
      "Collecting sqlparse<1,>=0.4\n",
      "\u001b[?25l  Downloading https://files.pythonhosted.org/packages/5d/a5/b2860373aa8de1e626b2bdfdd6df4355f0565b47e51f7d0c54fe70faf8fe/sqlparse-0.5.1-py3-none-any.whl (44kB)\n",
      "\u001b[K     |████████████████████████████████| 51kB 17.8MB/s eta 0:00:01\n",
      "\u001b[?25hCollecting cachetools<6,>=3.1.1\n",
      "  Downloading https://files.pythonhosted.org/packages/a4/07/14f8ad37f2d12a5ce41206c21820d8cb6561b728e51fad4530dff0552a67/cachetools-5.5.0-py3-none-any.whl\n",
      "Collecting importlib-resources<7,>=6.1.1\n",
      "  Downloading https://files.pythonhosted.org/packages/e1/6a/4604f9ae2fa62ef47b9de2fa5ad599589d28c9fd1d335f32759813dfa91e/importlib_resources-6.4.5-py3-none-any.whl\n",
      "Collecting packaging<24,>=20.9\n",
      "\u001b[?25l  Downloading https://files.pythonhosted.org/packages/ec/1a/610693ac4ee14fcdf2d9bf3c493370e4f2ef7ae2e19217d7a237ff42367d/packaging-23.2-py3-none-any.whl (53kB)\n",
      "\u001b[K     |████████████████████████████████| 61kB 16.8MB/s eta 0:00:01\n",
      "\u001b[?25hCollecting anyio<4,>=3.5.0\n",
      "\u001b[?25l  Downloading https://files.pythonhosted.org/packages/19/24/44299477fe7dcc9cb58d0a57d5a7588d6af2ff403fdd2d47a246c91a3246/anyio-3.7.1-py3-none-any.whl (80kB)\n",
      "\u001b[K     |████████████████████████████████| 81kB 17.8MB/s eta 0:00:01\n",
      "\u001b[?25hCollecting fsspec[http]<2024,>=2022.11\n",
      "\u001b[?25l  Downloading https://files.pythonhosted.org/packages/70/25/fab23259a52ece5670dcb8452e1af34b89e6135ecc17cd4b54b4b479eac6/fsspec-2023.12.2-py3-none-any.whl (168kB)\n",
      "\u001b[K     |████████████████████████████████| 174kB 90.1MB/s eta 0:00:01\n",
      "\u001b[?25hCollecting plotly\n",
      "\u001b[?25l  Downloading https://files.pythonhosted.org/packages/e5/ae/580600f441f6fc05218bd6c9d5794f4aef072a7d9093b291f1c50a9db8bc/plotly-5.24.1-py3-none-any.whl (19.1MB)\n",
      "\u001b[K     |████████████████████████████████| 19.1MB 88.0MB/s eta 0:00:01\n",
      "\u001b[?25hRequirement already satisfied: six in /opt/conda/lib/python3.9/site-packages (from catboost<1.3,>=1.2.0->snowflake-ml-python==1.5.0; python_version <= \"3.9\"->fosforml) (1.16.0)\n",
      "Collecting matplotlib\n",
      "\u001b[?25l  Downloading https://files.pythonhosted.org/packages/5a/20/f56d5b88450593ccde3f283e338f3f976b2e479bddd9a147f14f66ee1ca7/matplotlib-3.9.2-cp39-cp39-manylinux_2_17_x86_64.manylinux2014_x86_64.whl (8.3MB)\n",
      "\u001b[K     |████████████████████████████████| 8.3MB 84.0MB/s eta 0:00:01\n",
      "\u001b[?25hCollecting graphviz\n",
      "\u001b[?25l  Downloading https://files.pythonhosted.org/packages/00/be/d59db2d1d52697c6adc9eacaf50e8965b6345cc143f671e1ed068818d5cf/graphviz-0.20.3-py3-none-any.whl (47kB)\n",
      "\u001b[K     |████████████████████████████████| 51kB 16.6MB/s eta 0:00:01\n",
      "\u001b[?25hRequirement already satisfied: wheel in /opt/conda/lib/python3.9/site-packages (from snowflake-snowpark-python!=1.12.0,<2,>=1.11.1->snowflake-ml-python==1.5.0; python_version <= \"3.9\"->fosforml) (0.37.1)\n",
      "Requirement already satisfied: setuptools>=40.6.0 in /opt/conda/lib/python3.9/site-packages (from snowflake-snowpark-python!=1.12.0,<2,>=1.11.1->snowflake-ml-python==1.5.0; python_version <= \"3.9\"->fosforml) (65.6.3)\n",
      "Collecting urllib3<2.0.0,>=1.21.1; python_version < \"3.10\"\n",
      "\u001b[?25l  Downloading https://files.pythonhosted.org/packages/33/cf/8435d5a7159e2a9c83a95896ed596f68cf798005fe107cc655b5c5c14704/urllib3-1.26.20-py2.py3-none-any.whl (144kB)\n",
      "\u001b[K     |████████████████████████████████| 153kB 108.4MB/s eta 0:00:01\n",
      "\u001b[?25hRequirement already satisfied: cffi<2.0.0,>=1.9 in /opt/conda/lib/python3.9/site-packages (from snowflake-connector-python[pandas]<4,>=3.5.0->snowflake-ml-python==1.5.0; python_version <= \"3.9\"->fosforml) (1.16.0)\n",
      "Requirement already satisfied: requests<3.0.0 in /opt/conda/lib/python3.9/site-packages (from snowflake-connector-python[pandas]<4,>=3.5.0->snowflake-ml-python==1.5.0; python_version <= \"3.9\"->fosforml) (2.32.3)\n",
      "Collecting tomlkit\n",
      "  Downloading https://files.pythonhosted.org/packages/f9/b6/a447b5e4ec71e13871be01ba81f5dfc9d0af7e473da256ff46bc0e24026f/tomlkit-0.13.2-py3-none-any.whl\n",
      "Requirement already satisfied: charset-normalizer<4,>=2 in /opt/conda/lib/python3.9/site-packages (from snowflake-connector-python[pandas]<4,>=3.5.0->snowflake-ml-python==1.5.0; python_version <= \"3.9\"->fosforml) (3.3.2)\n",
      "Requirement already satisfied: idna<4,>=2.5 in /opt/conda/lib/python3.9/site-packages (from snowflake-connector-python[pandas]<4,>=3.5.0->snowflake-ml-python==1.5.0; python_version <= \"3.9\"->fosforml) (3.7)\n",
      "Collecting asn1crypto<2.0.0,>0.24.0\n",
      "\u001b[?25l  Downloading https://files.pythonhosted.org/packages/c9/7f/09065fd9e27da0eda08b4d6897f1c13535066174cc023af248fc2a8d5e5a/asn1crypto-1.5.1-py2.py3-none-any.whl (105kB)\n",
      "\u001b[K     |████████████████████████████████| 112kB 109.1MB/s eta 0:00:01\n",
      "\u001b[?25hRequirement already satisfied: pytz in /opt/conda/lib/python3.9/site-packages (from snowflake-connector-python[pandas]<4,>=3.5.0->snowflake-ml-python==1.5.0; python_version <= \"3.9\"->fosforml) (2024.1)\n",
      "Requirement already satisfied: certifi>=2017.4.17 in /opt/conda/lib/python3.9/site-packages (from snowflake-connector-python[pandas]<4,>=3.5.0->snowflake-ml-python==1.5.0; python_version <= \"3.9\"->fosforml) (2024.7.4)\n",
      "Requirement already satisfied: platformdirs<5.0.0,>=2.6.0 in /opt/conda/lib/python3.9/site-packages (from snowflake-connector-python[pandas]<4,>=3.5.0->snowflake-ml-python==1.5.0; python_version <= \"3.9\"->fosforml) (4.2.2)\n",
      "Requirement already satisfied: pyOpenSSL<25.0.0,>=16.2.0 in /opt/conda/lib/python3.9/site-packages (from snowflake-connector-python[pandas]<4,>=3.5.0->snowflake-ml-python==1.5.0; python_version <= \"3.9\"->fosforml) (24.0.0)\n",
      "Requirement already satisfied: cryptography>=3.1.0 in /opt/conda/lib/python3.9/site-packages (from snowflake-connector-python[pandas]<4,>=3.5.0->snowflake-ml-python==1.5.0; python_version <= \"3.9\"->fosforml) (42.0.5)\n",
      "Collecting pyjwt<3.0.0\n",
      "  Downloading https://files.pythonhosted.org/packages/79/84/0fdf9b18ba31d69877bd39c9cd6052b47f3761e9910c15de788e519f079f/PyJWT-2.9.0-py3-none-any.whl\n",
      "Collecting sortedcontainers>=2.4.0\n",
      "  Downloading https://files.pythonhosted.org/packages/32/46/9cb0e58b2deb7f82b84065f37f3bffeb12413f947f9388e4cac22c4621ce/sortedcontainers-2.4.0-py2.py3-none-any.whl\n",
      "Collecting filelock<4,>=3.5\n",
      "  Downloading https://files.pythonhosted.org/packages/b9/f8/feced7779d755758a52d1f6635d990b8d98dc0a29fa568bbe0625f18fdf3/filelock-3.16.1-py3-none-any.whl\n",
      "Requirement already satisfied: tzdata>=2022.7 in /opt/conda/lib/python3.9/site-packages (from pandas<3,>=1.0.0->snowflake-ml-python==1.5.0; python_version <= \"3.9\"->fosforml) (2024.1)\n",
      "Requirement already satisfied: python-dateutil>=2.8.2 in /opt/conda/lib/python3.9/site-packages (from pandas<3,>=1.0.0->snowflake-ml-python==1.5.0; python_version <= \"3.9\"->fosforml) (2.9.0.post0)\n",
      "Collecting aiohttp!=4.0.0a0,!=4.0.0a1\n",
      "\u001b[?25l  Downloading https://files.pythonhosted.org/packages/25/b3/8b20a25c896c6286e411be8fc6f3280bb9d7e9e4c9c90d0618a6c004ab2c/aiohttp-3.10.8-cp39-cp39-manylinux_2_17_x86_64.manylinux2014_x86_64.whl (1.2MB)\n",
      "\u001b[K     |████████████████████████████████| 1.2MB 64.8MB/s eta 0:00:01\n",
      "\u001b[?25hCollecting aiobotocore<3.0.0,>=2.5.4\n",
      "\u001b[?25l  Downloading https://files.pythonhosted.org/packages/df/b8/a0fc9cf540d15f4962448c7ec097e99196b4ddd2a988d98b3d4236cbc89e/aiobotocore-2.15.1-py3-none-any.whl (77kB)\n",
      "\u001b[K     |████████████████████████████████| 81kB 24.4MB/s eta 0:00:01\n",
      "\u001b[?25hRequirement already satisfied: zipp>=3.1.0; python_version < \"3.10\" in /opt/conda/lib/python3.9/site-packages (from importlib-resources<7,>=6.1.1->snowflake-ml-python==1.5.0; python_version <= \"3.9\"->fosforml) (3.19.2)\n",
      "Requirement already satisfied: exceptiongroup; python_version < \"3.11\" in /opt/conda/lib/python3.9/site-packages (from anyio<4,>=3.5.0->snowflake-ml-python==1.5.0; python_version <= \"3.9\"->fosforml) (1.2.2)\n",
      "Requirement already satisfied: sniffio>=1.1 in /opt/conda/lib/python3.9/site-packages (from anyio<4,>=3.5.0->snowflake-ml-python==1.5.0; python_version <= \"3.9\"->fosforml) (1.3.1)\n",
      "Collecting tenacity>=6.2.0\n",
      "  Downloading https://files.pythonhosted.org/packages/b6/cb/b86984bed139586d01532a587464b5805f12e397594f19f931c4c2fbfa61/tenacity-9.0.0-py3-none-any.whl\n",
      "Collecting contourpy>=1.0.1\n",
      "\u001b[?25l  Downloading https://files.pythonhosted.org/packages/05/11/57335544a3027e9b96a05948c32e566328e3a2f84b7b99a325b7a06d2b06/contourpy-1.3.0-cp39-cp39-manylinux_2_17_x86_64.manylinux2014_x86_64.whl (321kB)\n",
      "\u001b[K     |████████████████████████████████| 327kB 91.3MB/s eta 0:00:01\n",
      "\u001b[?25hCollecting pyparsing>=2.3.1\n",
      "\u001b[?25l  Downloading https://files.pythonhosted.org/packages/e5/0c/0e3c05b1c87bb6a1c76d281b0f35e78d2d80ac91b5f8f524cebf77f51049/pyparsing-3.1.4-py3-none-any.whl (104kB)\n",
      "\u001b[K     |████████████████████████████████| 112kB 86.3MB/s eta 0:00:01\n",
      "\u001b[?25hCollecting cycler>=0.10\n",
      "  Downloading https://files.pythonhosted.org/packages/e7/05/c19819d5e3d95294a6f5947fb9b9629efb316b96de511b418c53d245aae6/cycler-0.12.1-py3-none-any.whl\n",
      "Collecting kiwisolver>=1.3.1\n",
      "\u001b[?25l  Downloading https://files.pythonhosted.org/packages/21/b1/40655f6c3fa11ce740e8a964fa8e4c0479c87d6a7944b95af799c7a55dfe/kiwisolver-1.4.7-cp39-cp39-manylinux_2_12_x86_64.manylinux2010_x86_64.whl (1.6MB)\n",
      "\u001b[K     |████████████████████████████████| 1.6MB 106.8MB/s eta 0:00:01\n",
      "\u001b[?25hCollecting pillow>=8\n",
      "\u001b[?25l  Downloading https://files.pythonhosted.org/packages/32/3f/c02268d0c6fb6b3958bdda673c17b315c821d97df29ae6969f20fb49388a/pillow-10.4.0-cp39-cp39-manylinux_2_17_x86_64.manylinux2014_x86_64.whl (4.4MB)\n",
      "\u001b[K     |████████████████████████████████| 4.4MB 67.8MB/s eta 0:00:01\n",
      "\u001b[?25hCollecting fonttools>=4.22.0\n",
      "\u001b[?25l  Downloading https://files.pythonhosted.org/packages/8c/e7/24870ef7d4014b7904a3b9911199ffe04532d1fb73cf70856471f9f8b252/fonttools-4.54.1-cp39-cp39-manylinux_2_17_x86_64.manylinux2014_x86_64.whl (4.6MB)\n",
      "\u001b[K     |████████████████████████████████| 4.6MB 107.7MB/s eta 0:00:01\n",
      "\u001b[?25hRequirement already satisfied: pycparser in /opt/conda/lib/python3.9/site-packages (from cffi<2.0.0,>=1.9->snowflake-connector-python[pandas]<4,>=3.5.0->snowflake-ml-python==1.5.0; python_version <= \"3.9\"->fosforml) (2.21)\n",
      "Collecting aiohappyeyeballs>=2.3.0\n",
      "  Downloading https://files.pythonhosted.org/packages/f7/d8/120cd0fe3e8530df0539e71ba9683eade12cae103dd7543e50d15f737917/aiohappyeyeballs-2.4.3-py3-none-any.whl\n",
      "Requirement already satisfied: attrs>=17.3.0 in /opt/conda/lib/python3.9/site-packages (from aiohttp!=4.0.0a0,!=4.0.0a1->s3fs<2024,>=2022.11->snowflake-ml-python==1.5.0; python_version <= \"3.9\"->fosforml) (23.2.0)\n",
      "Collecting async-timeout<5.0,>=4.0; python_version < \"3.11\"\n",
      "  Downloading https://files.pythonhosted.org/packages/a7/fa/e01228c2938de91d47b307831c62ab9e4001e747789d0b05baf779a6488c/async_timeout-4.0.3-py3-none-any.whl\n",
      "Collecting frozenlist>=1.1.1\n",
      "\u001b[?25l  Downloading https://files.pythonhosted.org/packages/70/b0/6f1ebdabfb604e39a0f84428986b89ab55f246b64cddaa495f2c953e1f6b/frozenlist-1.4.1-cp39-cp39-manylinux_2_5_x86_64.manylinux1_x86_64.manylinux_2_17_x86_64.manylinux2014_x86_64.whl (240kB)\n",
      "\u001b[K     |████████████████████████████████| 245kB 101.5MB/s eta 0:00:01\n",
      "\u001b[?25hCollecting multidict<7.0,>=4.5\n",
      "\u001b[?25l  Downloading https://files.pythonhosted.org/packages/5e/41/0d0fb18c1ad574f807196f5f3d99164edf9de3e169a58c6dc2d6ed5742b9/multidict-6.1.0-cp39-cp39-manylinux_2_17_x86_64.manylinux2014_x86_64.whl (124kB)\n",
      "\u001b[K     |████████████████████████████████| 133kB 89.7MB/s eta 0:00:01\n",
      "\u001b[?25hCollecting yarl<2.0,>=1.12.0\n",
      "\u001b[?25l  Downloading https://files.pythonhosted.org/packages/e1/b1/8adfc234fc165e7d512b44b87754dd816cdace36c7f7e6f054801a530ccb/yarl-1.13.1-cp39-cp39-manylinux_2_17_x86_64.manylinux2014_x86_64.whl (455kB)\n",
      "\u001b[K     |████████████████████████████████| 460kB 99.5MB/s eta 0:00:01\n",
      "\u001b[?25hCollecting aiosignal>=1.1.2\n",
      "  Downloading https://files.pythonhosted.org/packages/76/ac/a7305707cb852b7e16ff80eaf5692309bde30e2b1100a1fcacdc8f731d97/aiosignal-1.3.1-py3-none-any.whl\n",
      "Collecting wrapt<2.0.0,>=1.10.10\n",
      "\u001b[?25l  Downloading https://files.pythonhosted.org/packages/b1/e7/459a8a4f40f2fa65eb73cb3f339e6d152957932516d18d0e996c7ae2d7ae/wrapt-1.16.0-cp39-cp39-manylinux_2_5_x86_64.manylinux1_x86_64.manylinux_2_17_x86_64.manylinux2014_x86_64.whl (80kB)\n",
      "\u001b[K     |████████████████████████████████| 81kB 19.7MB/s eta 0:00:01\n",
      "\u001b[?25hCollecting aioitertools<1.0.0,>=0.5.1\n",
      "  Downloading https://files.pythonhosted.org/packages/85/13/58b70a580de00893223d61de8fea167877a3aed97d4a5e1405c9159ef925/aioitertools-0.12.0-py3-none-any.whl\n",
      "Collecting botocore<1.35.24,>=1.35.16\n",
      "\u001b[?25l  Downloading https://files.pythonhosted.org/packages/f8/81/90e1b82697d849e4a5e7e6dcf21ef7ba9fa902b98324849bd2956e6efac3/botocore-1.35.23-py3-none-any.whl (12.6MB)\n",
      "\u001b[K     |████████████████████████████████| 12.6MB 110.5MB/s eta 0:00:01\n",
      "\u001b[?25hCollecting jmespath<2.0.0,>=0.7.1\n",
      "  Downloading https://files.pythonhosted.org/packages/31/b4/b9b800c45527aadd64d5b442f9b932b00648617eb5d63d2c7a6587b7cafc/jmespath-1.0.1-py3-none-any.whl\n",
      "Installing collected packages: threadpoolctl, joblib, scipy, scikit-learn, cloudpickle, xgboost, packaging, tenacity, plotly, contourpy, pyparsing, cycler, kiwisolver, pillow, importlib-resources, fonttools, matplotlib, graphviz, catboost, absl-py, urllib3, tomlkit, asn1crypto, pyjwt, sortedcontainers, filelock, pyarrow, snowflake-connector-python, snowflake-snowpark-python, pytimeparse, retrying, aiohappyeyeballs, async-timeout, frozenlist, multidict, yarl, aiosignal, aiohttp, wrapt, aioitertools, jmespath, botocore, aiobotocore, fsspec, s3fs, sqlparse, cachetools, anyio, snowflake-ml-python, fosforml\n",
      "  Found existing installation: packaging 24.1\n",
      "    Uninstalling packaging-24.1:\n",
      "      Successfully uninstalled packaging-24.1\n",
      "  Found existing installation: urllib3 2.2.2\n",
      "    Uninstalling urllib3-2.2.2:\n",
      "      Successfully uninstalled urllib3-2.2.2\n",
      "  Found existing installation: anyio 4.4.0\n",
      "    Uninstalling anyio-4.4.0:\n",
      "      Successfully uninstalled anyio-4.4.0\n",
      "Successfully installed absl-py-1.4.0 aiobotocore-2.15.1 aiohappyeyeballs-2.4.3 aiohttp-3.10.8 aioitertools-0.12.0 aiosignal-1.3.1 anyio-3.7.1 asn1crypto-1.5.1 async-timeout-4.0.3 botocore-1.35.23 cachetools-5.5.0 catboost-1.2.7 cloudpickle-2.2.1 contourpy-1.3.0 cycler-0.12.1 filelock-3.16.1 fonttools-4.54.1 fosforml-1.1.8 frozenlist-1.4.1 fsspec-2023.12.2 graphviz-0.20.3 importlib-resources-6.4.5 jmespath-1.0.1 joblib-1.4.2 kiwisolver-1.4.7 matplotlib-3.9.2 multidict-6.1.0 packaging-23.2 pillow-10.4.0 plotly-5.24.1 pyarrow-17.0.0 pyjwt-2.9.0 pyparsing-3.1.4 pytimeparse-1.1.8 retrying-1.3.4 s3fs-2023.12.2 scikit-learn-1.3.2 scipy-1.13.1 snowflake-connector-python-3.12.2 snowflake-ml-python-1.5.0 snowflake-snowpark-python-1.22.1 sortedcontainers-2.4.0 sqlparse-0.5.1 tenacity-9.0.0 threadpoolctl-3.5.0 tomlkit-0.13.2 urllib3-1.26.20 wrapt-1.16.0 xgboost-1.7.6 yarl-1.13.1\n",
      "\u001b[33mWARNING: You are using pip version 19.3.1; however, version 24.2 is available.\n",
      "You should consider upgrading via the 'pip install --upgrade pip' command.\u001b[0m\n",
      "Note: you may need to restart the kernel to use updated packages.\n"
     ]
    }
   ],
   "source": [
    "pip install fosforml"
   ]
  },
  {
   "cell_type": "code",
   "execution_count": 2,
   "id": "8327d32d-93a9-42d0-af49-396310bc502e",
   "metadata": {},
   "outputs": [
    {
     "ename": "ModuleNotFoundError",
     "evalue": "No module named 'seaborn'",
     "output_type": "error",
     "traceback": [
      "\u001b[0;31m---------------------------------------------------------------------------\u001b[0m",
      "\u001b[0;31mModuleNotFoundError\u001b[0m                       Traceback (most recent call last)",
      "Cell \u001b[0;32mIn[2], line 10\u001b[0m\n\u001b[1;32m      8\u001b[0m \u001b[38;5;28;01mfrom\u001b[39;00m \u001b[38;5;21;01msklearn\u001b[39;00m\u001b[38;5;21;01m.\u001b[39;00m\u001b[38;5;21;01mmodel_selection\u001b[39;00m \u001b[38;5;28;01mimport\u001b[39;00m train_test_split\n\u001b[1;32m      9\u001b[0m \u001b[38;5;28;01mimport\u001b[39;00m \u001b[38;5;21;01mmatplotlib\u001b[39;00m\u001b[38;5;21;01m.\u001b[39;00m\u001b[38;5;21;01mpyplot\u001b[39;00m \u001b[38;5;28;01mas\u001b[39;00m \u001b[38;5;21;01mplt\u001b[39;00m\n\u001b[0;32m---> 10\u001b[0m \u001b[38;5;28;01mimport\u001b[39;00m \u001b[38;5;21;01mseaborn\u001b[39;00m \u001b[38;5;28;01mas\u001b[39;00m \u001b[38;5;21;01msns\u001b[39;00m\n\u001b[1;32m     11\u001b[0m \u001b[38;5;28;01mfrom\u001b[39;00m \u001b[38;5;21;01mscipy\u001b[39;00m \u001b[38;5;28;01mimport\u001b[39;00m stats\n",
      "\u001b[0;31mModuleNotFoundError\u001b[0m: No module named 'seaborn'"
     ]
    }
   ],
   "source": [
    "import pandas as pd\n",
    "import fosforml\n",
    "from fosforml.model_manager.snowflakesession import get_session\n",
    "my_session = get_session()\n",
    "import numpy as np\n",
    "from sklearn.linear_model import LinearRegression\n",
    "from sklearn.metrics import mean_squared_error\n",
    "from sklearn.model_selection import train_test_split\n",
    "import matplotlib.pyplot as plt\n",
    "import seaborn as sns\n",
    "from scipy import stats"
   ]
  },
  {
   "cell_type": "code",
   "execution_count": null,
   "id": "94aa9fe8-9cfe-4db4-895c-743fd7b37355",
   "metadata": {},
   "outputs": [],
   "source": [
    "pip install seaborn"
   ]
  },
  {
   "cell_type": "code",
   "execution_count": null,
   "id": "cf2ae51c-37c6-479b-807f-3e5750055612",
   "metadata": {},
   "outputs": [],
   "source": [
    "import seaborn as sns"
   ]
  },
  {
   "cell_type": "code",
   "execution_count": null,
   "id": "0635798c-29f1-42d9-ad33-7fc7e29ce0b8",
   "metadata": {},
   "outputs": [],
   "source": [
    "my_session.connection.database"
   ]
  },
  {
   "cell_type": "code",
   "execution_count": null,
   "id": "16bf193d-f2f7-4390-80ef-8c2fbe1e427d",
   "metadata": {},
   "outputs": [],
   "source": [
    "my_session.connection.schema"
   ]
  },
  {
   "cell_type": "code",
   "execution_count": null,
   "id": "96503747-48be-4b85-b9e1-d0184a0dc6c9",
   "metadata": {},
   "outputs": [],
   "source": [
    "table_name = \"ASSORTMENT_PLANNING.CPG_BRONZE.SALES_CLEAN\""
   ]
  },
  {
   "cell_type": "code",
   "execution_count": null,
   "id": "baa9de7a-5c07-4bde-a92f-68d36b342347",
   "metadata": {},
   "outputs": [],
   "source": [
    "sf_df = my_session.sql(\"select * from {}\".format(table_name))"
   ]
  },
  {
   "cell_type": "code",
   "execution_count": null,
   "id": "5c4d2049-50d9-4371-82a9-9ab62cd9ed5b",
   "metadata": {},
   "outputs": [],
   "source": [
    "type(sf_df)"
   ]
  },
  {
   "cell_type": "code",
   "execution_count": null,
   "id": "7729f086-2c89-4609-9fde-0de166701baa",
   "metadata": {},
   "outputs": [],
   "source": [
    "df=sf_df.to_pandas()"
   ]
  },
  {
   "cell_type": "code",
   "execution_count": null,
   "id": "076988ad-98d0-4bf4-9454-02d390338feb",
   "metadata": {},
   "outputs": [],
   "source": [
    "df.dtypes"
   ]
  },
  {
   "cell_type": "code",
   "execution_count": null,
   "id": "4135630b-b3b7-40c4-874b-89a98ba42538",
   "metadata": {},
   "outputs": [],
   "source": [
    "df.head()"
   ]
  },
  {
   "cell_type": "code",
   "execution_count": null,
   "id": "9f18e27a-627e-4dcd-b019-f8efd177c03f",
   "metadata": {},
   "outputs": [],
   "source": [
    "df.shape"
   ]
  },
  {
   "cell_type": "code",
   "execution_count": null,
   "id": "9f5599f9-b135-4c52-9921-e4904495a233",
   "metadata": {},
   "outputs": [],
   "source": [
    "#How many % of missing values do we have for each feature?\n",
    "missing_percentage = df.isnull().sum() / df.shape[0] * 100 \n",
    "missing_percentage"
   ]
  },
  {
   "cell_type": "code",
   "execution_count": null,
   "id": "632d12a1-12d1-4e02-9c2c-a376a8d78513",
   "metadata": {},
   "outputs": [],
   "source": [
    "#no any transactions happened without distributer and no outliers/NULL in sales\n",
    "df.loc[df.DISTRIBUTOR_CODE.isnull(), [\"SALES_VOLUME\", \"SALES_UNITS\"]].describe()"
   ]
  },
  {
   "cell_type": "code",
   "execution_count": null,
   "id": "189391a9-d5d1-408b-b6cb-9fe610c659ef",
   "metadata": {},
   "outputs": [],
   "source": [
    "#no any transactions happened without distributer and no outliers in sales\n",
    "df.loc[df.OUTLET_CODE.isnull(), [\"SALES_VOLUME\", \"SALES_UNITS\"]].describe()"
   ]
  },
  {
   "cell_type": "code",
   "execution_count": null,
   "id": "375742d8-a319-4e0f-a770-2a65ffc46fce",
   "metadata": {},
   "outputs": [],
   "source": [
    "df.OUTLET_CODE.nunique()"
   ]
  },
  {
   "cell_type": "code",
   "execution_count": null,
   "id": "45ade9b7-781b-418e-a81a-1b4435ff606a",
   "metadata": {},
   "outputs": [],
   "source": [
    "df.DISTRIBUTOR_CODE.nunique()"
   ]
  },
  {
   "cell_type": "code",
   "execution_count": null,
   "id": "087cd736-b17b-49ae-969b-dfdc1f5f801e",
   "metadata": {},
   "outputs": [],
   "source": [
    "#no negative sales happened\n",
    "[df.describe()<0]"
   ]
  },
  {
   "cell_type": "code",
   "execution_count": null,
   "id": "3c42bc0f-514b-49a7-9afb-612b0217cd27",
   "metadata": {},
   "outputs": [],
   "source": [
    "df.isnull().sum()"
   ]
  },
  {
   "cell_type": "code",
   "execution_count": null,
   "id": "bde99513-99a3-4b82-8068-01917bfc3f71",
   "metadata": {},
   "outputs": [],
   "source": [
    "df.duplicated().sum()"
   ]
  },
  {
   "cell_type": "code",
   "execution_count": null,
   "id": "22a2f256-ee2a-4461-a164-bb97355c007a",
   "metadata": {},
   "outputs": [],
   "source": [
    "df.corr(numeric_only=True)"
   ]
  },
  {
   "cell_type": "code",
   "execution_count": null,
   "id": "7dd5d8bf-629a-46c3-8108-e101af8de549",
   "metadata": {},
   "outputs": [],
   "source": [
    "\n",
    "# Group by description and sum the sales\n",
    "productby_sales = df.groupby('CATEGORY')['SALES_VOLUME'].sum().sort_values(ascending=False).iloc[0:30]\n",
    "\n",
    "# Plotting\n",
    "plt.figure(figsize=(20, 5))\n",
    "sns.barplot(x=productby_sales.index, y=productby_sales.values, palette=\"Purples_r\")\n",
    "plt.ylabel(\"Total Sales\")\n",
    "plt.title(\"Which products has the most sales?\")\n",
    "plt.xticks(rotation=90)\n",
    "plt.show()\n"
   ]
  },
  {
   "cell_type": "code",
   "execution_count": null,
   "id": "42c47cf4-2e4f-48b1-8d28-d2675abfea31",
   "metadata": {},
   "outputs": [],
   "source": [
    "\n",
    "# Group by description and sum the sales\n",
    "productby_qty = df.groupby('CATEGORY')['SALES_UNITS'].sum().sort_values(ascending=False).iloc[0:30]\n",
    "\n",
    "# Plotting\n",
    "plt.figure(figsize=(20, 5))\n",
    "sns.barplot(x=productby_qty.index, y=productby_qty.values, palette=\"Greens_r\")\n",
    "plt.ylabel(\"Total Sales\")\n",
    "plt.title(\"Which products sold most?\")\n",
    "plt.xticks(rotation=90)\n",
    "plt.show()\n"
   ]
  },
  {
   "cell_type": "code",
   "execution_count": null,
   "id": "a29fde30-22cd-4b9a-b6f6-61c8c69c876d",
   "metadata": {},
   "outputs": [],
   "source": [
    "df.COUNTY.nunique()"
   ]
  },
  {
   "cell_type": "code",
   "execution_count": null,
   "id": "d2f21e7f-3c9b-4606-830b-4e3fc5cfa2ca",
   "metadata": {},
   "outputs": [],
   "source": [
    "# Find unique dates\n",
    "df['TRANS_DATE'].nunique()"
   ]
  },
  {
   "cell_type": "code",
   "execution_count": null,
   "id": "f6595b8f-c81b-422d-bcc7-29120a02995d",
   "metadata": {},
   "outputs": [],
   "source": [
    "state_counts = df.STATE.value_counts().sort_values(ascending=False).iloc[0:20]\n",
    "plt.figure(figsize=(20,5))\n",
    "sns.barplot(x=state_counts.index, y=state_counts.values, palette=\"Blues_r\")\n",
    "plt.ylabel(\"Counts\")\n",
    "plt.title(\"Which State made the most transactions?\");\n",
    "plt.xticks(rotation=90);\n",
    "plt.yscale(\"log\")"
   ]
  },
  {
   "cell_type": "code",
   "execution_count": null,
   "id": "0f8065f6-4ca2-405b-8f9c-cb1922571aa2",
   "metadata": {},
   "outputs": [],
   "source": [
    "#How many percentage of transactions happened in california\n",
    "df.loc[df.STATE==\"California\"].shape[0] / df.shape[0] * 100"
   ]
  },
  {
   "cell_type": "code",
   "execution_count": null,
   "id": "f7c3fa12-d20e-45f2-8e0f-66565ccde785",
   "metadata": {},
   "outputs": [],
   "source": [
    "df['TRANS_DATE'] = pd.to_datetime(df['TRANS_DATE'])\n",
    "df['START_DATE'] = pd.to_datetime(df['START_DATE'])"
   ]
  },
  {
   "cell_type": "code",
   "execution_count": null,
   "id": "9e3c36d7-457d-4149-81a4-16bd6c00a904",
   "metadata": {},
   "outputs": [],
   "source": [
    "# Create features from date column\n",
    "df['YEAR'] = df['TRANS_DATE'].dt.year\n",
    "df['MONTH'] = df['TRANS_DATE'].dt.month\n",
    "df['DAY'] = df['TRANS_DATE'].dt.day\n",
    "df['DAY_OF_WEEK'] = df['TRANS_DATE'].dt.day_of_week + 1 # Monday is 1 and sunday is 7\n",
    "df['QUARTER'] = df['TRANS_DATE'].dt.quarter\n",
    "df['DAY_OF_YEAR'] = df['TRANS_DATE'].dt.dayofyear"
   ]
  },
  {
   "cell_type": "code",
   "execution_count": null,
   "id": "d41c7ec0-7e6f-4abb-b391-8dc8841ad416",
   "metadata": {},
   "outputs": [],
   "source": [
    "df.describe()"
   ]
  },
  {
   "cell_type": "code",
   "execution_count": null,
   "id": "fe84ce8a-efd7-47fb-85b3-a70b9719b94f",
   "metadata": {},
   "outputs": [],
   "source": [
    "df_unique = df.drop_duplicates()"
   ]
  },
  {
   "cell_type": "code",
   "execution_count": null,
   "id": "74a3dbf5-e83b-4a58-ae6b-ffc7d45ed5de",
   "metadata": {},
   "outputs": [],
   "source": [
    "import matplotlib.pyplot as plt\n",
    "\n",
    "# Plot SALES_UNITS over QUARTER\n",
    "plt.figure(figsize=(10, 5))\n",
    "df_unique.groupby('QUARTER')['SALES_UNITS'].sum().plot(kind='bar', color='orange')\n",
    "plt.title('SALES_UNITS over QUARTER')\n",
    "plt.xlabel('Quarter')\n",
    "plt.ylabel('SALES_UNITS')\n",
    "plt.grid(True)\n",
    "plt.show()\n",
    "\n",
    "# Plot SALES_UNITS over MONTH\n",
    "plt.figure(figsize=(10, 5))\n",
    "df_unique.groupby('MONTH')['SALES_UNITS'].sum().plot(kind='bar', color='skyblue')\n",
    "plt.title('SALES_UNITS over MONTH')\n",
    "plt.xlabel('Month')\n",
    "plt.ylabel('SALES_UNITS')\n",
    "plt.grid(True)\n",
    "plt.show()\n"
   ]
  },
  {
   "cell_type": "code",
   "execution_count": null,
   "id": "64a5cbeb-4146-486b-8233-6f190f89779b",
   "metadata": {},
   "outputs": [],
   "source": [
    "#most products are sold in quantities from 1 to 16\n",
    "df.SALES_UNITS.describe()"
   ]
  },
  {
   "cell_type": "code",
   "execution_count": null,
   "id": "2b86f121-644b-4663-ac9b-bc1110d1cb30",
   "metadata": {},
   "outputs": [],
   "source": [
    "#uniform distribution\n",
    "fig, ax = plt.subplots(1,2,figsize=(20,5))\n",
    "sns.distplot(df.SALES_UNITS, ax=ax[0], kde=False, color=\"limegreen\");\n",
    "sns.distplot(np.log(df.SALES_UNITS), ax=ax[1], bins=20, kde=False, color=\"limegreen\");\n",
    "ax[0].set_title(\"Quantity distribution\")\n",
    "ax[0].set_yscale(\"log\")\n",
    "ax[1].set_title(\"Log-Quantity distribution\")\n",
    "ax[1].set_xlabel(\"Natural-Log Quantity\");"
   ]
  },
  {
   "cell_type": "code",
   "execution_count": null,
   "id": "17a146d9-d39e-447c-90da-a3e1ba19d66f",
   "metadata": {},
   "outputs": [],
   "source": [
    "import datetime\n",
    "      \n",
    "startdate = datetime.datetime.strptime('2011-11-01', \"%Y-%m-%d\").date()\n",
    "enddate = datetime.datetime.strptime('2011-11-01', \"%Y-%m-%d\").date()"
   ]
  },
  {
   "cell_type": "code",
   "execution_count": null,
   "id": "1040b304-86ba-4ddc-8cf5-8d6fb18c9e91",
   "metadata": {},
   "outputs": [],
   "source": [
    "import pandas as pd\n",
    "\n",
    "# Define the dates as strings\n",
    "startdate_str = '2024-01-01'  # Replace with your actual start date\n",
    "enddate_str = '2023-08-29'    # Replace with your actual end date\n",
    "\n",
    "# Convert the strings to datetime objects\n",
    "startdate = pd.to_datetime(startdate_str)\n",
    "enddate = pd.to_datetime(enddate_str)\n",
    "\n",
    "# Split the dataset into train and test dataset\n",
    "df_test = df[df['TRANS_DATE'] > startdate] #1 month\n",
    "df_train = df[df['TRANS_DATE'] <= enddate] # 11 month\n"
   ]
  },
  {
   "cell_type": "code",
   "execution_count": null,
   "id": "03578c7f-cf45-45dd-9760-1bf42a520d2f",
   "metadata": {},
   "outputs": [],
   "source": [
    "df_train.shape"
   ]
  },
  {
   "cell_type": "code",
   "execution_count": null,
   "id": "97438c33-0ae6-44f8-a7a7-8665a2eeb793",
   "metadata": {},
   "outputs": [],
   "source": [
    "df_test.shape"
   ]
  },
  {
   "cell_type": "code",
   "execution_count": null,
   "id": "296a04db-31a5-4e4d-a1f0-bd2505793bf2",
   "metadata": {},
   "outputs": [],
   "source": [
    "df_train.head()"
   ]
  },
  {
   "cell_type": "code",
   "execution_count": null,
   "id": "7e03390f-fdd5-4c49-a487-bc736471b2be",
   "metadata": {},
   "outputs": [],
   "source": [
    "X_train = df_train.drop(labels=['MNTH_CODE','TRANS_DATE','START_DATE','SALES_PTR_VALUE','OC_CODE',\n",
    "'DISTRIBUTOR_CODE','CITY','STATE','COUNTY','STREET','PRODUCT_CODE','SUBCATEGORY','BRAND','DAY','DAY_OF_WEEK','DAY_OF_YEAR'],axis=1)\n",
    "y_train = df_train.SALES_UNITS\n",
    "\n",
    "X_test = df_train.drop(labels=['MNTH_CODE','TRANS_DATE','START_DATE','SALES_PTR_VALUE','OC_CODE',\n",
    "'DISTRIBUTOR_CODE','CITY','STATE','COUNTY','STREET','PRODUCT_CODE','SUBCATEGORY','BRAND','DAY','DAY_OF_WEEK','DAY_OF_YEAR'],axis=1)\n",
    "y_test = df_train.SALES_UNITS\n",
    "\n"
   ]
  },
  {
   "cell_type": "code",
   "execution_count": null,
   "id": "3a869052-5df5-46b3-8f70-192e0478d62c",
   "metadata": {},
   "outputs": [],
   "source": [
    "from sklearn import preprocessing\n",
    "le = preprocessing.LabelEncoder()\n",
    "col_1 = df['OUTLET_CODE']\n",
    "set_col_1 = list(set(col_1))\n",
    "le.fit(col_1)\n",
    "dict(zip(set_col_1, le.transform(set_col_1)))"
   ]
  },
  {
   "cell_type": "code",
   "execution_count": null,
   "id": "c9f36b72-adc4-4a21-8982-e93d0e1b486f",
   "metadata": {},
   "outputs": [],
   "source": [
    "from sklearn import preprocessing\n",
    "le = preprocessing.LabelEncoder()\n",
    "col_2 = df['CATEGORY']\n",
    "set_col_2 = list(set(col_2))\n",
    "le.fit(col_2)\n",
    "dict(zip(set_col_2, le.transform(set_col_2)))\n"
   ]
  },
  {
   "cell_type": "code",
   "execution_count": null,
   "id": "923ef263-ea09-4692-b628-3d5786b5e346",
   "metadata": {},
   "outputs": [],
   "source": [
    "df.CATEGORY"
   ]
  },
  {
   "cell_type": "code",
   "execution_count": null,
   "id": "2a09f6de-89a9-46d9-8b23-585d9ff59107",
   "metadata": {},
   "outputs": [],
   "source": [
    "X_train.keys()"
   ]
  },
  {
   "cell_type": "code",
   "execution_count": null,
   "id": "0f940428-bae5-419b-ac5a-deee4dda8fcc",
   "metadata": {},
   "outputs": [],
   "source": [
    "X_test.keys()"
   ]
  },
  {
   "cell_type": "code",
   "execution_count": null,
   "id": "19d3b148-af00-4f8e-85b6-585a09bf9071",
   "metadata": {},
   "outputs": [],
   "source": [
    "import pandas as pd\n",
    "\n",
    "# Assuming df is your DataFrame\n",
    "# Exclude object type columns\n",
    "le = preprocessing.LabelEncoder()\n",
    "df['CATEGORY_ENCODED'] = le.fit_transform(df['CATEGORY'])\n",
    "df['OUTLET_ENCODED'] = le.fit_transform(df['OUTLET_CODE'])\n",
    "\n",
    "# Check the column names\n",
    "print(\"Columns in DataFrame:\", df.columns)\n",
    "\n",
    "# Ensure the columns 'CATEGORY' and 'OUTLET_CODE' exist\n",
    "if 'CATEGORY' in df.columns and 'OUTLET_CODE' in df.columns:\n",
    "    # Drop the specified columns\n",
    "    X = df.drop(['CATEGORY_ENCODED', 'OUTLET_ENCODED'], axis=1)\n",
    "\n",
    "    # Separate the target variables\n",
    "    y_category = df['CATEGORY']\n",
    "    y_outlet_code = df['OUTLET_CODE']\n",
    "\n",
    "    # If you need to combine them into a single DataFrame\n",
    "    y = df['SALES_VOLUME']\n",
    "\n",
    "    print(X.head())\n",
    "    print(y.head())\n",
    "else:\n",
    "    print(\"Columns 'CATEGORY' and/or 'OUTLET_CODE' not found in DataFrame.\")\n"
   ]
  },
  {
   "cell_type": "code",
   "execution_count": null,
   "id": "1ac751bc-2736-4142-8416-11e598500c92",
   "metadata": {},
   "outputs": [],
   "source": [
    "score = pd.DataFrame()\n",
    "score.index.name = 'Scoring'\n",
    "score['Training+Test Time(sec)'] = None\n",
    "time_Frame = []"
   ]
  },
  {
   "cell_type": "code",
   "execution_count": null,
   "id": "115c4949-6c00-45b0-88ad-c9b54eeed13f",
   "metadata": {},
   "outputs": [],
   "source": [
    "df.dtypes"
   ]
  },
  {
   "cell_type": "code",
   "execution_count": null,
   "id": "c17e2095-7aee-43d5-a47f-ab8040f5c348",
   "metadata": {},
   "outputs": [],
   "source": [
    "print(\"X_train shape:\", X_train.shape)\n",
    "print(\"y_train shape:\", y_train.shape)\n",
    "print(\"X_test shape:\", X_test.shape)\n",
    "print(\"y_test shape:\", y_test.shape)\n",
    "#data splitting"
   ]
  },
  {
   "cell_type": "code",
   "execution_count": null,
   "id": "2680dddd-d47f-4bd4-b113-696221c840d8",
   "metadata": {},
   "outputs": [],
   "source": [
    "df['TRANS_DATE'] = pd.to_datetime(df['TRANS_DATE'])\n",
    "df['START_DATE'] = pd.to_datetime(df['START_DATE'])"
   ]
  },
  {
   "cell_type": "code",
   "execution_count": null,
   "id": "f637cc0a-2b96-4c00-b188-68f9678f5558",
   "metadata": {},
   "outputs": [],
   "source": [
    "df['TRANS_DATE'] = df['TRANS_DATE'].apply(lambda x: x.timestamp())\n",
    "df['START_DATE'] = df['START_DATE'].apply(lambda x: x.timestamp())"
   ]
  },
  {
   "cell_type": "code",
   "execution_count": null,
   "id": "06b6e77c-0cf8-4281-871d-8bdb77f48491",
   "metadata": {},
   "outputs": [],
   "source": [
    "df.dtypes"
   ]
  },
  {
   "cell_type": "code",
   "execution_count": null,
   "id": "0694283a-6f73-4661-b8ee-81c76c51d11f",
   "metadata": {},
   "outputs": [],
   "source": [
    "from sklearn.model_selection import train_test_split\n",
    "from sklearn import preprocessing\n",
    "from sklearn.model_selection import train_test_split\n",
    "from sklearn.ensemble import RandomForestRegressor\n",
    "from sklearn.metrics import mean_squared_error\n",
    "X_train, X_test, y_train, y_test = train_test_split(X, y, test_size=0.3, random_state=0)"
   ]
  },
  {
   "cell_type": "code",
   "execution_count": null,
   "id": "47182dcc-0616-46fa-aa55-54c2b2aecafb",
   "metadata": {},
   "outputs": [],
   "source": [
    "from sklearn.ensemble import RandomForestRegressor\n",
    "regressor = RandomForestRegressor(n_estimators = 1000, random_state = 42)\n",
    "regressor.fit(X_train, y_train)"
   ]
  },
  {
   "cell_type": "code",
   "execution_count": null,
   "id": "6025a747-7cce-4ca1-9755-bcc9136e66af",
   "metadata": {},
   "outputs": [],
   "source": [
    "#Random Forest\n",
    "from sklearn.ensemble import RandomForestRegressor\n",
    "regressor = RandomForestRegressor(n_estimators = 50, random_state = 0)\n",
    "%time regressor.fit(X_train, y_train)\n",
    "%time regressor.fit(X_test, y_test)\n",
    "y_pred_train = regressor.predict(X_train)\n",
    "print('Train RSME :', np.sqrt(mean_squared_error(y_train, y_pred_train)))\n",
    "\n",
    "\n",
    "y_pred_test = regressor.predict(X_test)\n",
    "print('Test RSME :', np.sqrt(mean_squared_error(y_test, y_pred_test)))"
   ]
  },
  {
   "cell_type": "code",
   "execution_count": null,
   "id": "53b4691d-8900-4948-ad0e-f411c2dcea88",
   "metadata": {},
   "outputs": [],
   "source": [
    "df.columns"
   ]
  },
  {
   "cell_type": "code",
   "execution_count": null,
   "id": "184eb2f2-5739-43ae-8592-be098b6a2864",
   "metadata": {},
   "outputs": [],
   "source": [
    "df.dtypes"
   ]
  },
  {
   "cell_type": "code",
   "execution_count": null,
   "id": "72e5a1d1-705f-4138-9af2-e829eb5937cf",
   "metadata": {},
   "outputs": [],
   "source": [
    "from sklearn import preprocessing\n",
    "le = preprocessing.LabelEncoder()\n",
    "col_1 = df['OUTLET_CODE']\n",
    "set_col_1 = list(set(col_1))\n",
    "le.fit(col_1)\n",
    "dict(zip(set_col_1, le.transform(set_col_1)))"
   ]
  },
  {
   "cell_type": "code",
   "execution_count": null,
   "id": "4a06e35d-6c9d-4ab3-81ab-ba5b87552dc1",
   "metadata": {},
   "outputs": [],
   "source": [
    "from sklearn import preprocessing\n",
    "le = preprocessing.LabelEncoder()\n",
    "col_2 = df['CATEGORY']\n",
    "set_col_2 = list(set(col_2))\n",
    "le.fit(col_2)\n",
    "dict(zip(set_col_2, le.transform(set_col_2)))"
   ]
  },
  {
   "cell_type": "code",
   "execution_count": null,
   "id": "809c5dc5-310b-4ca6-a4b3-994649700c46",
   "metadata": {},
   "outputs": [],
   "source": [
    "df.CATEGORY"
   ]
  },
  {
   "cell_type": "code",
   "execution_count": null,
   "id": "b91ffdb2-5084-48f3-8ebb-51f18bd0ade8",
   "metadata": {},
   "outputs": [],
   "source": [
    "X = df.drop('SALES_VOLUME',axis=1)\n",
    "y = df['CATEGORY']"
   ]
  },
  {
   "cell_type": "code",
   "execution_count": null,
   "id": "bad47a6f-bdb2-4a2e-ba8a-db136b2dc88b",
   "metadata": {},
   "outputs": [],
   "source": [
    "from sklearn.model_selection import train_test_split\n",
    "X_train, X_test, y_train, y_test = train_test_split(X, y, test_size=0.3, random_state=0)"
   ]
  },
  {
   "cell_type": "code",
   "execution_count": null,
   "id": "fdcb2e5a-bda7-4f4c-90bc-f69615168cf8",
   "metadata": {},
   "outputs": [],
   "source": [
    "from sklearn.ensemble import RandomForestRegressor\n",
    "regressor = RandomForestRegressor(n_estimators = 1000, random_state = 42)\n",
    "#X_train = X_train.astype('OBJECT')\n",
    "regressor.fit(X_train, y_train)"
   ]
  },
  {
   "cell_type": "code",
   "execution_count": null,
   "id": "fbe1d6e8-fa40-4954-8b03-f80c3bb74812",
   "metadata": {},
   "outputs": [],
   "source": [
    "y_pred = regressor.predict(X_test)"
   ]
  },
  {
   "cell_type": "code",
   "execution_count": null,
   "id": "d41e02e8-cfa7-4002-b7f2-41435378c8db",
   "metadata": {},
   "outputs": [],
   "source": [
    "df=pd.DataFrame({'Actual':y_test, 'Predicted':y_pred})\n",
    "df"
   ]
  },
  {
   "cell_type": "code",
   "execution_count": null,
   "id": "ed2e4012-5fb7-4eff-abf0-ac04f95b5fed",
   "metadata": {},
   "outputs": [],
   "source": [
    "#less than 1 percent of the mean of all the values in the ‘sales_volume’ column\n",
    "from sklearn import metrics\n",
    "print('Mean Absolute Error:', metrics.mean_absolute_error(y_test, y_pred))\n",
    "print('Mean Squared Error:', metrics.mean_squared_error(y_test, y_pred))\n",
    "print('Root Mean Squared Error:', np.sqrt(metrics.mean_squared_error(y_test, y_pred)))"
   ]
  },
  {
   "cell_type": "code",
   "execution_count": null,
   "id": "69db59af-7f1c-4adb-a33b-79caa545237e",
   "metadata": {},
   "outputs": [],
   "source": [
    "#Accuracy of the prediction\n",
    "# Calculate the absolute errors\n",
    "errors = abs(y_pred - y_test)\n",
    "# Print out the mean absolute error (mae)\n",
    "print('Mean Absolute Error:', round(np.mean(errors), 2), 'degrees.')\n",
    "\n",
    "# Calculate mean absolute percentage error (MAPE)\n",
    "mape = 100 * (errors / y_test)\n",
    "# Calculate and display accuracy\n",
    "accuracy = 100 - np.mean(mape)\n",
    "print('Accuracy:', round(accuracy, 2), '%.')"
   ]
  },
  {
   "cell_type": "code",
   "execution_count": null,
   "id": "a2940163-8b5a-45a6-8052-ec0c8a6fda1d",
   "metadata": {},
   "outputs": [],
   "source": [
    "import seaborn as sns\n",
    "plt.figure(figsize=(5, 7))\n",
    "\n",
    "ax = sns.distplot(y_test, hist=False, color=\"r\", label=\"Actual Value\")\n",
    "sns.distplot(y_pred, hist=False, color=\"y\", label=\"Fitted Values\" , ax=ax)\n",
    "\n",
    "plt.title('Actual vs Predicted Values Sales Volume')\n",
    "\n",
    "\n",
    "plt.show()\n",
    "plt.close()"
   ]
  },
  {
   "cell_type": "code",
   "execution_count": null,
   "id": "0281f0b6-06cc-43dd-91f4-28eae4cbaf80",
   "metadata": {},
   "outputs": [],
   "source": []
  }
 ],
 "metadata": {
  "kernelspec": {
   "display_name": "Python 3 (ipykernel)",
   "language": "python",
   "name": "python3"
  },
  "language_info": {
   "codemirror_mode": {
    "name": "ipython",
    "version": 3
   },
   "file_extension": ".py",
   "mimetype": "text/x-python",
   "name": "python",
   "nbconvert_exporter": "python",
   "pygments_lexer": "ipython3",
   "version": "3.9.19"
  }
 },
 "nbformat": 4,
 "nbformat_minor": 5
}
